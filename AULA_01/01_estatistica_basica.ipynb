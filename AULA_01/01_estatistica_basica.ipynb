{
 "cells": [
  {
   "cell_type": "markdown",
   "id": "614ca83e-a918-4580-a36f-fb3ed0032e1b",
   "metadata": {},
   "source": [
    "# Estatística Básica"
   ]
  },
  {
   "cell_type": "markdown",
   "id": "400e59da-b5f6-4348-b23e-043a72a21ea3",
   "metadata": {},
   "source": [
    "# O que veremos:\n",
    "- Relevância da Estatística em Ciência de Dados\n",
    "- Diferentes tipos de dados\n",
    "- O tipo de gráfico ideal para cada variável\n",
    "- Medidas resumo\n",
    "- Analise descritiva por meio de gráficos"
   ]
  },
  {
   "cell_type": "markdown",
   "id": "ae8a265c-4eed-4465-8b9e-9bab84f85c98",
   "metadata": {},
   "source": [
    "# Contexto\n",
    "## Porquê estudar estatística em Ciência de Dados?\n",
    "\n",
    "Apesar de não háver concenso no uso dessa figura, não há como discutir a importância da estatística na área de ciência de dados.  \n",
    "\n",
    "<img src=\"../imgs/venn_ds.png\" alt=\"drawing\" width=\"25%\"/>"
   ]
  },
  {
   "cell_type": "markdown",
   "id": "bc1362f1-f0e6-413c-9dd9-735b469b9782",
   "metadata": {},
   "source": [
    "É um dos grandes pilares bases para processos mais complexos\n",
    "\n",
    "<img src=\"https://miro.medium.com/max/1000/1*x7P7gqjo8k2_bj2rTQWAfg.jpeg\" alt=\"drawing\" width=\"25%\"/>\n"
   ]
  },
  {
   "cell_type": "markdown",
   "id": "cc576464-374e-45e8-ab9b-0ec26b3a3153",
   "metadata": {},
   "source": [
    "## O que é Probabilidade e Estatística?\n",
    "\n",
    "Essas duas áreas são extremamente amplas, e fornecem toda a base da __ciência de dados__. Por isso, vamos dar uma olhada nos principais conceitos. A probabilidade e estatística podem ser divididas nos seguintes três pilares:\n",
    "\n",
    "**Probabilidade**: é a teoria matemática utilizada para se estudar a incerteza oriundas de `fenômenos de caráter aleátorio`.\n",
    "\n",
    "**Estatística Descritiva**: Etapa inicial da análise estatística, tendo como objetivo tirar informações prévias de modo informal e direto. A ideia é obter informações que `resumam` o conjuto de dados, a fim que estes possam ser `descritos`, e conclusões iniciais possam ser tiradas.\n",
    "\n",
    "**Inferência Estatística**: É o conjunto de técnicas que possibilitam a extrapolação de conclusões tiradas a partir de um conjunto pequeno de dados (denominado <font color = red>**amostra**</font>) para todo o universo sob análise (denominado <font color = red>**população**</font>).\n",
    "\n",
    "<img src=\"https://phhp-faculty-cantrell.sites.medinfo.ufl.edu/files/2012/07/mod10-big_picture_inference.gif\" width=\"40%\">"
   ]
  },
  {
   "cell_type": "markdown",
   "id": "239f98cd-6432-4ab8-9fde-e0110cf0225d",
   "metadata": {},
   "source": [
    "## Por onde começar?\n",
    "\n",
    "Existem algumas metodologias e processos para definir como trabalhar e gerir projetos de ciência de dados.\n",
    "\n",
    "Em uma pesquisa publicada pela [KDnugget](https://www.kdnuggets.com/) em 2014, revela a grande preferência do uso da metodologia CRISP-DM: Cross Industry Standard Process for Data Mining\n",
    "\n",
    "<img src=\"https://miro.medium.com/max/988/0*tA5OjppLK627FfFo\" alt=\"drawing\" width=\"25%\"/>\n"
   ]
  },
  {
   "cell_type": "markdown",
   "id": "9f0aa480-8613-4918-9840-a98fa2338533",
   "metadata": {},
   "source": [
    "Como você pode ver, tudo gira em função dos dados.\n",
    "\n",
    "<img src=\"https://miro.medium.com/max/814/1*95_DQ5N2laaU-6NSZRlZMw.png\" alt=\"drawing\" width=\"25%\"/>\n",
    "\n"
   ]
  },
  {
   "cell_type": "markdown",
   "id": "44560355-1aa3-4896-8708-c70dd6e1f84f",
   "metadata": {},
   "source": [
    "Então vamos ver os tipos de dados de acordo com a estatística."
   ]
  },
  {
   "cell_type": "markdown",
   "id": "745e3d24-86d6-4136-8efb-55b2e7fa7713",
   "metadata": {},
   "source": [
    "# Variáveis\n",
    "\n",
    "Características associadas a atributos, fenômenos ou eventos tal como:\n",
    "- Estado civíl\n",
    "- Salário\n",
    "- É cliente?\n",
    "- Tempo de contrato\n",
    "\n",
    "Representado como X, Y, Z ..."
   ]
  },
  {
   "cell_type": "code",
   "execution_count": 92,
   "id": "d3adc4a0-0d44-4846-8bb9-5b522bd98b2d",
   "metadata": {},
   "outputs": [
    {
     "name": "stdout",
     "output_type": "stream",
     "text": [
      "Salario\n",
      "\n",
      "[7648.14 7167.72 3045.95 3637.98 4770.12 6053.7  4626.11 3883.87 4395.62\n",
      " 3622.07]\n",
      "--------------------------------\n",
      "0    7648.14\n",
      "1    7167.72\n",
      "2    3045.95\n",
      "3    3637.98\n",
      "4    4770.12\n",
      "5    6053.70\n",
      "6    4626.11\n",
      "7    3883.87\n",
      "8    4395.62\n",
      "9    3622.07\n",
      "dtype: float64\n",
      "--------------------------------\n"
     ]
    },
    {
     "data": {
      "text/html": [
       "<div>\n",
       "<style scoped>\n",
       "    .dataframe tbody tr th:only-of-type {\n",
       "        vertical-align: middle;\n",
       "    }\n",
       "\n",
       "    .dataframe tbody tr th {\n",
       "        vertical-align: top;\n",
       "    }\n",
       "\n",
       "    .dataframe thead th {\n",
       "        text-align: right;\n",
       "    }\n",
       "</style>\n",
       "<table border=\"1\" class=\"dataframe\">\n",
       "  <thead>\n",
       "    <tr style=\"text-align: right;\">\n",
       "      <th></th>\n",
       "      <th>0</th>\n",
       "    </tr>\n",
       "  </thead>\n",
       "  <tbody>\n",
       "    <tr>\n",
       "      <th>0</th>\n",
       "      <td>7648.14</td>\n",
       "    </tr>\n",
       "    <tr>\n",
       "      <th>1</th>\n",
       "      <td>7167.72</td>\n",
       "    </tr>\n",
       "    <tr>\n",
       "      <th>2</th>\n",
       "      <td>3045.95</td>\n",
       "    </tr>\n",
       "    <tr>\n",
       "      <th>3</th>\n",
       "      <td>3637.98</td>\n",
       "    </tr>\n",
       "    <tr>\n",
       "      <th>4</th>\n",
       "      <td>4770.12</td>\n",
       "    </tr>\n",
       "    <tr>\n",
       "      <th>5</th>\n",
       "      <td>6053.70</td>\n",
       "    </tr>\n",
       "    <tr>\n",
       "      <th>6</th>\n",
       "      <td>4626.11</td>\n",
       "    </tr>\n",
       "    <tr>\n",
       "      <th>7</th>\n",
       "      <td>3883.87</td>\n",
       "    </tr>\n",
       "    <tr>\n",
       "      <th>8</th>\n",
       "      <td>4395.62</td>\n",
       "    </tr>\n",
       "    <tr>\n",
       "      <th>9</th>\n",
       "      <td>3622.07</td>\n",
       "    </tr>\n",
       "  </tbody>\n",
       "</table>\n",
       "</div>"
      ],
      "text/plain": [
       "         0\n",
       "0  7648.14\n",
       "1  7167.72\n",
       "2  3045.95\n",
       "3  3637.98\n",
       "4  4770.12\n",
       "5  6053.70\n",
       "6  4626.11\n",
       "7  3883.87\n",
       "8  4395.62\n",
       "9  3622.07"
      ]
     },
     "execution_count": 92,
     "metadata": {},
     "output_type": "execute_result"
    }
   ],
   "source": [
    "import numpy as np\n",
    "import pandas as pd\n",
    "import seaborn as sns\n",
    "import matplotlib.pyplot as plt\n",
    "\n",
    "estado_civil = [\"casado\", \"solteiro\", \"viuvo\"]\n",
    "is_cliente = (\"sim\", \"nao\")\n",
    "\n",
    "salario = np.round((8000 - 2500)*np.random.random_sample(10) + 2500,2)\n",
    "\n",
    "print(\"Salario\\n\")\n",
    "print(salario)\n",
    "print(\"-\"*32)\n",
    "print(pd.Series(salario))\n",
    "print(\"-\"*32)\n",
    "pd.DataFrame(pd.Series(salario))"
   ]
  },
  {
   "cell_type": "markdown",
   "id": "59a79e7e-5bd6-4694-8013-53b886b0f567",
   "metadata": {},
   "source": [
    "## Tipos de variáveis\n",
    "![](../imgs/tipos_variaveis.png)\n",
    "\n",
    "Cada tipo de variável exige um tipo diferente de análises e gráficos"
   ]
  },
  {
   "cell_type": "markdown",
   "id": "399ea92c-fbb1-458c-9c00-0909fe2b34dc",
   "metadata": {},
   "source": [
    "### Qualitativas\n",
    "Define características discretizadas\n",
    "\n",
    "- **Nominal:** Não existe distinção de ordem entre as classes    \n",
    "- **Ordinal:** Existe uma ordenação lógica entre as categorias\n",
    "    "
   ]
  },
  {
   "cell_type": "code",
   "execution_count": 58,
   "id": "09ccedd9-8be3-4545-8502-25950934fd0a",
   "metadata": {},
   "outputs": [
    {
     "name": "stdout",
     "output_type": "stream",
     "text": [
      "Indentidade de Genero: \n",
      " ['Homem', 'Mulher', 'Nao-Binario']\n"
     ]
    }
   ],
   "source": [
    "print(\"Indentidade de Genero: \\n\", [\"Homem\", \"Mulher\", \"Nao-Binario\"])"
   ]
  },
  {
   "cell_type": "markdown",
   "id": "b48c5196-fa77-4b24-95c2-3a912614eb28",
   "metadata": {},
   "source": [
    "- [x] Nominal\n",
    "- [ ] Ordinal"
   ]
  },
  {
   "cell_type": "code",
   "execution_count": 59,
   "id": "dc7f7f24-9e8f-4dbf-a6de-4e78c526aa98",
   "metadata": {},
   "outputs": [
    {
     "name": "stdout",
     "output_type": "stream",
     "text": [
      "Porte da Empresa: \n",
      " ['MEI', 'ME', 'Varejo', 'Corporate']\n"
     ]
    }
   ],
   "source": [
    "print(\"Porte da Empresa: \\n\", [\"MEI\", \"ME\", \"Varejo\", \"Corporate\"])"
   ]
  },
  {
   "cell_type": "markdown",
   "id": "85206ffc-ff21-4938-93b0-1d271c989999",
   "metadata": {},
   "source": [
    "- [x] Nominal\n",
    "- [ ] Ordinal"
   ]
  },
  {
   "cell_type": "code",
   "execution_count": 60,
   "id": "99d825b3-5739-4d2d-98e8-424c0ca880e9",
   "metadata": {},
   "outputs": [
    {
     "name": "stdout",
     "output_type": "stream",
     "text": [
      "Escolaridade: \n",
      " ['Ensino Fundamental', 'Ensino Medio', 'Graduacao', 'Mestrado', 'Doutorado']\n"
     ]
    }
   ],
   "source": [
    "print(\"Escolaridade: \\n\", [\"Ensino Fundamental\", \"Ensino Medio\", \"Graduacao\", \"Mestrado\", \"Doutorado\"])"
   ]
  },
  {
   "cell_type": "markdown",
   "id": "b778a533-5de8-4fa6-af46-3c16e1106e59",
   "metadata": {},
   "source": [
    "- [ ] Nominal\n",
    "- [x] Ordinal"
   ]
  },
  {
   "cell_type": "code",
   "execution_count": 61,
   "id": "5b07e584-1882-4551-a151-91e09a0d65e0",
   "metadata": {},
   "outputs": [
    {
     "name": "stdout",
     "output_type": "stream",
     "text": [
      "Ativo Financeiro: \n",
      " ['Renda Fixa', 'Acoes', 'FII', 'COE']\n"
     ]
    }
   ],
   "source": [
    "print(\"Ativo Financeiro: \\n\", [\"Renda Fixa\", \"Acoes\", \"FII\", \"COE\"])"
   ]
  },
  {
   "cell_type": "markdown",
   "id": "cd961b38-16be-4d9a-9f59-fe1fb55a702e",
   "metadata": {},
   "source": [
    "- [x] Nominal\n",
    "- [ ] Ordinal"
   ]
  },
  {
   "cell_type": "code",
   "execution_count": 62,
   "id": "ebe776e5-3bf6-46a5-a58d-5fe9e55f7df2",
   "metadata": {},
   "outputs": [
    {
     "name": "stdout",
     "output_type": "stream",
     "text": [
      "IMC: \n",
      " ['Magreza', 'Saudavel', 'Sobrepeso', 'Obeso']\n"
     ]
    }
   ],
   "source": [
    "print(\"IMC: \\n\", [\"Magreza\", \"Saudavel\", \"Sobrepeso\", \"Obeso\"])"
   ]
  },
  {
   "cell_type": "markdown",
   "id": "3c099aba-9602-40b9-8011-779801619304",
   "metadata": {},
   "source": [
    "- [ ] Nominal\n",
    "- [x] Ordinal"
   ]
  },
  {
   "cell_type": "code",
   "execution_count": 63,
   "id": "a5c06133-7195-4d13-8eae-f555519f0e83",
   "metadata": {},
   "outputs": [
    {
     "name": "stdout",
     "output_type": "stream",
     "text": [
      "Clima: \n",
      " ['Chuvoso', 'Ensolarado', 'Com Neblina']\n"
     ]
    }
   ],
   "source": [
    "print(\"Clima: \\n\", [\"Chuvoso\", \"Ensolarado\", \"Com Neblina\"])"
   ]
  },
  {
   "cell_type": "markdown",
   "id": "76f6ae3a-10cc-4579-8583-9d7b84e40b7b",
   "metadata": {},
   "source": [
    "- [x] Nominal\n",
    "- [ ] Ordinal"
   ]
  },
  {
   "cell_type": "markdown",
   "id": "f83fb7da-ffc3-4320-a329-e448b976cc7c",
   "metadata": {},
   "source": [
    "#### Tabela de Frequência\n",
    "Quando se tem apenas dados categóricos não conseguimos diretamente pensar em visualizações e portanto é de interesse calcular algumas medidas"
   ]
  },
  {
   "cell_type": "code",
   "execution_count": 16,
   "id": "0fa44db7-92fa-4877-83c3-a255bad10c53",
   "metadata": {},
   "outputs": [
    {
     "data": {
      "text/html": [
       "<div>\n",
       "<style scoped>\n",
       "    .dataframe tbody tr th:only-of-type {\n",
       "        vertical-align: middle;\n",
       "    }\n",
       "\n",
       "    .dataframe tbody tr th {\n",
       "        vertical-align: top;\n",
       "    }\n",
       "\n",
       "    .dataframe thead th {\n",
       "        text-align: right;\n",
       "    }\n",
       "</style>\n",
       "<table border=\"1\" class=\"dataframe\">\n",
       "  <thead>\n",
       "    <tr style=\"text-align: right;\">\n",
       "      <th></th>\n",
       "      <th>mpg</th>\n",
       "      <th>cylinders</th>\n",
       "      <th>displacement</th>\n",
       "      <th>horsepower</th>\n",
       "      <th>weight</th>\n",
       "      <th>acceleration</th>\n",
       "      <th>model_year</th>\n",
       "      <th>origin</th>\n",
       "      <th>name</th>\n",
       "    </tr>\n",
       "  </thead>\n",
       "  <tbody>\n",
       "    <tr>\n",
       "      <th>0</th>\n",
       "      <td>18.0</td>\n",
       "      <td>8</td>\n",
       "      <td>307.0</td>\n",
       "      <td>130.0</td>\n",
       "      <td>3504</td>\n",
       "      <td>12.0</td>\n",
       "      <td>70</td>\n",
       "      <td>usa</td>\n",
       "      <td>chevrolet chevelle malibu</td>\n",
       "    </tr>\n",
       "    <tr>\n",
       "      <th>1</th>\n",
       "      <td>15.0</td>\n",
       "      <td>8</td>\n",
       "      <td>350.0</td>\n",
       "      <td>165.0</td>\n",
       "      <td>3693</td>\n",
       "      <td>11.5</td>\n",
       "      <td>70</td>\n",
       "      <td>usa</td>\n",
       "      <td>buick skylark 320</td>\n",
       "    </tr>\n",
       "    <tr>\n",
       "      <th>2</th>\n",
       "      <td>18.0</td>\n",
       "      <td>8</td>\n",
       "      <td>318.0</td>\n",
       "      <td>150.0</td>\n",
       "      <td>3436</td>\n",
       "      <td>11.0</td>\n",
       "      <td>70</td>\n",
       "      <td>usa</td>\n",
       "      <td>plymouth satellite</td>\n",
       "    </tr>\n",
       "    <tr>\n",
       "      <th>3</th>\n",
       "      <td>16.0</td>\n",
       "      <td>8</td>\n",
       "      <td>304.0</td>\n",
       "      <td>150.0</td>\n",
       "      <td>3433</td>\n",
       "      <td>12.0</td>\n",
       "      <td>70</td>\n",
       "      <td>usa</td>\n",
       "      <td>amc rebel sst</td>\n",
       "    </tr>\n",
       "    <tr>\n",
       "      <th>4</th>\n",
       "      <td>17.0</td>\n",
       "      <td>8</td>\n",
       "      <td>302.0</td>\n",
       "      <td>140.0</td>\n",
       "      <td>3449</td>\n",
       "      <td>10.5</td>\n",
       "      <td>70</td>\n",
       "      <td>usa</td>\n",
       "      <td>ford torino</td>\n",
       "    </tr>\n",
       "    <tr>\n",
       "      <th>...</th>\n",
       "      <td>...</td>\n",
       "      <td>...</td>\n",
       "      <td>...</td>\n",
       "      <td>...</td>\n",
       "      <td>...</td>\n",
       "      <td>...</td>\n",
       "      <td>...</td>\n",
       "      <td>...</td>\n",
       "      <td>...</td>\n",
       "    </tr>\n",
       "    <tr>\n",
       "      <th>393</th>\n",
       "      <td>27.0</td>\n",
       "      <td>4</td>\n",
       "      <td>140.0</td>\n",
       "      <td>86.0</td>\n",
       "      <td>2790</td>\n",
       "      <td>15.6</td>\n",
       "      <td>82</td>\n",
       "      <td>usa</td>\n",
       "      <td>ford mustang gl</td>\n",
       "    </tr>\n",
       "    <tr>\n",
       "      <th>394</th>\n",
       "      <td>44.0</td>\n",
       "      <td>4</td>\n",
       "      <td>97.0</td>\n",
       "      <td>52.0</td>\n",
       "      <td>2130</td>\n",
       "      <td>24.6</td>\n",
       "      <td>82</td>\n",
       "      <td>europe</td>\n",
       "      <td>vw pickup</td>\n",
       "    </tr>\n",
       "    <tr>\n",
       "      <th>395</th>\n",
       "      <td>32.0</td>\n",
       "      <td>4</td>\n",
       "      <td>135.0</td>\n",
       "      <td>84.0</td>\n",
       "      <td>2295</td>\n",
       "      <td>11.6</td>\n",
       "      <td>82</td>\n",
       "      <td>usa</td>\n",
       "      <td>dodge rampage</td>\n",
       "    </tr>\n",
       "    <tr>\n",
       "      <th>396</th>\n",
       "      <td>28.0</td>\n",
       "      <td>4</td>\n",
       "      <td>120.0</td>\n",
       "      <td>79.0</td>\n",
       "      <td>2625</td>\n",
       "      <td>18.6</td>\n",
       "      <td>82</td>\n",
       "      <td>usa</td>\n",
       "      <td>ford ranger</td>\n",
       "    </tr>\n",
       "    <tr>\n",
       "      <th>397</th>\n",
       "      <td>31.0</td>\n",
       "      <td>4</td>\n",
       "      <td>119.0</td>\n",
       "      <td>82.0</td>\n",
       "      <td>2720</td>\n",
       "      <td>19.4</td>\n",
       "      <td>82</td>\n",
       "      <td>usa</td>\n",
       "      <td>chevy s-10</td>\n",
       "    </tr>\n",
       "  </tbody>\n",
       "</table>\n",
       "<p>398 rows × 9 columns</p>\n",
       "</div>"
      ],
      "text/plain": [
       "      mpg  cylinders  displacement  horsepower  weight  acceleration  \\\n",
       "0    18.0          8         307.0       130.0    3504          12.0   \n",
       "1    15.0          8         350.0       165.0    3693          11.5   \n",
       "2    18.0          8         318.0       150.0    3436          11.0   \n",
       "3    16.0          8         304.0       150.0    3433          12.0   \n",
       "4    17.0          8         302.0       140.0    3449          10.5   \n",
       "..    ...        ...           ...         ...     ...           ...   \n",
       "393  27.0          4         140.0        86.0    2790          15.6   \n",
       "394  44.0          4          97.0        52.0    2130          24.6   \n",
       "395  32.0          4         135.0        84.0    2295          11.6   \n",
       "396  28.0          4         120.0        79.0    2625          18.6   \n",
       "397  31.0          4         119.0        82.0    2720          19.4   \n",
       "\n",
       "     model_year  origin                       name  \n",
       "0            70     usa  chevrolet chevelle malibu  \n",
       "1            70     usa          buick skylark 320  \n",
       "2            70     usa         plymouth satellite  \n",
       "3            70     usa              amc rebel sst  \n",
       "4            70     usa                ford torino  \n",
       "..          ...     ...                        ...  \n",
       "393          82     usa            ford mustang gl  \n",
       "394          82  europe                  vw pickup  \n",
       "395          82     usa              dodge rampage  \n",
       "396          82     usa                ford ranger  \n",
       "397          82     usa                 chevy s-10  \n",
       "\n",
       "[398 rows x 9 columns]"
      ]
     },
     "execution_count": 16,
     "metadata": {},
     "output_type": "execute_result"
    }
   ],
   "source": [
    "#mpg\n",
    "mpg = sns.load_dataset(\"mpg\")\n",
    "mpg"
   ]
  },
  {
   "cell_type": "code",
   "execution_count": 17,
   "id": "2133ac2e-7399-473f-b6ae-0926ecc1b770",
   "metadata": {},
   "outputs": [
    {
     "data": {
      "text/plain": [
       "usa       249\n",
       "japan      79\n",
       "europe     70\n",
       "Name: origin, dtype: int64"
      ]
     },
     "execution_count": 17,
     "metadata": {},
     "output_type": "execute_result"
    }
   ],
   "source": [
    "# freq absoluta\n",
    "mpg.origin.value_counts()"
   ]
  },
  {
   "cell_type": "code",
   "execution_count": 18,
   "id": "2d94fbf9-f2ec-4be8-8b10-7cd6e16b6e39",
   "metadata": {},
   "outputs": [
    {
     "data": {
      "text/plain": [
       "usa       0.625628\n",
       "japan     0.198492\n",
       "europe    0.175879\n",
       "Name: origin, dtype: float64"
      ]
     },
     "execution_count": 18,
     "metadata": {},
     "output_type": "execute_result"
    }
   ],
   "source": [
    "# freq relativa\n",
    "mpg.origin.value_counts(normalize = True)"
   ]
  },
  {
   "cell_type": "code",
   "execution_count": 24,
   "id": "b322e2eb-efca-4949-8673-c783b24fe0eb",
   "metadata": {},
   "outputs": [
    {
     "data": {
      "text/html": [
       "<div>\n",
       "<style scoped>\n",
       "    .dataframe tbody tr th:only-of-type {\n",
       "        vertical-align: middle;\n",
       "    }\n",
       "\n",
       "    .dataframe tbody tr th {\n",
       "        vertical-align: top;\n",
       "    }\n",
       "\n",
       "    .dataframe thead th {\n",
       "        text-align: right;\n",
       "    }\n",
       "</style>\n",
       "<table border=\"1\" class=\"dataframe\">\n",
       "  <thead>\n",
       "    <tr style=\"text-align: right;\">\n",
       "      <th></th>\n",
       "      <th>qtd</th>\n",
       "      <th>pct</th>\n",
       "    </tr>\n",
       "  </thead>\n",
       "  <tbody>\n",
       "    <tr>\n",
       "      <th>usa</th>\n",
       "      <td>249</td>\n",
       "      <td>62.562814</td>\n",
       "    </tr>\n",
       "    <tr>\n",
       "      <th>japan</th>\n",
       "      <td>79</td>\n",
       "      <td>19.849246</td>\n",
       "    </tr>\n",
       "    <tr>\n",
       "      <th>europe</th>\n",
       "      <td>70</td>\n",
       "      <td>17.587940</td>\n",
       "    </tr>\n",
       "  </tbody>\n",
       "</table>\n",
       "</div>"
      ],
      "text/plain": [
       "        qtd        pct\n",
       "usa     249  62.562814\n",
       "japan    79  19.849246\n",
       "europe   70  17.587940"
      ]
     },
     "execution_count": 24,
     "metadata": {},
     "output_type": "execute_result"
    }
   ],
   "source": [
    "# freq percentual\n",
    "freq_table = pd.concat([mpg.origin.value_counts(),\n",
    "                        mpg.origin.value_counts(normalize = True)*100],\n",
    "                       axis = 1,\n",
    "          keys = (\"qtd\", \"pct\"))\n",
    "freq_table"
   ]
  },
  {
   "cell_type": "markdown",
   "id": "2c431fa3-9e66-4c56-946f-bf0bb4311c0f",
   "metadata": {},
   "source": [
    "A distribuição de frequências é um agrupamento de dados em classes, de tal forma que contabilizamos o número de ocorrências em cada classe. O objetivo é apresentar os dados de uma maneira mais concisa e que nos permita extrair informação sobre seu comportamento. A seguir, apresentamos algumas definições necessárias à construção da distribuição de frequências.\n",
    "\n",
    "**Frequência absoluta (ƒi):** É o número de observações correspondente a cada classe. A frequência absoluta é, geralmente, chamada apenas de frequência.\n",
    "\n",
    "**Frequência relativa (ƒri):** É o quociente entre a frequência absoluta da classe correspondente e a soma das frequências (total observado), isto é, $ \\displaystyle f_{ri}=\\frac{f_i}{\\sum_{j}f_j} $ onde n representa o número total de observações.\n",
    "\n",
    "**Frequência percentual (pi):** É obtida multiplicando a frequência relativa por 100%.<br><br>"
   ]
  },
  {
   "cell_type": "markdown",
   "id": "c4ee6cbf-a836-43b9-997b-c078da5199dc",
   "metadata": {},
   "source": [
    "#### Gráfico de barras"
   ]
  },
  {
   "cell_type": "code",
   "execution_count": 29,
   "id": "fe25c531-cbb8-4770-92f2-130f0d13050f",
   "metadata": {},
   "outputs": [
    {
     "data": {
      "image/png": "[encoded data removed]",
      "text/plain": [
       "<Figure size 288x288 with 1 Axes>"
      ]
     },
     "metadata": {
      "needs_background": "light"
     },
     "output_type": "display_data"
    },
    {
     "data": {
      "image/png": "[encoded data removed]",
      "text/plain": [
       "<Figure size 288x288 with 1 Axes>"
      ]
     },
     "metadata": {
      "needs_background": "light"
     },
     "output_type": "display_data"
    }
   ],
   "source": [
    "#freq table\n",
    "plt.figure(figsize = (4,4))\n",
    "freq_table.qtd.plot(kind = \"bar\")\n",
    "plt.show()\n",
    "\n",
    "ax = freq_table.pct.plot.bar(figsize = (4,4))\n",
    "ax.set_xlabel(\"classes\")\n",
    "ax.set_ylabel(\"pct\")\n",
    "plt.show()"
   ]
  },
  {
   "cell_type": "markdown",
   "id": "5dfd0435-bf8b-4acd-8ec4-0d675c3090ef",
   "metadata": {},
   "source": [
    "#### Gráfico de setor"
   ]
  },
  {
   "cell_type": "code",
   "execution_count": 31,
   "id": "7b13375c-c30e-42b3-b219-b4b91da8a635",
   "metadata": {},
   "outputs": [
    {
     "data": {
      "image/png": "[encoded data removed]",
      "text/plain": [
       "<Figure size 432x288 with 1 Axes>"
      ]
     },
     "metadata": {},
     "output_type": "display_data"
    }
   ],
   "source": [
    "#pie plot\n",
    "freq_table.qtd.plot.pie(autopct = \"%1.1f%%\");"
   ]
  },
  {
   "cell_type": "markdown",
   "id": "6d7753ed-336b-4de0-9380-4cac4f5c3c05",
   "metadata": {},
   "source": [
    "### Quantitativas\n",
    "Representam valores numéricos.\n",
    "\n",
    "- Discreta\n",
    "    Apenas valores inteiros como contagens\n",
    "    Ex.: Qtd. de filhos, Idade, Qtd. de vendas\n",
    "\n",
    "\n",
    "- Contínua\n",
    "    Valores reais com casas decimais.\n",
    "    Ex.: Faturamento, valor investido, preço de ativo"
   ]
  },
  {
   "cell_type": "markdown",
   "id": "7d3ef0d7-18e2-43e6-996f-0fcf63d7ff8a",
   "metadata": {},
   "source": [
    "### Histograma"
   ]
  },
  {
   "cell_type": "code",
   "execution_count": 93,
   "id": "1dc0bff1-f4f2-48ba-9968-6ba9129a3442",
   "metadata": {},
   "outputs": [],
   "source": [
    "import yfinance as yf"
   ]
  },
  {
   "cell_type": "code",
   "execution_count": 94,
   "id": "616a6ecb-c51b-4c58-a94b-fa61a6a9b7c8",
   "metadata": {},
   "outputs": [
    {
     "name": "stdout",
     "output_type": "stream",
     "text": [
      "[*********************100%***********************]  1 of 1 completed\n"
     ]
    }
   ],
   "source": [
    "#^BVSP\n",
    "bvsp = yf.download(\"^BVSP\", start = \"2000-01-01\", end = \"2021-11-24\")"
   ]
  },
  {
   "cell_type": "code",
   "execution_count": 34,
   "id": "229d2066-bf92-46a7-99a8-73c89fdab411",
   "metadata": {},
   "outputs": [
    {
     "data": {
      "text/html": [
       "<div>\n",
       "<style scoped>\n",
       "    .dataframe tbody tr th:only-of-type {\n",
       "        vertical-align: middle;\n",
       "    }\n",
       "\n",
       "    .dataframe tbody tr th {\n",
       "        vertical-align: top;\n",
       "    }\n",
       "\n",
       "    .dataframe thead th {\n",
       "        text-align: right;\n",
       "    }\n",
       "</style>\n",
       "<table border=\"1\" class=\"dataframe\">\n",
       "  <thead>\n",
       "    <tr style=\"text-align: right;\">\n",
       "      <th></th>\n",
       "      <th>Open</th>\n",
       "      <th>High</th>\n",
       "      <th>Low</th>\n",
       "      <th>Close</th>\n",
       "      <th>Adj Close</th>\n",
       "      <th>Volume</th>\n",
       "    </tr>\n",
       "    <tr>\n",
       "      <th>Date</th>\n",
       "      <th></th>\n",
       "      <th></th>\n",
       "      <th></th>\n",
       "      <th></th>\n",
       "      <th></th>\n",
       "      <th></th>\n",
       "    </tr>\n",
       "  </thead>\n",
       "  <tbody>\n",
       "    <tr>\n",
       "      <th>2000-01-03</th>\n",
       "      <td>17098.0</td>\n",
       "      <td>17408.0</td>\n",
       "      <td>16719.0</td>\n",
       "      <td>16930.0</td>\n",
       "      <td>16930.0</td>\n",
       "      <td>0</td>\n",
       "    </tr>\n",
       "    <tr>\n",
       "      <th>2000-01-04</th>\n",
       "      <td>16908.0</td>\n",
       "      <td>16908.0</td>\n",
       "      <td>15851.0</td>\n",
       "      <td>15851.0</td>\n",
       "      <td>15851.0</td>\n",
       "      <td>0</td>\n",
       "    </tr>\n",
       "    <tr>\n",
       "      <th>2000-01-05</th>\n",
       "      <td>15871.0</td>\n",
       "      <td>16302.0</td>\n",
       "      <td>15350.0</td>\n",
       "      <td>16245.0</td>\n",
       "      <td>16245.0</td>\n",
       "      <td>0</td>\n",
       "    </tr>\n",
       "    <tr>\n",
       "      <th>2000-01-06</th>\n",
       "      <td>16237.0</td>\n",
       "      <td>16499.0</td>\n",
       "      <td>15977.0</td>\n",
       "      <td>16107.0</td>\n",
       "      <td>16107.0</td>\n",
       "      <td>0</td>\n",
       "    </tr>\n",
       "    <tr>\n",
       "      <th>2000-01-07</th>\n",
       "      <td>16125.0</td>\n",
       "      <td>16449.0</td>\n",
       "      <td>16125.0</td>\n",
       "      <td>16309.0</td>\n",
       "      <td>16309.0</td>\n",
       "      <td>0</td>\n",
       "    </tr>\n",
       "  </tbody>\n",
       "</table>\n",
       "</div>"
      ],
      "text/plain": [
       "               Open     High      Low    Close  Adj Close  Volume\n",
       "Date                                                             \n",
       "2000-01-03  17098.0  17408.0  16719.0  16930.0    16930.0       0\n",
       "2000-01-04  16908.0  16908.0  15851.0  15851.0    15851.0       0\n",
       "2000-01-05  15871.0  16302.0  15350.0  16245.0    16245.0       0\n",
       "2000-01-06  16237.0  16499.0  15977.0  16107.0    16107.0       0\n",
       "2000-01-07  16125.0  16449.0  16125.0  16309.0    16309.0       0"
      ]
     },
     "execution_count": 34,
     "metadata": {},
     "output_type": "execute_result"
    }
   ],
   "source": [
    "bvsp.head()"
   ]
  },
  {
   "cell_type": "code",
   "execution_count": 37,
   "id": "acebc07d-bf42-43bb-ac34-420c9f76e62b",
   "metadata": {},
   "outputs": [
    {
     "data": {
      "image/png": "[encoded data removed]",
      "text/plain": [
       "<Figure size 432x288 with 1 Axes>"
      ]
     },
     "metadata": {
      "needs_background": "light"
     },
     "output_type": "display_data"
    }
   ],
   "source": [
    "#plot bvsp\n",
    "bvsp.Close.plot();\n",
    "#bvsp[[\"Close\", \"High\"]].plot();"
   ]
  },
  {
   "cell_type": "code",
   "execution_count": null,
   "id": "84cde63f-adfc-4d09-bef4-12b13cb6694f",
   "metadata": {},
   "outputs": [],
   "source": []
  },
  {
   "cell_type": "code",
   "execution_count": 9,
   "id": "125c2c21-4eab-4ea1-ac84-cb6cb79c65c4",
   "metadata": {},
   "outputs": [],
   "source": [
    "#plot retorno"
   ]
  },
  {
   "cell_type": "code",
   "execution_count": 95,
   "id": "9d8e13d8-8d21-477f-8aa5-51d8e7a8ba80",
   "metadata": {},
   "outputs": [
    {
     "name": "stdout",
     "output_type": "stream",
     "text": [
      "               Open     High      Low    Close  Adj Close  Volume\n",
      "Date                                                             \n",
      "2000-01-03  17098.0  17408.0  16719.0  16930.0    16930.0       0\n",
      "2000-01-04  16908.0  16908.0  15851.0  15851.0    15851.0       0\n",
      "2000-01-05  15871.0  16302.0  15350.0  16245.0    16245.0       0\n",
      "2000-01-06  16237.0  16499.0  15977.0  16107.0    16107.0       0\n",
      "2000-01-07  16125.0  16449.0  16125.0  16309.0    16309.0       0\n"
     ]
    },
    {
     "data": {
      "text/plain": [
       "Date\n",
       "2000-01-03         NaN\n",
       "2000-01-04   -0.063733\n",
       "2000-01-05    0.024856\n",
       "2000-01-06   -0.008495\n",
       "2000-01-07    0.012541\n",
       "                ...   \n",
       "2021-11-17   -0.014956\n",
       "2021-11-18   -0.004090\n",
       "2021-11-19    0.004984\n",
       "2021-11-22   -0.008861\n",
       "2021-11-23    0.015090\n",
       "Name: Close, Length: 5416, dtype: float64"
      ]
     },
     "execution_count": 95,
     "metadata": {},
     "output_type": "execute_result"
    }
   ],
   "source": [
    "retorno_bvsp_close = bvsp.Close.pct_change()\n",
    "\n",
    "print(bvsp.head())\n",
    "\n",
    "retorno_bvsp_close"
   ]
  },
  {
   "cell_type": "code",
   "execution_count": 39,
   "id": "15f25049-04b4-4e04-9150-c4299b0fba16",
   "metadata": {},
   "outputs": [
    {
     "data": {
      "image/png": "[encoded data removed]",
      "text/plain": [
       "<Figure size 432x288 with 1 Axes>"
      ]
     },
     "metadata": {
      "needs_background": "light"
     },
     "output_type": "display_data"
    }
   ],
   "source": [
    "retorno_bvsp_close.plot();"
   ]
  },
  {
   "cell_type": "code",
   "execution_count": 10,
   "id": "7c45cd62-be5c-4ee0-bf03-d0329b90de42",
   "metadata": {},
   "outputs": [],
   "source": [
    "#hist retorno"
   ]
  },
  {
   "cell_type": "code",
   "execution_count": 40,
   "id": "ce66a419-62bd-4d12-a5aa-a47aae9fe760",
   "metadata": {},
   "outputs": [
    {
     "data": {
      "image/png": "[encoded data removed]",
      "text/plain": [
       "<Figure size 432x288 with 1 Axes>"
      ]
     },
     "metadata": {
      "needs_background": "light"
     },
     "output_type": "display_data"
    }
   ],
   "source": [
    "sns.histplot(retorno_bvsp_close, kde = True, bins = 30);"
   ]
  },
  {
   "cell_type": "code",
   "execution_count": 41,
   "id": "90c1dcc9-41f0-4171-bf0f-e288915f6be7",
   "metadata": {},
   "outputs": [
    {
     "data": {
      "image/png": "[encoded data removed]",
      "text/plain": [
       "<Figure size 432x288 with 1 Axes>"
      ]
     },
     "metadata": {
      "needs_background": "light"
     },
     "output_type": "display_data"
    }
   ],
   "source": [
    "sns.histplot(bvsp.Close, kde = True, bins = 30);"
   ]
  },
  {
   "cell_type": "markdown",
   "id": "b2888d52-4459-4153-ad4b-74858dd5fb49",
   "metadata": {},
   "source": [
    "<img src=\"../imgs/histograma.png\" alt=\"drawing\" width=\"50%\"/>"
   ]
  },
  {
   "cell_type": "markdown",
   "id": "7de0dc43-4ecb-431c-b31d-32a7ce9bd4f6",
   "metadata": {},
   "source": [
    "## Medidas Resumo\n",
    "\n",
    "O principal objetivo da estatística descritiva é gerar **medidas que resumam** o conjunto de dados que estamos analisando, ou seja, medidas que descrevam **a distribuição** dos dados, de forma quantitativa. Temos dois tipos de métricas disponíveis: as métricas de __posição__ e __dispersão__. Vamos conhecer melhor essas métricas a seguir:"
   ]
  },
  {
   "cell_type": "markdown",
   "id": "212d15a1-c475-4031-ab92-7e02d7f5fe19",
   "metadata": {},
   "source": [
    "### Medidas de Posição\n",
    "Estas são medidas que **resumem** algumas propriedades posicionais do conjunto de dados\n",
    "\n",
    "<img src=\"https://i.pinimg.com/originals/3e/8a/90/3e8a90c122ad25240cc46ac075cb0f4c.png\" width=\"25%\">"
   ]
  },
  {
   "cell_type": "markdown",
   "id": "4bc84313-61a9-47c0-883e-15dbae4f4121",
   "metadata": {},
   "source": [
    "#### Média\n",
    "\n",
    "Seja $X$ uma variável quantitativa e $x_1,x_2,x_3, ...$ os valores assumidos por X. \n",
    "\n",
    "Define-se média de $X$ por $\\overline{X}$ sendo que:\n",
    "\n",
    "$$\\overline{X} = \\dfrac{\\sum_{i=1}^{n}x_i}{n}= \\dfrac{x_1+ x_2 + x_3 +... +x_n}{n}$$\n",
    "\n",
    "Caso estejamos nos referindo a média populacional, damos o nome de $\\mu$\n",
    "\n",
    "$$\\mu = \\dfrac{\\sum_{i=1}^{N}x_i}{N}= \\dfrac{x_1+ x_2 + x_3 +... +x_N}{N}$$"
   ]
  },
  {
   "cell_type": "code",
   "execution_count": 43,
   "id": "6f6e7196-4339-4a8d-8ea5-bdf01a4e73b0",
   "metadata": {},
   "outputs": [
    {
     "name": "stdout",
     "output_type": "stream",
     "text": [
      "[16  5  4  8 15  9 15 11  9  8  7  5]\n"
     ]
    },
    {
     "data": {
      "text/plain": [
       "9.333333333333334"
      ]
     },
     "execution_count": 43,
     "metadata": {},
     "output_type": "execute_result"
    }
   ],
   "source": [
    "#rand mean\n",
    "np.random.seed(7)\n",
    "\n",
    "amostra = np.random.randint(1, 20, 12)\n",
    "print(amostra)\n",
    "\n",
    "amostra.mean()"
   ]
  },
  {
   "cell_type": "code",
   "execution_count": 88,
   "id": "6bfe8642-8115-4afd-b27c-29e467dd0dcc",
   "metadata": {},
   "outputs": [
    {
     "name": "stdout",
     "output_type": "stream",
     "text": [
      "[33 53 72  5 30 77  1  3 48 86 23 74 95 87 54]\n"
     ]
    },
    {
     "data": {
      "text/plain": [
       "-0.0"
      ]
     },
     "execution_count": 88,
     "metadata": {},
     "output_type": "execute_result"
    }
   ],
   "source": [
    "#rand mean dif\n",
    "x = np.random.randint(1, 100, 15)\n",
    "print(x)\n",
    "\n",
    "round(sum(x - x.mean()),2)"
   ]
  },
  {
   "cell_type": "code",
   "execution_count": null,
   "id": "7cd00599-853e-48eb-821d-32f545b8fec4",
   "metadata": {},
   "outputs": [],
   "source": []
  },
  {
   "cell_type": "code",
   "execution_count": 90,
   "id": "07379ffa-a442-4958-8a7a-a9633f1f99f9",
   "metadata": {},
   "outputs": [
    {
     "data": {
      "text/plain": [
       "49.4"
      ]
     },
     "execution_count": 90,
     "metadata": {},
     "output_type": "execute_result"
    }
   ],
   "source": [
    "outlier = np.array([33,53, 72,  5, 30, 77,  1,  3, 48, 86, 23, 74, 95, 87, 54])\n",
    "outlier.mean()"
   ]
  },
  {
   "cell_type": "code",
   "execution_count": 91,
   "id": "5b65b17e-50ec-4d7e-ba8b-e45d5e357e88",
   "metadata": {},
   "outputs": [
    {
     "data": {
      "text/plain": [
       "108.8125"
      ]
     },
     "execution_count": 91,
     "metadata": {},
     "output_type": "execute_result"
    }
   ],
   "source": [
    "outlier = np.array([33,53, 72,  5, 30, 77,  1,  3, 48, 86, 23, 74, 95, 87, 54, 1000])\n",
    "outlier.mean()"
   ]
  },
  {
   "cell_type": "markdown",
   "id": "22bdfc23-b105-4a0a-9651-4ec9cff6f8b6",
   "metadata": {},
   "source": [
    "#### Moda\n",
    "\n",
    "A **moda** é o valor que ocorre com **maior frequencia** em um conjunto de dados. Dependendo do conjunto de dados, ele pode ser:\n",
    "\n",
    "- Sem moda: quando nenhum valor se repete \n",
    "\n",
    "- unimodal: Quando existe apenas um valor repetido com maior frequência \n",
    "\n",
    "- multimodal: quando existem mais de um valor com a mesma frequência máxima"
   ]
  },
  {
   "cell_type": "code",
   "execution_count": 7,
   "id": "8f46ab98-de8f-4919-8f7f-2983404feb1a",
   "metadata": {},
   "outputs": [
    {
     "name": "stdout",
     "output_type": "stream",
     "text": [
      "[4, 5, 5, 7, 8, 8, 9, 9, 11, 15, 15, 16]\n",
      "[ 5  8  9 15]\n",
      "ex unimodal: [3]\n"
     ]
    }
   ],
   "source": [
    "#Series moda\n",
    "print(sorted(amostra))\n",
    "amostra_serie = pd.Series(amostra)\n",
    "print(amostra_serie.mode().values)\n",
    "print(\"ex unimodal:\", pd.Series([1,2,3,3]).mode().values)"
   ]
  },
  {
   "cell_type": "code",
   "execution_count": null,
   "id": "4e40cd0e-ddfd-4408-b4e3-459239354943",
   "metadata": {},
   "outputs": [],
   "source": []
  },
  {
   "cell_type": "markdown",
   "id": "8bd81c9a-b2d8-4910-89d9-db809633239a",
   "metadata": {},
   "source": [
    "#### Mediana\n",
    "\n",
    "A **mediana** de uma variável é um número tal que há o mesmo número de observações maiores e menores do que ele, ocupando assim a **posição central** da série de observações.\n",
    "\n",
    "Assim, para calcularmos a mediana, basta **ordenarmos os dados, do menor pro maior**, e contar o que está no meio dos dados ordenados (se houver número par de dados, pega-se a média entre os dados que estão \"no meio\")\n",
    "\n",
    "- *Exemplo*\n",
    "\n",
    "i) 3,4,**7**,8,8 **mediana = 7**       (CASO ÍMPAR)\n",
    "\n",
    "ii) 3,4,**7**,**8**,8,9 **mediana = (7+8)/2 = 7,5**   (CASO PAR)\n",
    "\n",
    "<br>\n",
    "\n",
    "Logo, podemos definir: \n",
    "\n",
    "- Mediana de $X = X_{\\frac{n+1}{2}}$ `Se tamanho da amostra ímpar`\n",
    "\n",
    "\n",
    "- Mediana de $X = \\frac{X_{\\frac{n}{2}}+ X_{\\frac{n+1}{2}}}{2}$ `Se tamanho da amostra par`\n",
    "\n",
    "Como os valores de **indice no python** começam em `0`, devemos nos atentar que a equação acima deve ficar como:\n",
    "\n",
    "- Mediana de $X = X_{\\frac{n}{2}}$ `Se tamanho da amostra par`\n",
    "\n",
    "\n",
    "- Mediana de $X = \\frac{X_{\\frac{n-1}{2}}+ X_{\\frac{n}{2}}}{2}$ `Se tamanho da amostra ímpar`"
   ]
  },
  {
   "cell_type": "code",
   "execution_count": 97,
   "id": "35db0951-16a7-4918-91ce-15111ea1ae8b",
   "metadata": {},
   "outputs": [
    {
     "name": "stdout",
     "output_type": "stream",
     "text": [
      "Dados: [2, 3, 4, 7, 7, 8, 8, 11, 11, 11, 12, 15, 19]\n"
     ]
    }
   ],
   "source": [
    "#rand median\n",
    "np.random.seed(42)\n",
    "\n",
    "amostra = np.random.randint(1, 20, 13)\n",
    "\n",
    "print(\"Dados:\", sorted(amostra))\n"
   ]
  },
  {
   "cell_type": "code",
   "execution_count": 101,
   "id": "a8edf032-abdd-477d-8446-8ff5c694467a",
   "metadata": {},
   "outputs": [
    {
     "name": "stdout",
     "output_type": "stream",
     "text": [
      "media\n",
      "3.0\n",
      "14.166666666666666\n",
      "mediana\n",
      "3.0\n",
      "3.5\n",
      "lista ordenada\n",
      "[1, 2, 3, 4, 5, 70]\n"
     ]
    }
   ],
   "source": [
    "print(\"media\")\n",
    "print(np.mean([1,2,3,4,5]))\n",
    "print(np.mean([1,2,3,4,5,70]))\n",
    "\n",
    "print(\"mediana\")\n",
    "print(np.median([1,2,3,4,5]))\n",
    "print(np.median([1,2,70,4,3,5]))\n",
    "\n",
    "print(\"lista ordenada\")\n",
    "print(sorted([1,2,70,4,3,5]))"
   ]
  },
  {
   "cell_type": "markdown",
   "id": "98867c81-4e0f-4bd4-ad7d-7e450bedfb1e",
   "metadata": {},
   "source": [
    "#### Quartis (Q1, Q2 e Q3)\n",
    "\n",
    "São valores dados a partir do conjunto de observações ordenado em ordem crescente, que dividem os dados **em quatro partes iguais**. \n",
    "\n",
    "- O primeiro quartil, Q1, é o número que deixa 25% das observações abaixo e 75% acima;\n",
    "- O segundo quartil, Q2 é a **mediana**, deixa 50% das observações abaixo e 50% das observações acima;\n",
    "- O terceiro quartil, Q3, deixa 75% das observações abaixo e 25% acima;\n",
    "\n",
    "\n",
    "<img src=\"https://aprendendogestao.com.br/wp-content/uploads/2016/07/QE-Figura-1.png\" width=\"700\" height=\"700\" />"
   ]
  },
  {
   "cell_type": "code",
   "execution_count": 107,
   "id": "c08c931a-5581-4384-9474-5f56d468d682",
   "metadata": {},
   "outputs": [
    {
     "name": "stdout",
     "output_type": "stream",
     "text": [
      "[500, 2000, 10000, 12500, 15000]\n"
     ]
    }
   ],
   "source": [
    "#quartis faturamento\n",
    "faturamento = np.array([2000, 500, 10_000, 15_000, 12_500])\n",
    "print(sorted(faturamento))\n"
   ]
  },
  {
   "cell_type": "code",
   "execution_count": 111,
   "id": "7737dbc7-6428-41c0-813a-14f7faee1ed7",
   "metadata": {},
   "outputs": [
    {
     "name": "stdout",
     "output_type": "stream",
     "text": [
      "10000.0\n",
      "2000.0\n",
      "1625.0\n",
      "12500.0\n",
      "13000.0\n"
     ]
    }
   ],
   "source": [
    "#quantil\n",
    "print(np.median(faturamento))\n",
    "print(np.quantile(faturamento, 0.25))\n",
    "print(np.quantile([500, 2000, 15_000, 12_500], 0.25))\n",
    "print(np.quantile(faturamento, 0.75))\n",
    "print(np.quantile(faturamento, 0.80))"
   ]
  },
  {
   "cell_type": "code",
   "execution_count": 31,
   "id": "004e4a57-e291-4725-b70f-b0db1364342f",
   "metadata": {},
   "outputs": [
    {
     "data": {
      "text/plain": [
       "13000.0"
      ]
     },
     "execution_count": 31,
     "metadata": {},
     "output_type": "execute_result"
    }
   ],
   "source": [
    "#notem que independe de ter ou nao o valor na observacao\n",
    "#4 elementos estao a esquerda de 13k e 1 a direita -> 80%\n",
    "np.quantile(faturamento, 0.80)"
   ]
  },
  {
   "cell_type": "markdown",
   "id": "509439e8-ec6f-4859-b645-015728475d66",
   "metadata": {},
   "source": [
    "### Medidas de Dispersão\n",
    "\n",
    "Estas são **medidas de variabilidade**, que indicam o quanto as observações variam ao redor de alguma medida de centralidade (média, mediana, etc.). Em outras palavras, indicam **o quão longe podemos esperar que uma observação esteja do valor típico para aquela variável**. \n",
    "\n",
    "Existem diversas medidas de variabilidade, algumas das quais apresentamos a seguir."
   ]
  },
  {
   "cell_type": "markdown",
   "id": "9b7a355d-df54-46bc-9743-038ba240243c",
   "metadata": {},
   "source": [
    "#### Amplitude\n",
    "\n",
    "A amplitude é a **diferença entre o maior e o menor valor observado**."
   ]
  },
  {
   "cell_type": "code",
   "execution_count": 114,
   "id": "4806030b-5962-4394-96a9-72b0bed60359",
   "metadata": {},
   "outputs": [],
   "source": [
    "# amplitude\n",
    "amostra2 = np.array([2, 3, 4, 7, 7, 8, 8, 11, 11, 11, 12, 15, 19])"
   ]
  },
  {
   "cell_type": "code",
   "execution_count": 115,
   "id": "9b110232-eb7b-480a-9cdd-bfdc865352ca",
   "metadata": {},
   "outputs": [
    {
     "name": "stdout",
     "output_type": "stream",
     "text": [
      "9.076923076923077\n"
     ]
    }
   ],
   "source": [
    "print(amostra2.mean())"
   ]
  },
  {
   "cell_type": "code",
   "execution_count": 116,
   "id": "b65328f0-d13f-4a49-860a-357cff3701e6",
   "metadata": {},
   "outputs": [
    {
     "data": {
      "text/plain": [
       "17"
      ]
     },
     "execution_count": 116,
     "metadata": {},
     "output_type": "execute_result"
    }
   ],
   "source": [
    "#amplitude\n",
    "amostra2.max() - amostra2.min()"
   ]
  },
  {
   "cell_type": "code",
   "execution_count": 117,
   "id": "8328bfc8-a9fc-4fc1-b388-d65f644ed937",
   "metadata": {},
   "outputs": [
    {
     "name": "stdout",
     "output_type": "stream",
     "text": [
      "82\n"
     ]
    }
   ],
   "source": [
    "amostra2 = np.array([2, 3, 4, 7, 7, 8, 8, 11, 11, 11, 12, 15, 19, 84])\n",
    "print(amostra2.max() - amostra2.min())"
   ]
  },
  {
   "cell_type": "markdown",
   "id": "0387a700-e692-40c0-85f3-868533e9f042",
   "metadata": {},
   "source": [
    "Algo bem importante a salientar sobre a amplitude é:\n",
    "\n",
    "- **Fortemente influenciada** por valores extremos nas observações, como outliers. "
   ]
  },
  {
   "cell_type": "code",
   "execution_count": 37,
   "id": "3c335067-70df-4456-812f-752aea573eb5",
   "metadata": {},
   "outputs": [
    {
     "name": "stdout",
     "output_type": "stream",
     "text": [
      "85\n"
     ]
    }
   ],
   "source": [
    "amostra2 = np.array([2, 3, 4, 7, 7, 8, 8, 11, 11, 11, 12, 15, 19, 87])\n",
    "print(amostra2.max() - amostra2.min())"
   ]
  },
  {
   "cell_type": "markdown",
   "id": "55113402-ec53-4eb1-b04f-ceea0eff70d3",
   "metadata": {},
   "source": [
    "#### Variância \n",
    "\n",
    "A variância representa **o quanto os dados se afastam da média, em geral**. \n",
    "\n",
    "Por definição, tomamos a média dos **desvios quadráticos da média**:\n",
    "\n",
    "$$ Var(X) = S^2 = \\sum_{i=1}^{n}\\frac{(x_i-\\overline{x})^{2}}{n-1} = \\frac{(x_1-\\overline{x})^{2}}{n-1} + \\frac{(x_2-\\overline{x})^{2}}{n-1} + \\cdots$$\n",
    "\n",
    "No caso da variância populacional o calculo é diferente, pois fazemos a diferença com relação a média populacional e dividimos pelo total de elementos $n$:\n",
    "\n",
    "$$ Var(X) = \\sigma^2 = \\sum_{i=1}^{n}\\frac{(x_i-\\mu)^{2}}{n} = \\frac{(x_1-\\mu)^{2}}{n} + \\frac{(x_2-\\mu)^{2}}{n} + \\cdots$$"
   ]
  },
  {
   "cell_type": "code",
   "execution_count": 128,
   "id": "b825f655-574b-4824-bc2a-3a268e63ada4",
   "metadata": {},
   "outputs": [
    {
     "name": "stdout",
     "output_type": "stream",
     "text": [
      "9.076923076923077\n"
     ]
    },
    {
     "data": {
      "text/plain": [
       "9.076923076923077"
      ]
     },
     "execution_count": 128,
     "metadata": {},
     "output_type": "execute_result"
    }
   ],
   "source": [
    "print(amostra.mean())\n",
    "np.mean(amostra)"
   ]
  },
  {
   "cell_type": "code",
   "execution_count": 120,
   "id": "801f1586-9c9f-4056-a304-9e1b48d10ec3",
   "metadata": {},
   "outputs": [
    {
     "name": "stdout",
     "output_type": "stream",
     "text": [
      "[ 7 15 11  8  7 19 11 11  4  8  3  2 12]\n"
     ]
    },
    {
     "data": {
      "text/plain": [
       "9.076923076923077"
      ]
     },
     "execution_count": 120,
     "metadata": {},
     "output_type": "execute_result"
    }
   ],
   "source": [
    "print(amostra)\n",
    "amostra.mean()"
   ]
  },
  {
   "cell_type": "code",
   "execution_count": 130,
   "id": "e7c534ca-fdb4-42e4-a195-d915e8a07483",
   "metadata": {},
   "outputs": [
    {
     "data": {
      "text/plain": [
       "21.301775147928993"
      ]
     },
     "execution_count": 130,
     "metadata": {},
     "output_type": "execute_result"
    }
   ],
   "source": [
    "np.mean((amostra - amostra.mean())**2)"
   ]
  },
  {
   "cell_type": "code",
   "execution_count": 126,
   "id": "052edd1e-9923-4796-8cc9-44c73226b859",
   "metadata": {},
   "outputs": [
    {
     "name": "stdout",
     "output_type": "stream",
     "text": [
      "8000.0\n"
     ]
    },
    {
     "data": {
      "text/plain": [
       "33100000.0"
      ]
     },
     "execution_count": 126,
     "metadata": {},
     "output_type": "execute_result"
    }
   ],
   "source": [
    "print(faturamento.mean())\n",
    "np.mean((faturamento - faturamento.mean())**2)\n"
   ]
  },
  {
   "cell_type": "code",
   "execution_count": 118,
   "id": "d438be6f-bdb1-497a-b84b-e2888da9e450",
   "metadata": {},
   "outputs": [
    {
     "name": "stdout",
     "output_type": "stream",
     "text": [
      "[ 7 15 11  8  7 19 11 11  4  8  3  2 12]\n",
      "Variancia populacional 21.301775147928993\n",
      "Variancia amostral 23.076923076923077\n"
     ]
    }
   ],
   "source": [
    "#rand\n",
    "print(amostra)\n",
    "print(\"Variancia populacional\", np.var(amostra)) #n\n",
    "print(\"Variancia amostral\", np.var(amostra, ddof=1)) # n-ddof -> n-1"
   ]
  },
  {
   "cell_type": "code",
   "execution_count": 17,
   "id": "1b1a8032-0280-4394-a65d-08ed88b720f0",
   "metadata": {},
   "outputs": [],
   "source": [
    "#salario"
   ]
  },
  {
   "cell_type": "code",
   "execution_count": 44,
   "id": "c48d1598-711f-4a01-8e9b-02a8323d02cf",
   "metadata": {},
   "outputs": [
    {
     "name": "stdout",
     "output_type": "stream",
     "text": [
      "[2457.84973624 6679.51275344 4630.45538865 6340.79106699 7867.93707198\n",
      " 5230.97522246 5006.72278196 2432.30680016 3610.63388061 4999.29500495]\n",
      "5094.391932248503\n"
     ]
    },
    {
     "data": {
      "text/plain": [
       "2533712.599550384"
      ]
     },
     "execution_count": 44,
     "metadata": {},
     "output_type": "execute_result"
    }
   ],
   "source": [
    "np.random.seed(7)\n",
    "amostra_salario = np.random.uniform(2000, 8000, 100)\n",
    "print(amostra_salario[:10])\n",
    "print(amostra_salario.mean())\n",
    "amostra_salario.var()"
   ]
  },
  {
   "cell_type": "markdown",
   "id": "05d7c9b7-b00e-4506-8bbf-e0929706676c",
   "metadata": {},
   "source": [
    "### Desvio padrão\n",
    "\n",
    "Note que, da forma como foi definida, a variância é um valor **quadrático** nos dados. Para evitar isso, é comum tirar a raiz quadrada da variância, o que define o **desvio padrão**:\n",
    "\n",
    "$$ S = \\sqrt{Var(X)} = \\sqrt{\\sum_{i=1}^{n}\\frac{(x_i-\\overline{x})^{2}}{n - 1}}$$\n",
    "\n",
    "Novamente temos a adaptação do calculo para o caso populacional:\n",
    "\n",
    "$$ \\sigma = \\sqrt{\\sigma^2} = \\sqrt{\\sum_{i=1}^{N}\\frac{(x_i-\\mu)^{2}}{N}}$$"
   ]
  },
  {
   "cell_type": "code",
   "execution_count": 73,
   "id": "10e34120-c27c-47c4-a400-e406fc521bd7",
   "metadata": {},
   "outputs": [
    {
     "name": "stdout",
     "output_type": "stream",
     "text": [
      "[ 7 15 11  8  7 19 11 11  4  8  3  2]\n",
      "Desvio Padrao Populacional: 4.722875771768251\n",
      "Desvio Padrao Amostral: 4.932882862316248\n"
     ]
    }
   ],
   "source": [
    "print(amostra)\n",
    "print(\"Desvio Padrao Populacional:\", np.std(amostra))\n",
    "print(\"Desvio Padrao Amostral:\", np.std(amostra, ddof = 1))"
   ]
  },
  {
   "cell_type": "code",
   "execution_count": 26,
   "id": "a60a6887-6663-4773-b3f0-dc078df9feec",
   "metadata": {},
   "outputs": [
    {
     "name": "stdout",
     "output_type": "stream",
     "text": [
      "media 5094.391932248503\n",
      "std 1591.7639899025182\n",
      "3502.6279423459846 6686.155922151021\n"
     ]
    }
   ],
   "source": [
    "print(\"media\", amostra_salario.mean())\n",
    "print(\"std\", amostra_salario.std())\n",
    "print(amostra_salario.mean() -  amostra_salario.std(),\n",
    "      amostra_salario.mean() + amostra_salario.std())"
   ]
  },
  {
   "cell_type": "markdown",
   "id": "37406ead-9645-40a1-bfd9-68a8ff015848",
   "metadata": {},
   "source": [
    "### O nosso poderoso aliado de cada dia 🙌"
   ]
  },
  {
   "cell_type": "code",
   "execution_count": 131,
   "id": "6fe32efc-511e-492f-9b6a-c5f6382e7266",
   "metadata": {},
   "outputs": [
    {
     "data": {
      "text/html": [
       "<div>\n",
       "<style scoped>\n",
       "    .dataframe tbody tr th:only-of-type {\n",
       "        vertical-align: middle;\n",
       "    }\n",
       "\n",
       "    .dataframe tbody tr th {\n",
       "        vertical-align: top;\n",
       "    }\n",
       "\n",
       "    .dataframe thead th {\n",
       "        text-align: right;\n",
       "    }\n",
       "</style>\n",
       "<table border=\"1\" class=\"dataframe\">\n",
       "  <thead>\n",
       "    <tr style=\"text-align: right;\">\n",
       "      <th></th>\n",
       "      <th>mpg</th>\n",
       "      <th>cylinders</th>\n",
       "      <th>displacement</th>\n",
       "      <th>horsepower</th>\n",
       "      <th>weight</th>\n",
       "      <th>acceleration</th>\n",
       "      <th>model_year</th>\n",
       "      <th>origin</th>\n",
       "      <th>name</th>\n",
       "    </tr>\n",
       "  </thead>\n",
       "  <tbody>\n",
       "    <tr>\n",
       "      <th>0</th>\n",
       "      <td>18.0</td>\n",
       "      <td>8</td>\n",
       "      <td>307.0</td>\n",
       "      <td>130.0</td>\n",
       "      <td>3504</td>\n",
       "      <td>12.0</td>\n",
       "      <td>70</td>\n",
       "      <td>usa</td>\n",
       "      <td>chevrolet chevelle malibu</td>\n",
       "    </tr>\n",
       "    <tr>\n",
       "      <th>1</th>\n",
       "      <td>15.0</td>\n",
       "      <td>8</td>\n",
       "      <td>350.0</td>\n",
       "      <td>165.0</td>\n",
       "      <td>3693</td>\n",
       "      <td>11.5</td>\n",
       "      <td>70</td>\n",
       "      <td>usa</td>\n",
       "      <td>buick skylark 320</td>\n",
       "    </tr>\n",
       "    <tr>\n",
       "      <th>2</th>\n",
       "      <td>18.0</td>\n",
       "      <td>8</td>\n",
       "      <td>318.0</td>\n",
       "      <td>150.0</td>\n",
       "      <td>3436</td>\n",
       "      <td>11.0</td>\n",
       "      <td>70</td>\n",
       "      <td>usa</td>\n",
       "      <td>plymouth satellite</td>\n",
       "    </tr>\n",
       "    <tr>\n",
       "      <th>3</th>\n",
       "      <td>16.0</td>\n",
       "      <td>8</td>\n",
       "      <td>304.0</td>\n",
       "      <td>150.0</td>\n",
       "      <td>3433</td>\n",
       "      <td>12.0</td>\n",
       "      <td>70</td>\n",
       "      <td>usa</td>\n",
       "      <td>amc rebel sst</td>\n",
       "    </tr>\n",
       "    <tr>\n",
       "      <th>4</th>\n",
       "      <td>17.0</td>\n",
       "      <td>8</td>\n",
       "      <td>302.0</td>\n",
       "      <td>140.0</td>\n",
       "      <td>3449</td>\n",
       "      <td>10.5</td>\n",
       "      <td>70</td>\n",
       "      <td>usa</td>\n",
       "      <td>ford torino</td>\n",
       "    </tr>\n",
       "    <tr>\n",
       "      <th>...</th>\n",
       "      <td>...</td>\n",
       "      <td>...</td>\n",
       "      <td>...</td>\n",
       "      <td>...</td>\n",
       "      <td>...</td>\n",
       "      <td>...</td>\n",
       "      <td>...</td>\n",
       "      <td>...</td>\n",
       "      <td>...</td>\n",
       "    </tr>\n",
       "    <tr>\n",
       "      <th>393</th>\n",
       "      <td>27.0</td>\n",
       "      <td>4</td>\n",
       "      <td>140.0</td>\n",
       "      <td>86.0</td>\n",
       "      <td>2790</td>\n",
       "      <td>15.6</td>\n",
       "      <td>82</td>\n",
       "      <td>usa</td>\n",
       "      <td>ford mustang gl</td>\n",
       "    </tr>\n",
       "    <tr>\n",
       "      <th>394</th>\n",
       "      <td>44.0</td>\n",
       "      <td>4</td>\n",
       "      <td>97.0</td>\n",
       "      <td>52.0</td>\n",
       "      <td>2130</td>\n",
       "      <td>24.6</td>\n",
       "      <td>82</td>\n",
       "      <td>europe</td>\n",
       "      <td>vw pickup</td>\n",
       "    </tr>\n",
       "    <tr>\n",
       "      <th>395</th>\n",
       "      <td>32.0</td>\n",
       "      <td>4</td>\n",
       "      <td>135.0</td>\n",
       "      <td>84.0</td>\n",
       "      <td>2295</td>\n",
       "      <td>11.6</td>\n",
       "      <td>82</td>\n",
       "      <td>usa</td>\n",
       "      <td>dodge rampage</td>\n",
       "    </tr>\n",
       "    <tr>\n",
       "      <th>396</th>\n",
       "      <td>28.0</td>\n",
       "      <td>4</td>\n",
       "      <td>120.0</td>\n",
       "      <td>79.0</td>\n",
       "      <td>2625</td>\n",
       "      <td>18.6</td>\n",
       "      <td>82</td>\n",
       "      <td>usa</td>\n",
       "      <td>ford ranger</td>\n",
       "    </tr>\n",
       "    <tr>\n",
       "      <th>397</th>\n",
       "      <td>31.0</td>\n",
       "      <td>4</td>\n",
       "      <td>119.0</td>\n",
       "      <td>82.0</td>\n",
       "      <td>2720</td>\n",
       "      <td>19.4</td>\n",
       "      <td>82</td>\n",
       "      <td>usa</td>\n",
       "      <td>chevy s-10</td>\n",
       "    </tr>\n",
       "  </tbody>\n",
       "</table>\n",
       "<p>398 rows × 9 columns</p>\n",
       "</div>"
      ],
      "text/plain": [
       "      mpg  cylinders  displacement  horsepower  weight  acceleration  \\\n",
       "0    18.0          8         307.0       130.0    3504          12.0   \n",
       "1    15.0          8         350.0       165.0    3693          11.5   \n",
       "2    18.0          8         318.0       150.0    3436          11.0   \n",
       "3    16.0          8         304.0       150.0    3433          12.0   \n",
       "4    17.0          8         302.0       140.0    3449          10.5   \n",
       "..    ...        ...           ...         ...     ...           ...   \n",
       "393  27.0          4         140.0        86.0    2790          15.6   \n",
       "394  44.0          4          97.0        52.0    2130          24.6   \n",
       "395  32.0          4         135.0        84.0    2295          11.6   \n",
       "396  28.0          4         120.0        79.0    2625          18.6   \n",
       "397  31.0          4         119.0        82.0    2720          19.4   \n",
       "\n",
       "     model_year  origin                       name  \n",
       "0            70     usa  chevrolet chevelle malibu  \n",
       "1            70     usa          buick skylark 320  \n",
       "2            70     usa         plymouth satellite  \n",
       "3            70     usa              amc rebel sst  \n",
       "4            70     usa                ford torino  \n",
       "..          ...     ...                        ...  \n",
       "393          82     usa            ford mustang gl  \n",
       "394          82  europe                  vw pickup  \n",
       "395          82     usa              dodge rampage  \n",
       "396          82     usa                ford ranger  \n",
       "397          82     usa                 chevy s-10  \n",
       "\n",
       "[398 rows x 9 columns]"
      ]
     },
     "execution_count": 131,
     "metadata": {},
     "output_type": "execute_result"
    }
   ],
   "source": [
    "mpg = sns.load_dataset(\"mpg\")\n",
    "mpg"
   ]
  },
  {
   "cell_type": "code",
   "execution_count": 132,
   "id": "3acf9eb5-c360-41c1-a330-b93f0205e1d4",
   "metadata": {},
   "outputs": [
    {
     "data": {
      "text/html": [
       "<div>\n",
       "<style scoped>\n",
       "    .dataframe tbody tr th:only-of-type {\n",
       "        vertical-align: middle;\n",
       "    }\n",
       "\n",
       "    .dataframe tbody tr th {\n",
       "        vertical-align: top;\n",
       "    }\n",
       "\n",
       "    .dataframe thead th {\n",
       "        text-align: right;\n",
       "    }\n",
       "</style>\n",
       "<table border=\"1\" class=\"dataframe\">\n",
       "  <thead>\n",
       "    <tr style=\"text-align: right;\">\n",
       "      <th></th>\n",
       "      <th>mpg</th>\n",
       "      <th>cylinders</th>\n",
       "      <th>displacement</th>\n",
       "      <th>horsepower</th>\n",
       "      <th>weight</th>\n",
       "      <th>acceleration</th>\n",
       "      <th>model_year</th>\n",
       "    </tr>\n",
       "  </thead>\n",
       "  <tbody>\n",
       "    <tr>\n",
       "      <th>count</th>\n",
       "      <td>398.000000</td>\n",
       "      <td>398.000000</td>\n",
       "      <td>398.000000</td>\n",
       "      <td>392.000000</td>\n",
       "      <td>398.000000</td>\n",
       "      <td>398.000000</td>\n",
       "      <td>398.000000</td>\n",
       "    </tr>\n",
       "    <tr>\n",
       "      <th>mean</th>\n",
       "      <td>23.514573</td>\n",
       "      <td>5.454774</td>\n",
       "      <td>193.425879</td>\n",
       "      <td>104.469388</td>\n",
       "      <td>2970.424623</td>\n",
       "      <td>15.568090</td>\n",
       "      <td>76.010050</td>\n",
       "    </tr>\n",
       "    <tr>\n",
       "      <th>std</th>\n",
       "      <td>7.815984</td>\n",
       "      <td>1.701004</td>\n",
       "      <td>104.269838</td>\n",
       "      <td>38.491160</td>\n",
       "      <td>846.841774</td>\n",
       "      <td>2.757689</td>\n",
       "      <td>3.697627</td>\n",
       "    </tr>\n",
       "    <tr>\n",
       "      <th>min</th>\n",
       "      <td>9.000000</td>\n",
       "      <td>3.000000</td>\n",
       "      <td>68.000000</td>\n",
       "      <td>46.000000</td>\n",
       "      <td>1613.000000</td>\n",
       "      <td>8.000000</td>\n",
       "      <td>70.000000</td>\n",
       "    </tr>\n",
       "    <tr>\n",
       "      <th>25%</th>\n",
       "      <td>17.500000</td>\n",
       "      <td>4.000000</td>\n",
       "      <td>104.250000</td>\n",
       "      <td>75.000000</td>\n",
       "      <td>2223.750000</td>\n",
       "      <td>13.825000</td>\n",
       "      <td>73.000000</td>\n",
       "    </tr>\n",
       "    <tr>\n",
       "      <th>50%</th>\n",
       "      <td>23.000000</td>\n",
       "      <td>4.000000</td>\n",
       "      <td>148.500000</td>\n",
       "      <td>93.500000</td>\n",
       "      <td>2803.500000</td>\n",
       "      <td>15.500000</td>\n",
       "      <td>76.000000</td>\n",
       "    </tr>\n",
       "    <tr>\n",
       "      <th>75%</th>\n",
       "      <td>29.000000</td>\n",
       "      <td>8.000000</td>\n",
       "      <td>262.000000</td>\n",
       "      <td>126.000000</td>\n",
       "      <td>3608.000000</td>\n",
       "      <td>17.175000</td>\n",
       "      <td>79.000000</td>\n",
       "    </tr>\n",
       "    <tr>\n",
       "      <th>max</th>\n",
       "      <td>46.600000</td>\n",
       "      <td>8.000000</td>\n",
       "      <td>455.000000</td>\n",
       "      <td>230.000000</td>\n",
       "      <td>5140.000000</td>\n",
       "      <td>24.800000</td>\n",
       "      <td>82.000000</td>\n",
       "    </tr>\n",
       "  </tbody>\n",
       "</table>\n",
       "</div>"
      ],
      "text/plain": [
       "              mpg   cylinders  displacement  horsepower       weight  \\\n",
       "count  398.000000  398.000000    398.000000  392.000000   398.000000   \n",
       "mean    23.514573    5.454774    193.425879  104.469388  2970.424623   \n",
       "std      7.815984    1.701004    104.269838   38.491160   846.841774   \n",
       "min      9.000000    3.000000     68.000000   46.000000  1613.000000   \n",
       "25%     17.500000    4.000000    104.250000   75.000000  2223.750000   \n",
       "50%     23.000000    4.000000    148.500000   93.500000  2803.500000   \n",
       "75%     29.000000    8.000000    262.000000  126.000000  3608.000000   \n",
       "max     46.600000    8.000000    455.000000  230.000000  5140.000000   \n",
       "\n",
       "       acceleration  model_year  \n",
       "count    398.000000  398.000000  \n",
       "mean      15.568090   76.010050  \n",
       "std        2.757689    3.697627  \n",
       "min        8.000000   70.000000  \n",
       "25%       13.825000   73.000000  \n",
       "50%       15.500000   76.000000  \n",
       "75%       17.175000   79.000000  \n",
       "max       24.800000   82.000000  "
      ]
     },
     "execution_count": 132,
     "metadata": {},
     "output_type": "execute_result"
    }
   ],
   "source": [
    "#EDA\n",
    "mpg.describe()"
   ]
  },
  {
   "cell_type": "markdown",
   "id": "721fbb92-46e0-4c1b-a27f-b79d06527c4c",
   "metadata": {},
   "source": [
    "### Box Plot\n",
    "\n",
    "O boxplot (gráfico de caixa) é um gráfico utilizado para avaliar a distribuição empírica do dados. O boxplot é formado pelo primeiro e terceiro quartil e pela mediana. As hastes conhecidos como bigodes (**whiskers**) inferiores e superiores se estendem, respectivamente, do quartil inferior até o menor valor não inferior ao limite inferior e do quartil superior até o maior valor não superior ao limite superior. Os limites são calculados da forma abaixo:\n",
    "\n",
    "Limite inferior: $ \\max\\{\\min(\\text{dados});Q_1-1,5(Q_3-Q_1)\\} $.\n",
    "\n",
    "Limite superior: $ \\min\\{\\max(\\text{dados});Q_3+1,5(Q_3-Q_1)\\} $.\n",
    "\n",
    "Para este caso, os pontos fora destes limites são considerados valores discrepantes (Outliers) e são denotados por asterisco (*). A Figura  a seguir apresenta um exemplo do formato de um boxplot.\n",
    "\n",
    "<img src=https://miro.medium.com/max/8000/1*0MPDTLn8KoLApoFvI0P2vQ.png width=\"50%\">\n",
    "\n",
    "O boxplot pode ainda ser utilizado para uma comparação visual entre dois ou mais grupos. Por exemplo, duas ou mais caixas são colocadas lado a lado e se compara a variabilidade entre elas, a mediana e assim por diante. Outro ponto importante é a diferença entre os quartis $ (Q_3 - Q_1) $ que é uma medida da variabilidade dos dados."
   ]
  },
  {
   "cell_type": "markdown",
   "id": "df67c932-17eb-4b3b-86fd-a0a9e5b0e1d1",
   "metadata": {},
   "source": [
    "### Pontos Atípicos - Outliers\n",
    "\n",
    "**Outliers** ou **discrepantes** referem-se a obsevações **extremas**, que se deslocam em muito das outras observações em um conjunto de dados, ou seja, que **destoam do padrão da distribuição** dos dados. Outliers podem existir por motivos diferentes, alguns dos quais são:\n",
    "\n",
    "- erro na entrada de dados (erro humano);\n",
    "- erro na medição/coleta dos dados (erro instrumental);\n",
    "- erros experimentais (planejamento/execução dos experimentos);\n",
    "- outliers naturais (não decorrente de erros)\n",
    "\n",
    "\n",
    "<img src=\"https://miro.medium.com/max/700/1*J5Xm0X-phCJJ-DKZMZ_88w.png\" width = \"50%\">\n",
    "\n",
    "No caso dos erros, é importante que os outliers sejam tratados (comumente são removidos). Por outro lado, outliers naturais são importantes constituintes dos dados, de modo que não devem ser eliminados mas, muitas vezes, devem ser tratados.\n",
    "\n",
    "De qualquer modo, antes de começarmos a pensar em como **tratar** os outliers, o primeiro passo é **identificá-los** e a melhor forma para isso é utilizar dos boxplots."
   ]
  },
  {
   "cell_type": "code",
   "execution_count": null,
   "id": "ab6f0fc9-7e2c-4d9a-a7a8-13f655329d17",
   "metadata": {},
   "outputs": [],
   "source": [
    "#boxplot"
   ]
  },
  {
   "cell_type": "code",
   "execution_count": null,
   "id": "5c751876-2709-494b-95f9-153ffc0dc29d",
   "metadata": {},
   "outputs": [],
   "source": []
  },
  {
   "cell_type": "code",
   "execution_count": 53,
   "id": "6d6a1334-deb7-4bea-936b-760c302583f6",
   "metadata": {},
   "outputs": [
    {
     "data": {
      "image/png": "[encoded data removed]",
      "text/plain": [
       "<Figure size 720x432 with 2 Axes>"
      ]
     },
     "metadata": {
      "needs_background": "light"
     },
     "output_type": "display_data"
    }
   ],
   "source": [
    "f, (ax_box, ax_hist) = plt.subplots(2,\n",
    "                                    sharex=True,\n",
    "                                    figsize=(10,6),\n",
    "                                    gridspec_kw={\"height_ratios\": (.2, .8)})\n",
    " \n",
    "# assigning a graph to each ax\n",
    "sns.boxplot(x = retorno_bvsp_close, ax=ax_box)\n",
    "sns.histplot(retorno_bvsp_close, ax=ax_hist)\n",
    "plt.axvline(x=retorno_bvsp_close.mean(), color=\"red\", label=\"média\")\n",
    "plt.axvline(retorno_bvsp_close.median(), color=\"green\", label=\"mediana\")\n",
    "\n",
    "# Loop para plotar as modas\n",
    "for i in range(retorno_bvsp_close.mode().shape[0]):\n",
    "    plt.axvline(retorno_bvsp_close.mode()[i], color=\"yellow\", label=\"moda\")\n",
    "\n",
    "plt.axvline(retorno_bvsp_close.quantile(0.25), color=\"orange\", label=\"q1\")\n",
    "plt.axvline(retorno_bvsp_close.quantile(0.75), color=\"pink\", label=\"q3\")\n",
    "\n",
    "plt.legend()\n",
    "plt.show()\n",
    "\n",
    "# Remove x axis name for the boxplot\n",
    "ax_box.set(xlabel='')\n",
    "plt.show()"
   ]
  },
  {
   "cell_type": "code",
   "execution_count": 82,
   "id": "3ddd1252-f69f-4159-8e38-9522c898b968",
   "metadata": {},
   "outputs": [
    {
     "data": {
      "image/png": "[encoded data removed]",
      "text/plain": [
       "<Figure size 432x288 with 1 Axes>"
      ]
     },
     "metadata": {
      "needs_background": "light"
     },
     "output_type": "display_data"
    }
   ],
   "source": [
    "#ex negocio\n",
    "np.random.seed(7)\n",
    "salario1 = np.random.normal(4000, 500, 500)\n",
    "salario2 = np.random.normal(6500, 800, 500)\n",
    "salario = np.concatenate((salario1, salario2), axis = None)\n",
    "sns.histplot(salario, stat = \"density\", kde = True)\n",
    "plt.show()"
   ]
  },
  {
   "cell_type": "markdown",
   "id": "89271a20-58f4-4752-ad65-f95a0ef89187",
   "metadata": {},
   "source": [
    "### Medida de Assimetria\n",
    "\n",
    "É o **grau de desvio ou afastamento** da **simetria** de uma distribuição. Quando a curva é simétrica, a `média`, a `mediana` e a `moda` coincidem, num mesmo ponto, havendo um perfeito equilíbrio na distribuição. Um exemplo de distribuição simétrica é a **distribuição normal**. Quando o equilíbrio não acontece, a média, a mediana e a moda recaem em pontos diferentes da distribuição, e a distribuição se torna **assimétrica**:\n",
    "\n",
    "<img src=\"https://www.researchgate.net/profile/Marco_Faria/publication/294890337/figure/fig5/AS:668873900716049@1536483373457/a-Negative-skewness-b-Normal-curve-c-Positive-skewness-Durkhure-and-Lodwal-2014.ppm\" width=600>\n",
    "\n",
    "\n",
    "- Distribuição assimétrica **Negativa ou enviesada a esquerda**: quando os valores se concentram na extremidade superior da escala e se distribuem gradativamente em direção à extremidade inferior.\n",
    "\n",
    "- Distribuição assimétrica **Positiva ou enviesada a direita**: quando os valores se concentram na extremidade inferior da escala e se distribuem gradativamente em direção à extremidade superior.\n",
    "\n",
    "A medidade de assimetria é conhecida como **skewness**, sendo calculada como:\n",
    "\n",
    "$$ s(X) = \\frac{1}{\\sigma^3}\\sum_{i=1}^{n}\\frac{(x-\\overline{x})^{3}}{n}$$\n",
    "\n",
    "O valor da skewness nos indica a assimetria da distribuição:\n",
    "\n",
    "- s = 0: distribuição simétrica\n",
    "- s > 0: assimetria à direita\n",
    "- s < 0: assimetria à esquerda"
   ]
  },
  {
   "cell_type": "code",
   "execution_count": 27,
   "id": "0abd987a-e748-47fc-8719-6fe21004f3e6",
   "metadata": {},
   "outputs": [],
   "source": [
    "#ex"
   ]
  },
  {
   "cell_type": "code",
   "execution_count": 85,
   "id": "e2258ebb-d5a7-42c0-a02a-7850d94bde78",
   "metadata": {},
   "outputs": [
    {
     "data": {
      "image/png": "[encoded data removed]",
      "text/plain": [
       "<Figure size 432x288 with 1 Axes>"
      ]
     },
     "metadata": {
      "needs_background": "light"
     },
     "output_type": "display_data"
    },
    {
     "name": "stdout",
     "output_type": "stream",
     "text": [
      "0.8509672357722475\n"
     ]
    }
   ],
   "source": [
    "np.random.seed(7)\n",
    "salario = np.random.beta(1.5,5,1000)*(8000-2000)+2000\n",
    "sns.histplot(salario)\n",
    "plt.show()\n",
    "print(pd.Series(salario).skew())"
   ]
  },
  {
   "cell_type": "code",
   "execution_count": 133,
   "id": "801bb229-5191-4998-82e9-4aae48aa3eae",
   "metadata": {},
   "outputs": [
    {
     "data": {
      "text/plain": [
       "-0.12699677977354654"
      ]
     },
     "execution_count": 133,
     "metadata": {},
     "output_type": "execute_result"
    }
   ],
   "source": [
    "retorno_bvsp_close.skew()"
   ]
  },
  {
   "cell_type": "markdown",
   "id": "a3243189-863c-4ec0-baf0-925d98b32d7d",
   "metadata": {},
   "source": [
    "# Voltamos 20:42"
   ]
  },
  {
   "cell_type": "markdown",
   "id": "44df8852-4c1c-45d8-a0fb-1d1be8b7873f",
   "metadata": {},
   "source": [
    "## Assossiação entre variáveis\n",
    "### Qualitativas\n",
    "#### Tabela de Contingência ou Dupla Entrada"
   ]
  },
  {
   "cell_type": "code",
   "execution_count": 15,
   "id": "132ae434-baf5-4f9c-9b4d-5765c1f98c77",
   "metadata": {},
   "outputs": [
    {
     "data": {
      "text/html": [
       "<div>\n",
       "<style scoped>\n",
       "    .dataframe tbody tr th:only-of-type {\n",
       "        vertical-align: middle;\n",
       "    }\n",
       "\n",
       "    .dataframe tbody tr th {\n",
       "        vertical-align: top;\n",
       "    }\n",
       "\n",
       "    .dataframe thead th {\n",
       "        text-align: right;\n",
       "    }\n",
       "</style>\n",
       "<table border=\"1\" class=\"dataframe\">\n",
       "  <thead>\n",
       "    <tr style=\"text-align: right;\">\n",
       "      <th></th>\n",
       "      <th>N</th>\n",
       "      <th>estado_civil</th>\n",
       "      <th>grau_instrucao</th>\n",
       "      <th>n_filhos</th>\n",
       "      <th>salario</th>\n",
       "      <th>idade_anos</th>\n",
       "      <th>idade_meses</th>\n",
       "      <th>reg_procedencia</th>\n",
       "    </tr>\n",
       "  </thead>\n",
       "  <tbody>\n",
       "    <tr>\n",
       "      <th>0</th>\n",
       "      <td>1</td>\n",
       "      <td>solteiro</td>\n",
       "      <td>ensino fundamental</td>\n",
       "      <td>NaN</td>\n",
       "      <td>4.00</td>\n",
       "      <td>26</td>\n",
       "      <td>3</td>\n",
       "      <td>interior</td>\n",
       "    </tr>\n",
       "    <tr>\n",
       "      <th>1</th>\n",
       "      <td>2</td>\n",
       "      <td>casado</td>\n",
       "      <td>ensino fundamental</td>\n",
       "      <td>1.0</td>\n",
       "      <td>4.56</td>\n",
       "      <td>32</td>\n",
       "      <td>10</td>\n",
       "      <td>capital</td>\n",
       "    </tr>\n",
       "    <tr>\n",
       "      <th>2</th>\n",
       "      <td>3</td>\n",
       "      <td>casado</td>\n",
       "      <td>ensino fundamental</td>\n",
       "      <td>2.0</td>\n",
       "      <td>5.25</td>\n",
       "      <td>36</td>\n",
       "      <td>5</td>\n",
       "      <td>capital</td>\n",
       "    </tr>\n",
       "    <tr>\n",
       "      <th>3</th>\n",
       "      <td>4</td>\n",
       "      <td>solteiro</td>\n",
       "      <td>ensino médio</td>\n",
       "      <td>NaN</td>\n",
       "      <td>5.73</td>\n",
       "      <td>20</td>\n",
       "      <td>10</td>\n",
       "      <td>outra</td>\n",
       "    </tr>\n",
       "    <tr>\n",
       "      <th>4</th>\n",
       "      <td>5</td>\n",
       "      <td>solteiro</td>\n",
       "      <td>ensino fundamental</td>\n",
       "      <td>NaN</td>\n",
       "      <td>6.26</td>\n",
       "      <td>40</td>\n",
       "      <td>7</td>\n",
       "      <td>outra</td>\n",
       "    </tr>\n",
       "  </tbody>\n",
       "</table>\n",
       "</div>"
      ],
      "text/plain": [
       "   N estado_civil      grau_instrucao  n_filhos  salario  idade_anos  \\\n",
       "0  1     solteiro  ensino fundamental       NaN     4.00          26   \n",
       "1  2       casado  ensino fundamental       1.0     4.56          32   \n",
       "2  3       casado  ensino fundamental       2.0     5.25          36   \n",
       "3  4     solteiro        ensino médio       NaN     5.73          20   \n",
       "4  5     solteiro  ensino fundamental       NaN     6.26          40   \n",
       "\n",
       "   idade_meses reg_procedencia  \n",
       "0            3        interior  \n",
       "1           10         capital  \n",
       "2            5         capital  \n",
       "3           10           outra  \n",
       "4            7           outra  "
      ]
     },
     "execution_count": 15,
     "metadata": {},
     "output_type": "execute_result"
    }
   ],
   "source": [
    "empregados = pd.read_csv(\"../data/cad_empregados.txt\",\n",
    "                         sep=\"\\t\")\n",
    "empregados.head()"
   ]
  },
  {
   "cell_type": "code",
   "execution_count": 62,
   "id": "70400724-eefa-4019-b2f2-96c323d89f36",
   "metadata": {},
   "outputs": [
    {
     "name": "stdout",
     "output_type": "stream",
     "text": [
      "<class 'pandas.core.frame.DataFrame'>\n",
      "RangeIndex: 36 entries, 0 to 35\n",
      "Data columns (total 8 columns):\n",
      " #   Column           Non-Null Count  Dtype  \n",
      "---  ------           --------------  -----  \n",
      " 0   N                36 non-null     int64  \n",
      " 1   estado_civil     36 non-null     object \n",
      " 2   grau_instrucao   36 non-null     object \n",
      " 3   n_filhos         20 non-null     float64\n",
      " 4   salario          36 non-null     float64\n",
      " 5   idade_anos       36 non-null     int64  \n",
      " 6   idade_meses      36 non-null     int64  \n",
      " 7   reg_procedencia  36 non-null     object \n",
      "dtypes: float64(2), int64(3), object(3)\n",
      "memory usage: 2.4+ KB\n"
     ]
    }
   ],
   "source": [
    "#tab\n",
    "empregados.info()"
   ]
  },
  {
   "cell_type": "code",
   "execution_count": 64,
   "id": "0c9b8452-9493-49fc-998c-fec69b1a00a0",
   "metadata": {},
   "outputs": [
    {
     "data": {
      "text/html": [
       "<div>\n",
       "<style scoped>\n",
       "    .dataframe tbody tr th:only-of-type {\n",
       "        vertical-align: middle;\n",
       "    }\n",
       "\n",
       "    .dataframe tbody tr th {\n",
       "        vertical-align: top;\n",
       "    }\n",
       "\n",
       "    .dataframe thead th {\n",
       "        text-align: right;\n",
       "    }\n",
       "</style>\n",
       "<table border=\"1\" class=\"dataframe\">\n",
       "  <thead>\n",
       "    <tr style=\"text-align: right;\">\n",
       "      <th>grau_instrucao</th>\n",
       "      <th>ensino fundamental</th>\n",
       "      <th>ensino médio</th>\n",
       "      <th>superior</th>\n",
       "      <th>Total</th>\n",
       "    </tr>\n",
       "    <tr>\n",
       "      <th>reg_procedencia</th>\n",
       "      <th></th>\n",
       "      <th></th>\n",
       "      <th></th>\n",
       "      <th></th>\n",
       "    </tr>\n",
       "  </thead>\n",
       "  <tbody>\n",
       "    <tr>\n",
       "      <th>capital</th>\n",
       "      <td>4</td>\n",
       "      <td>5</td>\n",
       "      <td>2</td>\n",
       "      <td>11</td>\n",
       "    </tr>\n",
       "    <tr>\n",
       "      <th>interior</th>\n",
       "      <td>3</td>\n",
       "      <td>7</td>\n",
       "      <td>2</td>\n",
       "      <td>12</td>\n",
       "    </tr>\n",
       "    <tr>\n",
       "      <th>outra</th>\n",
       "      <td>5</td>\n",
       "      <td>6</td>\n",
       "      <td>2</td>\n",
       "      <td>13</td>\n",
       "    </tr>\n",
       "    <tr>\n",
       "      <th>Total</th>\n",
       "      <td>12</td>\n",
       "      <td>18</td>\n",
       "      <td>6</td>\n",
       "      <td>36</td>\n",
       "    </tr>\n",
       "  </tbody>\n",
       "</table>\n",
       "</div>"
      ],
      "text/plain": [
       "grau_instrucao   ensino fundamental  ensino médio  superior  Total\n",
       "reg_procedencia                                                   \n",
       "capital                           4             5         2     11\n",
       "interior                          3             7         2     12\n",
       "outra                             5             6         2     13\n",
       "Total                            12            18         6     36"
      ]
     },
     "execution_count": 64,
     "metadata": {},
     "output_type": "execute_result"
    }
   ],
   "source": [
    "cross_emp = pd.crosstab(empregados.reg_procedencia,\n",
    "           empregados.grau_instrucao,\n",
    "           margins = True,\n",
    "           margins_name=\"Total\")\n",
    "cross_emp"
   ]
  },
  {
   "cell_type": "code",
   "execution_count": 67,
   "id": "62605637-f44b-4a76-805b-7002a8fc5130",
   "metadata": {},
   "outputs": [
    {
     "data": {
      "text/html": [
       "<div>\n",
       "<style scoped>\n",
       "    .dataframe tbody tr th:only-of-type {\n",
       "        vertical-align: middle;\n",
       "    }\n",
       "\n",
       "    .dataframe tbody tr th {\n",
       "        vertical-align: top;\n",
       "    }\n",
       "\n",
       "    .dataframe thead th {\n",
       "        text-align: right;\n",
       "    }\n",
       "</style>\n",
       "<table border=\"1\" class=\"dataframe\">\n",
       "  <thead>\n",
       "    <tr style=\"text-align: right;\">\n",
       "      <th>grau_instrucao</th>\n",
       "      <th>ensino fundamental</th>\n",
       "      <th>ensino médio</th>\n",
       "      <th>superior</th>\n",
       "      <th>Total</th>\n",
       "    </tr>\n",
       "    <tr>\n",
       "      <th>reg_procedencia</th>\n",
       "      <th></th>\n",
       "      <th></th>\n",
       "      <th></th>\n",
       "      <th></th>\n",
       "    </tr>\n",
       "  </thead>\n",
       "  <tbody>\n",
       "    <tr>\n",
       "      <th>capital</th>\n",
       "      <td>11.11</td>\n",
       "      <td>13.89</td>\n",
       "      <td>5.56</td>\n",
       "      <td>30.56</td>\n",
       "    </tr>\n",
       "    <tr>\n",
       "      <th>interior</th>\n",
       "      <td>8.33</td>\n",
       "      <td>19.44</td>\n",
       "      <td>5.56</td>\n",
       "      <td>33.33</td>\n",
       "    </tr>\n",
       "    <tr>\n",
       "      <th>outra</th>\n",
       "      <td>13.89</td>\n",
       "      <td>16.67</td>\n",
       "      <td>5.56</td>\n",
       "      <td>36.11</td>\n",
       "    </tr>\n",
       "    <tr>\n",
       "      <th>Total</th>\n",
       "      <td>33.33</td>\n",
       "      <td>50.00</td>\n",
       "      <td>16.67</td>\n",
       "      <td>100.00</td>\n",
       "    </tr>\n",
       "  </tbody>\n",
       "</table>\n",
       "</div>"
      ],
      "text/plain": [
       "grau_instrucao   ensino fundamental  ensino médio  superior   Total\n",
       "reg_procedencia                                                    \n",
       "capital                       11.11         13.89      5.56   30.56\n",
       "interior                       8.33         19.44      5.56   33.33\n",
       "outra                         13.89         16.67      5.56   36.11\n",
       "Total                         33.33         50.00     16.67  100.00"
      ]
     },
     "execution_count": 67,
     "metadata": {},
     "output_type": "execute_result"
    }
   ],
   "source": [
    "round(100*cross_emp/cross_emp.loc[\"Total\", \"Total\"],2)"
   ]
  },
  {
   "cell_type": "code",
   "execution_count": 70,
   "id": "ddf1ab8c-54e2-4945-96e6-9691e8f814f8",
   "metadata": {},
   "outputs": [
    {
     "data": {
      "text/html": [
       "<div>\n",
       "<style scoped>\n",
       "    .dataframe tbody tr th:only-of-type {\n",
       "        vertical-align: middle;\n",
       "    }\n",
       "\n",
       "    .dataframe tbody tr th {\n",
       "        vertical-align: top;\n",
       "    }\n",
       "\n",
       "    .dataframe thead th {\n",
       "        text-align: right;\n",
       "    }\n",
       "</style>\n",
       "<table border=\"1\" class=\"dataframe\">\n",
       "  <thead>\n",
       "    <tr style=\"text-align: right;\">\n",
       "      <th>grau_instrucao</th>\n",
       "      <th>ensino fundamental</th>\n",
       "      <th>ensino médio</th>\n",
       "      <th>superior</th>\n",
       "    </tr>\n",
       "    <tr>\n",
       "      <th>reg_procedencia</th>\n",
       "      <th></th>\n",
       "      <th></th>\n",
       "      <th></th>\n",
       "    </tr>\n",
       "  </thead>\n",
       "  <tbody>\n",
       "    <tr>\n",
       "      <th>capital</th>\n",
       "      <td>36.363636</td>\n",
       "      <td>45.454545</td>\n",
       "      <td>18.181818</td>\n",
       "    </tr>\n",
       "    <tr>\n",
       "      <th>interior</th>\n",
       "      <td>25.000000</td>\n",
       "      <td>58.333333</td>\n",
       "      <td>16.666667</td>\n",
       "    </tr>\n",
       "    <tr>\n",
       "      <th>outra</th>\n",
       "      <td>38.461538</td>\n",
       "      <td>46.153846</td>\n",
       "      <td>15.384615</td>\n",
       "    </tr>\n",
       "    <tr>\n",
       "      <th>Total</th>\n",
       "      <td>33.333333</td>\n",
       "      <td>50.000000</td>\n",
       "      <td>16.666667</td>\n",
       "    </tr>\n",
       "  </tbody>\n",
       "</table>\n",
       "</div>"
      ],
      "text/plain": [
       "grau_instrucao   ensino fundamental  ensino médio   superior\n",
       "reg_procedencia                                             \n",
       "capital                   36.363636     45.454545  18.181818\n",
       "interior                  25.000000     58.333333  16.666667\n",
       "outra                     38.461538     46.153846  15.384615\n",
       "Total                     33.333333     50.000000  16.666667"
      ]
     },
     "execution_count": 70,
     "metadata": {},
     "output_type": "execute_result"
    }
   ],
   "source": [
    "100*pd.crosstab(empregados.reg_procedencia,\n",
    "           empregados.grau_instrucao,\n",
    "           margins = True,\n",
    "           margins_name=\"Total\",\n",
    "           normalize=\"index\")"
   ]
  },
  {
   "cell_type": "code",
   "execution_count": 71,
   "id": "03311d8f-00c4-46c6-8cf5-270ebdc26c72",
   "metadata": {},
   "outputs": [
    {
     "data": {
      "text/html": [
       "<div>\n",
       "<style scoped>\n",
       "    .dataframe tbody tr th:only-of-type {\n",
       "        vertical-align: middle;\n",
       "    }\n",
       "\n",
       "    .dataframe tbody tr th {\n",
       "        vertical-align: top;\n",
       "    }\n",
       "\n",
       "    .dataframe thead th {\n",
       "        text-align: right;\n",
       "    }\n",
       "</style>\n",
       "<table border=\"1\" class=\"dataframe\">\n",
       "  <thead>\n",
       "    <tr style=\"text-align: right;\">\n",
       "      <th>grau_instrucao</th>\n",
       "      <th>ensino fundamental</th>\n",
       "      <th>ensino médio</th>\n",
       "      <th>superior</th>\n",
       "      <th>Total</th>\n",
       "    </tr>\n",
       "    <tr>\n",
       "      <th>reg_procedencia</th>\n",
       "      <th></th>\n",
       "      <th></th>\n",
       "      <th></th>\n",
       "      <th></th>\n",
       "    </tr>\n",
       "  </thead>\n",
       "  <tbody>\n",
       "    <tr>\n",
       "      <th>capital</th>\n",
       "      <td>33.333333</td>\n",
       "      <td>27.777778</td>\n",
       "      <td>33.333333</td>\n",
       "      <td>30.555556</td>\n",
       "    </tr>\n",
       "    <tr>\n",
       "      <th>interior</th>\n",
       "      <td>25.000000</td>\n",
       "      <td>38.888889</td>\n",
       "      <td>33.333333</td>\n",
       "      <td>33.333333</td>\n",
       "    </tr>\n",
       "    <tr>\n",
       "      <th>outra</th>\n",
       "      <td>41.666667</td>\n",
       "      <td>33.333333</td>\n",
       "      <td>33.333333</td>\n",
       "      <td>36.111111</td>\n",
       "    </tr>\n",
       "  </tbody>\n",
       "</table>\n",
       "</div>"
      ],
      "text/plain": [
       "grau_instrucao   ensino fundamental  ensino médio   superior      Total\n",
       "reg_procedencia                                                        \n",
       "capital                   33.333333     27.777778  33.333333  30.555556\n",
       "interior                  25.000000     38.888889  33.333333  33.333333\n",
       "outra                     41.666667     33.333333  33.333333  36.111111"
      ]
     },
     "execution_count": 71,
     "metadata": {},
     "output_type": "execute_result"
    }
   ],
   "source": [
    "100*pd.crosstab(empregados.reg_procedencia,\n",
    "           empregados.grau_instrucao,\n",
    "           margins = True,\n",
    "           margins_name=\"Total\",\n",
    "           normalize=\"columns\")"
   ]
  },
  {
   "cell_type": "markdown",
   "id": "884653c1-77be-41fb-bee4-70f90327ed8c",
   "metadata": {},
   "source": [
    "**ex Humanas**"
   ]
  },
  {
   "cell_type": "code",
   "execution_count": 73,
   "id": "250e7ff8-0012-4ced-9e79-ec8c4303d0bb",
   "metadata": {},
   "outputs": [
    {
     "data": {
      "text/html": [
       "<div>\n",
       "<style scoped>\n",
       "    .dataframe tbody tr th:only-of-type {\n",
       "        vertical-align: middle;\n",
       "    }\n",
       "\n",
       "    .dataframe tbody tr th {\n",
       "        vertical-align: top;\n",
       "    }\n",
       "\n",
       "    .dataframe thead th {\n",
       "        text-align: right;\n",
       "    }\n",
       "</style>\n",
       "<table border=\"1\" class=\"dataframe\">\n",
       "  <thead>\n",
       "    <tr style=\"text-align: right;\">\n",
       "      <th></th>\n",
       "      <th>masculino</th>\n",
       "      <th>feminino</th>\n",
       "      <th>total</th>\n",
       "    </tr>\n",
       "  </thead>\n",
       "  <tbody>\n",
       "    <tr>\n",
       "      <th>economia</th>\n",
       "      <td>85</td>\n",
       "      <td>35</td>\n",
       "      <td>120</td>\n",
       "    </tr>\n",
       "    <tr>\n",
       "      <th>administracao</th>\n",
       "      <td>55</td>\n",
       "      <td>25</td>\n",
       "      <td>80</td>\n",
       "    </tr>\n",
       "    <tr>\n",
       "      <th>total</th>\n",
       "      <td>140</td>\n",
       "      <td>60</td>\n",
       "      <td>200</td>\n",
       "    </tr>\n",
       "  </tbody>\n",
       "</table>\n",
       "</div>"
      ],
      "text/plain": [
       "               masculino  feminino  total\n",
       "economia              85        35    120\n",
       "administracao         55        25     80\n",
       "total                140        60    200"
      ]
     },
     "execution_count": 73,
     "metadata": {},
     "output_type": "execute_result"
    }
   ],
   "source": [
    "humanas = pd.DataFrame(\n",
    "    {\"masculino\":[85,55,140],\n",
    "     \"feminino\":[35,25,60],\n",
    "     \"total\":[120,80,200]\n",
    "    },index = [\"economia\",\"administracao\",\"total\"]\n",
    ")\n",
    "humanas"
   ]
  },
  {
   "cell_type": "code",
   "execution_count": 74,
   "id": "37d905bd-13aa-44dd-87ff-dd977f1ef95f",
   "metadata": {},
   "outputs": [
    {
     "data": {
      "text/html": [
       "<div>\n",
       "<style scoped>\n",
       "    .dataframe tbody tr th:only-of-type {\n",
       "        vertical-align: middle;\n",
       "    }\n",
       "\n",
       "    .dataframe tbody tr th {\n",
       "        vertical-align: top;\n",
       "    }\n",
       "\n",
       "    .dataframe thead th {\n",
       "        text-align: right;\n",
       "    }\n",
       "</style>\n",
       "<table border=\"1\" class=\"dataframe\">\n",
       "  <thead>\n",
       "    <tr style=\"text-align: right;\">\n",
       "      <th></th>\n",
       "      <th>masculino</th>\n",
       "      <th>feminino</th>\n",
       "      <th>total</th>\n",
       "    </tr>\n",
       "  </thead>\n",
       "  <tbody>\n",
       "    <tr>\n",
       "      <th>economia</th>\n",
       "      <td>0.607143</td>\n",
       "      <td>0.583333</td>\n",
       "      <td>0.6</td>\n",
       "    </tr>\n",
       "    <tr>\n",
       "      <th>administracao</th>\n",
       "      <td>0.392857</td>\n",
       "      <td>0.416667</td>\n",
       "      <td>0.4</td>\n",
       "    </tr>\n",
       "    <tr>\n",
       "      <th>total</th>\n",
       "      <td>1.000000</td>\n",
       "      <td>1.000000</td>\n",
       "      <td>1.0</td>\n",
       "    </tr>\n",
       "  </tbody>\n",
       "</table>\n",
       "</div>"
      ],
      "text/plain": [
       "               masculino  feminino  total\n",
       "economia        0.607143  0.583333    0.6\n",
       "administracao   0.392857  0.416667    0.4\n",
       "total           1.000000  1.000000    1.0"
      ]
     },
     "execution_count": 74,
     "metadata": {},
     "output_type": "execute_result"
    }
   ],
   "source": [
    "humanas.div(humanas.loc[\"total\"], axis = 1)"
   ]
  },
  {
   "cell_type": "code",
   "execution_count": 76,
   "id": "1fda589c-2662-49d4-a5d5-692eca62653f",
   "metadata": {},
   "outputs": [
    {
     "data": {
      "text/html": [
       "<div>\n",
       "<style scoped>\n",
       "    .dataframe tbody tr th:only-of-type {\n",
       "        vertical-align: middle;\n",
       "    }\n",
       "\n",
       "    .dataframe tbody tr th {\n",
       "        vertical-align: top;\n",
       "    }\n",
       "\n",
       "    .dataframe thead th {\n",
       "        text-align: right;\n",
       "    }\n",
       "</style>\n",
       "<table border=\"1\" class=\"dataframe\">\n",
       "  <thead>\n",
       "    <tr style=\"text-align: right;\">\n",
       "      <th></th>\n",
       "      <th>masculino</th>\n",
       "      <th>feminino</th>\n",
       "      <th>total</th>\n",
       "    </tr>\n",
       "  </thead>\n",
       "  <tbody>\n",
       "    <tr>\n",
       "      <th>economia</th>\n",
       "      <td>0.708333</td>\n",
       "      <td>0.291667</td>\n",
       "      <td>1.0</td>\n",
       "    </tr>\n",
       "    <tr>\n",
       "      <th>administracao</th>\n",
       "      <td>0.687500</td>\n",
       "      <td>0.312500</td>\n",
       "      <td>1.0</td>\n",
       "    </tr>\n",
       "    <tr>\n",
       "      <th>total</th>\n",
       "      <td>0.700000</td>\n",
       "      <td>0.300000</td>\n",
       "      <td>1.0</td>\n",
       "    </tr>\n",
       "  </tbody>\n",
       "</table>\n",
       "</div>"
      ],
      "text/plain": [
       "               masculino  feminino  total\n",
       "economia        0.708333  0.291667    1.0\n",
       "administracao   0.687500  0.312500    1.0\n",
       "total           0.700000  0.300000    1.0"
      ]
     },
     "execution_count": 76,
     "metadata": {},
     "output_type": "execute_result"
    }
   ],
   "source": [
    "humanas.div(humanas[\"total\"], axis = 0)"
   ]
  },
  {
   "cell_type": "code",
   "execution_count": null,
   "id": "c197e648-28b2-4c4e-ae07-900825fce672",
   "metadata": {},
   "outputs": [],
   "source": []
  },
  {
   "cell_type": "code",
   "execution_count": null,
   "id": "e5c6c131-e17a-457a-9e1a-fb216be4beb8",
   "metadata": {},
   "outputs": [],
   "source": []
  },
  {
   "cell_type": "code",
   "execution_count": null,
   "id": "e6d65e47-c5cf-4efc-97e8-07e154906a06",
   "metadata": {},
   "outputs": [],
   "source": []
  },
  {
   "cell_type": "markdown",
   "id": "43c17a8b-290a-433b-8bb3-87bf6eedab43",
   "metadata": {},
   "source": [
    "**ex exatas**"
   ]
  },
  {
   "cell_type": "code",
   "execution_count": 135,
   "id": "67504ab6-6897-4fec-9cfd-b87e9b811d7b",
   "metadata": {},
   "outputs": [
    {
     "data": {
      "text/html": [
       "<div>\n",
       "<style scoped>\n",
       "    .dataframe tbody tr th:only-of-type {\n",
       "        vertical-align: middle;\n",
       "    }\n",
       "\n",
       "    .dataframe tbody tr th {\n",
       "        vertical-align: top;\n",
       "    }\n",
       "\n",
       "    .dataframe thead th {\n",
       "        text-align: right;\n",
       "    }\n",
       "</style>\n",
       "<table border=\"1\" class=\"dataframe\">\n",
       "  <thead>\n",
       "    <tr style=\"text-align: right;\">\n",
       "      <th></th>\n",
       "      <th>masculino</th>\n",
       "      <th>feminino</th>\n",
       "      <th>total</th>\n",
       "    </tr>\n",
       "  </thead>\n",
       "  <tbody>\n",
       "    <tr>\n",
       "      <th>fisica</th>\n",
       "      <td>100</td>\n",
       "      <td>20</td>\n",
       "      <td>120</td>\n",
       "    </tr>\n",
       "    <tr>\n",
       "      <th>ciencias_sociais</th>\n",
       "      <td>40</td>\n",
       "      <td>40</td>\n",
       "      <td>80</td>\n",
       "    </tr>\n",
       "    <tr>\n",
       "      <th>total</th>\n",
       "      <td>140</td>\n",
       "      <td>60</td>\n",
       "      <td>200</td>\n",
       "    </tr>\n",
       "  </tbody>\n",
       "</table>\n",
       "</div>"
      ],
      "text/plain": [
       "                  masculino  feminino  total\n",
       "fisica                  100        20    120\n",
       "ciencias_sociais         40        40     80\n",
       "total                   140        60    200"
      ]
     },
     "execution_count": 135,
     "metadata": {},
     "output_type": "execute_result"
    }
   ],
   "source": [
    "exatas = pd.DataFrame(\n",
    "    {\"masculino\":[100,40,140],\n",
    "     \"feminino\":[20,40,60],\n",
    "     \"total\":[120,80,200]\n",
    "    },index = [\"fisica\",\"ciencias_sociais\",\"total\"]\n",
    ")\n",
    "exatas"
   ]
  },
  {
   "cell_type": "code",
   "execution_count": 78,
   "id": "5d35e0bc-8057-4a5a-a328-964c544403f3",
   "metadata": {},
   "outputs": [
    {
     "data": {
      "text/html": [
       "<div>\n",
       "<style scoped>\n",
       "    .dataframe tbody tr th:only-of-type {\n",
       "        vertical-align: middle;\n",
       "    }\n",
       "\n",
       "    .dataframe tbody tr th {\n",
       "        vertical-align: top;\n",
       "    }\n",
       "\n",
       "    .dataframe thead th {\n",
       "        text-align: right;\n",
       "    }\n",
       "</style>\n",
       "<table border=\"1\" class=\"dataframe\">\n",
       "  <thead>\n",
       "    <tr style=\"text-align: right;\">\n",
       "      <th></th>\n",
       "      <th>masculino</th>\n",
       "      <th>feminino</th>\n",
       "      <th>total</th>\n",
       "    </tr>\n",
       "  </thead>\n",
       "  <tbody>\n",
       "    <tr>\n",
       "      <th>fisica</th>\n",
       "      <td>0.714286</td>\n",
       "      <td>0.333333</td>\n",
       "      <td>0.6</td>\n",
       "    </tr>\n",
       "    <tr>\n",
       "      <th>ciencias_sociais</th>\n",
       "      <td>0.285714</td>\n",
       "      <td>0.666667</td>\n",
       "      <td>0.4</td>\n",
       "    </tr>\n",
       "    <tr>\n",
       "      <th>total</th>\n",
       "      <td>1.000000</td>\n",
       "      <td>1.000000</td>\n",
       "      <td>1.0</td>\n",
       "    </tr>\n",
       "  </tbody>\n",
       "</table>\n",
       "</div>"
      ],
      "text/plain": [
       "                  masculino  feminino  total\n",
       "fisica             0.714286  0.333333    0.6\n",
       "ciencias_sociais   0.285714  0.666667    0.4\n",
       "total              1.000000  1.000000    1.0"
      ]
     },
     "execution_count": 78,
     "metadata": {},
     "output_type": "execute_result"
    }
   ],
   "source": [
    "exatas.div(exatas.loc[\"total\"], axis = 1)"
   ]
  },
  {
   "cell_type": "markdown",
   "id": "ce8313fe-51e6-4731-b5bf-ae5bcec17cc0",
   "metadata": {},
   "source": [
    "### Quantitativas\n",
    "#### Correlação\n",
    "\n",
    "Um dos conceitos mais importantes em Data Science é o da **correlação**. A partir de estudos de correlação, é possível **descobrirmos como diferentes variáveis interagem**.\n",
    "<br>\n",
    "<img src=\"https://www.mathsisfun.com/data/images/correlation-examples.svg\" width=700>\n",
    "<br>\n",
    "É bem importante distinguirmos correlações **lineares** de **não lineares**. \n",
    "<br>\n",
    "<img src=\"https://miro.medium.com/max/1414/1*ZMwog-_YcD0qBHc9_1T1-w.png\" width=700>\n",
    "<br>\n",
    "Para fazer a distinção acima, há testes específicos para correlação. Vamos ver dois coeficientes de correlação específicos que sâo: __Pearson__ e __Spearmann__\n",
    "\n",
    "**Correlação de Pearson**\n",
    "\n",
    "A [__Correlação de Pearson__](https://pt.wikipedia.org/wiki/Coeficiente_de_correla%C3%A7%C3%A3o_de_Pearson) é expressa como  a **taxa de relação linear entre duas variáveis numéricas**. Quanto mais próximo de 1 ou -1, mais **linearmente correlacionado estão as variáveis testadas**. A fórmula define-se como:\n",
    "\n",
    "\n",
    "$r = \\displaystyle{\\frac{s_{XY}}{\\sqrt{s^2_X s^2_Y }}}$\n",
    "\n",
    "\n",
    "Propriedade: \n",
    "\n",
    " $-1 \\leq r \\leq 1$\n",
    "\n",
    "\n",
    "É comum usar as seguintes classificações:\n",
    "\n",
    "1. $r=1$ indica uma correlação perfeita e positiva\n",
    "\n",
    "2. $r=-1$ indica uma correlação perfeita e negativa\n",
    "\n",
    "3. $0.7 \\leq |r| \\leq 1$ indica uma correlação forte\n",
    "\n",
    "4. $0.5 \\leq |r| \\leq 0.69$ indica uma correlação moderada\n",
    "\n",
    "5. $0 \\leq |r| \\leq 0.49$ indica uma correlação fraca\n",
    "<br>\n",
    "\n",
    "**Correlação de Spearman**\n",
    "\n",
    "[__Correlação de Spearmann__](https://pt.wikipedia.org/wiki/Coeficiente_de_correla%C3%A7%C3%A3o_de_postos_de_Spearman) e outra correlação linear bem conhecida e este coeficiente indica se as amostras possuem correlação *monotônica*, isso é, **se aumentarmos ou diminuimos uma, a outra irá aumentar ou diminuir**. \n",
    "\n",
    "O coeficiente varia entre -1 e 1:\n",
    "\n",
    "> Quanto mais próximo de 1 for o coeficiente, mais positivamente correlacionada as amostras, isso é, se aumentarmos uma, a outra ira aumentar (ou se diminuimos uma, a outra irá diminuir); \n",
    "\n",
    "> Quanto mais próximo de -1 for o resultado, mais negativamente correlacionada estão as variáveis, isso é, aumentando uma, a outra irá dimunuir (ou se diminuímos uma, a outra irá aumentar). \n",
    "\n",
    "> Uma correlação de 0 indica ausência de correlação.\n",
    "\n",
    "**Importante:** o coeficiente de Spearman **não** indica correlação necessariamente linear!"
   ]
  },
  {
   "cell_type": "code",
   "execution_count": 93,
   "id": "7f520ddb-67e2-4ce7-93fd-45e20fe026f3",
   "metadata": {},
   "outputs": [
    {
     "data": {
      "text/plain": [
       "<seaborn.axisgrid.PairGrid at 0x7f8228a22130>"
      ]
     },
     "execution_count": 93,
     "metadata": {},
     "output_type": "execute_result"
    },
    {
     "data": {
      "image/png": "[encoded data removed]",
      "text/plain": [
       "<Figure size 1260x1260 with 56 Axes>"
      ]
     },
     "metadata": {
      "needs_background": "light"
     },
     "output_type": "display_data"
    }
   ],
   "source": [
    "#ex mpg\n",
    "sns.pairplot(mpg,diag_kind = \"kde\")"
   ]
  },
  {
   "cell_type": "code",
   "execution_count": 80,
   "id": "047fe2df-3443-41fe-88d6-0de5bb190df2",
   "metadata": {},
   "outputs": [
    {
     "data": {
      "text/html": [
       "<div>\n",
       "<style scoped>\n",
       "    .dataframe tbody tr th:only-of-type {\n",
       "        vertical-align: middle;\n",
       "    }\n",
       "\n",
       "    .dataframe tbody tr th {\n",
       "        vertical-align: top;\n",
       "    }\n",
       "\n",
       "    .dataframe thead th {\n",
       "        text-align: right;\n",
       "    }\n",
       "</style>\n",
       "<table border=\"1\" class=\"dataframe\">\n",
       "  <thead>\n",
       "    <tr style=\"text-align: right;\">\n",
       "      <th></th>\n",
       "      <th>mpg</th>\n",
       "      <th>cylinders</th>\n",
       "      <th>displacement</th>\n",
       "      <th>horsepower</th>\n",
       "      <th>weight</th>\n",
       "      <th>acceleration</th>\n",
       "      <th>model_year</th>\n",
       "    </tr>\n",
       "  </thead>\n",
       "  <tbody>\n",
       "    <tr>\n",
       "      <th>mpg</th>\n",
       "      <td>1.000000</td>\n",
       "      <td>-0.775396</td>\n",
       "      <td>-0.804203</td>\n",
       "      <td>-0.778427</td>\n",
       "      <td>-0.831741</td>\n",
       "      <td>0.420289</td>\n",
       "      <td>0.579267</td>\n",
       "    </tr>\n",
       "    <tr>\n",
       "      <th>cylinders</th>\n",
       "      <td>-0.775396</td>\n",
       "      <td>1.000000</td>\n",
       "      <td>0.950721</td>\n",
       "      <td>0.842983</td>\n",
       "      <td>0.896017</td>\n",
       "      <td>-0.505419</td>\n",
       "      <td>-0.348746</td>\n",
       "    </tr>\n",
       "    <tr>\n",
       "      <th>displacement</th>\n",
       "      <td>-0.804203</td>\n",
       "      <td>0.950721</td>\n",
       "      <td>1.000000</td>\n",
       "      <td>0.897257</td>\n",
       "      <td>0.932824</td>\n",
       "      <td>-0.543684</td>\n",
       "      <td>-0.370164</td>\n",
       "    </tr>\n",
       "    <tr>\n",
       "      <th>horsepower</th>\n",
       "      <td>-0.778427</td>\n",
       "      <td>0.842983</td>\n",
       "      <td>0.897257</td>\n",
       "      <td>1.000000</td>\n",
       "      <td>0.864538</td>\n",
       "      <td>-0.689196</td>\n",
       "      <td>-0.416361</td>\n",
       "    </tr>\n",
       "    <tr>\n",
       "      <th>weight</th>\n",
       "      <td>-0.831741</td>\n",
       "      <td>0.896017</td>\n",
       "      <td>0.932824</td>\n",
       "      <td>0.864538</td>\n",
       "      <td>1.000000</td>\n",
       "      <td>-0.417457</td>\n",
       "      <td>-0.306564</td>\n",
       "    </tr>\n",
       "    <tr>\n",
       "      <th>acceleration</th>\n",
       "      <td>0.420289</td>\n",
       "      <td>-0.505419</td>\n",
       "      <td>-0.543684</td>\n",
       "      <td>-0.689196</td>\n",
       "      <td>-0.417457</td>\n",
       "      <td>1.000000</td>\n",
       "      <td>0.288137</td>\n",
       "    </tr>\n",
       "    <tr>\n",
       "      <th>model_year</th>\n",
       "      <td>0.579267</td>\n",
       "      <td>-0.348746</td>\n",
       "      <td>-0.370164</td>\n",
       "      <td>-0.416361</td>\n",
       "      <td>-0.306564</td>\n",
       "      <td>0.288137</td>\n",
       "      <td>1.000000</td>\n",
       "    </tr>\n",
       "  </tbody>\n",
       "</table>\n",
       "</div>"
      ],
      "text/plain": [
       "                   mpg  cylinders  displacement  horsepower    weight  \\\n",
       "mpg           1.000000  -0.775396     -0.804203   -0.778427 -0.831741   \n",
       "cylinders    -0.775396   1.000000      0.950721    0.842983  0.896017   \n",
       "displacement -0.804203   0.950721      1.000000    0.897257  0.932824   \n",
       "horsepower   -0.778427   0.842983      0.897257    1.000000  0.864538   \n",
       "weight       -0.831741   0.896017      0.932824    0.864538  1.000000   \n",
       "acceleration  0.420289  -0.505419     -0.543684   -0.689196 -0.417457   \n",
       "model_year    0.579267  -0.348746     -0.370164   -0.416361 -0.306564   \n",
       "\n",
       "              acceleration  model_year  \n",
       "mpg               0.420289    0.579267  \n",
       "cylinders        -0.505419   -0.348746  \n",
       "displacement     -0.543684   -0.370164  \n",
       "horsepower       -0.689196   -0.416361  \n",
       "weight           -0.417457   -0.306564  \n",
       "acceleration      1.000000    0.288137  \n",
       "model_year        0.288137    1.000000  "
      ]
     },
     "execution_count": 80,
     "metadata": {},
     "output_type": "execute_result"
    }
   ],
   "source": [
    "#corr\n",
    "mpg.corr()"
   ]
  },
  {
   "cell_type": "code",
   "execution_count": 81,
   "id": "33991fa0-3e7d-4025-b092-3f4044dd61f5",
   "metadata": {},
   "outputs": [
    {
     "data": {
      "text/html": [
       "<div>\n",
       "<style scoped>\n",
       "    .dataframe tbody tr th:only-of-type {\n",
       "        vertical-align: middle;\n",
       "    }\n",
       "\n",
       "    .dataframe tbody tr th {\n",
       "        vertical-align: top;\n",
       "    }\n",
       "\n",
       "    .dataframe thead th {\n",
       "        text-align: right;\n",
       "    }\n",
       "</style>\n",
       "<table border=\"1\" class=\"dataframe\">\n",
       "  <thead>\n",
       "    <tr style=\"text-align: right;\">\n",
       "      <th></th>\n",
       "      <th>mpg</th>\n",
       "      <th>cylinders</th>\n",
       "      <th>displacement</th>\n",
       "      <th>horsepower</th>\n",
       "      <th>weight</th>\n",
       "      <th>acceleration</th>\n",
       "      <th>model_year</th>\n",
       "    </tr>\n",
       "  </thead>\n",
       "  <tbody>\n",
       "    <tr>\n",
       "      <th>mpg</th>\n",
       "      <td>1.000000</td>\n",
       "      <td>-0.821864</td>\n",
       "      <td>-0.855692</td>\n",
       "      <td>-0.853616</td>\n",
       "      <td>-0.874947</td>\n",
       "      <td>0.438677</td>\n",
       "      <td>0.573469</td>\n",
       "    </tr>\n",
       "    <tr>\n",
       "      <th>cylinders</th>\n",
       "      <td>-0.821864</td>\n",
       "      <td>1.000000</td>\n",
       "      <td>0.911876</td>\n",
       "      <td>0.816188</td>\n",
       "      <td>0.873314</td>\n",
       "      <td>-0.474189</td>\n",
       "      <td>-0.335012</td>\n",
       "    </tr>\n",
       "    <tr>\n",
       "      <th>displacement</th>\n",
       "      <td>-0.855692</td>\n",
       "      <td>0.911876</td>\n",
       "      <td>1.000000</td>\n",
       "      <td>0.876171</td>\n",
       "      <td>0.945986</td>\n",
       "      <td>-0.496512</td>\n",
       "      <td>-0.305257</td>\n",
       "    </tr>\n",
       "    <tr>\n",
       "      <th>horsepower</th>\n",
       "      <td>-0.853616</td>\n",
       "      <td>0.816188</td>\n",
       "      <td>0.876171</td>\n",
       "      <td>1.000000</td>\n",
       "      <td>0.878819</td>\n",
       "      <td>-0.658142</td>\n",
       "      <td>-0.389498</td>\n",
       "    </tr>\n",
       "    <tr>\n",
       "      <th>weight</th>\n",
       "      <td>-0.874947</td>\n",
       "      <td>0.873314</td>\n",
       "      <td>0.945986</td>\n",
       "      <td>0.878819</td>\n",
       "      <td>1.000000</td>\n",
       "      <td>-0.404550</td>\n",
       "      <td>-0.277015</td>\n",
       "    </tr>\n",
       "    <tr>\n",
       "      <th>acceleration</th>\n",
       "      <td>0.438677</td>\n",
       "      <td>-0.474189</td>\n",
       "      <td>-0.496512</td>\n",
       "      <td>-0.658142</td>\n",
       "      <td>-0.404550</td>\n",
       "      <td>1.000000</td>\n",
       "      <td>0.274632</td>\n",
       "    </tr>\n",
       "    <tr>\n",
       "      <th>model_year</th>\n",
       "      <td>0.573469</td>\n",
       "      <td>-0.335012</td>\n",
       "      <td>-0.305257</td>\n",
       "      <td>-0.389498</td>\n",
       "      <td>-0.277015</td>\n",
       "      <td>0.274632</td>\n",
       "      <td>1.000000</td>\n",
       "    </tr>\n",
       "  </tbody>\n",
       "</table>\n",
       "</div>"
      ],
      "text/plain": [
       "                   mpg  cylinders  displacement  horsepower    weight  \\\n",
       "mpg           1.000000  -0.821864     -0.855692   -0.853616 -0.874947   \n",
       "cylinders    -0.821864   1.000000      0.911876    0.816188  0.873314   \n",
       "displacement -0.855692   0.911876      1.000000    0.876171  0.945986   \n",
       "horsepower   -0.853616   0.816188      0.876171    1.000000  0.878819   \n",
       "weight       -0.874947   0.873314      0.945986    0.878819  1.000000   \n",
       "acceleration  0.438677  -0.474189     -0.496512   -0.658142 -0.404550   \n",
       "model_year    0.573469  -0.335012     -0.305257   -0.389498 -0.277015   \n",
       "\n",
       "              acceleration  model_year  \n",
       "mpg               0.438677    0.573469  \n",
       "cylinders        -0.474189   -0.335012  \n",
       "displacement     -0.496512   -0.305257  \n",
       "horsepower       -0.658142   -0.389498  \n",
       "weight           -0.404550   -0.277015  \n",
       "acceleration      1.000000    0.274632  \n",
       "model_year        0.274632    1.000000  "
      ]
     },
     "execution_count": 81,
     "metadata": {},
     "output_type": "execute_result"
    }
   ],
   "source": [
    "#spearman\n",
    "mpg.corr(method = \"spearman\")"
   ]
  },
  {
   "cell_type": "code",
   "execution_count": 34,
   "id": "447f5577-85f8-47f2-be75-0593dc79d843",
   "metadata": {},
   "outputs": [],
   "source": [
    "#corr plot"
   ]
  },
  {
   "cell_type": "code",
   "execution_count": 85,
   "id": "cb4a5815-51e6-41c1-b1b0-0118c9723b3b",
   "metadata": {},
   "outputs": [
    {
     "data": {
      "image/png": "[encoded data removed]",
      "text/plain": [
       "<Figure size 432x288 with 2 Axes>"
      ]
     },
     "metadata": {
      "needs_background": "light"
     },
     "output_type": "display_data"
    }
   ],
   "source": [
    "sns.heatmap(mpg.corr(), annot = True, cmap = \"seismic\", vmin = -1, vmax = 1)\n",
    "plt.show()"
   ]
  },
  {
   "cell_type": "markdown",
   "id": "f05319d3-58af-4478-a5b1-5fbd85dfea94",
   "metadata": {},
   "source": [
    "<h1><font color = red>CUIDADO</font> </h1>\n",
    "\n",
    "Correlação **NÃO** implica em causalidade\n",
    "\n",
    "[Correlação Espúria](https://www.tylervigen.com/spurious-correlations)\n",
    "\n",
    "E podem ocorrer por váriaveis não analisadas que estão servindo como proxy\n",
    "\n",
    "[Nobel e Chocolate](https://i.insider.com/5353e29b6da8115322dd4816?width=750&format=jpeg&auto=webp)\n",
    "\n",
    "<img src = \"https://s4.static.brasilescola.uol.com.br/img/2019/09/panda.jpg\" width = \"50%\"></img>"
   ]
  }
 ],
 "metadata": {
  "kernelspec": {
   "display_name": "Python 3.8.8 64-bit ('base': conda)",
   "language": "python",
   "name": "python388jvsc74a57bd0dca0ade3e726a953b501b15e8e990130d2b7799f14cfd9f4271676035ebe5511"
  },
  "language_info": {
   "codemirror_mode": {
    "name": "ipython",
    "version": 3
   },
   "file_extension": ".py",
   "mimetype": "text/x-python",
   "name": "python",
   "nbconvert_exporter": "python",
   "pygments_lexer": "ipython3",
   "version": "3.8.8"
  }
 },
 "nbformat": 4,
 "nbformat_minor": 5
}
