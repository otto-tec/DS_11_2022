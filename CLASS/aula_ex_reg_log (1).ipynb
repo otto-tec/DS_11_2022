{
 "cells": [
  {
   "cell_type": "markdown",
   "id": "77704f6b-d0fa-4e63-9bec-198c4ebb3566",
   "metadata": {},
   "source": [
    "# Ex.: Regressão Logística"
   ]
  },
  {
   "cell_type": "markdown",
   "id": "9fdacc0c-8420-4d1f-8c3b-255d3d313769",
   "metadata": {},
   "source": [
    "- O objetivo do dataset contido no arquivo diabetes.csv é o de predizer de forma diagnóstica se um paciênte tem ou não diabetes com base nas medidas diagnósticas realizadas.\n",
    "\n",
    "https://www.kaggle.com/datasets/uciml/pima-indians-diabetes-database"
   ]
  },
  {
   "cell_type": "code",
   "execution_count": null,
   "id": "4145e7fc-7e9c-4943-8f39-dcc5be2fad0c",
   "metadata": {},
   "outputs": [],
   "source": []
  },
  {
   "cell_type": "markdown",
   "id": "2ca959ad-3490-4b61-82d1-48d0cc446d07",
   "metadata": {},
   "source": [
    "- Preveja a partir das informações do currículos aplicados para avaliações (arquivo resume.csv) se a pessoa conseguiria uma entrevista de emprego ou não. Reflita, com base nas suas análises e ou modelo, sobre quais as informações parecem ter uma relevância grande nessa escolha.\n",
    "\n",
    "job_ad_id\n",
    "Unique ID associated with the advertisement.\n",
    "\n",
    "job_city\n",
    "City where the job was located.\n",
    "\n",
    "job_industry\n",
    "Industry of the job.\n",
    "\n",
    "job_type\n",
    "Type of role.\n",
    "\n",
    "job_fed_contractor\n",
    "Indicator for if the employer is a federal contractor.\n",
    "\n",
    "job_equal_opp_employer\n",
    "Indicator for if the employer is an Equal Opportunity Employer.\n",
    "\n",
    "job_ownership\n",
    "The type of company, e.g. a nonprofit or a private company.\n",
    "\n",
    "job_req_any\n",
    "Indicator for if any job requirements are listed. If so, the other job_req_* fields give more detail.\n",
    "\n",
    "job_req_communication\n",
    "Indicator for if communication skills are required.\n",
    "\n",
    "job_req_education\n",
    "Indicator for if some level of education is required.\n",
    "\n",
    "job_req_min_experience\n",
    "Amount of experience required.\n",
    "\n",
    "job_req_computer\n",
    "Indicator for if computer skills are required.\n",
    "\n",
    "job_req_organization\n",
    "Indicator for if organization skills are required.\n",
    "\n",
    "job_req_school\n",
    "Level of education required.\n",
    "\n",
    "received_callback\n",
    "Indicator for if there was a callback from the job posting for the person listed on this resume.\n",
    "\n",
    "firstname\n",
    "The first name used on the resume.\n",
    "\n",
    "race\n",
    "Inferred race associated with the first name on the resume.\n",
    "\n",
    "gender\n",
    "Inferred gender associated with the first name on the resume.\n",
    "\n",
    "years_college\n",
    "Years of college education listed on the resume.\n",
    "\n",
    "college_degree\n",
    "Indicator for if the resume listed a college degree.\n",
    "\n",
    "honors\n",
    "Indicator for if the resume listed that the candidate has been awarded some honors.\n",
    "\n",
    "worked_during_school\n",
    "Indicator for if the resume listed working while in school.\n",
    "\n",
    "years_experience\n",
    "Years of experience listed on the resume.\n",
    "\n",
    "computer_skills\n",
    "Indicator for if computer skills were listed on the resume. These skills were adapted for listings, though the skills were assigned independently of other details on the resume.\n",
    "\n",
    "special_skills\n",
    "Indicator for if any special skills were listed on the resume.\n",
    "\n",
    "volunteer\n",
    "Indicator for if volunteering was listed on the resume.\n",
    "\n",
    "military\n",
    "Indicator for if military experience was listed on the resume.\n",
    "\n",
    "employment_holes\n",
    "Indicator for if there were holes in the person's employment history.\n",
    "\n",
    "has_email_address\n",
    "Indicator for if the resume lists an email address.\n",
    "\n",
    "resume_quality\n",
    "Each resume was generally classified as either lower or higher quality."
   ]
  },
  {
   "cell_type": "code",
   "execution_count": null,
   "id": "32e80722-f0f3-4a8a-ad39-bf2355750231",
   "metadata": {},
   "outputs": [],
   "source": []
  },
  {
   "cell_type": "markdown",
   "id": "e9aea981-6d23-4699-a27d-1aa2162e8904",
   "metadata": {},
   "source": [
    "- Um estudo foi conduzido para identificar se os anestésicos (A or B), causam náusea após a surgiria(Yes or No), além das medidas de qtd. de medicação tomada durante o processo de recuperação e a idade de 72 pacientes, que passaram por cirurgia de reconstrução do joelho. O dataset está no arquivo anesthesia.csv"
   ]
  },
  {
   "cell_type": "code",
   "execution_count": null,
   "id": "e1c2785e-560c-4fb0-a9b6-d8639f241c01",
   "metadata": {},
   "outputs": [],
   "source": []
  }
 ],
 "metadata": {
  "kernelspec": {
   "display_name": "Python 3.8.8 64-bit ('base': conda)",
   "language": "python",
   "name": "python388jvsc74a57bd0dca0ade3e726a953b501b15e8e990130d2b7799f14cfd9f4271676035ebe5511"
  },
  "language_info": {
   "codemirror_mode": {
    "name": "ipython",
    "version": 3
   },
   "file_extension": ".py",
   "mimetype": "text/x-python",
   "name": "python",
   "nbconvert_exporter": "python",
   "pygments_lexer": "ipython3",
   "version": "3.8.8"
  }
 },
 "nbformat": 4,
 "nbformat_minor": 5
}
