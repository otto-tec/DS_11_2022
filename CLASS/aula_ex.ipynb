{
 "cells": [
  {
   "cell_type": "markdown",
   "id": "6bbe1be8-11db-48e4-9bd6-d5e52c0a190e",
   "metadata": {},
   "source": [
    "# Exercícios"
   ]
  },
  {
   "cell_type": "markdown",
   "id": "5f261fae-cb6f-4a9a-a960-cab635c39377",
   "metadata": {},
   "source": [
    "# VOLTAMOS 20:33"
   ]
  },
  {
   "cell_type": "code",
   "execution_count": 5,
   "id": "297f5590-5be8-4235-bfff-c1dad9d8a50a",
   "metadata": {},
   "outputs": [],
   "source": [
    "from scipy import stats\n",
    "import numpy as np\n",
    "import pandas as pd\n",
    "import seaborn as sns\n",
    "import matplotlib.pyplot as plt\n",
    "import statsmodels.api as sm\n",
    "from statsmodels.formula.api import ols"
   ]
  },
  {
   "cell_type": "markdown",
   "id": "046babce-c2a2-431e-bed5-930158f982ca",
   "metadata": {},
   "source": [
    "- pmf: funcao probabilidade de massa. $P(X=x)$\n",
    "    - só para casos discretos\n",
    "- pdf: funcao densidade de probabilidade. $P(X=x)$\n",
    "    - só para casos continuos\n",
    "- cdf: funcao densidade acumulada. $P(X<=x)$ também pode ser chamado de função de distribuição acumulada\n",
    "    - para casos discretos e continuos\n",
    "- ppf: inversa da cdf"
   ]
  },
  {
   "cell_type": "markdown",
   "id": "f414b840-5a09-4551-beb3-cd6ae7a09c7c",
   "metadata": {},
   "source": [
    "\n",
    "- Uma urna contém duas bolas brancas (B) e três bolas vermelhas. Suponha que são sorteadas duas bolas ao acaso, sem reposição. Isso significa que escolhemos a primeira bola, verificamos sua cor e não a devolvemos à urna. Misturamos as bolas restantes e retiramos a segunda. \n",
    "    - Qual a probabilidade de sair bola branca na segunda extração?\n",
    "    - Dado que na primeira extração foi retirada uma bola branca, qual a probabilidade da segunda extração ser da bola vermelha?"
   ]
  },
  {
   "cell_type": "code",
   "execution_count": 2,
   "id": "6c49a994-b08d-4daf-80b3-ce14751404fc",
   "metadata": {},
   "outputs": [
    {
     "data": {
      "text/plain": [
       "0.4"
      ]
     },
     "execution_count": 2,
     "metadata": {},
     "output_type": "execute_result"
    }
   ],
   "source": [
    "#a\n",
    "#P(bb ou vb) = P(bb) + P(vb) [disjunto] Neste caso ele diz que pode vir branca e branca ou vermelha e branca\n",
    "#P(branca na primeira e  branca na segunda) [independente]\n",
    "    #P(bb) = P(P branca)*P(S branca) = 2/5*1/4 - Essa é a formula de dar 2 bolas brancas, 1° e 2° rodada\n",
    "#P(vermelha na primeira e branca na segunda) [independente]\n",
    "    #P(vb) = P(P vermelha)*P(S branca) = 3/5*2/4\n",
    "(2/5)*(1/4) + (3/5)*(2/4)"
   ]
  },
  {
   "cell_type": "markdown",
   "id": "c5bb34c9",
   "metadata": {},
   "source": [
    "### OBSERVAÇÃO\n",
    "    Perceba que no exercicio acima teve as seguintes etapas:\n",
    "    - Identificar as probabilidades que podem ocorrer. ISSO É ESSENCIAL, neste caso era branca-branca ou vermelha-branca (na A)\n",
    "    - Quando temos a probabilidade de usar o OU (conforme descrito acima), usamos a SOMA => P(bb) + P(vb)\n",
    "    - Quando temos a junção de 2 probabilidades simples, única neste caso, usamos a multiplicação. P(bb) = P(P branca) * P(S branca). Isso é chamado de evento independente.\n",
    "    - No final simplesmente se soma as probabilidades já com as formulas.\n",
    "   "
   ]
  },
  {
   "cell_type": "code",
   "execution_count": null,
   "id": "fa9ee703-7fdb-4e82-a256-3d110c119c6a",
   "metadata": {},
   "outputs": [],
   "source": [
    "#b\n",
    "#P(Segunda seja vermelha|Primeira é branca) = P(A e B)/P(B) = P(Segunda ser vermelha E a primeira ser branca)/P(primeira ser branca)\n",
    "#4 bolas, segunda vermelha = 3/4\n"
   ]
  },
  {
   "cell_type": "markdown",
   "id": "b22040ed",
   "metadata": {},
   "source": [
    "## OBSERVAÇÃO\n",
    "    Neste caso a logica diz \"Segunda vermelha sendo a primeira branca\". É simbolizada com a barra = | .  "
   ]
  },
  {
   "cell_type": "code",
   "execution_count": null,
   "id": "d1c598cf",
   "metadata": {},
   "outputs": [],
   "source": []
  },
  {
   "cell_type": "markdown",
   "id": "783d3e07-299a-4feb-8a2b-7d16bb0ff31e",
   "metadata": {},
   "source": [
    "- Num teste de multipla escolha o estudante sabe uma resposta com probabilidade $p$ e chuta uma resposta com probabilidade $1-p$. Sendo $m$ a quantidade de alternativas (igual para todas as questões), e assumindo que o estudante chutou, ele tem uma probabilidade de acertar de $\\frac{1}{m}$.\n",
    "    - Sabendo-se que o estudante acertou a questão, qual é a probabilidade dele realmente saber a resposta? \n",
    "    \n",
    "*obs.: podem fazer de forma genérica ou substituirem valores para $p$ e $m$"
   ]
  },
  {
   "cell_type": "markdown",
   "id": "e2e479c8-766c-44a2-8b02-9a4deb883e22",
   "metadata": {},
   "source": [
    "- S: Saber\n",
    "- C: Correto\n",
    "\n",
    "$$P(S|C) = \\dfrac{P(S)P(C|S)}{P(S)P(C|S) + P(\\lnot S)P(C|\\lnot S)}$$\n",
    "\n",
    "mas\n",
    "\n",
    "- $P(S) = p$\n",
    "- $P(\\lnot S) = 1-p$\n",
    "- $P(C|\\lnot S) = \\frac{1}{m}$\n",
    "- $P(C|S) = 1$\n",
    "\n",
    "e portanto\n",
    "\n",
    "$$P(S|C) = \\dfrac{p}{p + (1-p)\\frac{1}{m}} = \\dfrac{mp}{1+(m-1)p}$$\n",
    "\n"
   ]
  },
  {
   "cell_type": "markdown",
   "id": "8bd11d66-b6c2-4706-8686-4e0047cded58",
   "metadata": {},
   "source": [
    "- Suponha que o limite de uma estrada é de 80km/h e, a partir da medição por radar, sabe-se que nessa rodovia a velocidade dos veículos $X$ segue uma distribuição normal com média de 72km/h e desvio padrão de 8 km/h.\n",
    "    - Qual a probabilidade de um veículo ser multado?\n",
    "    - Além da multa, se um veículo ultrapassar o limite em 30km/h, o motorista perde a carteira. Considerando apenas os infratores de velocidade, qual a probabilidade dele perder a carteira?\n",
    "    "
   ]
  },
  {
   "cell_type": "code",
   "execution_count": 13,
   "id": "5d50e581-c5ec-46a7-b875-af9c803e7d0b",
   "metadata": {},
   "outputs": [
    {
     "data": {
      "text/plain": [
       "0.15865525393145707"
      ]
     },
     "execution_count": 13,
     "metadata": {},
     "output_type": "execute_result"
    }
   ],
   "source": [
    "# a\n",
    "mu = 72\n",
    "std = 8\n",
    "\n",
    "rv = stats.norm(mu, std) # Aplicação da ferramenta base.\n",
    "\n",
    "# P(X > 80) = 1 - P(X <= 80)  COMO NÃO POSSUIMOS FORMULA PARA X > X, USAMOS A CONVERGENTE DO CDF OU DO PPF (AINDA NÃO USADO) \n",
    "rv.pmf #P(X = x)\n",
    "rv.cdf #P(X <= x)\n",
    "1 - rv.cdf(80)\n"
   ]
  },
  {
   "cell_type": "markdown",
   "id": "15847396",
   "metadata": {},
   "source": [
    "### OBSERVAÇÃO stats.norm  X binomial\n",
    "    A distribuição normal se aplica quando temos uma média e um desvio padrão. Diferente do binomial que apesar de \n",
    "    também precisar de 2 valores ele se baseia no número do universo amostral e do valor de uma probabilidade já definida."
   ]
  },
  {
   "cell_type": "code",
   "execution_count": 9,
   "id": "4d5ce211",
   "metadata": {},
   "outputs": [
    {
     "data": {
      "text/plain": [
       "0.8413447460685429"
      ]
     },
     "execution_count": 9,
     "metadata": {},
     "output_type": "execute_result"
    }
   ],
   "source": [
    "rv.cdf(80)"
   ]
  },
  {
   "cell_type": "code",
   "execution_count": 10,
   "id": "66109264",
   "metadata": {},
   "outputs": [
    {
     "ename": "AttributeError",
     "evalue": "'norm_gen' object has no attribute 'pmf'",
     "output_type": "error",
     "traceback": [
      "\u001b[1;31m---------------------------------------------------------------------------\u001b[0m",
      "\u001b[1;31mAttributeError\u001b[0m                            Traceback (most recent call last)",
      "\u001b[1;32m<ipython-input-10-40048cae71c4>\u001b[0m in \u001b[0;36m<module>\u001b[1;34m\u001b[0m\n\u001b[1;32m----> 1\u001b[1;33m \u001b[0mrv\u001b[0m\u001b[1;33m.\u001b[0m\u001b[0mpmf\u001b[0m\u001b[1;33m(\u001b[0m\u001b[1;36m80\u001b[0m\u001b[1;33m)\u001b[0m\u001b[1;33m\u001b[0m\u001b[1;33m\u001b[0m\u001b[0m\n\u001b[0m",
      "\u001b[1;32m~\\anaconda3\\lib\\site-packages\\scipy\\stats\\_distn_infrastructure.py\u001b[0m in \u001b[0;36mpmf\u001b[1;34m(self, k)\u001b[0m\n\u001b[0;32m    501\u001b[0m \u001b[1;33m\u001b[0m\u001b[0m\n\u001b[0;32m    502\u001b[0m     \u001b[1;32mdef\u001b[0m \u001b[0mpmf\u001b[0m\u001b[1;33m(\u001b[0m\u001b[0mself\u001b[0m\u001b[1;33m,\u001b[0m \u001b[0mk\u001b[0m\u001b[1;33m)\u001b[0m\u001b[1;33m:\u001b[0m\u001b[1;33m\u001b[0m\u001b[1;33m\u001b[0m\u001b[0m\n\u001b[1;32m--> 503\u001b[1;33m         \u001b[1;32mreturn\u001b[0m \u001b[0mself\u001b[0m\u001b[1;33m.\u001b[0m\u001b[0mdist\u001b[0m\u001b[1;33m.\u001b[0m\u001b[0mpmf\u001b[0m\u001b[1;33m(\u001b[0m\u001b[0mk\u001b[0m\u001b[1;33m,\u001b[0m \u001b[1;33m*\u001b[0m\u001b[0mself\u001b[0m\u001b[1;33m.\u001b[0m\u001b[0margs\u001b[0m\u001b[1;33m,\u001b[0m \u001b[1;33m**\u001b[0m\u001b[0mself\u001b[0m\u001b[1;33m.\u001b[0m\u001b[0mkwds\u001b[0m\u001b[1;33m)\u001b[0m\u001b[1;33m\u001b[0m\u001b[1;33m\u001b[0m\u001b[0m\n\u001b[0m\u001b[0;32m    504\u001b[0m \u001b[1;33m\u001b[0m\u001b[0m\n\u001b[0;32m    505\u001b[0m     \u001b[1;32mdef\u001b[0m \u001b[0mlogpmf\u001b[0m\u001b[1;33m(\u001b[0m\u001b[0mself\u001b[0m\u001b[1;33m,\u001b[0m \u001b[0mk\u001b[0m\u001b[1;33m)\u001b[0m\u001b[1;33m:\u001b[0m\u001b[1;33m\u001b[0m\u001b[1;33m\u001b[0m\u001b[0m\n",
      "\u001b[1;31mAttributeError\u001b[0m: 'norm_gen' object has no attribute 'pmf'"
     ]
    }
   ],
   "source": [
    "rv.pmf(80)"
   ]
  },
  {
   "cell_type": "markdown",
   "id": "243485c9",
   "metadata": {},
   "source": [
    "### OBSERVAÇÃO PMF\n",
    "    Realizei testes e descobri que o pmf só conseguimos utilizar se temos uma formulação binomial."
   ]
  },
  {
   "cell_type": "code",
   "execution_count": 6,
   "id": "1e8ad587-de86-4154-8e60-f07205b65b51",
   "metadata": {},
   "outputs": [
    {
     "data": {
      "text/plain": [
       "6.4106496148904195e-06"
      ]
     },
     "execution_count": 6,
     "metadata": {},
     "output_type": "execute_result"
    }
   ],
   "source": [
    "#b\n",
    "# P(X > 110 | X > 80) = P(X>110 e X>80)/P(X>80) = P(X>110)/P(X>80) = (1 - P(X<=110))/(1-P(X<=80))\n",
    "(1 - rv.cdf(110))/(1 - rv.cdf(80))"
   ]
  },
  {
   "cell_type": "markdown",
   "id": "b6c74b1d",
   "metadata": {},
   "source": [
    "## OBSERVAÇÃO\n",
    "\n",
    "    No exercício b acima temos novamennte uma situação de condicional. A probabilidade de ser acima de 110 km/h MAS somente para as amostras que estão ACIMA de 80 km/h. Parece óbvio que se está a 110 tenha-se ultrapassado 80, mas para a formulação é importante anotar e fazer a formula:\n",
    "  ###  P(A E B) / P (B)\n",
    "     No exemplo acima mostra a simplificação pelo fato da obviedade. Mas a formula precisa ser aplicada.\n",
    "      "
   ]
  },
  {
   "cell_type": "markdown",
   "id": "17df2c74-5ecf-49ce-8118-4d10a7f618e0",
   "metadata": {},
   "source": [
    "- Suponha que a probabilidade de uma criança nascer loira é de 1/4. Se houverem 6 crianças na família, qual é a probabilidade de 3 dele serem loiros?"
   ]
  },
  {
   "cell_type": "code",
   "execution_count": 7,
   "id": "3cd3fe68-399b-453f-a625-8f0ff106a271",
   "metadata": {
    "scrolled": true
   },
   "outputs": [
    {
     "data": {
      "text/plain": [
       "0.13183593750000008"
      ]
     },
     "execution_count": 7,
     "metadata": {},
     "output_type": "execute_result"
    }
   ],
   "source": [
    "# Bernoulli ou é loiro ou nao é\n",
    "# X ~ Binomial(n=6, p=0.25)\n",
    "# P(X = 3)\n",
    "\n",
    "rv = stats.binom(6, 0.25)\n",
    "rv.pmf(3)"
   ]
  },
  {
   "cell_type": "code",
   "execution_count": 11,
   "id": "ba80afd5",
   "metadata": {},
   "outputs": [
    {
     "data": {
      "text/plain": [
       "3.2046327270207377e-18"
      ]
     },
     "execution_count": 11,
     "metadata": {},
     "output_type": "execute_result"
    }
   ],
   "source": [
    "rv.cdf(3)"
   ]
  },
  {
   "cell_type": "markdown",
   "id": "229db1ae-e7ac-47fb-9e35-d5e78ee24dd2",
   "metadata": {},
   "source": [
    "- Se a probabilidade de atingir um alvo com um único disparo é de 0.3. Qual é a probabilidade de, em 4 disparos, atingirmos o alvo ao menos 3 vezes?\n"
   ]
  },
  {
   "cell_type": "code",
   "execution_count": 9,
   "id": "9e72b0ca-685d-4cec-b9e0-2938d4115eb7",
   "metadata": {},
   "outputs": [
    {
     "name": "stdout",
     "output_type": "stream",
     "text": [
      "0.0837\n"
     ]
    },
    {
     "data": {
      "text/plain": [
       "0.08369999999999995"
      ]
     },
     "execution_count": 9,
     "metadata": {},
     "output_type": "execute_result"
    }
   ],
   "source": [
    "# Quem é a nossa v.a\n",
    "# Sucesso ou fracasso Bernoulli\n",
    "# n repeticoes Binomial\n",
    "# X ~ Binomial(n=4, p=0.3)\n",
    "# P(X >= 3) = 1 - P(X < 3) = 1 - P(X <= 2)\n",
    "# P(X >= 3) = P(X = 3) + P(X = 4)\n",
    "# P(X >= 3) = 1 - P(X < 3) = 1 - ( P(X = 0) + P(X = 1) P(X = 2) ) = 1 - P(X<=2)\n",
    "\n",
    "# P(~A) = 1 - P(A)\n",
    "# P(A|B) = P(A e B)/P(B)\n",
    "rv = stats.binom(4, 0.3)\n",
    "\n",
    "rv.pmf(3) #P(X = 3)\n",
    "rv.cdf(3) #P(X <= 3)\n",
    "\n",
    "print(1 - rv.cdf(2))#P(X <= 2)\n",
    "rv.pmf(3) + rv.pmf(4)"
   ]
  },
  {
   "cell_type": "markdown",
   "id": "7759d93d-5ea0-4c95-b059-3710133469d0",
   "metadata": {},
   "source": [
    "- Suponha que o número de meteoros registrados por um sistema de radares num intervalo qualquer de 30 segundos é de 1.81 em média. Assumindo que os meteoros aparecem aleatoriamente e de forma independente. Usando a distribuição de Poisson determine:\n",
    "    - A probabilidade de que nenhum meteoro seja encontrado num intervalo de 1 minuto.\n",
    "    - A probabilidade de encontrarmos entre 5 a 8 meteoros em 2 minutos."
   ]
  },
  {
   "cell_type": "code",
   "execution_count": 11,
   "id": "4dc9fe29-f796-44e4-a74c-4c0b5016ea24",
   "metadata": {},
   "outputs": [
    {
     "data": {
      "text/plain": [
       "0.026782676492638175"
      ]
     },
     "execution_count": 11,
     "metadata": {},
     "output_type": "execute_result"
    }
   ],
   "source": [
    "#a\n",
    "# X ~ Poisson(1.81)\n",
    "# P(X = 0)\n",
    "\n",
    "rv = stats.poisson(2*1.81)\n",
    "#rv.pmf(k) #P(X = k)\n",
    "rv.pmf(0) "
   ]
  },
  {
   "cell_type": "code",
   "execution_count": 12,
   "id": "ff1c661b-c4fe-4ccc-b94a-7c9e749ef645",
   "metadata": {},
   "outputs": [
    {
     "data": {
      "text/plain": [
       "0.5451062052204809"
      ]
     },
     "execution_count": 12,
     "metadata": {},
     "output_type": "execute_result"
    }
   ],
   "source": [
    "#b\n",
    "# P(5 <= X <= 8) = P(X <= 8) - P(X < 5) = P(X <= 8) - P(X<=4)\n",
    "\n",
    "rv = stats.poisson(4*1.81)\n",
    "rv.cdf(8) - rv.cdf(4)"
   ]
  },
  {
   "cell_type": "markdown",
   "id": "349bfc5c-671a-49f6-bc97-a4dac3643be7",
   "metadata": {},
   "source": [
    "- O número médio de jornais vendidos numa banca é 5 jornais por minuto. Qual é a probabilidade de vender ao menos 1 jornal em um minuto?"
   ]
  },
  {
   "cell_type": "code",
   "execution_count": 17,
   "id": "942057d8-7dcb-4c99-91e1-28e448613608",
   "metadata": {},
   "outputs": [
    {
     "name": "stdout",
     "output_type": "stream",
     "text": [
      "0.9932620530009145\n",
      "0.17546736976785068\n"
     ]
    },
    {
     "data": {
      "text/plain": [
       "0.615960654833063"
      ]
     },
     "execution_count": 17,
     "metadata": {},
     "output_type": "execute_result"
    }
   ],
   "source": [
    "#  \n",
    "# P(X >= 1) = 1 - P(X < 1) = 1 - P(X <= 0) = 1 - P(X = 0) \n",
    "\n",
    "rv = stats.poisson(5)\n",
    "print(1 - rv.pmf(0))\n",
    "\n",
    "# P(X = 5)\n",
    "print(rv.pmf(5))\n",
    "\n",
    "rv.cdf(5)\n"
   ]
  },
  {
   "cell_type": "markdown",
   "id": "304398b1-5bdd-416e-8514-867f736c89eb",
   "metadata": {},
   "source": [
    "- Jane iniciou um novo trabalho como representante de vendas numa empresa extremamente competitiva, ao ponto de exigirem que novos colaboradores batem uma meta de 100 reais por contrato. Numa amostra coletada pela gerente de Jane de 16 vendas, observou-se que a média de valor fechado nos contratos foi de 108 reais com um desvio de 12 reais. Considerando uma confiança de 95%, a gerente poderia seguir com a contratação da Jane ou ela precisaria ser desligada de acordo com as políticas da empresa?"
   ]
  },
  {
   "cell_type": "markdown",
   "id": "85779da6-1836-4e3c-abdf-8bc22e2f2043",
   "metadata": {},
   "source": [
    "- Considerando os dados de população do IBGE de 2010, apresente as métricas características dessa população e aponte dados discrepântes."
   ]
  },
  {
   "cell_type": "code",
   "execution_count": 12,
   "id": "5ca94057-3e0a-4e68-bb68-76ccf56d443e",
   "metadata": {
    "scrolled": true,
    "tags": []
   },
   "outputs": [
    {
     "data": {
      "text/html": [
       "<div>\n",
       "<style scoped>\n",
       "    .dataframe tbody tr th:only-of-type {\n",
       "        vertical-align: middle;\n",
       "    }\n",
       "\n",
       "    .dataframe tbody tr th {\n",
       "        vertical-align: top;\n",
       "    }\n",
       "\n",
       "    .dataframe thead th {\n",
       "        text-align: right;\n",
       "    }\n",
       "</style>\n",
       "<table border=\"1\" class=\"dataframe\">\n",
       "  <thead>\n",
       "    <tr style=\"text-align: right;\">\n",
       "      <th></th>\n",
       "      <th>estado</th>\n",
       "      <th>populacao</th>\n",
       "    </tr>\n",
       "  </thead>\n",
       "  <tbody>\n",
       "    <tr>\n",
       "      <th>0</th>\n",
       "      <td>Rondônia</td>\n",
       "      <td>1562409</td>\n",
       "    </tr>\n",
       "    <tr>\n",
       "      <th>1</th>\n",
       "      <td>Acre</td>\n",
       "      <td>733559</td>\n",
       "    </tr>\n",
       "    <tr>\n",
       "      <th>2</th>\n",
       "      <td>Amazonas</td>\n",
       "      <td>3483985</td>\n",
       "    </tr>\n",
       "    <tr>\n",
       "      <th>3</th>\n",
       "      <td>Roraima</td>\n",
       "      <td>450479</td>\n",
       "    </tr>\n",
       "    <tr>\n",
       "      <th>4</th>\n",
       "      <td>Pará</td>\n",
       "      <td>7581051</td>\n",
       "    </tr>\n",
       "    <tr>\n",
       "      <th>5</th>\n",
       "      <td>Amapá</td>\n",
       "      <td>669526</td>\n",
       "    </tr>\n",
       "    <tr>\n",
       "      <th>6</th>\n",
       "      <td>Tocantins</td>\n",
       "      <td>1383445</td>\n",
       "    </tr>\n",
       "    <tr>\n",
       "      <th>7</th>\n",
       "      <td>Maranhão</td>\n",
       "      <td>6574789</td>\n",
       "    </tr>\n",
       "    <tr>\n",
       "      <th>8</th>\n",
       "      <td>Piauí</td>\n",
       "      <td>3118360</td>\n",
       "    </tr>\n",
       "    <tr>\n",
       "      <th>9</th>\n",
       "      <td>Ceará</td>\n",
       "      <td>8452381</td>\n",
       "    </tr>\n",
       "    <tr>\n",
       "      <th>10</th>\n",
       "      <td>Rio Grande do Norte</td>\n",
       "      <td>3168027</td>\n",
       "    </tr>\n",
       "    <tr>\n",
       "      <th>11</th>\n",
       "      <td>Paraíba</td>\n",
       "      <td>3766528</td>\n",
       "    </tr>\n",
       "    <tr>\n",
       "      <th>12</th>\n",
       "      <td>Pernambuco</td>\n",
       "      <td>8796448</td>\n",
       "    </tr>\n",
       "    <tr>\n",
       "      <th>13</th>\n",
       "      <td>Alagoas</td>\n",
       "      <td>3120494</td>\n",
       "    </tr>\n",
       "    <tr>\n",
       "      <th>14</th>\n",
       "      <td>Sergipe</td>\n",
       "      <td>2068017</td>\n",
       "    </tr>\n",
       "    <tr>\n",
       "      <th>15</th>\n",
       "      <td>Bahia</td>\n",
       "      <td>14016906</td>\n",
       "    </tr>\n",
       "    <tr>\n",
       "      <th>16</th>\n",
       "      <td>Minas Gerais</td>\n",
       "      <td>19597330</td>\n",
       "    </tr>\n",
       "    <tr>\n",
       "      <th>17</th>\n",
       "      <td>Espírito Santo</td>\n",
       "      <td>3514952</td>\n",
       "    </tr>\n",
       "    <tr>\n",
       "      <th>18</th>\n",
       "      <td>Rio de Janeiro</td>\n",
       "      <td>15989929</td>\n",
       "    </tr>\n",
       "    <tr>\n",
       "      <th>19</th>\n",
       "      <td>São Paulo</td>\n",
       "      <td>41262199</td>\n",
       "    </tr>\n",
       "    <tr>\n",
       "      <th>20</th>\n",
       "      <td>Paraná</td>\n",
       "      <td>10444526</td>\n",
       "    </tr>\n",
       "    <tr>\n",
       "      <th>21</th>\n",
       "      <td>Santa Catarina</td>\n",
       "      <td>6248436</td>\n",
       "    </tr>\n",
       "    <tr>\n",
       "      <th>22</th>\n",
       "      <td>Rio Grande do Sul</td>\n",
       "      <td>10693929</td>\n",
       "    </tr>\n",
       "    <tr>\n",
       "      <th>23</th>\n",
       "      <td>Mato Grosso do Sul</td>\n",
       "      <td>2449024</td>\n",
       "    </tr>\n",
       "    <tr>\n",
       "      <th>24</th>\n",
       "      <td>Mato Grosso</td>\n",
       "      <td>3035122</td>\n",
       "    </tr>\n",
       "    <tr>\n",
       "      <th>25</th>\n",
       "      <td>Goiás</td>\n",
       "      <td>6003788</td>\n",
       "    </tr>\n",
       "    <tr>\n",
       "      <th>26</th>\n",
       "      <td>Distrito Federal</td>\n",
       "      <td>2570160</td>\n",
       "    </tr>\n",
       "  </tbody>\n",
       "</table>\n",
       "</div>"
      ],
      "text/plain": [
       "                 estado  populacao\n",
       "0              Rondônia    1562409\n",
       "1                  Acre     733559\n",
       "2              Amazonas    3483985\n",
       "3               Roraima     450479\n",
       "4                  Pará    7581051\n",
       "5                 Amapá     669526\n",
       "6             Tocantins    1383445\n",
       "7              Maranhão    6574789\n",
       "8                 Piauí    3118360\n",
       "9                 Ceará    8452381\n",
       "10  Rio Grande do Norte    3168027\n",
       "11              Paraíba    3766528\n",
       "12           Pernambuco    8796448\n",
       "13              Alagoas    3120494\n",
       "14              Sergipe    2068017\n",
       "15                Bahia   14016906\n",
       "16         Minas Gerais   19597330\n",
       "17       Espírito Santo    3514952\n",
       "18       Rio de Janeiro   15989929\n",
       "19            São Paulo   41262199\n",
       "20               Paraná   10444526\n",
       "21       Santa Catarina    6248436\n",
       "22    Rio Grande do Sul   10693929\n",
       "23   Mato Grosso do Sul    2449024\n",
       "24          Mato Grosso    3035122\n",
       "25                Goiás    6003788\n",
       "26     Distrito Federal    2570160"
      ]
     },
     "execution_count": 12,
     "metadata": {},
     "output_type": "execute_result"
    }
   ],
   "source": [
    "import pandas as pd\n",
    "\n",
    "n = [\n",
    "    1562409, 733559, 3483985, 450479, 7581051, 669526, 1383445, 6574789,\n",
    "    3118360, 8452381, 3168027, 3766528, 8796448, 3120494, 2068017, 14016906,\n",
    "    19597330, 3514952, 15989929, 41262199, 10444526, 6248436, 10693929,\n",
    "    2449024, 3035122, 6003788, 2570160\n",
    "]\n",
    "\n",
    "estado = [\n",
    "    \"Rondônia\", \"Acre\", \"Amazonas\", \"Roraima\", \"Pará\", \"Amapá\", \"Tocantins\",\n",
    "    \"Maranhão\", \"Piauí\", \"Ceará\", \"Rio Grande do Norte\", \"Paraíba\", \"Pernambuco\",\n",
    "    \"Alagoas\", \"Sergipe\", \"Bahia\", \"Minas Gerais\", \"Espírito Santo\",\n",
    "    \"Rio de Janeiro\", \"São Paulo\", \"Paraná\", \"Santa Catarina\", \"Rio Grande do Sul\",\n",
    "    \"Mato Grosso do Sul\", \"Mato Grosso\", \"Goiás\", \"Distrito Federal\"\n",
    "]\n",
    "\n",
    "df = pd.DataFrame({'estado': estado, 'populacao': n})\n",
    "df"
   ]
  }
 ],
 "metadata": {
  "kernelspec": {
   "display_name": "Python 3",
   "language": "python",
   "name": "python3"
  },
  "language_info": {
   "codemirror_mode": {
    "name": "ipython",
    "version": 3
   },
   "file_extension": ".py",
   "mimetype": "text/x-python",
   "name": "python",
   "nbconvert_exporter": "python",
   "pygments_lexer": "ipython3",
   "version": "3.8.8"
  }
 },
 "nbformat": 4,
 "nbformat_minor": 5
}
