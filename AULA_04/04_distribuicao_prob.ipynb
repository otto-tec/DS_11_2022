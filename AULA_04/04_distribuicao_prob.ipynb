{
 "cells": [
  {
   "cell_type": "markdown",
   "id": "daee77d2-a7e5-4eaa-a598-2f1a5ca5e56c",
   "metadata": {},
   "source": [
    "# Distribuições de probabilidade\n",
    "\n",
    "Representação teórica que nasce a partir da observação recorrente em problemas reais."
   ]
  },
  {
   "cell_type": "markdown",
   "id": "2f02989f-91ff-4edd-8257-6a4b9472e333",
   "metadata": {},
   "source": [
    "Vejamos o seguinte problema.\n",
    "\n",
    "Se você quisesse ter a melhor experiência na compra de um livro ofertado por dois ou mais vendendores muito provavavelmente você se depararia com o seguinte impasse. Eu compro do vendedor que tem uma avaliação de 100% mas com apenas poucas classificações ou compro de um vendedor com uma nota mais baixa porém que mais pessoas avaliaram?\n",
    "\n",
    "<img src = \"../imgs/livro_amazon.png\" width = \"75%\"></img>"
   ]
  },
  {
   "cell_type": "markdown",
   "id": "66709ad5-04dc-4c80-8eb4-fbe150a0d11b",
   "metadata": {},
   "source": [
    "A grande questão para esse tipo de problema é que nunca sabemos qual é a taxa real de sucesso $s$ de cada vendendor pois os dados observados nos mostram só uma amostra condizente a essa realidade subjacente, ou seja, mesmo tendo uma aprovação percebida de 100%, intrinsicamente poríamos ter que a taxa real é de 95%, conforme a simulação abaixo."
   ]
  },
  {
   "cell_type": "code",
   "execution_count": 11,
   "id": "de7f8bb3-4573-4b04-b430-178c2ab0d62e",
   "metadata": {},
   "outputs": [],
   "source": [
    "import numpy as np\n",
    "import pandas as pd\n",
    "from scipy import stats\n",
    "import math\n",
    "import matplotlib.pyplot as plt\n",
    "import seaborn as sns"
   ]
  },
  {
   "cell_type": "code",
   "execution_count": 2,
   "id": "da99e9d7-b498-48c9-9890-2305a7885eae",
   "metadata": {
    "scrolled": true,
    "tags": []
   },
   "outputs": [
    {
     "data": {
      "text/plain": [
       "array([['pos', 'pos', 'pos', ..., 'pos', 'pos', 'pos'],\n",
       "       ['pos', 'pos', 'pos', ..., 'pos', 'pos', 'pos'],\n",
       "       ['pos', 'neg', 'pos', ..., 'pos', 'pos', 'pos'],\n",
       "       ...,\n",
       "       ['pos', 'pos', 'pos', ..., 'pos', 'pos', 'pos'],\n",
       "       ['pos', 'pos', 'pos', ..., 'neg', 'pos', 'pos'],\n",
       "       ['pos', 'pos', 'pos', ..., 'pos', 'pos', 'pos']], dtype='<U3')"
      ]
     },
     "execution_count": 2,
     "metadata": {},
     "output_type": "execute_result"
    }
   ],
   "source": [
    "#10,0\n",
    "s = 0.95\n",
    "elementos = [\"pos\",\"neg\"]\n",
    "\n",
    "repeticoes = 10000\n",
    "n_amostra = 10\n",
    "\n",
    "np.random.seed(7)\n",
    "resultados = np.random.choice(elementos, repeticoes*n_amostra, p = [s, 1-s]).reshape((repeticoes, n_amostra))\n",
    "resultados"
   ]
  },
  {
   "cell_type": "code",
   "execution_count": 26,
   "id": "bf875e2f-126e-4848-8e0d-6e8178b7540c",
   "metadata": {},
   "outputs": [
    {
     "data": {
      "text/plain": [
       "10    0.6023\n",
       "9     0.3127\n",
       "8     0.0736\n",
       "7     0.0103\n",
       "6     0.0008\n",
       "5     0.0003\n",
       "dtype: float64"
      ]
     },
     "execution_count": 26,
     "metadata": {},
     "output_type": "execute_result"
    }
   ],
   "source": [
    "#count\n",
    "qtd_pos = resultados == \"pos\"\n",
    "qtd_pos = qtd_pos.sum(axis = 1)\n",
    "pd.Series(qtd_pos).value_counts(normalize=True)\n"
   ]
  },
  {
   "cell_type": "code",
   "execution_count": 19,
   "id": "4632073e-7bb1-44d1-b22d-9453d28cf2c8",
   "metadata": {},
   "outputs": [
    {
     "data": {
      "text/plain": [
       "<AxesSubplot:ylabel='Density'>"
      ]
     },
     "execution_count": 19,
     "metadata": {},
     "output_type": "execute_result"
    },
    {
     "data": {
      "image/png": "[encoded data removed]",
      "text/plain": [
       "<Figure size 432x288 with 1 Axes>"
      ]
     },
     "metadata": {
      "needs_background": "light"
     },
     "output_type": "display_data"
    }
   ],
   "source": [
    "#hist\n",
    "sns.histplot(qtd_pos, stat = \"density\", bins = 10)"
   ]
  },
  {
   "cell_type": "code",
   "execution_count": 4,
   "id": "a3eee545-f32c-49a0-ba7f-108176fa0ef8",
   "metadata": {},
   "outputs": [
    {
     "data": {
      "text/plain": [
       "array([48, 48, 49, ..., 48, 48, 49])"
      ]
     },
     "execution_count": 4,
     "metadata": {},
     "output_type": "execute_result"
    },
    {
     "data": {
      "image/png": "[encoded data removed]",
      "text/plain": [
       "<Figure size 432x288 with 1 Axes>"
      ]
     },
     "metadata": {
      "needs_background": "light"
     },
     "output_type": "display_data"
    }
   ],
   "source": [
    "# 48,2\n",
    "def simulacao(s, n, rep):\n",
    "    resultados = np.random.choice(elementos, rep*n, p = [s, 1-s]).reshape((rep, n))\n",
    "    qtd_pos = resultados == \"pos\"\n",
    "    qtd_pos = qtd_pos.sum(axis = 1)\n",
    "    sns.histplot(qtd_pos, stat = \"density\", bins = 10)\n",
    "    return(qtd_pos)\n",
    "\n",
    "np.random.seed(7)\n",
    "n_amostra = 50\n",
    "\n",
    "simulacao(s, 50, repeticoes)"
   ]
  },
  {
   "cell_type": "code",
   "execution_count": 22,
   "id": "66310e8b-aa3a-4f72-9377-46bcbd1a4084",
   "metadata": {},
   "outputs": [
    {
     "data": {
      "text/plain": [
       "array([43, 42, 41, ..., 39, 36, 39])"
      ]
     },
     "execution_count": 22,
     "metadata": {},
     "output_type": "execute_result"
    },
    {
     "data": {
      "image/png": "[encoded data removed]",
      "text/plain": [
       "<Figure size 432x288 with 1 Axes>"
      ]
     },
     "metadata": {
      "needs_background": "light"
     },
     "output_type": "display_data"
    }
   ],
   "source": [
    "s = 0.81\n",
    "np.random.seed(7)\n",
    "n_amostra = 50\n",
    "\n",
    "simulacao(s, 50, repeticoes)"
   ]
  },
  {
   "cell_type": "markdown",
   "id": "47eb7f87-e715-4418-9d20-25936196cfd1",
   "metadata": {},
   "source": [
    "Dessa maneira, assumindo que conhecemos a taxa de sucesso $s$ qual seria a probabilidade de vermos um resultado de avaliação conforme os exemplos?\n",
    "\n",
    "$$P(48 \\checkmark, 2 \\times   | s = 0.95)?$$"
   ]
  },
  {
   "cell_type": "code",
   "execution_count": 8,
   "id": "3928ca11-991e-406c-864e-1342377ae890",
   "metadata": {},
   "outputs": [
    {
     "data": {
      "text/plain": [
       "0.2598433333333333"
      ]
     },
     "execution_count": 8,
     "metadata": {},
     "output_type": "execute_result"
    },
    {
     "data": {
      "image/png": "[encoded data removed]",
      "text/plain": [
       "<Figure size 432x288 with 1 Axes>"
      ]
     },
     "metadata": {
      "needs_background": "light"
     },
     "output_type": "display_data"
    }
   ],
   "source": [
    "s = 0.95\n",
    "repeticoes = 300_000\n",
    "n_amostra = 50\n",
    "np.random.seed(7)\n",
    "qtd_pos = simulacao(s, n_amostra, repeticoes)\n",
    "pd.Series(qtd_pos).value_counts(normalize=True).loc[48]"
   ]
  },
  {
   "cell_type": "markdown",
   "id": "11c212d9-48c2-4115-846d-b6c7074490be",
   "metadata": {},
   "source": [
    "Vamos pensar no lançamento de uma moeda 3 vezes e cara sendo o nosso sucesso. Qual é a probabilidade de termos duas caras?\n",
    "\n",
    "\n",
    "$$\\Omega = \\{KKK, KKC, KCK, CKK, KCC, CKC, CCK, CCC\\}$$\n",
    "\n",
    "Logo\n",
    "\n",
    "$$P(X=2) = P(KKC \\cup KCK \\cup CKK) = 3*(0.5)^2(0.5) = 0.375$$\n",
    "\n",
    "\n",
    "Generalizando a ideia tempos que \n",
    "\n",
    "$$P(X = k|n, s) = \\binom{n}{k}s^k(1-s)^{n-k} = \\dfrac{n!}{k!(n-k)!}s^k(1-s)^{n-k}$$"
   ]
  },
  {
   "cell_type": "code",
   "execution_count": 9,
   "id": "5f13ec7d-3db3-4ce9-9454-24c81bbab1a4",
   "metadata": {},
   "outputs": [
    {
     "data": {
      "text/plain": [
       "0.375"
      ]
     },
     "execution_count": 9,
     "metadata": {},
     "output_type": "execute_result"
    }
   ],
   "source": [
    "# calc\n",
    "# P(X = 2|3,0.5) = \n",
    "(0.5**2)*(0.5**1)*(math.factorial(3)/(math.factorial(2)*math.factorial(1)))"
   ]
  },
  {
   "cell_type": "code",
   "execution_count": 10,
   "id": "8b01a9d8-f26b-4e5c-9d45-43a6ea3bec35",
   "metadata": {},
   "outputs": [
    {
     "data": {
      "text/plain": [
       "0.2611013703988189"
      ]
     },
     "execution_count": 10,
     "metadata": {},
     "output_type": "execute_result"
    }
   ],
   "source": [
    "(0.95**48)*(0.05**2)*(math.factorial(50)/(math.factorial(48)*math.factorial(2)))"
   ]
  },
  {
   "cell_type": "markdown",
   "id": "768a1f38-2ab7-472a-9e2e-3d85a5ee599e",
   "metadata": {},
   "source": [
    "A essa distribuição de prababilidade chamamos de **Distribuição Binomial** e veremos mais detalhes das suas características adiante."
   ]
  },
  {
   "cell_type": "code",
   "execution_count": 27,
   "id": "1119a8ef-ed6d-4c8a-ac89-d8a85b4c2174",
   "metadata": {},
   "outputs": [
    {
     "data": {
      "text/plain": [
       "0.5987369392383787"
      ]
     },
     "execution_count": 27,
     "metadata": {},
     "output_type": "execute_result"
    }
   ],
   "source": [
    "#scipy\n",
    "stats.binom.pmf(10, 10, 0.95)"
   ]
  },
  {
   "cell_type": "code",
   "execution_count": 20,
   "id": "26e7d5af-10ee-45ab-8257-bec342f35595",
   "metadata": {},
   "outputs": [
    {
     "data": {
      "text/plain": [
       "0.016113281249999962"
      ]
     },
     "execution_count": 20,
     "metadata": {},
     "output_type": "execute_result"
    }
   ],
   "source": [
    "stats.binom.pmf(2, 12, 0.5)"
   ]
  },
  {
   "cell_type": "markdown",
   "id": "cc036f8f-a074-49ad-872b-aa3a7eb1e80f",
   "metadata": {},
   "source": [
    "## Principais Distribuições e Suas Aplicações"
   ]
  },
  {
   "cell_type": "markdown",
   "id": "e74e905e-6d49-4f7d-b94d-4ad9ab5ffc02",
   "metadata": {},
   "source": [
    "A distribuição de probabilidade pode **modelar incertezas** e descrever fenômenos físicos, biológicos, econômicos, entre outros.\n",
    "\n",
    "Para representar a distribuição matematicamente, frequentemente utilizamos a [função densidade de probabilidade](https://en.wikipedia.org/wiki/Probability_density_function). Esta função é tal que a probabilidade da variável aleatória cair em uma faixa particular é dada **pela integral da densidade dessa variável sobre tal faixa** - isto é, é dada pela área abaixo da função densidade mas acima do eixo horizontal e entre o menor e o maior valor dessa faixa.\n",
    "\n",
    "<img src=\"https://work.thaslwanter.at/Stats/html/_images/PDF.png\" width=400>\n",
    "\n",
    "Há muitas distribuições de probabilidade diferentes e entre elas, a **distribuição normal** tem uma importância particular pois, de acordo com o **teorema central do limite**, a distribuição normal captura o **comportamento assintótico** de várias outras distribuições de probabilidade."
   ]
  },
  {
   "cell_type": "markdown",
   "id": "cd5c3d66-c0cc-46ce-bf15-4c6e1f1f8934",
   "metadata": {},
   "source": [
    "### Discretas"
   ]
  },
  {
   "cell_type": "markdown",
   "id": "66b0ec50-79da-4c67-b354-0dc64fbe1839",
   "metadata": {},
   "source": [
    "### Uniforme"
   ]
  },
  {
   "cell_type": "markdown",
   "id": "d0bb43e2-a1e1-4786-9151-6d3181d7a3b6",
   "metadata": {},
   "source": [
    "A distribuição uniforme discreta representa uma variável aleatória X que assume um número finito $N$ de valores equiprováveis entre $a,b \\in \\mathbb{N}^*$.\n",
    "\n",
    "$$X \\sim Unif(N)$$\n",
    "#### Propriedades:\n",
    "\n",
    "- **Simétrica**\n",
    "- $f(x) = P(X = x) = \\dfrac{1}{N}, \\forall x \\in \\mathbb{N}_a^b$\n",
    "- $F(x) = P(X \\leq x) = \\dfrac{x - a + 1}{N}$\n",
    "- $E(X) = \\dfrac{a+b}{2}$\n",
    "- $Var(X) = \\dfrac{(b-a)^2}{12}$"
   ]
  },
  {
   "cell_type": "code",
   "execution_count": 37,
   "id": "94309b46-4ca2-4e3f-b0b4-b8c870765410",
   "metadata": {},
   "outputs": [
    {
     "data": {
      "text/plain": [
       "(array(3.5), array(2.91666667), array(0.), array(-1.26857143))"
      ]
     },
     "execution_count": 37,
     "metadata": {},
     "output_type": "execute_result"
    }
   ],
   "source": [
    "from scipy import stats\n",
    "\n",
    "low, high = 1, 6\n",
    "rv = stats.randint(low, high+1)\n",
    "mean, var, skew, kurt = rv.stats(moments='mvsk')\n",
    "mean, var, skew, kurt"
   ]
  },
  {
   "cell_type": "code",
   "execution_count": 11,
   "id": "d55863a4-248f-4aaa-946c-29e9aabaa85a",
   "metadata": {},
   "outputs": [
    {
     "data": {
      "text/plain": [
       "[<matplotlib.lines.Line2D at 0x7fc4d9961f40>]"
      ]
     },
     "execution_count": 11,
     "metadata": {},
     "output_type": "execute_result"
    },
    {
     "data": {
      "image/png": "[encoded data removed]",
      "text/plain": [
       "<Figure size 432x288 with 1 Axes>"
      ]
     },
     "metadata": {
      "needs_background": "light"
     },
     "output_type": "display_data"
    }
   ],
   "source": [
    "x = np.arange(low, high+1)\n",
    "plt.plot(x, rv.pmf(x), 'bo', ms=8)"
   ]
  },
  {
   "cell_type": "code",
   "execution_count": 12,
   "id": "6a34c42b-04bd-4b34-8d93-8117a3bc2e7d",
   "metadata": {},
   "outputs": [
    {
     "data": {
      "text/plain": [
       "array([1, 2, 3, 4, 5, 6])"
      ]
     },
     "execution_count": 12,
     "metadata": {},
     "output_type": "execute_result"
    }
   ],
   "source": [
    "x"
   ]
  },
  {
   "cell_type": "code",
   "execution_count": 34,
   "id": "5c470cef-75a6-4a07-8231-2dd02e569b0c",
   "metadata": {},
   "outputs": [
    {
     "data": {
      "text/plain": [
       "array([0.16666667, 0.33333333, 0.5       , 0.66666667, 0.83333333,\n",
       "       1.        ])"
      ]
     },
     "execution_count": 34,
     "metadata": {},
     "output_type": "execute_result"
    }
   ],
   "source": [
    "rv.cdf(x)"
   ]
  },
  {
   "cell_type": "markdown",
   "id": "d62f3864-3b42-47de-bbc1-3f09044979e6",
   "metadata": {},
   "source": [
    "#### Amostra"
   ]
  },
  {
   "cell_type": "code",
   "execution_count": 152,
   "id": "7a652bc0-0493-43da-8042-f242d5b2f026",
   "metadata": {},
   "outputs": [
    {
     "data": {
      "image/png": "[encoded data removed]",
      "text/plain": [
       "<Figure size 432x288 with 1 Axes>"
      ]
     },
     "metadata": {
      "needs_background": "light"
     },
     "output_type": "display_data"
    },
    {
     "data": {
      "image/png": "[encoded data removed]",
      "text/plain": [
       "<Figure size 432x288 with 1 Axes>"
      ]
     },
     "metadata": {
      "needs_background": "light"
     },
     "output_type": "display_data"
    },
    {
     "data": {
      "image/png": "[encoded data removed]",
      "text/plain": [
       "<Figure size 432x288 with 1 Axes>"
      ]
     },
     "metadata": {
      "needs_background": "light"
     },
     "output_type": "display_data"
    },
    {
     "data": {
      "image/png": "[encoded data removed]",
      "text/plain": [
       "<Figure size 432x288 with 1 Axes>"
      ]
     },
     "metadata": {
      "needs_background": "light"
     },
     "output_type": "display_data"
    },
    {
     "data": {
      "image/png": "[encoded data removed]",
      "text/plain": [
       "<Figure size 432x288 with 1 Axes>"
      ]
     },
     "metadata": {
      "needs_background": "light"
     },
     "output_type": "display_data"
    }
   ],
   "source": [
    "np.random.seed(7)\n",
    "for n in [10,100,1000,10000,10000]:\n",
    "    fig, ax = plt.subplots(1, 1)\n",
    "    proportions = pd.Series(np.random.randint(1,7,size = n)).value_counts(normalize = True).sort_index()\n",
    "    proportions.plot.bar()\n",
    "    ax.plot(proportions.index-1, rv.pmf(list(proportions.index)), 'bo', ms=8)\n",
    "    plt.plot()"
   ]
  },
  {
   "cell_type": "markdown",
   "id": "d10bcede-e177-4586-97c6-cf55d2df9d6a",
   "metadata": {},
   "source": [
    "### Bernoulli\n",
    "Modelo probabilistico que descreve o conjunto de resultados possíveis de um único experimento cuja resposta é verdadeiro, com probabilidade $p$, ou falso, com probilidade $q = 1-p$\n",
    "\n",
    "$$X \\sim Bernoulli(p)$$\n",
    "\n",
    "#### Propriedades\n",
    "- $f(x) = P(X = x) = p, x \\in \\{0,1\\}$\n",
    "- $E(X) = p$\n",
    "- $Var(X) = pq$"
   ]
  },
  {
   "cell_type": "code",
   "execution_count": 38,
   "id": "3703ec35-b3d2-4cd4-875f-080cd23dfc8f",
   "metadata": {},
   "outputs": [
    {
     "data": {
      "text/plain": [
       "(array(0.3), array(0.21), array(0.87287156), array(-1.23809524))"
      ]
     },
     "execution_count": 38,
     "metadata": {},
     "output_type": "execute_result"
    }
   ],
   "source": [
    "# Definir distribuicao\n",
    "p = 0.3\n",
    "rv = stats.bernoulli(p)\n",
    "rv.stats(moments = \"mvsk\")"
   ]
  },
  {
   "cell_type": "code",
   "execution_count": 39,
   "id": "75451f23-8a8d-4568-a8d3-2f29193c70e8",
   "metadata": {},
   "outputs": [
    {
     "data": {
      "text/plain": [
       "0.21"
      ]
     },
     "execution_count": 39,
     "metadata": {},
     "output_type": "execute_result"
    }
   ],
   "source": [
    "0.3*0.7"
   ]
  },
  {
   "cell_type": "code",
   "execution_count": 46,
   "id": "52fba670-ddf8-4e91-bf8a-0338ffea1fbe",
   "metadata": {},
   "outputs": [
    {
     "name": "stdout",
     "output_type": "stream",
     "text": [
      "[0.7 0.3]\n"
     ]
    },
    {
     "data": {
      "text/plain": [
       "array([0.7, 1. ])"
      ]
     },
     "execution_count": 46,
     "metadata": {},
     "output_type": "execute_result"
    }
   ],
   "source": [
    "# cdf x pmf\n",
    "x = np.array([0, 1])\n",
    "print(rv.pmf(x)) # Funcao probabilidade de massa = Probabilidade pontual\n",
    "#P(X <= 0) = P(X = 0) = 0.7\n",
    "#P(X <= 1) = P(X = 0 ou X = 1) = P(X = 0) + P(X = 1) = 0.7 + 0.3 = 1\n",
    "\n",
    "rv.cdf(x)# Funcao de densidade acumulada = P(X <= x)"
   ]
  },
  {
   "cell_type": "markdown",
   "id": "d5ded481-8741-4fc3-be4f-f8a1d5d1558d",
   "metadata": {},
   "source": [
    "### Binomial\n",
    "Modelo probabilistico que descreve o número $n$ de sucessos ocorridos numa série de experimentos **independentes**. Ou seja, uma sequências de eventos de Bernoulli.\n",
    "\n",
    "$$X \\sim Binom(n, p)$$\n",
    "\n",
    "#### Exemplos\n",
    "- Número de contágio de doentes (desde que a doença não tenha fatores geográficos/ambientais ou genéticos)\n",
    "- Defeitos em itens de linha de produção (carro, celular, tv, ...)\n",
    "- O número de bebês de um determinado sexo que nascem num hospital\n",
    "- O número de avaliações positivas de um produto\n",
    "\n",
    "#### Propriedades\n",
    "- $f(x) = P(X = x) = \\binom{n}{x}p^xq^{n-x}, \\forall x \\in \\mathbb{N}^+$\n",
    "- $E(X) = np$\n",
    "- $Var(X) = npq$"
   ]
  },
  {
   "cell_type": "markdown",
   "id": "431ecbee-47a5-488d-9ceb-6d23c99e1007",
   "metadata": {},
   "source": [
    "Assumindo p = 3%, p = probabilidade de defeito"
   ]
  },
  {
   "cell_type": "markdown",
   "id": "1ef245dc-d0ef-48c0-9646-e4d0da8bc7e9",
   "metadata": {},
   "source": [
    "- Qual a probabilidade de termos 2 carros com defeitos entre 10 produzidos?\n",
    "- Qual a probabilidade de termos 5 ou mais carros com defeito?"
   ]
  },
  {
   "cell_type": "markdown",
   "id": "f69b704f-a975-4994-bc9c-ff65b215fd8b",
   "metadata": {},
   "source": [
    "Assuma que a probabilidade $p$ de termos um caro com defeito é $p=0.03$\n",
    "\n",
    "$$X \\sim Binom(n, p) $$\n",
    "$$X \\sim Binom(10, 0.03) $$\n",
    "\n",
    "$$P(X = 2|n,p) = \\binom{10}{2}0.03^20.97^8 = \\dfrac{10!}{2!8!}0.03^20.97^8 = 5*9*0.03^20.97^8 \\approx 3.17\\%$$ \n",
    "\n",
    "$$P(X \\geq 5) = 1 - P(X < 5) =  1-P(X \\leq 4) = ...$$"
   ]
  },
  {
   "cell_type": "code",
   "execution_count": 51,
   "id": "738b532d-9081-4787-98a8-888866208d7e",
   "metadata": {},
   "outputs": [
    {
     "data": {
      "text/plain": [
       "0.03174160605722668"
      ]
     },
     "execution_count": 51,
     "metadata": {},
     "output_type": "execute_result"
    }
   ],
   "source": [
    "#calc func\n",
    "n = 10\n",
    "p = 0.03\n",
    "rv = stats.binom(n, p)\n",
    "\n",
    "rv.pmf(2)"
   ]
  },
  {
   "cell_type": "code",
   "execution_count": 54,
   "id": "cf451fde-b5d5-4292-b10e-267875dd1a89",
   "metadata": {},
   "outputs": [
    {
     "data": {
      "text/plain": [
       "5.396496345899671e-06"
      ]
     },
     "execution_count": 54,
     "metadata": {},
     "output_type": "execute_result"
    }
   ],
   "source": [
    "#calc manual\n",
    "#P(X <= 4) = P(X = 0 ou X=1 ou X= 2 ou X =3 ou X= 4) = P(X = 0) + P(X=1)+ .... + P(X=4)\n",
    "1 - (rv.pmf(0) + rv.pmf(1) + rv.pmf(2) + rv.pmf(3) + rv.pmf(4))\n",
    "#"
   ]
  },
  {
   "cell_type": "code",
   "execution_count": 55,
   "id": "f6f16f7d-69bb-4c2b-a2e8-c0e99edac88f",
   "metadata": {},
   "outputs": [
    {
     "data": {
      "text/plain": [
       "5.3964963462327376e-06"
      ]
     },
     "execution_count": 55,
     "metadata": {},
     "output_type": "execute_result"
    }
   ],
   "source": [
    "1 - rv.cdf(4)"
   ]
  },
  {
   "cell_type": "code",
   "execution_count": 192,
   "id": "3a469b2c-09c4-434d-a48c-dcf0c3f24f7f",
   "metadata": {},
   "outputs": [
    {
     "data": {
      "image/png": "[encoded data removed]",
      "text/plain": [
       "<Figure size 432x288 with 1 Axes>"
      ]
     },
     "metadata": {
      "needs_background": "light"
     },
     "output_type": "display_data"
    },
    {
     "data": {
      "image/png": "[encoded data removed]",
      "text/plain": [
       "<Figure size 432x288 with 1 Axes>"
      ]
     },
     "metadata": {
      "needs_background": "light"
     },
     "output_type": "display_data"
    },
    {
     "data": {
      "image/png": "[encoded data removed]",
      "text/plain": [
       "<Figure size 432x288 with 1 Axes>"
      ]
     },
     "metadata": {
      "needs_background": "light"
     },
     "output_type": "display_data"
    },
    {
     "data": {
      "image/png": "[encoded data removed]",
      "text/plain": [
       "<Figure size 432x288 with 1 Axes>"
      ]
     },
     "metadata": {
      "needs_background": "light"
     },
     "output_type": "display_data"
    },
    {
     "data": {
      "image/png": "[encoded data removed]",
      "text/plain": [
       "<Figure size 432x288 with 1 Axes>"
      ]
     },
     "metadata": {
      "needs_background": "light"
     },
     "output_type": "display_data"
    },
    {
     "data": {
      "image/png": "[encoded data removed]",
      "text/plain": [
       "<Figure size 432x288 with 1 Axes>"
      ]
     },
     "metadata": {
      "needs_background": "light"
     },
     "output_type": "display_data"
    }
   ],
   "source": [
    "n = 5\n",
    "p = 0.5\n",
    "for n in [5, 10, 15, 30, 50, 100]:\n",
    "    rv = stats.binom(n, p)\n",
    "    x = np.arange(rv.ppf(0.001), rv.ppf(0.999))\n",
    "    fig = plt.figure()\n",
    "    plt.plot(x, rv.pmf(x), \"bo\")"
   ]
  },
  {
   "cell_type": "markdown",
   "id": "7c383236-56cd-4112-a1c9-e23b4f3a7e8e",
   "metadata": {},
   "source": [
    "### Poisson\n",
    "Expressa a probabilidade de um número de eventos ocorrer num intervalo fixo de medida (tempo, área, volume) **a uma taxa constante e conhecida** e os eventos serem **independentes** entre intervalos distintos, ou seja, o número de sucessos observado no intervalo de tempo $t-1$ não impacta no números de sucessos que será observado no intervalo de tempo $t$ seguinte. A isso damos o nome de **processos sem memória**. Além disso dois eventos não podem ocorrer de forma simultânea.\n",
    "\n",
    "$$X \\sim Poisson(\\lambda)$$\n",
    "\n",
    "#### Exemplos\n",
    "- Número de chamadas recebidas por minuto num telemarkenting, considerando que as chamadas são independentes, ou seja, receber uma chamada não muda a probabilidade de quando a próxima irá chegar.\n",
    "- O número de paciêntes que chegam na emergência de um hospital entre 10 e 11 da noite.\n",
    "- A quantidade de meteóros com mais de um metro de diametro que caem na terra em um ano.\n",
    "- O número de pessoas que são atendidas numa fila num tempo fixo.\n",
    "\n",
    "#### Propriedades\n",
    "- $f(x) = P(X = x) = \\dfrac{\\lambda^xe^{-\\lambda}}{x!}, \\forall x \\in \\mathbb{N}^+$\n",
    "- $E(X) = \\lambda$\n",
    "- $Var(X) = \\lambda$"
   ]
  },
  {
   "cell_type": "markdown",
   "id": "63dfd9c7-b100-4f18-9b6a-de8b98e530bc",
   "metadata": {},
   "source": [
    "Um site na web consegue receber, em média, 300 usuários num período de uma hora. Porém o site só aguenta um fluxo de no máximo 10 conexões por minuto. Qual a probabilidade do site cair em um dado minuto devido a um alto fluxo de usuários? "
   ]
  },
  {
   "cell_type": "markdown",
   "id": "f21cef87-cce0-47f5-b8d3-cea129af116d",
   "metadata": {},
   "source": [
    "$$X \\sim Poisson(\\lambda)$$\n",
    "$$X \\sim Poisson(5)$$\n",
    "$$P(X > 10) = 1 - P(X \\leq 10) = 1 - \\sum_{i=0}^{10}\\dfrac{5^ie^{-5}}{i!}$$\n"
   ]
  },
  {
   "cell_type": "code",
   "execution_count": 56,
   "id": "bf633e46-4251-431a-8485-b41c8e8a125d",
   "metadata": {},
   "outputs": [
    {
     "data": {
      "text/plain": [
       "0.013695268598382881"
      ]
     },
     "execution_count": 56,
     "metadata": {},
     "output_type": "execute_result"
    }
   ],
   "source": [
    "#calc func\n",
    "tx = 5\n",
    "\n",
    "rv = stats.poisson(tx)\n",
    "\n",
    "1 - rv.cdf(10)"
   ]
  },
  {
   "cell_type": "code",
   "execution_count": 197,
   "id": "67723f29-331f-4803-88f4-65823f234c45",
   "metadata": {},
   "outputs": [
    {
     "data": {
      "image/png": "[encoded data removed]",
      "text/plain": [
       "<Figure size 432x288 with 1 Axes>"
      ]
     },
     "metadata": {
      "needs_background": "light"
     },
     "output_type": "display_data"
    },
    {
     "data": {
      "image/png": "[encoded data removed]",
      "text/plain": [
       "<Figure size 432x288 with 1 Axes>"
      ]
     },
     "metadata": {
      "needs_background": "light"
     },
     "output_type": "display_data"
    },
    {
     "data": {
      "image/png": "[encoded data removed]",
      "text/plain": [
       "<Figure size 432x288 with 1 Axes>"
      ]
     },
     "metadata": {
      "needs_background": "light"
     },
     "output_type": "display_data"
    },
    {
     "data": {
      "image/png": "[encoded data removed]",
      "text/plain": [
       "<Figure size 432x288 with 1 Axes>"
      ]
     },
     "metadata": {
      "needs_background": "light"
     },
     "output_type": "display_data"
    },
    {
     "data": {
      "image/png": "[encoded data removed]",
      "text/plain": [
       "<Figure size 432x288 with 1 Axes>"
      ]
     },
     "metadata": {
      "needs_background": "light"
     },
     "output_type": "display_data"
    },
    {
     "data": {
      "image/png": "[encoded data removed]",
      "text/plain": [
       "<Figure size 432x288 with 1 Axes>"
      ]
     },
     "metadata": {
      "needs_background": "light"
     },
     "output_type": "display_data"
    }
   ],
   "source": [
    "\n",
    "for lbda in [1, 3, 5, 30, 50, 100]:\n",
    "    rv = stats.poisson(lbda)\n",
    "    x = np.arange(rv.ppf(0.001), rv.ppf(0.999))\n",
    "    fig = plt.figure()\n",
    "    plt.plot(x, rv.pmf(x), \"bo\")"
   ]
  },
  {
   "cell_type": "code",
   "execution_count": null,
   "id": "bbc9beeb-2455-4835-8e0c-fb966b800947",
   "metadata": {},
   "outputs": [],
   "source": [
    "\n",
    "lbda = 100\n",
    "rv = stats.poisson(lbda)\n",
    "x = np.arange(rv.ppf(0.001), rv.ppf(0.999))\n",
    "fig = plt.figure()\n",
    "plt.plot(x, rv.pmf(x), \"bo\")"
   ]
  },
  {
   "cell_type": "code",
   "execution_count": 209,
   "id": "e64caa62-4194-460d-af00-90219341f2e9",
   "metadata": {},
   "outputs": [
    {
     "data": {
      "image/png": "[encoded data removed]",
      "text/plain": [
       "<Figure size 432x288 with 1 Axes>"
      ]
     },
     "metadata": {
      "needs_background": "light"
     },
     "output_type": "display_data"
    },
    {
     "data": {
      "image/png": "[encoded data removed]",
      "text/plain": [
       "<Figure size 432x288 with 1 Axes>"
      ]
     },
     "metadata": {
      "needs_background": "light"
     },
     "output_type": "display_data"
    },
    {
     "data": {
      "image/png": "[encoded data removed]",
      "text/plain": [
       "<Figure size 432x288 with 1 Axes>"
      ]
     },
     "metadata": {
      "needs_background": "light"
     },
     "output_type": "display_data"
    },
    {
     "data": {
      "image/png": "[encoded data removed]",
      "text/plain": [
       "<Figure size 432x288 with 1 Axes>"
      ]
     },
     "metadata": {
      "needs_background": "light"
     },
     "output_type": "display_data"
    },
    {
     "data": {
      "image/png": "[encoded data removed]",
      "text/plain": [
       "<Figure size 432x288 with 1 Axes>"
      ]
     },
     "metadata": {
      "needs_background": "light"
     },
     "output_type": "display_data"
    }
   ],
   "source": [
    "np.random.seed(7)\n",
    "lbda = 100\n",
    "for n in [10,100,1000,10000,10000]:\n",
    "    fig, ax = plt.subplots(1, 1)\n",
    "    x = np.random.poisson(lbda, n)\n",
    "    sns.histplot(x, ax=ax, stat = \"density\")\n",
    "    ax.plot(x, rv.pmf(x),\"bo\")\n",
    "    #ax.plot(proportions.index, rv.pmf(list(proportions.index)), 'bo', ms=8)\n",
    "    plt.plot()"
   ]
  },
  {
   "cell_type": "markdown",
   "id": "9869a7f1-7512-491e-9a02-da20a61b2495",
   "metadata": {},
   "source": [
    "# Voltamos 20:30"
   ]
  },
  {
   "cell_type": "markdown",
   "id": "7ff169b7-4664-44ff-a6f3-f3a2d82a67b3",
   "metadata": {},
   "source": [
    "### Contínuas"
   ]
  },
  {
   "cell_type": "markdown",
   "id": "a9dae737-7cec-4605-bd52-d8475382326f",
   "metadata": {},
   "source": [
    "### Uniforme\n",
    "A distribuição uniforme contínua representa uma variável aleatória X que assume um valor arbitrário num intervalo $a,b \\in \\mathbb{R}$ equiprovável a qualquer outro.\n",
    "\n",
    "$$X \\sim Unif(a,b)$$\n",
    "\n",
    "#### Propriedades:\n",
    "\n",
    "- **Simétrica**\n",
    "- $f(x) = \\dfrac{1}{b-a}, \\forall x \\in [a,b]$\n",
    "- $F(x) = P(X \\leq x) = \\int_a^x f(x)dx = \\dfrac{x - a}{b-a}$\n",
    "- $E(X) = \\dfrac{a+b}{2}$\n",
    "- $Var(X) = \\dfrac{(b-a)^2}{12}$"
   ]
  },
  {
   "cell_type": "code",
   "execution_count": 16,
   "id": "d0cf2269-9518-4aad-a470-3b8d487aae83",
   "metadata": {},
   "outputs": [
    {
     "data": {
      "image/png": "[encoded data removed]",
      "text/plain": [
       "<Figure size 432x288 with 1 Axes>"
      ]
     },
     "metadata": {
      "needs_background": "light"
     },
     "output_type": "display_data"
    }
   ],
   "source": [
    "a = 0\n",
    "b = 1\n",
    "loc = a\n",
    "scale = b - loc\n",
    "x = np.linspace(a,b,100)\n",
    "rv = stats.uniform(loc = loc, scale = scale)\n",
    "sns.histplot(np.random.uniform(a,b,100_000), stat = \"density\")\n",
    "plt.plot(x, rv.pdf(x), 'r-', lw=2);"
   ]
  },
  {
   "cell_type": "markdown",
   "id": "d2836882-2b37-43e6-b29e-776b90c545c1",
   "metadata": {},
   "source": [
    "### Exponencial\n",
    "Modelo probabilístico para representar \"tempo de vida\" (tempo ou distância entre ocorrência de eventos) **considerando taxa de falha constante**, ou seja, se um componente que tem um tempo de vida que segue uma distribuição exponencial, logo, se ele durou até o tempo $t$, a probabilidade dele durar mais um tempo $s$ é a mesma de um componente novo durar $s$ unidades de tempo, isto é, $P(X > t + s|X > t) = P(X > s)$\n",
    "\n",
    "$$X \\sim Exp(\\lambda)$$\n",
    "\n",
    "#### Exemplos\n",
    "- Tempo até a próxima chamada telefônica.\n",
    "- Tempo até o próximo default de crédito ou sinistro de veículo.\n",
    "- Distância percorrida na estrada até o próximo acidente.\n",
    "- Tempo de atêndimento de um caixa de banco.\n",
    "\n",
    "#### Propriedades\n",
    "- $f(x) = \\lambda e^{-\\lambda x}, \\forall x \\in [0, \\infty)$\n",
    "- $F(x) = P(X \\leq x) = \\int_0^x f(x)dx = 1 - e^{-\\lambda x}$\n",
    "- $E(X) = \\dfrac{1}{\\lambda}$\n",
    "- $Var(X) = \\dfrac{1}{\\lambda^2}$"
   ]
  },
  {
   "cell_type": "markdown",
   "id": "b3aff332-a0fa-4442-8550-a1d01214fd63",
   "metadata": {},
   "source": [
    "**Ex.:** Imagine que você gerencie uma estação de telemarketing, que recebe ligações espaçadas em 20 segundos em média, e deseja saber qual é a probabilidade de receber ligações com intervalos de até 10 segundos entre uma e outra, para conseguir dimensionar a quantidade de pessoas para alocar na sua operação. \n",
    "\n",
    "<img src = \"../imgs/tempo_entre_eventos.png\" width = \"50%\"></img>\n"
   ]
  },
  {
   "cell_type": "code",
   "execution_count": 52,
   "id": "ccedbab1-2095-493a-bf85-af639d1ffde0",
   "metadata": {},
   "outputs": [
    {
     "data": {
      "image/png": "[encoded data removed]",
      "text/plain": [
       "<Figure size 432x288 with 1 Axes>"
      ]
     },
     "metadata": {
      "needs_background": "light"
     },
     "output_type": "display_data"
    }
   ],
   "source": [
    "# Tempo entre observacoes\n",
    "# Telemarketing, Sinistro de Carro, ...\n",
    "scale = 20 #média de tempo entre chamadas\n",
    "lamb = 1/scale #taxa de ligacoes por segundo 0.05\n",
    "\n",
    "rv = stats.expon(scale = scale)\n",
    "x = np.linspace(rv.ppf(0.001),\n",
    "                rv.ppf(0.999),\n",
    "                500)\n",
    "\n",
    "np.random.seed(7)\n",
    "plt.plot(x, rv.pdf(x),'r-')\n",
    "plt.hist(np.random.exponential(scale, 10000),\n",
    "         bins = range(0,91,10),\n",
    "         density=True,\n",
    "         alpha=0.2)\n",
    "plt.show()"
   ]
  },
  {
   "cell_type": "code",
   "execution_count": 21,
   "id": "8237f8d7-37b7-45c8-b591-68565d5589f2",
   "metadata": {},
   "outputs": [
    {
     "data": {
      "text/plain": [
       "0.3934693402873666"
      ]
     },
     "execution_count": 21,
     "metadata": {},
     "output_type": "execute_result"
    }
   ],
   "source": [
    "b = 10\n",
    "a = 0\n",
    "\n",
    "rv.cdf(b) - rv.cdf(a)"
   ]
  },
  {
   "cell_type": "markdown",
   "id": "6e06e96b-c356-43e6-9d59-0a821bd0c2fa",
   "metadata": {},
   "source": [
    "### Normal"
   ]
  },
  {
   "cell_type": "markdown",
   "id": "e998a97a-d490-44f4-b5e6-f5d9f7a67805",
   "metadata": {},
   "source": [
    "A curva de distribuição normal representa o comportamento de diversos processos e fenômenos comuns, como **características populacionais** do tipo: altura ou peso de uma população, a pressão sanguínea de um grupo de pessoas, quociente de inteligência; bem como outros comportamentos variados tais como: o tempo que um grupo de estudantes gasta para realizar uma prova, score de diferentes tipos de testes, mudanças em taxas de câmbio, preços de índices, ações, etc.\n",
    "\n",
    "A distribuição normal serve também como base para a inferência estatística clássica, sendo a premissa em diversos modelos e métodos.\n",
    "\n",
    "Na distribuição normal, a média, mediana e moda dos dados possuem o mesmo valor. \n",
    "\n",
    "<img src=\"https://dietassessmentprimer.cancer.gov/images/learn/distribution1.jpg\">\n",
    "\n",
    "Usaremos a notação \n",
    "\n",
    "$$X \\sim N(\\mu,\\sigma^2)$$\n",
    "\n",
    "para representar uma variável aleatória com distribuição normal de média $\\mu$ e variância $\\sigma^2$.\n",
    "\n",
    "<img src=\"https://upload.wikimedia.org/wikipedia/commons/thumb/7/74/Normal_Distribution_PDF.svg/1280px-Normal_Distribution_PDF.svg.png\" width=500></img>\n",
    "\n",
    "#### Propriedades\n",
    "- Simétrica ao redor da média $\\mu$\n",
    "- $f(x) = \\dfrac{1}{\\sigma\\sqrt{2\\pi}} e^{-\\frac{1}{2}\\left(\\frac{x - \\mu}{\\sigma}\\right)^2}, \\forall x \\in (-\\infty, \\infty)$\n",
    "- $F(x) = P(X \\leq x) = \\int_{-\\infty}^x f(x)dx = \\Phi(x)$\n",
    "- $E(X) = \\mu$\n",
    "- $Var(X) = \\sigma^2$\n",
    "- $Z = \\dfrac{X - \\mu}{\\sigma} \\sim N(0,1)$\n",
    "- $P(X \\leq \\mu) = P(X\\geq\\mu) = 50\\%$"
   ]
  },
  {
   "cell_type": "code",
   "execution_count": 57,
   "id": "d5cc3bef-edff-492a-9386-60355e73e52f",
   "metadata": {},
   "outputs": [
    {
     "data": {
      "text/plain": [
       "(array(0.), array(1.), array(0.), array(0.))"
      ]
     },
     "execution_count": 57,
     "metadata": {},
     "output_type": "execute_result"
    }
   ],
   "source": [
    "mu = 0\n",
    "std = 1\n",
    "rv = stats.norm(loc = mu, scale = std)\n",
    "mean, var, skew, kurt = rv.stats(moments='mvsk')\n",
    "mean, var, skew, kurt"
   ]
  },
  {
   "cell_type": "code",
   "execution_count": 35,
   "id": "141294fa-d0be-4833-bc12-114c093942d5",
   "metadata": {},
   "outputs": [
    {
     "data": {
      "text/plain": [
       "[<matplotlib.lines.Line2D at 0x7fdabc1c2910>]"
      ]
     },
     "execution_count": 35,
     "metadata": {},
     "output_type": "execute_result"
    },
    {
     "data": {
      "image/png": "[encoded data removed]",
      "text/plain": [
       "<Figure size 432x288 with 1 Axes>"
      ]
     },
     "metadata": {
      "needs_background": "light"
     },
     "output_type": "display_data"
    }
   ],
   "source": [
    "x = np.linspace(rv.ppf(0.001), rv.ppf(0.999), 100)\n",
    "plt.plot(x, rv.pdf(x), 'k-')"
   ]
  },
  {
   "cell_type": "code",
   "execution_count": 60,
   "id": "b3c6f09c-d4bd-4545-a429-ddade4fb4388",
   "metadata": {},
   "outputs": [
    {
     "data": {
      "text/plain": [
       "0.6826894921370859"
      ]
     },
     "execution_count": 60,
     "metadata": {},
     "output_type": "execute_result"
    }
   ],
   "source": [
    "rv.cdf(1) - rv.cdf(-1)"
   ]
  },
  {
   "cell_type": "markdown",
   "id": "d8d463f2-4f8f-41c4-a3de-b092dcbc0988",
   "metadata": {},
   "source": [
    "Na distribuição normal, os dados são distribuídos de forma muito particular, tal que o **desvio padrão** determina a proporção de dados em cada faixa:\n",
    "\n",
    "<img src=\"https://miro.medium.com/max/24000/1*IdGgdrY_n_9_YfkaCh-dag.png\" width=500>\n",
    "\n",
    "<img src=\"https://miro.medium.com/max/24000/1*IZ2II2HYKeoMrdLU5jW6Dw.png\" width=500>"
   ]
  },
  {
   "cell_type": "markdown",
   "id": "61fbf221-4ef7-4957-bee8-38d0df46daeb",
   "metadata": {},
   "source": [
    "**Ex.:** Dado que $X \\sim N(10,100)$, calcule $P(10 < X < 20)$\n",
    "\n",
    "Dado que $X \\sim N(10,100)$ então $ \\dfrac{X-10}{10} = Z \\sim N(0,1)$ e portanto\n",
    "\n",
    "$$P(10 < X < 20) = P(\\dfrac{10-10}{10} < \\dfrac{X-10}{10} < \\dfrac{20-10}{10} = P(0 < Z < 1) = 0.3413$$"
   ]
  },
  {
   "cell_type": "code",
   "execution_count": 61,
   "id": "c7dc2408-7158-4974-81bd-a510458ca25a",
   "metadata": {},
   "outputs": [
    {
     "data": {
      "text/plain": [
       "0.3413447460685429"
      ]
     },
     "execution_count": 61,
     "metadata": {},
     "output_type": "execute_result"
    }
   ],
   "source": [
    "#calc normal padrao\n",
    "mu = 0\n",
    "std = 1\n",
    "\n",
    "rv = stats.norm(0,1)\n",
    "\n",
    "rv.cdf(1) - rv.cdf(0) "
   ]
  },
  {
   "cell_type": "code",
   "execution_count": 62,
   "id": "9b5e9ee0-7a04-4751-9813-fdc1436cd850",
   "metadata": {},
   "outputs": [
    {
     "data": {
      "text/plain": [
       "0.3413447460685429"
      ]
     },
     "execution_count": 62,
     "metadata": {},
     "output_type": "execute_result"
    }
   ],
   "source": [
    "#calc normal\n",
    "mu = 10\n",
    "std = 10\n",
    "\n",
    "rv = stats.norm(mu, std)\n",
    "\n",
    "rv.cdf(20) - rv.cdf(10) "
   ]
  },
  {
   "cell_type": "code",
   "execution_count": 64,
   "id": "f7aae850-cfe6-4b91-b99f-b08d025e0ce1",
   "metadata": {},
   "outputs": [
    {
     "data": {
      "text/plain": [
       "0.6826894921370859"
      ]
     },
     "execution_count": 64,
     "metadata": {},
     "output_type": "execute_result"
    }
   ],
   "source": [
    "# X ~ N(10, 100)\n",
    "#P(0 < X < 20) -> P(-1 < Z < 1)\n",
    "\n",
    "mu = 0\n",
    "std = 1\n",
    "\n",
    "rv = stats.norm(mu, std)\n",
    "\n",
    "rv.cdf(1) - rv.cdf(-1) "
   ]
  },
  {
   "cell_type": "markdown",
   "id": "caa8b5ef-40aa-450c-84ed-606a6256426c",
   "metadata": {},
   "source": [
    "## Z-Score\n",
    "\n",
    "O **z-score** de uma observação nada mais é que **o número de desvios padrões que a obervação está com relação à média**:\n",
    "\n",
    "$$ z = \\frac{x - \\mu}{\\sigma} $$\n",
    "\n",
    "Como vimos acima, em uma distribuição normal, 99.73% das observações são esperadas de estar entre 3 desvios-padrão da média. Assim, obervações para além desta faixa são muito improváveis de ocorrer (0.27% de probabilidade), de forma que podem ser consideradas outliers.\n",
    "\n",
    "Assim, é comum considerar outliers os pontos tais que $|z| > 3$ (embora seja comum também variar este z-score limite, para 2.5 o, 3.5, etc.)\n",
    "\n",
    "**OBS.: naturalmente, este método é altamente dependente da hipótese de que seus dados são normalmente distribuídos! Por isso, funciona apenas aproximadamente para outros casos. Mas é uma boa aproximação, em geral.**"
   ]
  },
  {
   "cell_type": "markdown",
   "id": "f8b5afaa-6ea1-4d08-9aaf-b2efafd2efc2",
   "metadata": {},
   "source": [
    "**ex.:**\n",
    "- z = 1.5 significa que estamos a um desvio padrão e meio distântes da média\n",
    "- z = 2.25 significa que estamos a dois desvio padrão e um quarto distântes da média"
   ]
  },
  {
   "cell_type": "markdown",
   "id": "fd045e28-b002-4e8b-ae7f-cf72914eb5f2",
   "metadata": {},
   "source": [
    "# Teorema do Limite Central ou Teorema Central do Limite"
   ]
  },
  {
   "cell_type": "markdown",
   "id": "f49a9087-f374-42e7-9c53-a6ee11ec897a",
   "metadata": {},
   "source": [
    "## Apresentação visual "
   ]
  },
  {
   "cell_type": "code",
   "execution_count": 65,
   "id": "a427d0f8-c0cc-4932-a5ed-4db5f90868fc",
   "metadata": {},
   "outputs": [
    {
     "data": {
      "text/plain": [
       "array([ 1.58753819, 30.27517349, 11.53963728, 25.70837054, 76.32472424,\n",
       "       15.46528554, 13.90781245,  1.49557297,  6.25149289, 13.8582442 ])"
      ]
     },
     "execution_count": 65,
     "metadata": {},
     "output_type": "execute_result"
    }
   ],
   "source": [
    "#simulacao\n",
    "np.random.seed(7)\n",
    "N = 500_000\n",
    "rand = np.random.exponential(scale = 20, size = N) #scale = 1/lambda -> lambda = 0.05\n",
    "rand[:10]"
   ]
  },
  {
   "cell_type": "code",
   "execution_count": 69,
   "id": "18a3099b-bf68-4c8f-a436-3c6b9718830f",
   "metadata": {},
   "outputs": [
    {
     "data": {
      "text/plain": [
       "<AxesSubplot:ylabel='Count'>"
      ]
     },
     "execution_count": 69,
     "metadata": {},
     "output_type": "execute_result"
    },
    {
     "data": {
      "image/png": "[encoded data removed]",
      "text/plain": [
       "<Figure size 432x288 with 1 Axes>"
      ]
     },
     "metadata": {
      "needs_background": "light"
     },
     "output_type": "display_data"
    }
   ],
   "source": [
    "sns.histplot(rand, kde = False)"
   ]
  },
  {
   "cell_type": "code",
   "execution_count": 68,
   "id": "61affdba-bae9-4583-aa8f-4cebcf1b3b0f",
   "metadata": {},
   "outputs": [
    {
     "data": {
      "text/plain": [
       "array([[ 1.58753819, 30.27517349, 11.53963728, ..., 18.16062454,\n",
       "        19.92948996,  0.33171072],\n",
       "       [ 1.75010351, 14.93741203,  9.61674954, ..., 55.6212759 ,\n",
       "         0.80297444, 20.91556025],\n",
       "       [18.27349722, 26.27727486, 27.22890642, ..., 11.78735906,\n",
       "        54.28475307, 15.4020335 ],\n",
       "       ...,\n",
       "       [ 3.43691339,  9.88465586, 11.38483324, ...,  9.54695793,\n",
       "         0.14652082,  0.94563567],\n",
       "       [22.81432108,  5.40044636,  9.62530952, ...,  3.00543823,\n",
       "         5.33411694, 46.8586863 ],\n",
       "       [32.8323818 , 11.09830382,  3.76515175, ..., 25.90021964,\n",
       "        13.06645267, 67.53921956]])"
      ]
     },
     "execution_count": 68,
     "metadata": {},
     "output_type": "execute_result"
    }
   ],
   "source": [
    "ensaios = rand.reshape((500, 1000))\n",
    "ensaios"
   ]
  },
  {
   "cell_type": "code",
   "execution_count": 49,
   "id": "8dcb4b34-4c54-43e3-83e9-1f19080a3e7a",
   "metadata": {
    "scrolled": true,
    "tags": []
   },
   "outputs": [
    {
     "data": {
      "text/plain": [
       "array([19.72982409, 19.4053191 , 19.58638621, 20.20211207, 19.80360792,\n",
       "       19.91263111, 20.47751701, 19.60973621, 20.43518105, 19.60627881,\n",
       "       19.77037905, 19.53524009, 20.50501952, 20.38453389, 19.72894659,\n",
       "       18.7469465 , 19.87590978, 20.23737846, 19.2224474 , 19.942038  ,\n",
       "       19.95200914, 19.98607984, 19.2172893 , 19.99691244, 20.11324601,\n",
       "       20.01283503, 19.63118571, 19.29104309, 19.82923769, 19.51522616,\n",
       "       19.60247677, 20.03487036, 20.74936098, 20.25651726, 19.88038122,\n",
       "       19.83862387, 19.85831036, 19.76874531, 19.7333038 , 20.23055747,\n",
       "       20.44497878, 20.73946109, 20.76483095, 19.6484983 , 20.13808719,\n",
       "       20.17967834, 21.2135138 , 20.00327392, 20.32858067, 20.87489607,\n",
       "       20.29415876, 20.05425267, 20.81370718, 19.81288672, 20.10173158,\n",
       "       20.21356142, 19.39606303, 20.18641028, 20.23933352, 20.92129439,\n",
       "       19.0908129 , 19.947839  , 19.63415622, 19.30297143, 20.70393503,\n",
       "       20.49992765, 19.74045609, 19.82494676, 20.41781148, 19.92178175,\n",
       "       20.5050249 , 19.610368  , 19.33877161, 19.6446086 , 20.80720176,\n",
       "       19.37823675, 19.62247048, 20.19332277, 19.93060071, 19.78345223,\n",
       "       19.80575801, 20.48510223, 19.55822128, 20.97293232, 19.80100191,\n",
       "       20.11123453, 19.00862769, 20.91474876, 19.78327642, 19.88911174,\n",
       "       20.83158284, 19.81928193, 20.3409322 , 19.42770754, 20.16597999,\n",
       "       19.54846366, 19.87152236, 20.44464303, 20.68366209, 21.05180819,\n",
       "       20.42107895, 19.60352851, 19.63899978, 19.61778534, 20.13093371,\n",
       "       20.2151259 , 20.81043563, 19.91452252, 20.63700107, 20.61853832,\n",
       "       20.18681176, 20.17643449, 20.47535458, 19.68328385, 20.85056412,\n",
       "       20.21147451, 20.7720272 , 20.72964499, 19.80597758, 19.69498369,\n",
       "       20.92256134, 20.52273616, 21.26614377, 20.232448  , 19.58918145,\n",
       "       19.95257346, 19.88081263, 20.65144165, 19.28976117, 20.43300878,\n",
       "       19.7529645 , 20.22711532, 19.16505949, 20.32720172, 20.18740412,\n",
       "       19.43122131, 19.10269673, 20.17478197, 20.40122376, 20.21377366,\n",
       "       20.61249588, 20.08940481, 19.14306263, 19.62814272, 20.33246191,\n",
       "       19.88810128, 18.60531624, 19.59042275, 19.85163328, 20.47023849,\n",
       "       20.79173089, 19.32467154, 20.60482502, 20.68871598, 20.18991795,\n",
       "       20.07927899, 20.57195933, 19.70859565, 18.90754742, 20.54081019,\n",
       "       19.7193492 , 19.35476109, 19.40789921, 19.57850519, 19.8077424 ,\n",
       "       20.67412302, 18.18777581, 19.80471522, 20.040097  , 19.23110933,\n",
       "       19.79184138, 20.5816443 , 21.13248336, 20.26389556, 20.8964383 ,\n",
       "       20.71223771, 21.05869222, 20.90179242, 20.39994197, 20.28875883,\n",
       "       19.90045807, 20.15687215, 20.00174888, 20.79749089, 19.24403281,\n",
       "       21.23971889, 19.20079156, 20.58024425, 20.17227107, 19.99000554,\n",
       "       18.64603552, 19.68595881, 20.18437305, 20.53079142, 19.72108473,\n",
       "       19.71800227, 21.14076368, 19.86331605, 19.54820406, 19.03960936,\n",
       "       20.61087289, 20.117227  , 19.89198156, 18.89639528, 20.61782564,\n",
       "       20.12843   , 19.79350073, 19.93556945, 19.13650129, 19.32826777,\n",
       "       19.62830103, 19.42231602, 19.17869307, 19.49076396, 21.2594831 ,\n",
       "       19.47669697, 19.71639728, 19.7940835 , 19.92810098, 18.81200228,\n",
       "       21.20219999, 19.25661453, 19.59657946, 20.81679024, 19.03023757,\n",
       "       19.65867498, 21.00011264, 19.47451543, 19.69758843, 21.12971877,\n",
       "       19.96071541, 19.51861934, 20.29343353, 20.22687406, 19.83085651,\n",
       "       19.55238276, 21.64705738, 19.99297972, 18.91405413, 20.40274067,\n",
       "       19.52792022, 19.78621984, 19.66838716, 18.91137013, 19.52090444,\n",
       "       21.47511911, 19.01193226, 21.07639238, 21.91446768, 20.06288841,\n",
       "       20.04761563, 19.74011318, 20.93063987, 19.52495786, 19.7960782 ,\n",
       "       20.84830541, 19.56365902, 19.13428287, 20.2963362 , 21.2503208 ,\n",
       "       20.86810547, 19.09044916, 20.53359325, 20.33128309, 19.37006964,\n",
       "       21.10540179, 19.51185156, 19.54718398, 20.91999762, 19.78779442,\n",
       "       20.6108968 , 19.83594357, 18.39651611, 19.49504209, 20.21343019,\n",
       "       20.11208005, 19.80238542, 20.65436664, 20.96694527, 19.59480925,\n",
       "       20.11216113, 19.80453316, 19.52416396, 19.93317962, 20.52808117,\n",
       "       20.19875746, 19.31861338, 19.63871942, 21.11585862, 20.3994856 ,\n",
       "       20.39630344, 19.91888979, 19.35741031, 20.02315874, 19.82168213,\n",
       "       20.19430916, 20.07121036, 18.86840146, 20.70703061, 19.48018874,\n",
       "       19.33221842, 18.51490964, 20.36541038, 18.87562224, 20.04480984,\n",
       "       19.21353453, 20.08816509, 20.953801  , 19.64274245, 19.93112717,\n",
       "       20.13981124, 20.38528963, 20.1034196 , 20.8971042 , 18.96392639,\n",
       "       20.59202349, 20.18460504, 20.30049817, 20.08221386, 19.24834621,\n",
       "       19.11051348, 20.5555962 , 19.6483806 , 20.84929421, 20.50050091,\n",
       "       20.81366318, 19.2675628 , 19.69197467, 19.93808417, 20.29688833,\n",
       "       20.0142398 , 21.71125413, 19.31224979, 19.79859158, 19.91453505,\n",
       "       20.22084889, 19.66830718, 19.64238131, 20.32871939, 20.12829355,\n",
       "       19.94899998, 19.58114779, 19.5004013 , 19.60993961, 18.75233677,\n",
       "       19.108278  , 20.14028597, 20.48999224, 19.89563473, 18.86251907,\n",
       "       19.19423641, 21.10017507, 20.14080721, 19.74083515, 21.48957713,\n",
       "       19.98366488, 19.84614049, 19.90115273, 20.22150666, 19.58929685,\n",
       "       21.15725052, 20.1235121 , 20.21218724, 20.22780152, 20.61245178,\n",
       "       20.41897591, 21.184228  , 19.85570969, 19.69316544, 20.71786272,\n",
       "       19.97492374, 20.80481818, 20.91432176, 20.29853493, 19.37112741,\n",
       "       18.60852898, 19.44490651, 20.20558141, 19.87838056, 19.82142766,\n",
       "       19.84073498, 21.35739168, 18.41420943, 19.27704729, 19.54333582,\n",
       "       19.50638607, 20.87036429, 20.72840172, 20.42823663, 19.99491377,\n",
       "       20.29208929, 19.12921257, 19.95950961, 19.51041489, 19.24351038,\n",
       "       20.23920707, 20.97952013, 19.73507774, 22.51817125, 20.45568032,\n",
       "       19.5719873 , 19.87411097, 20.14996837, 19.15544915, 21.83407512,\n",
       "       20.78247111, 20.7599116 , 20.34033409, 19.45841402, 19.64163383,\n",
       "       20.71178778, 19.00314526, 19.91794848, 19.03322105, 20.49472886,\n",
       "       20.39825581, 19.2949185 , 18.86005912, 20.88146886, 20.15618374,\n",
       "       20.0772642 , 20.45995976, 20.10610123, 19.2862387 , 20.03406936,\n",
       "       20.75035109, 20.78833055, 20.39483776, 20.33276427, 20.0822637 ,\n",
       "       20.31388024, 19.49960408, 19.88394761, 19.32886743, 20.67580178,\n",
       "       20.29241663, 20.05679072, 20.64249062, 19.89169926, 19.94358108,\n",
       "       19.97573853, 20.12775055, 20.39642312, 20.798389  , 18.99338772,\n",
       "       20.14024653, 20.85777949, 20.46931178, 20.18957105, 20.54021489,\n",
       "       20.07254288, 19.93347909, 20.14955685, 19.76355992, 19.96943911,\n",
       "       19.25695837, 20.77454704, 20.36026281, 20.11839259, 19.7996536 ,\n",
       "       18.56730526, 19.98232824, 20.39434029, 19.35121034, 19.86979913,\n",
       "       20.30829204, 20.49559877, 19.41361498, 19.55653759, 20.27627795,\n",
       "       19.43579992, 21.11088322, 20.47587778, 20.7246367 , 19.72851994,\n",
       "       21.20120157, 20.07883734, 19.18173433, 19.55297923, 18.67533099,\n",
       "       19.73784806, 19.89526698, 19.72188287, 20.83056667, 19.96168558,\n",
       "       20.6468622 , 19.84155818, 18.8522491 , 18.86642009, 20.41350961,\n",
       "       20.46945961, 19.60962991, 19.1954876 , 19.78729   , 19.89306319,\n",
       "       20.41572701, 20.61307473, 19.59531299, 19.72700678, 21.67070941])"
      ]
     },
     "execution_count": 49,
     "metadata": {},
     "output_type": "execute_result"
    }
   ],
   "source": [
    "ensaios.mean(axis = 1)"
   ]
  },
  {
   "cell_type": "code",
   "execution_count": 48,
   "id": "772bd2c3-8fba-4405-95c5-dd8891c88e96",
   "metadata": {},
   "outputs": [
    {
     "data": {
      "image/png": "[encoded data removed]",
      "text/plain": [
       "<Figure size 432x288 with 1 Axes>"
      ]
     },
     "metadata": {
      "needs_background": "light"
     },
     "output_type": "display_data"
    }
   ],
   "source": [
    "sns.histplot(ensaios.mean(axis = 1), kde = True);"
   ]
  },
  {
   "cell_type": "code",
   "execution_count": 16,
   "id": "61e6c7c0-3572-4265-a74f-ea49cc2d67a7",
   "metadata": {},
   "outputs": [
    {
     "data": {
      "text/plain": [
       "20.024477531806397"
      ]
     },
     "execution_count": 16,
     "metadata": {},
     "output_type": "execute_result"
    }
   ],
   "source": [
    "ensaios.mean(axis = 1).mean()"
   ]
  },
  {
   "cell_type": "code",
   "execution_count": 70,
   "id": "0982a2a3-105f-407f-9d76-3e89da549b26",
   "metadata": {},
   "outputs": [
    {
     "data": {
      "text/plain": [
       "315.25402058837903"
      ]
     },
     "execution_count": 70,
     "metadata": {},
     "output_type": "execute_result"
    }
   ],
   "source": [
    "ensaios.mean(axis = 1).std()*500"
   ]
  },
  {
   "cell_type": "code",
   "execution_count": 71,
   "id": "6c55a1bc-aece-4415-9f53-d1dfc71da389",
   "metadata": {},
   "outputs": [
    {
     "data": {
      "text/plain": [
       "399.99999999999994"
      ]
     },
     "execution_count": 71,
     "metadata": {},
     "output_type": "execute_result"
    }
   ],
   "source": [
    "# var teórica \n",
    "1/(0.05**2)"
   ]
  },
  {
   "cell_type": "markdown",
   "id": "ce715458-7b66-45b4-aa07-48916501bed7",
   "metadata": {},
   "source": [
    "### Diferença entre poucas repetições com muitas observações e muitas repetições com poucos dados"
   ]
  },
  {
   "cell_type": "code",
   "execution_count": 53,
   "id": "3f4d0f53-7b8c-4888-ba2b-d60b4df174dd",
   "metadata": {},
   "outputs": [
    {
     "data": {
      "text/plain": [
       "<matplotlib.legend.Legend at 0x7ff7b014ed30>"
      ]
     },
     "execution_count": 53,
     "metadata": {},
     "output_type": "execute_result"
    },
    {
     "data": {
      "image/png": "[encoded data removed]",
      "text/plain": [
       "<Figure size 432x288 with 1 Axes>"
      ]
     },
     "metadata": {
      "needs_background": "light"
     },
     "output_type": "display_data"
    }
   ],
   "source": [
    "for n in [10, 100, 500, 1000, 5000]:\n",
    "    sns.kdeplot(rand.reshape((int(N/n), n)).mean(axis = 1), label = \"n:\"+ str(n) )\n",
    "plt.legend(loc = \"best\", frameon = False)"
   ]
  },
  {
   "cell_type": "markdown",
   "id": "3b703e43-6d2f-448f-b665-36c196655133",
   "metadata": {},
   "source": [
    "## Apresentação Teórica\n",
    "\n",
    "Esse é um dos teoremas mais poderosos e fundamentais da estatística, porque ele é usado **como base para muitos outros resultados**. \n",
    "\n",
    "A ideia é que muitos dos resultados de inferência estatística são válidos assumindo como hipótese que os dados sob análise (**mais precisamente, os estimadores pontuais**) seguem uma distribuição normal. \n",
    "\n",
    "No entanto, há muitos casos de interesse em que a **distribuição populacional não é normal** -- e, na verdade, não temos como saber com segurança qual é a distribuição populacional, dado que temos apenas acesso às amostras!\n",
    "\n",
    "Assim, a priori, muitos dos resultados e métodos da inferência estatística seriam invalidados, dado que não podemos assegurar qual é a distribuição populacional dos dados que estamos analisando.\n",
    "\n",
    "E é neste contexto que o TLC mostra seu poder e importância, pois ele mostra que **estimadores pontuais de parâmetros populacionais serão normalmente distribuídos, INDEPENDENTE DA DISTRIBUIÇÃO POPULACIONAL!**\n",
    "\n",
    "Vamos enunciá-lo, e depois veremos alguns exemplos:\n",
    "\n",
    "> Seja uma **amostra aleatória** ($x_1, x_2, \\cdots, x_n$) de uma variável aleatória $X$ com **qualquer distribuição**, média $\\mu$ e desvio padrão $\\sigma$. Para $n$ suficientemente grande, a **distribuição das médias amostrais**, $\\overline{X}$, se **aproxima de uma distribuição normal** com média $\\mu_{\\overline{x}} = \\mu$ e erro padrão $SE_{\\overline{X}} = \\frac{\\sigma}{\\sqrt{n}}$. Isto é, $$\\overline{X} \\sim N \\left(\\mu, \\dfrac{\\sigma^2}{n} \\right)$$\n",
    "OBS.: quando estamos falando do **estimador amostral do desvio padrão**, costumamos usar o termo **erro padrão** (standard error), denotado $SE$.\n",
    "\n",
    "O que o TLC para as médias diz, essencialmente, é:\n",
    "\n",
    "> A distribuição de **médias das amostras** tiradas de **qualquer distribuição populacional** será **aproximadamente normal**, contanto que fizermos uma quantidade razoável de amostras com tamanho amostral.\n",
    "\n",
    "E isso é um resultado fantástico, pois nos permite a construção de uma **distribuição normal**, para a qual vale uma série de resultados e teoremas, a partir de **qualquer distribuição populacional**!"
   ]
  },
  {
   "cell_type": "markdown",
   "id": "d6c959d7-d1ec-4fc8-834c-104ebf4998e3",
   "metadata": {},
   "source": [
    "<img src = \"../imgs/std_error.png\" width = \"50%\"> "
   ]
  },
  {
   "cell_type": "markdown",
   "id": "a6922ad7-d658-45ed-80ca-bb13af5a6f8c",
   "metadata": {},
   "source": [
    "# Fontes\n",
    "\n",
    "- https://en.wikipedia.org/wiki/Probability_distribution\n",
    "- https://www.johndcook.com/blog/2011/09/27/bayesian-amazon/\n",
    "- <img src = \"https://www.edusp.com.br/wp-content/uploads/2018/03/probabilidade-um-curso-introdutorio-1.jpg\" width= \"25%\"></img>"
   ]
  }
 ],
 "metadata": {
  "kernelspec": {
   "display_name": "Python 3.8.8 64-bit ('base': conda)",
   "language": "python",
   "name": "python388jvsc74a57bd0dca0ade3e726a953b501b15e8e990130d2b7799f14cfd9f4271676035ebe5511"
  },
  "language_info": {
   "codemirror_mode": {
    "name": "ipython",
    "version": 3
   },
   "file_extension": ".py",
   "mimetype": "text/x-python",
   "name": "python",
   "nbconvert_exporter": "python",
   "pygments_lexer": "ipython3",
   "version": "3.8.8"
  }
 },
 "nbformat": 4,
 "nbformat_minor": 5
}
