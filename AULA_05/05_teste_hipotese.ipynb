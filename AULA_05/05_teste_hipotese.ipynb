{
 "cells": [
  {
   "cell_type": "code",
   "execution_count": 26,
   "id": "30958a84-dff1-47cb-82f0-0e1272b6564a",
   "metadata": {},
   "outputs": [],
   "source": [
    "import numpy as np\n",
    "import pandas as pd\n",
    "from scipy import stats\n",
    "import math\n",
    "import matplotlib.pyplot as plt\n",
    "import seaborn as sns"
   ]
  },
  {
   "cell_type": "markdown",
   "id": "e669d511-6886-407e-be64-f0c8ca225db1",
   "metadata": {},
   "source": [
    "## Estatística - Amostragem"
   ]
  },
  {
   "cell_type": "markdown",
   "id": "9e370391-3615-4df7-b625-3805685caede",
   "metadata": {},
   "source": [
    "Quando se prepara um macarrão, uma unidade desse é retirada para saber se o ponto de cozimento é o desejado.\n",
    "\n",
    "Pra saber se uma sopa está corretamente salgada, experimentamos uma única colherada.\n",
    "\n",
    "Quando um médico deseja identificar se um paciente está doente, alguns ml de sangue são retirados para análise. \n",
    "\n",
    "Em todos os casos acima, não seria conveniente analisar o todo, para chegar a uma conclusão satisfatória. De fato, o que fazemos é **tirar uma parte do todo** para validar alguma suposição.\n",
    "\n",
    "Este procedimento é chamado de **amostragem**, e tem como objetivo **obter informações, tirar conclusões sobre o todo** com base na **análise de dados coletados de parte do todo (amostra)**.\n",
    "\n",
    "A **inferência estatística** é a área que define:\n",
    "\n",
    "- Como coletar as amostras do todo a serem analisadas;\n",
    "- Como, e com que confiança, podemos generalizar as conclusões para o todo.\n",
    "\n",
    "<img src=\"https://phhp-faculty-cantrell.sites.medinfo.ufl.edu/files/2012/07/mod10-big_picture_inference.gif\" width=\"600\">"
   ]
  },
  {
   "cell_type": "markdown",
   "id": "22569c73-43aa-46e2-baa5-11adf82ea662",
   "metadata": {},
   "source": [
    "## Definições\n",
    "\n",
    "**População** ou **Universo**: é o conjunto de todas as unidades elementares de interesse: o todo. A população sempre deve ser definida claramente e em termos da informação que se pretende conhecer;\n",
    "\n",
    "**Unidade**: trata-se de qualquer elemento da populaçao;\n",
    "\n",
    "**Amostra**: uma parte ou subconjunto da população;\n",
    "\n",
    "**Parâmetro Populacional**: é o vetor correspondente a todos os valores de uma variável de interesse. Pode ser qualitativa (gosto musical, opnião sobre o governo, etc) ou quantitativa (média, proporção, quantidade, etc).\n",
    "\n",
    "**Estimadores pontuais**: são valores que **estimam** os parâmetros populacionais, calculados com base em uma amostra.\n",
    "<br>\n",
    "\n",
    "- Exemplos de parâmetros populacionais: \n",
    "    - média: $\\mu$\n",
    "    - diferença de médias: $\\mu_1 - \\mu_2$\n",
    "    - proporção: $p$\n",
    "    - diferença de proporções: $p1 - p2$\n",
    "    \n",
    "- Exemplos de estimadores de ponto: \n",
    "    - média: $\\bar{x}$\n",
    "    - diferença de médias: $\\bar{x}_1 - \\bar{x}_2$\n",
    "    - proporção: $\\hat{p}$\n",
    "    - diferença de proporções: $\\hat{p}_1 - \\hat{p}_2$"
   ]
  },
  {
   "cell_type": "markdown",
   "id": "46e7914f-8b40-48fd-9283-36c4a03549f7",
   "metadata": {},
   "source": [
    "## Tipos de Amostragem\n",
    "\n",
    "- **Amostra probabilística**: todos os elementos da população apresentam probabilidade maior que zero de serem selecionados\n",
    "\n",
    "\n",
    "- **Amostra não probabilística**: quando não há probabilidade clara/conhecida de seleção dos elementos. Os elementos são escolhidos de forma julgamental.\n",
    "\n",
    "Aqui, abordaremos apenas os métodos relacionados à **amostragem probabilística**, com o objetico de obter uma **amostra representativa**. \n",
    "\n",
    "Uma amostra é considerada representativa quando consegue **refletir as caracteristicas da população**.\n",
    "\n",
    "Vamos ver os principais **métodos de amostragem**:"
   ]
  },
  {
   "cell_type": "markdown",
   "id": "f7a2200a-269b-4ae5-a266-af204f733101",
   "metadata": {},
   "source": [
    "## Amostra Aleatória Simples\n",
    "\n",
    "Este é o método mais simples e mais importante de seleção de uma amostra, pois pode ser usada em combinação com outros métodos. A premissa assumida é que a população é homogênea com relação à característica de interesse.\n",
    "\n",
    "A amostra aleatória simples pode ser realizada com ou sem reposição. No caso em que há reposição, cada elemento pode ser sorteado mais de uma vez. Para exemplificar, suponha que se queira sortear um número aleatório de uma urna, se for uma Amostra Aleatória Simples com preposição,  este número voltará para urna para participar do próximo sorteio. Se não houver reposição, cada elemento só poderá ser selecionado uma vez para compor a amostra.\n",
    " \n",
    "Considere uma população formada por $N$ elementos (conhecido e finito). Este método consiste em selecionar $n$ elementos, sendo que cada elemento tem a mesma probabilidade de ser selecionado.\n",
    "\n",
    "**Exemplo**: Considere uma população formada por 20 alunos. Selecionar de forma aleatória 5 alunos, **sem reposição**."
   ]
  },
  {
   "cell_type": "code",
   "execution_count": 2,
   "id": "0f7a2303-3371-4061-aceb-dc318ff3fff3",
   "metadata": {},
   "outputs": [
    {
     "name": "stdout",
     "output_type": "stream",
     "text": [
      "População:  [0, 1, 2, 3, 4, 5, 6, 7, 8, 9, 10, 11, 12, 13, 14, 15, 16, 17, 18, 19] \n",
      "\n"
     ]
    }
   ],
   "source": [
    "import random\n",
    "\n",
    "random.seed(7)\n",
    "pop = list(range(20))\n",
    "print(\"População: \", pop, \"\\n\")"
   ]
  },
  {
   "cell_type": "code",
   "execution_count": 28,
   "id": "1b4c145a-9c2e-4aa2-8779-f19196d712f8",
   "metadata": {},
   "outputs": [
    {
     "data": {
      "text/plain": [
       "[13, 11, 12, 7, 4]"
      ]
     },
     "execution_count": 28,
     "metadata": {},
     "output_type": "execute_result"
    }
   ],
   "source": [
    "#amostra\n",
    "random.sample(pop, 5)"
   ]
  },
  {
   "cell_type": "markdown",
   "id": "d8b8efba-3d1a-42e9-93b9-6dbe17a0d15b",
   "metadata": {},
   "source": [
    "## Amostra Estratificada\n",
    "\n",
    "Trata-se do método em que a população é dividida em grupos (estratos) segundo alguma(s) característica(s) conhecida(s) na população sob estudo. \n",
    "\n",
    "São exemplos de estrato: gênero, faixa etária, região geográfica, profissão, etc. \n",
    "\n",
    "No geral, é usada quanto a população é heterogênea sob a ótica das características analisadas. \n",
    "\n",
    "Procedimento de amostragem:\n",
    "\n",
    "- Dividir as $ N $ unidades da população em $N_1, N_2, \\cdots , N_j$ estratos distintos e homogêneos\n",
    "\n",
    "\n",
    "- Selecionar, ao acaso, uma amostra de tamanhos $n_1, n_2, \\cdots , n_j$ , de modo que o tamanho da amostra seja $n = n_1+n_2+ \\cdots +n_j$. O tamanho amostral pode ser proporcional à representatividade do estrato\n",
    "\n",
    "\n",
    "**Exemplo**: Considere a população formada pelos integrantes de uma escola. Dependendo do objetivo do estudo, esta população poderia ser dividida em alunos, professores, e demais funcionários (grupos mais homogêneos com relação à função na escola). \n",
    "\n",
    "Agora considere que a proporção de cada estrato seja: 50% alunos, 25% professores e 25% servidores. A amostragem poderia ser realizada dentro de cada estrato de forma que o tamanho amostral preserve esta característica. Sendo assim, se amostra total é $n$, a composição será $0,5 \\times n$ de alunos, $0,25\\times n$ de professores e $0,25\\times n$ de servidores.\n",
    "\n",
    "<img src=\"https://faculty.elgin.edu/dkernler/statistics/ch01/images/strata-sample.gif\" width=400>\n"
   ]
  },
  {
   "cell_type": "code",
   "execution_count": 2,
   "id": "062886cf-762f-4127-843d-30dfefa926a1",
   "metadata": {},
   "outputs": [
    {
     "name": "stdout",
     "output_type": "stream",
     "text": [
      "Tamanho da amostra de professores: 12.5\n",
      "Tamanho da amostra de alunos: 25.0\n",
      "Tamanho da amostra de servidores: 12.5\n"
     ]
    }
   ],
   "source": [
    "tamanho_amostra = 50\n",
    "\n",
    "print(\"Tamanho da amostra de professores:\", 0.25*tamanho_amostra)\n",
    "print(\"Tamanho da amostra de alunos:\", 0.5*tamanho_amostra)\n",
    "print(\"Tamanho da amostra de servidores:\", 0.25*tamanho_amostra)"
   ]
  },
  {
   "cell_type": "code",
   "execution_count": 30,
   "id": "75a9acef-50c2-4cd0-b864-48e55053212f",
   "metadata": {},
   "outputs": [
    {
     "data": {
      "text/html": [
       "<div>\n",
       "<style scoped>\n",
       "    .dataframe tbody tr th:only-of-type {\n",
       "        vertical-align: middle;\n",
       "    }\n",
       "\n",
       "    .dataframe tbody tr th {\n",
       "        vertical-align: top;\n",
       "    }\n",
       "\n",
       "    .dataframe thead th {\n",
       "        text-align: right;\n",
       "    }\n",
       "</style>\n",
       "<table border=\"1\" class=\"dataframe\">\n",
       "  <thead>\n",
       "    <tr style=\"text-align: right;\">\n",
       "      <th></th>\n",
       "      <th>mpg</th>\n",
       "      <th>cylinders</th>\n",
       "      <th>displacement</th>\n",
       "      <th>horsepower</th>\n",
       "      <th>weight</th>\n",
       "      <th>acceleration</th>\n",
       "      <th>model_year</th>\n",
       "      <th>origin</th>\n",
       "      <th>name</th>\n",
       "    </tr>\n",
       "  </thead>\n",
       "  <tbody>\n",
       "    <tr>\n",
       "      <th>0</th>\n",
       "      <td>18.0</td>\n",
       "      <td>8</td>\n",
       "      <td>307.0</td>\n",
       "      <td>130.0</td>\n",
       "      <td>3504</td>\n",
       "      <td>12.0</td>\n",
       "      <td>70</td>\n",
       "      <td>usa</td>\n",
       "      <td>chevrolet chevelle malibu</td>\n",
       "    </tr>\n",
       "    <tr>\n",
       "      <th>1</th>\n",
       "      <td>15.0</td>\n",
       "      <td>8</td>\n",
       "      <td>350.0</td>\n",
       "      <td>165.0</td>\n",
       "      <td>3693</td>\n",
       "      <td>11.5</td>\n",
       "      <td>70</td>\n",
       "      <td>usa</td>\n",
       "      <td>buick skylark 320</td>\n",
       "    </tr>\n",
       "    <tr>\n",
       "      <th>2</th>\n",
       "      <td>18.0</td>\n",
       "      <td>8</td>\n",
       "      <td>318.0</td>\n",
       "      <td>150.0</td>\n",
       "      <td>3436</td>\n",
       "      <td>11.0</td>\n",
       "      <td>70</td>\n",
       "      <td>usa</td>\n",
       "      <td>plymouth satellite</td>\n",
       "    </tr>\n",
       "    <tr>\n",
       "      <th>3</th>\n",
       "      <td>16.0</td>\n",
       "      <td>8</td>\n",
       "      <td>304.0</td>\n",
       "      <td>150.0</td>\n",
       "      <td>3433</td>\n",
       "      <td>12.0</td>\n",
       "      <td>70</td>\n",
       "      <td>usa</td>\n",
       "      <td>amc rebel sst</td>\n",
       "    </tr>\n",
       "    <tr>\n",
       "      <th>4</th>\n",
       "      <td>17.0</td>\n",
       "      <td>8</td>\n",
       "      <td>302.0</td>\n",
       "      <td>140.0</td>\n",
       "      <td>3449</td>\n",
       "      <td>10.5</td>\n",
       "      <td>70</td>\n",
       "      <td>usa</td>\n",
       "      <td>ford torino</td>\n",
       "    </tr>\n",
       "    <tr>\n",
       "      <th>...</th>\n",
       "      <td>...</td>\n",
       "      <td>...</td>\n",
       "      <td>...</td>\n",
       "      <td>...</td>\n",
       "      <td>...</td>\n",
       "      <td>...</td>\n",
       "      <td>...</td>\n",
       "      <td>...</td>\n",
       "      <td>...</td>\n",
       "    </tr>\n",
       "    <tr>\n",
       "      <th>393</th>\n",
       "      <td>27.0</td>\n",
       "      <td>4</td>\n",
       "      <td>140.0</td>\n",
       "      <td>86.0</td>\n",
       "      <td>2790</td>\n",
       "      <td>15.6</td>\n",
       "      <td>82</td>\n",
       "      <td>usa</td>\n",
       "      <td>ford mustang gl</td>\n",
       "    </tr>\n",
       "    <tr>\n",
       "      <th>394</th>\n",
       "      <td>44.0</td>\n",
       "      <td>4</td>\n",
       "      <td>97.0</td>\n",
       "      <td>52.0</td>\n",
       "      <td>2130</td>\n",
       "      <td>24.6</td>\n",
       "      <td>82</td>\n",
       "      <td>europe</td>\n",
       "      <td>vw pickup</td>\n",
       "    </tr>\n",
       "    <tr>\n",
       "      <th>395</th>\n",
       "      <td>32.0</td>\n",
       "      <td>4</td>\n",
       "      <td>135.0</td>\n",
       "      <td>84.0</td>\n",
       "      <td>2295</td>\n",
       "      <td>11.6</td>\n",
       "      <td>82</td>\n",
       "      <td>usa</td>\n",
       "      <td>dodge rampage</td>\n",
       "    </tr>\n",
       "    <tr>\n",
       "      <th>396</th>\n",
       "      <td>28.0</td>\n",
       "      <td>4</td>\n",
       "      <td>120.0</td>\n",
       "      <td>79.0</td>\n",
       "      <td>2625</td>\n",
       "      <td>18.6</td>\n",
       "      <td>82</td>\n",
       "      <td>usa</td>\n",
       "      <td>ford ranger</td>\n",
       "    </tr>\n",
       "    <tr>\n",
       "      <th>397</th>\n",
       "      <td>31.0</td>\n",
       "      <td>4</td>\n",
       "      <td>119.0</td>\n",
       "      <td>82.0</td>\n",
       "      <td>2720</td>\n",
       "      <td>19.4</td>\n",
       "      <td>82</td>\n",
       "      <td>usa</td>\n",
       "      <td>chevy s-10</td>\n",
       "    </tr>\n",
       "  </tbody>\n",
       "</table>\n",
       "<p>398 rows × 9 columns</p>\n",
       "</div>"
      ],
      "text/plain": [
       "      mpg  cylinders  displacement  horsepower  weight  acceleration  \\\n",
       "0    18.0          8         307.0       130.0    3504          12.0   \n",
       "1    15.0          8         350.0       165.0    3693          11.5   \n",
       "2    18.0          8         318.0       150.0    3436          11.0   \n",
       "3    16.0          8         304.0       150.0    3433          12.0   \n",
       "4    17.0          8         302.0       140.0    3449          10.5   \n",
       "..    ...        ...           ...         ...     ...           ...   \n",
       "393  27.0          4         140.0        86.0    2790          15.6   \n",
       "394  44.0          4          97.0        52.0    2130          24.6   \n",
       "395  32.0          4         135.0        84.0    2295          11.6   \n",
       "396  28.0          4         120.0        79.0    2625          18.6   \n",
       "397  31.0          4         119.0        82.0    2720          19.4   \n",
       "\n",
       "     model_year  origin                       name  \n",
       "0            70     usa  chevrolet chevelle malibu  \n",
       "1            70     usa          buick skylark 320  \n",
       "2            70     usa         plymouth satellite  \n",
       "3            70     usa              amc rebel sst  \n",
       "4            70     usa                ford torino  \n",
       "..          ...     ...                        ...  \n",
       "393          82     usa            ford mustang gl  \n",
       "394          82  europe                  vw pickup  \n",
       "395          82     usa              dodge rampage  \n",
       "396          82     usa                ford ranger  \n",
       "397          82     usa                 chevy s-10  \n",
       "\n",
       "[398 rows x 9 columns]"
      ]
     },
     "execution_count": 30,
     "metadata": {},
     "output_type": "execute_result"
    }
   ],
   "source": [
    "#mpg\n",
    "mpg = sns.load_dataset(\"mpg\")\n",
    "mpg"
   ]
  },
  {
   "cell_type": "code",
   "execution_count": 32,
   "id": "a10e5f29-f544-42bb-9c3f-79a15b7786df",
   "metadata": {},
   "outputs": [
    {
     "data": {
      "text/plain": [
       "usa       0.625628\n",
       "japan     0.198492\n",
       "europe    0.175879\n",
       "Name: origin, dtype: float64"
      ]
     },
     "execution_count": 32,
     "metadata": {},
     "output_type": "execute_result"
    }
   ],
   "source": [
    "#sample size\n",
    "mpg.origin.value_counts(normalize=True)"
   ]
  },
  {
   "cell_type": "code",
   "execution_count": 33,
   "id": "bc737d1b-d317-4da6-8c47-ef65563d7dc6",
   "metadata": {},
   "outputs": [
    {
     "data": {
      "text/html": [
       "<div>\n",
       "<style scoped>\n",
       "    .dataframe tbody tr th:only-of-type {\n",
       "        vertical-align: middle;\n",
       "    }\n",
       "\n",
       "    .dataframe tbody tr th {\n",
       "        vertical-align: top;\n",
       "    }\n",
       "\n",
       "    .dataframe thead th {\n",
       "        text-align: right;\n",
       "    }\n",
       "</style>\n",
       "<table border=\"1\" class=\"dataframe\">\n",
       "  <thead>\n",
       "    <tr style=\"text-align: right;\">\n",
       "      <th></th>\n",
       "      <th>mpg</th>\n",
       "      <th>cylinders</th>\n",
       "      <th>displacement</th>\n",
       "      <th>horsepower</th>\n",
       "      <th>weight</th>\n",
       "      <th>acceleration</th>\n",
       "      <th>model_year</th>\n",
       "      <th>origin</th>\n",
       "      <th>name</th>\n",
       "    </tr>\n",
       "  </thead>\n",
       "  <tbody>\n",
       "    <tr>\n",
       "      <th>119</th>\n",
       "      <td>20.0</td>\n",
       "      <td>4</td>\n",
       "      <td>114.0</td>\n",
       "      <td>91.0</td>\n",
       "      <td>2582</td>\n",
       "      <td>14.0</td>\n",
       "      <td>73</td>\n",
       "      <td>europe</td>\n",
       "      <td>audi 100ls</td>\n",
       "    </tr>\n",
       "    <tr>\n",
       "      <th>21</th>\n",
       "      <td>24.0</td>\n",
       "      <td>4</td>\n",
       "      <td>107.0</td>\n",
       "      <td>90.0</td>\n",
       "      <td>2430</td>\n",
       "      <td>14.5</td>\n",
       "      <td>70</td>\n",
       "      <td>europe</td>\n",
       "      <td>audi 100 ls</td>\n",
       "    </tr>\n",
       "    <tr>\n",
       "      <th>108</th>\n",
       "      <td>20.0</td>\n",
       "      <td>4</td>\n",
       "      <td>97.0</td>\n",
       "      <td>88.0</td>\n",
       "      <td>2279</td>\n",
       "      <td>19.0</td>\n",
       "      <td>73</td>\n",
       "      <td>japan</td>\n",
       "      <td>toyota carina</td>\n",
       "    </tr>\n",
       "    <tr>\n",
       "      <th>181</th>\n",
       "      <td>33.0</td>\n",
       "      <td>4</td>\n",
       "      <td>91.0</td>\n",
       "      <td>53.0</td>\n",
       "      <td>1795</td>\n",
       "      <td>17.5</td>\n",
       "      <td>75</td>\n",
       "      <td>japan</td>\n",
       "      <td>honda civic cvcc</td>\n",
       "    </tr>\n",
       "    <tr>\n",
       "      <th>386</th>\n",
       "      <td>25.0</td>\n",
       "      <td>6</td>\n",
       "      <td>181.0</td>\n",
       "      <td>110.0</td>\n",
       "      <td>2945</td>\n",
       "      <td>16.4</td>\n",
       "      <td>82</td>\n",
       "      <td>usa</td>\n",
       "      <td>buick century limited</td>\n",
       "    </tr>\n",
       "    <tr>\n",
       "      <th>15</th>\n",
       "      <td>22.0</td>\n",
       "      <td>6</td>\n",
       "      <td>198.0</td>\n",
       "      <td>95.0</td>\n",
       "      <td>2833</td>\n",
       "      <td>15.5</td>\n",
       "      <td>70</td>\n",
       "      <td>usa</td>\n",
       "      <td>plymouth duster</td>\n",
       "    </tr>\n",
       "  </tbody>\n",
       "</table>\n",
       "</div>"
      ],
      "text/plain": [
       "      mpg  cylinders  displacement  horsepower  weight  acceleration  \\\n",
       "119  20.0          4         114.0        91.0    2582          14.0   \n",
       "21   24.0          4         107.0        90.0    2430          14.5   \n",
       "108  20.0          4          97.0        88.0    2279          19.0   \n",
       "181  33.0          4          91.0        53.0    1795          17.5   \n",
       "386  25.0          6         181.0       110.0    2945          16.4   \n",
       "15   22.0          6         198.0        95.0    2833          15.5   \n",
       "\n",
       "     model_year  origin                   name  \n",
       "119          73  europe             audi 100ls  \n",
       "21           70  europe            audi 100 ls  \n",
       "108          73   japan          toyota carina  \n",
       "181          75   japan       honda civic cvcc  \n",
       "386          82     usa  buick century limited  \n",
       "15           70     usa        plymouth duster  "
      ]
     },
     "execution_count": 33,
     "metadata": {},
     "output_type": "execute_result"
    }
   ],
   "source": [
    "#sample n\n",
    "mpg.groupby(\"origin\").sample(n=2, random_state=7)"
   ]
  },
  {
   "cell_type": "code",
   "execution_count": 34,
   "id": "fe5834cf-e4a2-4d44-8a16-52cc13b583b2",
   "metadata": {},
   "outputs": [
    {
     "data": {
      "text/html": [
       "<div>\n",
       "<style scoped>\n",
       "    .dataframe tbody tr th:only-of-type {\n",
       "        vertical-align: middle;\n",
       "    }\n",
       "\n",
       "    .dataframe tbody tr th {\n",
       "        vertical-align: top;\n",
       "    }\n",
       "\n",
       "    .dataframe thead th {\n",
       "        text-align: right;\n",
       "    }\n",
       "</style>\n",
       "<table border=\"1\" class=\"dataframe\">\n",
       "  <thead>\n",
       "    <tr style=\"text-align: right;\">\n",
       "      <th></th>\n",
       "      <th>mpg</th>\n",
       "      <th>cylinders</th>\n",
       "      <th>displacement</th>\n",
       "      <th>horsepower</th>\n",
       "      <th>weight</th>\n",
       "      <th>acceleration</th>\n",
       "      <th>model_year</th>\n",
       "      <th>origin</th>\n",
       "      <th>name</th>\n",
       "    </tr>\n",
       "  </thead>\n",
       "  <tbody>\n",
       "    <tr>\n",
       "      <th>119</th>\n",
       "      <td>20.0</td>\n",
       "      <td>4</td>\n",
       "      <td>114.0</td>\n",
       "      <td>91.0</td>\n",
       "      <td>2582</td>\n",
       "      <td>14.0</td>\n",
       "      <td>73</td>\n",
       "      <td>europe</td>\n",
       "      <td>audi 100ls</td>\n",
       "    </tr>\n",
       "    <tr>\n",
       "      <th>21</th>\n",
       "      <td>24.0</td>\n",
       "      <td>4</td>\n",
       "      <td>107.0</td>\n",
       "      <td>90.0</td>\n",
       "      <td>2430</td>\n",
       "      <td>14.5</td>\n",
       "      <td>70</td>\n",
       "      <td>europe</td>\n",
       "      <td>audi 100 ls</td>\n",
       "    </tr>\n",
       "    <tr>\n",
       "      <th>299</th>\n",
       "      <td>27.2</td>\n",
       "      <td>4</td>\n",
       "      <td>141.0</td>\n",
       "      <td>71.0</td>\n",
       "      <td>3190</td>\n",
       "      <td>24.8</td>\n",
       "      <td>79</td>\n",
       "      <td>europe</td>\n",
       "      <td>peugeot 504</td>\n",
       "    </tr>\n",
       "    <tr>\n",
       "      <th>172</th>\n",
       "      <td>25.0</td>\n",
       "      <td>4</td>\n",
       "      <td>90.0</td>\n",
       "      <td>71.0</td>\n",
       "      <td>2223</td>\n",
       "      <td>16.5</td>\n",
       "      <td>75</td>\n",
       "      <td>europe</td>\n",
       "      <td>volkswagen dasher</td>\n",
       "    </tr>\n",
       "    <tr>\n",
       "      <th>244</th>\n",
       "      <td>43.1</td>\n",
       "      <td>4</td>\n",
       "      <td>90.0</td>\n",
       "      <td>48.0</td>\n",
       "      <td>1985</td>\n",
       "      <td>21.5</td>\n",
       "      <td>78</td>\n",
       "      <td>europe</td>\n",
       "      <td>volkswagen rabbit custom diesel</td>\n",
       "    </tr>\n",
       "    <tr>\n",
       "      <th>...</th>\n",
       "      <td>...</td>\n",
       "      <td>...</td>\n",
       "      <td>...</td>\n",
       "      <td>...</td>\n",
       "      <td>...</td>\n",
       "      <td>...</td>\n",
       "      <td>...</td>\n",
       "      <td>...</td>\n",
       "      <td>...</td>\n",
       "    </tr>\n",
       "    <tr>\n",
       "      <th>12</th>\n",
       "      <td>15.0</td>\n",
       "      <td>8</td>\n",
       "      <td>400.0</td>\n",
       "      <td>150.0</td>\n",
       "      <td>3761</td>\n",
       "      <td>9.5</td>\n",
       "      <td>70</td>\n",
       "      <td>usa</td>\n",
       "      <td>chevrolet monte carlo</td>\n",
       "    </tr>\n",
       "    <tr>\n",
       "      <th>306</th>\n",
       "      <td>28.8</td>\n",
       "      <td>6</td>\n",
       "      <td>173.0</td>\n",
       "      <td>115.0</td>\n",
       "      <td>2595</td>\n",
       "      <td>11.3</td>\n",
       "      <td>79</td>\n",
       "      <td>usa</td>\n",
       "      <td>chevrolet citation</td>\n",
       "    </tr>\n",
       "    <tr>\n",
       "      <th>70</th>\n",
       "      <td>13.0</td>\n",
       "      <td>8</td>\n",
       "      <td>400.0</td>\n",
       "      <td>190.0</td>\n",
       "      <td>4422</td>\n",
       "      <td>12.5</td>\n",
       "      <td>72</td>\n",
       "      <td>usa</td>\n",
       "      <td>chrysler newport royal</td>\n",
       "    </tr>\n",
       "    <tr>\n",
       "      <th>387</th>\n",
       "      <td>38.0</td>\n",
       "      <td>6</td>\n",
       "      <td>262.0</td>\n",
       "      <td>85.0</td>\n",
       "      <td>3015</td>\n",
       "      <td>17.0</td>\n",
       "      <td>82</td>\n",
       "      <td>usa</td>\n",
       "      <td>oldsmobile cutlass ciera (diesel)</td>\n",
       "    </tr>\n",
       "    <tr>\n",
       "      <th>30</th>\n",
       "      <td>28.0</td>\n",
       "      <td>4</td>\n",
       "      <td>140.0</td>\n",
       "      <td>90.0</td>\n",
       "      <td>2264</td>\n",
       "      <td>15.5</td>\n",
       "      <td>71</td>\n",
       "      <td>usa</td>\n",
       "      <td>chevrolet vega 2300</td>\n",
       "    </tr>\n",
       "  </tbody>\n",
       "</table>\n",
       "<p>199 rows × 9 columns</p>\n",
       "</div>"
      ],
      "text/plain": [
       "      mpg  cylinders  displacement  horsepower  weight  acceleration  \\\n",
       "119  20.0          4         114.0        91.0    2582          14.0   \n",
       "21   24.0          4         107.0        90.0    2430          14.5   \n",
       "299  27.2          4         141.0        71.0    3190          24.8   \n",
       "172  25.0          4          90.0        71.0    2223          16.5   \n",
       "244  43.1          4          90.0        48.0    1985          21.5   \n",
       "..    ...        ...           ...         ...     ...           ...   \n",
       "12   15.0          8         400.0       150.0    3761           9.5   \n",
       "306  28.8          6         173.0       115.0    2595          11.3   \n",
       "70   13.0          8         400.0       190.0    4422          12.5   \n",
       "387  38.0          6         262.0        85.0    3015          17.0   \n",
       "30   28.0          4         140.0        90.0    2264          15.5   \n",
       "\n",
       "     model_year  origin                               name  \n",
       "119          73  europe                         audi 100ls  \n",
       "21           70  europe                        audi 100 ls  \n",
       "299          79  europe                        peugeot 504  \n",
       "172          75  europe                  volkswagen dasher  \n",
       "244          78  europe    volkswagen rabbit custom diesel  \n",
       "..          ...     ...                                ...  \n",
       "12           70     usa              chevrolet monte carlo  \n",
       "306          79     usa                 chevrolet citation  \n",
       "70           72     usa             chrysler newport royal  \n",
       "387          82     usa  oldsmobile cutlass ciera (diesel)  \n",
       "30           71     usa                chevrolet vega 2300  \n",
       "\n",
       "[199 rows x 9 columns]"
      ]
     },
     "execution_count": 34,
     "metadata": {},
     "output_type": "execute_result"
    }
   ],
   "source": [
    "#sample frac\n",
    "mpg.groupby(\"origin\").sample(frac=0.5, random_state=7)"
   ]
  },
  {
   "cell_type": "code",
   "execution_count": 36,
   "id": "5dc54649-b156-4c62-aa6e-7c96e08aa751",
   "metadata": {},
   "outputs": [
    {
     "data": {
      "text/plain": [
       "usa       0.623116\n",
       "japan     0.201005\n",
       "europe    0.175879\n",
       "Name: origin, dtype: float64"
      ]
     },
     "execution_count": 36,
     "metadata": {},
     "output_type": "execute_result"
    }
   ],
   "source": [
    "#validacao\n",
    "mpg.groupby(\"origin\").sample(frac=0.5, random_state=7).origin.value_counts(normalize = True)"
   ]
  },
  {
   "cell_type": "code",
   "execution_count": 38,
   "id": "cb453653-8de3-4800-a268-4d1ea97a0476",
   "metadata": {},
   "outputs": [
    {
     "data": {
      "text/html": [
       "<div>\n",
       "<style scoped>\n",
       "    .dataframe tbody tr th:only-of-type {\n",
       "        vertical-align: middle;\n",
       "    }\n",
       "\n",
       "    .dataframe tbody tr th {\n",
       "        vertical-align: top;\n",
       "    }\n",
       "\n",
       "    .dataframe thead th {\n",
       "        text-align: right;\n",
       "    }\n",
       "</style>\n",
       "<table border=\"1\" class=\"dataframe\">\n",
       "  <thead>\n",
       "    <tr style=\"text-align: right;\">\n",
       "      <th></th>\n",
       "      <th>mpg</th>\n",
       "      <th>cylinders</th>\n",
       "      <th>displacement</th>\n",
       "      <th>horsepower</th>\n",
       "      <th>weight</th>\n",
       "      <th>acceleration</th>\n",
       "      <th>model_year</th>\n",
       "    </tr>\n",
       "    <tr>\n",
       "      <th>origin</th>\n",
       "      <th></th>\n",
       "      <th></th>\n",
       "      <th></th>\n",
       "      <th></th>\n",
       "      <th></th>\n",
       "      <th></th>\n",
       "      <th></th>\n",
       "    </tr>\n",
       "  </thead>\n",
       "  <tbody>\n",
       "    <tr>\n",
       "      <th>europe</th>\n",
       "      <td>27.797143</td>\n",
       "      <td>4.171429</td>\n",
       "      <td>110.885714</td>\n",
       "      <td>82.060606</td>\n",
       "      <td>2516.514286</td>\n",
       "      <td>17.037143</td>\n",
       "      <td>75.628571</td>\n",
       "    </tr>\n",
       "    <tr>\n",
       "      <th>japan</th>\n",
       "      <td>30.742500</td>\n",
       "      <td>4.150000</td>\n",
       "      <td>105.175000</td>\n",
       "      <td>80.725000</td>\n",
       "      <td>2230.650000</td>\n",
       "      <td>15.937500</td>\n",
       "      <td>77.775000</td>\n",
       "    </tr>\n",
       "    <tr>\n",
       "      <th>usa</th>\n",
       "      <td>20.208065</td>\n",
       "      <td>6.306452</td>\n",
       "      <td>242.596774</td>\n",
       "      <td>117.677686</td>\n",
       "      <td>3341.064516</td>\n",
       "      <td>15.338710</td>\n",
       "      <td>75.887097</td>\n",
       "    </tr>\n",
       "  </tbody>\n",
       "</table>\n",
       "</div>"
      ],
      "text/plain": [
       "              mpg  cylinders  displacement  horsepower       weight  \\\n",
       "origin                                                                \n",
       "europe  27.797143   4.171429    110.885714   82.060606  2516.514286   \n",
       "japan   30.742500   4.150000    105.175000   80.725000  2230.650000   \n",
       "usa     20.208065   6.306452    242.596774  117.677686  3341.064516   \n",
       "\n",
       "        acceleration  model_year  \n",
       "origin                            \n",
       "europe     17.037143   75.628571  \n",
       "japan      15.937500   77.775000  \n",
       "usa        15.338710   75.887097  "
      ]
     },
     "execution_count": 38,
     "metadata": {},
     "output_type": "execute_result"
    }
   ],
   "source": [
    "# media amostral por grupo de origem\n",
    "mpg.groupby(\"origin\").sample(frac=0.5, random_state=7).groupby(\"origin\").mean()"
   ]
  },
  {
   "cell_type": "code",
   "execution_count": 39,
   "id": "76488aa4-ef6c-4edc-a76c-5ea199023da7",
   "metadata": {},
   "outputs": [
    {
     "data": {
      "text/html": [
       "<div>\n",
       "<style scoped>\n",
       "    .dataframe tbody tr th:only-of-type {\n",
       "        vertical-align: middle;\n",
       "    }\n",
       "\n",
       "    .dataframe tbody tr th {\n",
       "        vertical-align: top;\n",
       "    }\n",
       "\n",
       "    .dataframe thead th {\n",
       "        text-align: right;\n",
       "    }\n",
       "</style>\n",
       "<table border=\"1\" class=\"dataframe\">\n",
       "  <thead>\n",
       "    <tr style=\"text-align: right;\">\n",
       "      <th></th>\n",
       "      <th>mpg</th>\n",
       "      <th>cylinders</th>\n",
       "      <th>displacement</th>\n",
       "      <th>horsepower</th>\n",
       "      <th>weight</th>\n",
       "      <th>acceleration</th>\n",
       "      <th>model_year</th>\n",
       "    </tr>\n",
       "    <tr>\n",
       "      <th>origin</th>\n",
       "      <th></th>\n",
       "      <th></th>\n",
       "      <th></th>\n",
       "      <th></th>\n",
       "      <th></th>\n",
       "      <th></th>\n",
       "      <th></th>\n",
       "    </tr>\n",
       "  </thead>\n",
       "  <tbody>\n",
       "    <tr>\n",
       "      <th>europe</th>\n",
       "      <td>27.891429</td>\n",
       "      <td>4.157143</td>\n",
       "      <td>109.142857</td>\n",
       "      <td>80.558824</td>\n",
       "      <td>2423.300000</td>\n",
       "      <td>16.787143</td>\n",
       "      <td>75.814286</td>\n",
       "    </tr>\n",
       "    <tr>\n",
       "      <th>japan</th>\n",
       "      <td>30.450633</td>\n",
       "      <td>4.101266</td>\n",
       "      <td>102.708861</td>\n",
       "      <td>79.835443</td>\n",
       "      <td>2221.227848</td>\n",
       "      <td>16.172152</td>\n",
       "      <td>77.443038</td>\n",
       "    </tr>\n",
       "    <tr>\n",
       "      <th>usa</th>\n",
       "      <td>20.083534</td>\n",
       "      <td>6.248996</td>\n",
       "      <td>245.901606</td>\n",
       "      <td>119.048980</td>\n",
       "      <td>3361.931727</td>\n",
       "      <td>15.033735</td>\n",
       "      <td>75.610442</td>\n",
       "    </tr>\n",
       "  </tbody>\n",
       "</table>\n",
       "</div>"
      ],
      "text/plain": [
       "              mpg  cylinders  displacement  horsepower       weight  \\\n",
       "origin                                                                \n",
       "europe  27.891429   4.157143    109.142857   80.558824  2423.300000   \n",
       "japan   30.450633   4.101266    102.708861   79.835443  2221.227848   \n",
       "usa     20.083534   6.248996    245.901606  119.048980  3361.931727   \n",
       "\n",
       "        acceleration  model_year  \n",
       "origin                            \n",
       "europe     16.787143   75.814286  \n",
       "japan      16.172152   77.443038  \n",
       "usa        15.033735   75.610442  "
      ]
     },
     "execution_count": 39,
     "metadata": {},
     "output_type": "execute_result"
    }
   ],
   "source": [
    "# media populaciona por grupo de origem\n",
    "mpg.groupby(\"origin\").mean()"
   ]
  },
  {
   "cell_type": "markdown",
   "id": "16a55bd3-6484-4b35-ac76-85987925c6cf",
   "metadata": {},
   "source": [
    "<font color = red>**metodos de amostragem são muito utilizados em ML quando temos dados distribuidos em classes desbalanceadas**</font>"
   ]
  },
  {
   "cell_type": "markdown",
   "id": "5b1e8519-6a3e-4cf9-9362-ad5c7c458e18",
   "metadata": {},
   "source": [
    "## Bootstraping"
   ]
  },
  {
   "cell_type": "code",
   "execution_count": 1,
   "id": "9881765a-2627-41c4-bad0-9ce2ebfc61b4",
   "metadata": {},
   "outputs": [],
   "source": [
    "import seaborn as sns\n",
    "import pandas as pd\n",
    "import numpy as np\n",
    "from scipy import stats"
   ]
  },
  {
   "cell_type": "code",
   "execution_count": 3,
   "id": "2091a66b-f0a7-4d48-ae21-783290ab9b8f",
   "metadata": {},
   "outputs": [],
   "source": [
    "#n = 60\n",
    "np.random.seed(7)\n",
    "\n",
    "pop = np.random.choice(range(-5,6),p=[0.05,0.05,0.1,0.1,0.1,0,0,0,0.2,0.2,0.2],size=60)\n",
    "grupos = np.concatenate((np.ones(30),np.ones(30)*2))"
   ]
  },
  {
   "cell_type": "code",
   "execution_count": 4,
   "id": "5ff100f3-d0d8-41e2-a8c5-69807b879954",
   "metadata": {
    "scrolled": true,
    "tags": []
   },
   "outputs": [
    {
     "data": {
      "text/html": [
       "<div>\n",
       "<style scoped>\n",
       "    .dataframe tbody tr th:only-of-type {\n",
       "        vertical-align: middle;\n",
       "    }\n",
       "\n",
       "    .dataframe tbody tr th {\n",
       "        vertical-align: top;\n",
       "    }\n",
       "\n",
       "    .dataframe thead th {\n",
       "        text-align: right;\n",
       "    }\n",
       "</style>\n",
       "<table border=\"1\" class=\"dataframe\">\n",
       "  <thead>\n",
       "    <tr style=\"text-align: right;\">\n",
       "      <th></th>\n",
       "      <th>pop</th>\n",
       "      <th>grupo</th>\n",
       "      <th>remedio</th>\n",
       "    </tr>\n",
       "  </thead>\n",
       "  <tbody>\n",
       "    <tr>\n",
       "      <th>0</th>\n",
       "      <td>-4</td>\n",
       "      <td>1.0</td>\n",
       "      <td>melhorou</td>\n",
       "    </tr>\n",
       "    <tr>\n",
       "      <th>1</th>\n",
       "      <td>4</td>\n",
       "      <td>1.0</td>\n",
       "      <td>melhorou</td>\n",
       "    </tr>\n",
       "    <tr>\n",
       "      <th>2</th>\n",
       "      <td>3</td>\n",
       "      <td>1.0</td>\n",
       "      <td>melhorou</td>\n",
       "    </tr>\n",
       "    <tr>\n",
       "      <th>3</th>\n",
       "      <td>4</td>\n",
       "      <td>1.0</td>\n",
       "      <td>melhorou</td>\n",
       "    </tr>\n",
       "    <tr>\n",
       "      <th>4</th>\n",
       "      <td>5</td>\n",
       "      <td>1.0</td>\n",
       "      <td>melhorou</td>\n",
       "    </tr>\n",
       "    <tr>\n",
       "      <th>5</th>\n",
       "      <td>3</td>\n",
       "      <td>1.0</td>\n",
       "      <td>melhorou</td>\n",
       "    </tr>\n",
       "    <tr>\n",
       "      <th>6</th>\n",
       "      <td>3</td>\n",
       "      <td>1.0</td>\n",
       "      <td>melhorou</td>\n",
       "    </tr>\n",
       "    <tr>\n",
       "      <th>7</th>\n",
       "      <td>-4</td>\n",
       "      <td>1.0</td>\n",
       "      <td>melhorou</td>\n",
       "    </tr>\n",
       "    <tr>\n",
       "      <th>8</th>\n",
       "      <td>-2</td>\n",
       "      <td>1.0</td>\n",
       "      <td>melhorou</td>\n",
       "    </tr>\n",
       "    <tr>\n",
       "      <th>9</th>\n",
       "      <td>3</td>\n",
       "      <td>1.0</td>\n",
       "      <td>melhorou</td>\n",
       "    </tr>\n",
       "    <tr>\n",
       "      <th>10</th>\n",
       "      <td>4</td>\n",
       "      <td>1.0</td>\n",
       "      <td>melhorou</td>\n",
       "    </tr>\n",
       "    <tr>\n",
       "      <th>11</th>\n",
       "      <td>5</td>\n",
       "      <td>1.0</td>\n",
       "      <td>melhorou</td>\n",
       "    </tr>\n",
       "    <tr>\n",
       "      <th>12</th>\n",
       "      <td>-1</td>\n",
       "      <td>1.0</td>\n",
       "      <td>melhorou</td>\n",
       "    </tr>\n",
       "    <tr>\n",
       "      <th>13</th>\n",
       "      <td>-4</td>\n",
       "      <td>1.0</td>\n",
       "      <td>melhorou</td>\n",
       "    </tr>\n",
       "    <tr>\n",
       "      <th>14</th>\n",
       "      <td>-2</td>\n",
       "      <td>1.0</td>\n",
       "      <td>melhorou</td>\n",
       "    </tr>\n",
       "    <tr>\n",
       "      <th>15</th>\n",
       "      <td>5</td>\n",
       "      <td>1.0</td>\n",
       "      <td>melhorou</td>\n",
       "    </tr>\n",
       "    <tr>\n",
       "      <th>16</th>\n",
       "      <td>-2</td>\n",
       "      <td>1.0</td>\n",
       "      <td>melhorou</td>\n",
       "    </tr>\n",
       "    <tr>\n",
       "      <th>17</th>\n",
       "      <td>3</td>\n",
       "      <td>1.0</td>\n",
       "      <td>melhorou</td>\n",
       "    </tr>\n",
       "    <tr>\n",
       "      <th>18</th>\n",
       "      <td>5</td>\n",
       "      <td>1.0</td>\n",
       "      <td>melhorou</td>\n",
       "    </tr>\n",
       "    <tr>\n",
       "      <th>19</th>\n",
       "      <td>-5</td>\n",
       "      <td>1.0</td>\n",
       "      <td>melhorou</td>\n",
       "    </tr>\n",
       "    <tr>\n",
       "      <th>20</th>\n",
       "      <td>4</td>\n",
       "      <td>1.0</td>\n",
       "      <td>melhorou</td>\n",
       "    </tr>\n",
       "    <tr>\n",
       "      <th>21</th>\n",
       "      <td>5</td>\n",
       "      <td>1.0</td>\n",
       "      <td>melhorou</td>\n",
       "    </tr>\n",
       "    <tr>\n",
       "      <th>22</th>\n",
       "      <td>-2</td>\n",
       "      <td>1.0</td>\n",
       "      <td>melhorou</td>\n",
       "    </tr>\n",
       "    <tr>\n",
       "      <th>23</th>\n",
       "      <td>3</td>\n",
       "      <td>1.0</td>\n",
       "      <td>melhorou</td>\n",
       "    </tr>\n",
       "    <tr>\n",
       "      <th>24</th>\n",
       "      <td>5</td>\n",
       "      <td>1.0</td>\n",
       "      <td>melhorou</td>\n",
       "    </tr>\n",
       "    <tr>\n",
       "      <th>25</th>\n",
       "      <td>-3</td>\n",
       "      <td>1.0</td>\n",
       "      <td>melhorou</td>\n",
       "    </tr>\n",
       "    <tr>\n",
       "      <th>26</th>\n",
       "      <td>3</td>\n",
       "      <td>1.0</td>\n",
       "      <td>melhorou</td>\n",
       "    </tr>\n",
       "    <tr>\n",
       "      <th>27</th>\n",
       "      <td>4</td>\n",
       "      <td>1.0</td>\n",
       "      <td>melhorou</td>\n",
       "    </tr>\n",
       "    <tr>\n",
       "      <th>28</th>\n",
       "      <td>4</td>\n",
       "      <td>1.0</td>\n",
       "      <td>melhorou</td>\n",
       "    </tr>\n",
       "    <tr>\n",
       "      <th>29</th>\n",
       "      <td>3</td>\n",
       "      <td>1.0</td>\n",
       "      <td>melhorou</td>\n",
       "    </tr>\n",
       "    <tr>\n",
       "      <th>30</th>\n",
       "      <td>-2</td>\n",
       "      <td>2.0</td>\n",
       "      <td>melhorou</td>\n",
       "    </tr>\n",
       "    <tr>\n",
       "      <th>31</th>\n",
       "      <td>3</td>\n",
       "      <td>2.0</td>\n",
       "      <td>melhorou</td>\n",
       "    </tr>\n",
       "    <tr>\n",
       "      <th>32</th>\n",
       "      <td>-1</td>\n",
       "      <td>2.0</td>\n",
       "      <td>melhorou</td>\n",
       "    </tr>\n",
       "    <tr>\n",
       "      <th>33</th>\n",
       "      <td>3</td>\n",
       "      <td>2.0</td>\n",
       "      <td>melhorou</td>\n",
       "    </tr>\n",
       "    <tr>\n",
       "      <th>34</th>\n",
       "      <td>-1</td>\n",
       "      <td>2.0</td>\n",
       "      <td>melhorou</td>\n",
       "    </tr>\n",
       "    <tr>\n",
       "      <th>35</th>\n",
       "      <td>5</td>\n",
       "      <td>2.0</td>\n",
       "      <td>melhorou</td>\n",
       "    </tr>\n",
       "    <tr>\n",
       "      <th>36</th>\n",
       "      <td>4</td>\n",
       "      <td>2.0</td>\n",
       "      <td>melhorou</td>\n",
       "    </tr>\n",
       "    <tr>\n",
       "      <th>37</th>\n",
       "      <td>-1</td>\n",
       "      <td>2.0</td>\n",
       "      <td>melhorou</td>\n",
       "    </tr>\n",
       "    <tr>\n",
       "      <th>38</th>\n",
       "      <td>3</td>\n",
       "      <td>2.0</td>\n",
       "      <td>melhorou</td>\n",
       "    </tr>\n",
       "    <tr>\n",
       "      <th>39</th>\n",
       "      <td>-2</td>\n",
       "      <td>2.0</td>\n",
       "      <td>melhorou</td>\n",
       "    </tr>\n",
       "    <tr>\n",
       "      <th>40</th>\n",
       "      <td>3</td>\n",
       "      <td>2.0</td>\n",
       "      <td>melhorou</td>\n",
       "    </tr>\n",
       "    <tr>\n",
       "      <th>41</th>\n",
       "      <td>-1</td>\n",
       "      <td>2.0</td>\n",
       "      <td>melhorou</td>\n",
       "    </tr>\n",
       "    <tr>\n",
       "      <th>42</th>\n",
       "      <td>4</td>\n",
       "      <td>2.0</td>\n",
       "      <td>melhorou</td>\n",
       "    </tr>\n",
       "    <tr>\n",
       "      <th>43</th>\n",
       "      <td>-1</td>\n",
       "      <td>2.0</td>\n",
       "      <td>melhorou</td>\n",
       "    </tr>\n",
       "    <tr>\n",
       "      <th>44</th>\n",
       "      <td>3</td>\n",
       "      <td>2.0</td>\n",
       "      <td>melhorou</td>\n",
       "    </tr>\n",
       "    <tr>\n",
       "      <th>45</th>\n",
       "      <td>4</td>\n",
       "      <td>2.0</td>\n",
       "      <td>melhorou</td>\n",
       "    </tr>\n",
       "    <tr>\n",
       "      <th>46</th>\n",
       "      <td>3</td>\n",
       "      <td>2.0</td>\n",
       "      <td>melhorou</td>\n",
       "    </tr>\n",
       "    <tr>\n",
       "      <th>47</th>\n",
       "      <td>5</td>\n",
       "      <td>2.0</td>\n",
       "      <td>melhorou</td>\n",
       "    </tr>\n",
       "    <tr>\n",
       "      <th>48</th>\n",
       "      <td>-3</td>\n",
       "      <td>2.0</td>\n",
       "      <td>melhorou</td>\n",
       "    </tr>\n",
       "    <tr>\n",
       "      <th>49</th>\n",
       "      <td>4</td>\n",
       "      <td>2.0</td>\n",
       "      <td>melhorou</td>\n",
       "    </tr>\n",
       "    <tr>\n",
       "      <th>50</th>\n",
       "      <td>3</td>\n",
       "      <td>2.0</td>\n",
       "      <td>melhorou</td>\n",
       "    </tr>\n",
       "    <tr>\n",
       "      <th>51</th>\n",
       "      <td>3</td>\n",
       "      <td>2.0</td>\n",
       "      <td>melhorou</td>\n",
       "    </tr>\n",
       "    <tr>\n",
       "      <th>52</th>\n",
       "      <td>4</td>\n",
       "      <td>2.0</td>\n",
       "      <td>melhorou</td>\n",
       "    </tr>\n",
       "    <tr>\n",
       "      <th>53</th>\n",
       "      <td>3</td>\n",
       "      <td>2.0</td>\n",
       "      <td>melhorou</td>\n",
       "    </tr>\n",
       "    <tr>\n",
       "      <th>54</th>\n",
       "      <td>3</td>\n",
       "      <td>2.0</td>\n",
       "      <td>melhorou</td>\n",
       "    </tr>\n",
       "    <tr>\n",
       "      <th>55</th>\n",
       "      <td>-5</td>\n",
       "      <td>2.0</td>\n",
       "      <td>melhorou</td>\n",
       "    </tr>\n",
       "    <tr>\n",
       "      <th>56</th>\n",
       "      <td>-4</td>\n",
       "      <td>2.0</td>\n",
       "      <td>melhorou</td>\n",
       "    </tr>\n",
       "    <tr>\n",
       "      <th>57</th>\n",
       "      <td>4</td>\n",
       "      <td>2.0</td>\n",
       "      <td>melhorou</td>\n",
       "    </tr>\n",
       "    <tr>\n",
       "      <th>58</th>\n",
       "      <td>3</td>\n",
       "      <td>2.0</td>\n",
       "      <td>melhorou</td>\n",
       "    </tr>\n",
       "    <tr>\n",
       "      <th>59</th>\n",
       "      <td>4</td>\n",
       "      <td>2.0</td>\n",
       "      <td>melhorou</td>\n",
       "    </tr>\n",
       "  </tbody>\n",
       "</table>\n",
       "</div>"
      ],
      "text/plain": [
       "    pop  grupo   remedio\n",
       "0    -4    1.0  melhorou\n",
       "1     4    1.0  melhorou\n",
       "2     3    1.0  melhorou\n",
       "3     4    1.0  melhorou\n",
       "4     5    1.0  melhorou\n",
       "5     3    1.0  melhorou\n",
       "6     3    1.0  melhorou\n",
       "7    -4    1.0  melhorou\n",
       "8    -2    1.0  melhorou\n",
       "9     3    1.0  melhorou\n",
       "10    4    1.0  melhorou\n",
       "11    5    1.0  melhorou\n",
       "12   -1    1.0  melhorou\n",
       "13   -4    1.0  melhorou\n",
       "14   -2    1.0  melhorou\n",
       "15    5    1.0  melhorou\n",
       "16   -2    1.0  melhorou\n",
       "17    3    1.0  melhorou\n",
       "18    5    1.0  melhorou\n",
       "19   -5    1.0  melhorou\n",
       "20    4    1.0  melhorou\n",
       "21    5    1.0  melhorou\n",
       "22   -2    1.0  melhorou\n",
       "23    3    1.0  melhorou\n",
       "24    5    1.0  melhorou\n",
       "25   -3    1.0  melhorou\n",
       "26    3    1.0  melhorou\n",
       "27    4    1.0  melhorou\n",
       "28    4    1.0  melhorou\n",
       "29    3    1.0  melhorou\n",
       "30   -2    2.0  melhorou\n",
       "31    3    2.0  melhorou\n",
       "32   -1    2.0  melhorou\n",
       "33    3    2.0  melhorou\n",
       "34   -1    2.0  melhorou\n",
       "35    5    2.0  melhorou\n",
       "36    4    2.0  melhorou\n",
       "37   -1    2.0  melhorou\n",
       "38    3    2.0  melhorou\n",
       "39   -2    2.0  melhorou\n",
       "40    3    2.0  melhorou\n",
       "41   -1    2.0  melhorou\n",
       "42    4    2.0  melhorou\n",
       "43   -1    2.0  melhorou\n",
       "44    3    2.0  melhorou\n",
       "45    4    2.0  melhorou\n",
       "46    3    2.0  melhorou\n",
       "47    5    2.0  melhorou\n",
       "48   -3    2.0  melhorou\n",
       "49    4    2.0  melhorou\n",
       "50    3    2.0  melhorou\n",
       "51    3    2.0  melhorou\n",
       "52    4    2.0  melhorou\n",
       "53    3    2.0  melhorou\n",
       "54    3    2.0  melhorou\n",
       "55   -5    2.0  melhorou\n",
       "56   -4    2.0  melhorou\n",
       "57    4    2.0  melhorou\n",
       "58    3    2.0  melhorou\n",
       "59    4    2.0  melhorou"
      ]
     },
     "execution_count": 4,
     "metadata": {},
     "output_type": "execute_result"
    }
   ],
   "source": [
    "pop_dict = {\"pop\":pop,\n",
    "            \"grupo\": grupos}\n",
    "data = pd.DataFrame(pop_dict)\n",
    "data[\"remedio\"] = np.where(data.grupo > 0, \"melhorou\", \"piorou\")\n",
    "data"
   ]
  },
  {
   "cell_type": "code",
   "execution_count": 102,
   "id": "e2333077-562b-448f-a39c-cb130eef7fb9",
   "metadata": {},
   "outputs": [
    {
     "data": {
      "text/plain": [
       "<AxesSubplot:xlabel='pop', ylabel='count'>"
      ]
     },
     "execution_count": 102,
     "metadata": {},
     "output_type": "execute_result"
    },
    {
     "data": {
      "image/png": "[encoded data removed]",
      "text/plain": [
       "<Figure size 432x288 with 1 Axes>"
      ]
     },
     "metadata": {
      "needs_background": "light"
     },
     "output_type": "display_data"
    }
   ],
   "source": [
    "sns.countplot(data = data, x = \"pop\", color=\"lightblue\")"
   ]
  },
  {
   "cell_type": "code",
   "execution_count": 11,
   "id": "8b11cca7-65ff-4b31-9f42-192ea3db6b26",
   "metadata": {},
   "outputs": [
    {
     "data": {
      "text/plain": [
       "1.65"
      ]
     },
     "execution_count": 11,
     "metadata": {},
     "output_type": "execute_result"
    }
   ],
   "source": [
    "data[\"pop\"].mean()"
   ]
  },
  {
   "cell_type": "code",
   "execution_count": 7,
   "id": "a8ca6dd4-2ca8-425f-b834-9ac102b5eb69",
   "metadata": {},
   "outputs": [
    {
     "data": {
      "text/plain": [
       "<AxesSubplot:ylabel='Count'>"
      ]
     },
     "execution_count": 7,
     "metadata": {},
     "output_type": "execute_result"
    },
    {
     "data": {
      "image/png": "[encoded data removed]",
      "text/plain": [
       "<Figure size 432x288 with 1 Axes>"
      ]
     },
     "metadata": {
      "needs_background": "light"
     },
     "output_type": "display_data"
    }
   ],
   "source": [
    "repeticoes = 10_000\n",
    "n = 60\n",
    "np.random.seed(7)\n",
    "amostras = np.random.choice(pop, size = n*repeticoes).reshape((repeticoes,n))\n",
    "amostras_medias = amostras.mean(axis = 1)\n",
    "sns.histplot(amostras_medias,kde = True)"
   ]
  },
  {
   "cell_type": "code",
   "execution_count": 8,
   "id": "1b28fd89-abde-4374-81d3-9fe156a2f573",
   "metadata": {},
   "outputs": [
    {
     "data": {
      "text/plain": [
       "1.646636666666667"
      ]
     },
     "execution_count": 8,
     "metadata": {},
     "output_type": "execute_result"
    }
   ],
   "source": [
    "amostras_medias.mean()"
   ]
  },
  {
   "cell_type": "code",
   "execution_count": 9,
   "id": "ee21034d-7c77-4b2a-bffa-b84371c3a7f0",
   "metadata": {},
   "outputs": [
    {
     "name": "stdout",
     "output_type": "stream",
     "text": [
      "2.4\n",
      "0.85\n"
     ]
    }
   ],
   "source": [
    "print(np.quantile(amostras_medias, 0.975))\n",
    "print(np.quantile(amostras_medias, 0.025))"
   ]
  },
  {
   "cell_type": "code",
   "execution_count": 10,
   "id": "125ef6df-16af-4cbc-8815-03d3af693a58",
   "metadata": {},
   "outputs": [
    {
     "name": "stdout",
     "output_type": "stream",
     "text": [
      "2.616749999999987\n",
      "0.5833333333333334\n"
     ]
    }
   ],
   "source": [
    "print(np.quantile(amostras_medias, 0.995))\n",
    "print(np.quantile(amostras_medias, 0.005))"
   ]
  },
  {
   "cell_type": "code",
   "execution_count": 120,
   "id": "6d719679-cbf5-4edf-ac41-6faad60df3ab",
   "metadata": {},
   "outputs": [
    {
     "data": {
      "text/plain": [
       "<AxesSubplot:ylabel='Count'>"
      ]
     },
     "execution_count": 120,
     "metadata": {},
     "output_type": "execute_result"
    },
    {
     "data": {
      "image/png": "[encoded data removed]",
      "text/plain": [
       "<Figure size 432x288 with 1 Axes>"
      ]
     },
     "metadata": {
      "needs_background": "light"
     },
     "output_type": "display_data"
    }
   ],
   "source": [
    "amostras_medianas = np.median(amostras, axis = 1)\n",
    "sns.histplot(amostras_medianas,kde = True)"
   ]
  },
  {
   "cell_type": "code",
   "execution_count": 121,
   "id": "3ea345bc-71fd-4558-8c11-5c50dc8e01f9",
   "metadata": {},
   "outputs": [
    {
     "data": {
      "text/plain": [
       "<AxesSubplot:ylabel='Count'>"
      ]
     },
     "execution_count": 121,
     "metadata": {},
     "output_type": "execute_result"
    },
    {
     "data": {
      "image/png": "[encoded data removed]",
      "text/plain": [
       "<Figure size 432x288 with 1 Axes>"
      ]
     },
     "metadata": {
      "needs_background": "light"
     },
     "output_type": "display_data"
    }
   ],
   "source": [
    "amostras_std = np.std(amostras, axis = 1)\n",
    "sns.histplot(amostras_std,kde = True)"
   ]
  },
  {
   "cell_type": "markdown",
   "id": "7384768d-45b3-4932-a95c-7fec137581fb",
   "metadata": {},
   "source": [
    "# Teste de Hipótese"
   ]
  },
  {
   "cell_type": "markdown",
   "id": "d360d5ad-4337-45ab-920c-224f4ecde7d3",
   "metadata": {},
   "source": [
    "São testes realizados para verificar uma hipótese acerca de um parâmetro populacional $\\theta$ de uma determinada v.a. $X$. Por exemplo, afirmamos que o verdadeiro valor de $\\theta$, estimado por $\\hat{\\theta}$, é igual a $\\theta_0$. Para tanto, colhe-se uma amostra aleatória de elementos dessa população, e com ela deseja-se comprovar ou não tal hipótese.\n",
    "\n",
    "A hipótese que estamos colocando à prova e a chamamos de **hipótese nula**, e escrevemos\n",
    "\n",
    "$$H_0: \\theta = \\theta_0$$\n",
    "\n",
    "Em seguida, convém explicitar também a hipótese $H_1$ que será considerada como **alternativa**, caso $H_0$ seja rejeitada. Por exemplo,\n",
    "\n",
    "$$H_1: \\theta \\neq \\theta_0$$\n",
    "\n",
    "Note que poderíamos ter outras tantas opções de alternativa, como\n",
    "\n",
    "$$H_1: \\theta < \\theta_0$$\n",
    "$$H_1: \\theta > \\theta_0$$\n",
    "\n",
    "Por este motivo **nós apenas rejeitamos $H_0$ ou não temos confiança para rejeitar $H_0$**. Nunca dizemos **aceitar $H_1$** pois existem várias outras alternativas a serem testadas para saber se nós aceitamos a alternativa correta de fato."
   ]
  },
  {
   "cell_type": "markdown",
   "id": "d87f62a7-4f29-441d-8c69-7da120fcfbc7",
   "metadata": {},
   "source": [
    "Qualquer que seja a decisão tomada estamos sujeitos a cometer erros. Para facilitar a linguagem, introduzimos as definições:\n",
    "\n",
    "- **Erro de tipo I (falso positivo):** rejeitar a hipótese nula quando essa é verdadeira. Chamamos de $\\alpha$ a probabilidade de cometer esse erro, isto é\n",
    "\n",
    "$$\\alpha = P(\\text{Erro tipo 1}) = P(\\text{Rejeitar} H_0|H_0 \\text{é verdadeira}) $$\n",
    "\n",
    "- **Erro de tipo II (falso negativo):** não rejeitar a hipótese nula quando ela é falsa. Sendo $\\beta$ a probabilidade de cometer esse erro, ou seja\n",
    "\n",
    "$$\\beta = P(\\text{Erro tipo 2}) = P(\\text{não Rejeitar} H_0|H_0 \\text{é falsa}) $$"
   ]
  },
  {
   "cell_type": "markdown",
   "id": "81e9539e-8664-4fc4-920b-6c7c712bf5a9",
   "metadata": {},
   "source": [
    "Operacionalmente, essa decisão é tomada através da consideração de uma região crítica RC de forma que $\\alpha = P(\\hat{\\theta} \\in RC| H_0)$ \n",
    "\n",
    "$\\alpha$, constuma ser um valor arbitrário, comumente 0.1%, 1% ou 5%, que determina o **nível de significância** do nosso teste. De forma equivalente $1-\\alpha$ é a nossa confiança."
   ]
  },
  {
   "cell_type": "markdown",
   "id": "0299f46b-8ce6-4534-8020-bee14ef863d8",
   "metadata": {},
   "source": [
    "### Ex.:\n",
    "\n",
    "Uma máquina automática para encher pacotes de café enche-os segundo uma distribuição normal, com média μ e variância sempre igual a 400 $g^2$. A máquina foi regulada para μ = 500 g. Desejamos, periodicamente, colher uma amostra de 16 pacotes e verificar se a produção está sob controle, isto é, se μ = 500 g ou não. Se uma dessas amostras apresentasse uma média $\\overline{X} = 492$ g, você pararia ou não a produção para regular a máquina?"
   ]
  },
  {
   "cell_type": "markdown",
   "id": "877c93ad-521d-42e7-a143-e162a70c39c8",
   "metadata": {},
   "source": [
    "X o peso de cada pacote, então $X \\sim N(500, 400)$ e \n",
    "\n",
    "$$H_0: \\mu = 500$$\n",
    "$$H_1: \\mu \\neq 500$$\n",
    "\n",
    "Nesse caso,\n",
    "\n",
    "- **Erro de tipo I:** dizer que a média é diferente de 500g quando na verdade não é. \n",
    "\n",
    "Queremos encontrar a RC tal que\n",
    "\n",
    "$$P(erro I) = P(\\overline{X} \\in RC|H_0) = \\alpha$$\n",
    "\n",
    "\n",
    "Pelo TLC $\\overline{X} \\sim N(500, 25)$ e assumindo H0\n",
    "\n",
    "Vamos fixar α = 1%. Pela hipótese alternativa, vemos que H0 deve ser rejeitada quando a média for muito pequena ou muito grande conforme a figura abaixo\n",
    "\n",
    "<img src = \"../imgs/rc_cafe.png\" width = \"50%\"></img>\n",
    "\n",
    "\n",
    "$$P(\\overline{X} \\in RC|H_0) = 0.01 \\rightarrow P(|\\overline{X}| \\leq x_c) = P(\\dfrac{x_{c_1} - 500}{5} \\leq \\dfrac{\\overline{X} - 500}{5} \\leq \\dfrac{x_{c_2} - 500}{5}) = P(-z \\leq Z \\leq z)$$\n",
    "\n",
    "de forma que:\n",
    "\n",
    "$$z = \\dfrac{x_{c_2} - 500}{5} = ... $$\n",
    "\n",
    "Para acharmos os valores da região crítica podemos olhar na tabela da distribuição normal padrão ou ..."
   ]
  },
  {
   "cell_type": "code",
   "execution_count": 55,
   "id": "8db798aa-6f67-4d21-bf4a-38e4b7aff3d6",
   "metadata": {},
   "outputs": [
    {
     "data": {
      "text/plain": [
       "2.5758293035489004"
      ]
     },
     "execution_count": 55,
     "metadata": {},
     "output_type": "execute_result"
    }
   ],
   "source": [
    "#ppf\n",
    "alpha = 0.01\n",
    "rv = stats.norm(0,1)\n",
    "z_sup = rv.ppf(1-(alpha/2)) #P(X <= 99.5)\n",
    "z_sup"
   ]
  },
  {
   "cell_type": "code",
   "execution_count": 44,
   "id": "e9fbbb29-5e20-45b7-82dc-28cbf50b2eca",
   "metadata": {},
   "outputs": [
    {
     "data": {
      "text/plain": [
       "0.994915074251009"
      ]
     },
     "execution_count": 44,
     "metadata": {},
     "output_type": "execute_result"
    }
   ],
   "source": [
    "rv.cdf(2.57) # P(X <= 2.57)"
   ]
  },
  {
   "cell_type": "code",
   "execution_count": 45,
   "id": "bdedd77b-3f45-4c82-a74d-6dd5a132ccd8",
   "metadata": {},
   "outputs": [
    {
     "data": {
      "text/plain": [
       "2.5758293035489004"
      ]
     },
     "execution_count": 45,
     "metadata": {},
     "output_type": "execute_result"
    }
   ],
   "source": [
    "rv.ppf(0.995)"
   ]
  },
  {
   "cell_type": "code",
   "execution_count": 46,
   "id": "3ce19297-7fb2-4343-b161-e2d69c5a86d9",
   "metadata": {},
   "outputs": [
    {
     "data": {
      "text/plain": [
       "0.8413447460685429"
      ]
     },
     "execution_count": 46,
     "metadata": {},
     "output_type": "execute_result"
    }
   ],
   "source": [
    "rv.cdf(1)"
   ]
  },
  {
   "cell_type": "code",
   "execution_count": 48,
   "id": "1f9adb4f-22ed-4c36-ac24-24170fe32364",
   "metadata": {},
   "outputs": [
    {
     "data": {
      "text/plain": [
       "1.0"
      ]
     },
     "execution_count": 48,
     "metadata": {},
     "output_type": "execute_result"
    }
   ],
   "source": [
    "rv.ppf(0.8413447460685429)"
   ]
  },
  {
   "cell_type": "markdown",
   "id": "ab4f1543-9a8d-45e7-a66c-15ff871d38b4",
   "metadata": {},
   "source": [
    "$$z = \\dfrac{x_{c_2} - 500}{5} \\approx 2.57 \\rightarrow x_{c_2} \\approx 2.57*5 + 500 \\approx 512.9$$"
   ]
  },
  {
   "cell_type": "code",
   "execution_count": 54,
   "id": "4144c0cb-4a2a-4627-9997-529aa4374baa",
   "metadata": {},
   "outputs": [],
   "source": [
    "#normal mu, sigma\n",
    "mu = 500\n",
    "std = 5"
   ]
  },
  {
   "cell_type": "code",
   "execution_count": 57,
   "id": "2883396a-f72f-4099-bb24-60f44c60dcd7",
   "metadata": {},
   "outputs": [
    {
     "data": {
      "text/plain": [
       "512.8791465177445"
      ]
     },
     "execution_count": 57,
     "metadata": {},
     "output_type": "execute_result"
    }
   ],
   "source": [
    "#xc\n",
    "xc_sup_real = z_sup*std + mu\n",
    "xc_sup_real"
   ]
  },
  {
   "cell_type": "code",
   "execution_count": 59,
   "id": "ab1c07e7-bbe8-4655-82f0-9872f451c567",
   "metadata": {},
   "outputs": [
    {
     "data": {
      "text/plain": [
       "(487.1208534822555, 512.8791465177445)"
      ]
     },
     "execution_count": 59,
     "metadata": {},
     "output_type": "execute_result"
    }
   ],
   "source": [
    "rv = stats.norm(mu, std) # mu = 500 e std = 5\n",
    "(rv.ppf(0.005), rv.ppf(0.995))"
   ]
  },
  {
   "cell_type": "markdown",
   "id": "d15117c4-5938-4de9-a5e1-336db0cb015b",
   "metadata": {},
   "source": [
    "Portanto \n",
    "\n",
    "$$RC = \\{\\overline{X} \\in \\mathbb{R} | \\overline{X} \\leq 487.1 \\text{ ou }  \\overline{X} \\geq 512.9\\}$$"
   ]
  },
  {
   "cell_type": "markdown",
   "id": "549c115e-7dd6-4698-ac47-0c0b44dd994f",
   "metadata": {},
   "source": [
    "Como $\\overline{X}$ não pertence à região crítica, não temos evidências para rejeitar $H_0$. Ou seja, o desvio da média da amostra para a média proposta por $H_0$ pode ser considerado como devido apenas ao sorteio aleatório dos pacotes."
   ]
  },
  {
   "cell_type": "markdown",
   "id": "19f74aed-3aee-4cb5-8a13-8b7c65e9dfe0",
   "metadata": {},
   "source": [
    "### Forma alternativa de verificação\n",
    "\n",
    "Sob H0:\n",
    "\n",
    "$$\\dfrac{\\overline{X} - 500}{5} = \\dfrac{492 - 500}{5} = -1.6  \\rightarrow -2.57 < -1.6 < 2.57$$\n",
    "\n",
    "ou seja, o valor está dentro do limite aceitado"
   ]
  },
  {
   "cell_type": "markdown",
   "id": "cfbf63f3-4c18-485a-8a1f-917cc82e4da9",
   "metadata": {},
   "source": [
    "### Com dados"
   ]
  },
  {
   "cell_type": "code",
   "execution_count": 60,
   "id": "f1ced327-ec04-4b19-b5bc-3923ef5e5697",
   "metadata": {},
   "outputs": [
    {
     "name": "stdout",
     "output_type": "stream",
     "text": [
      "[489.67031315 492.16410082 494.03758141 488.05538486 492.01032786\n",
      " 491.99554807 483.22637847 497.08829003 495.00249258 488.87285513\n",
      " 491.14225869 494.52649687 490.69321792 490.78625461 484.73379294\n",
      " 494.77290156 492.61940453 493.37229962 484.36737734 500.25349846\n",
      " 492.77167768 490.06430028 502.1453611  491.77306985 484.7466065\n",
      " 489.97386072 480.55842449 497.24698275 489.91762841 488.28723237\n",
      " 497.36235066 483.74462205 494.67714678 481.67792598 488.6892033\n",
      " 485.97890077 499.30987814 500.83080439 490.35293124 496.20366621\n",
      " 491.10006799 494.84030944 488.23581402 483.45830398 482.98450671\n",
      " 493.91560926 503.23797526 493.34705815 489.3769769 ]\n"
     ]
    },
    {
     "data": {
      "text/plain": [
       "492.0603271225887"
      ]
     },
     "execution_count": 60,
     "metadata": {},
     "output_type": "execute_result"
    }
   ],
   "source": [
    "#simulacao\n",
    "np.random.seed(7)\n",
    "amostra_cafe = np.random.normal(492, 5, 100)\n",
    "print(amostra_cafe[1:50])\n",
    "amostra_cafe.mean()"
   ]
  },
  {
   "cell_type": "code",
   "execution_count": 165,
   "id": "8d72c226-12c4-4045-a840-0072d1cf2b3f",
   "metadata": {},
   "outputs": [
    {
     "data": {
      "text/plain": [
       "(-15.509115746070092, 3.0299217642595494e-28)"
      ]
     },
     "execution_count": 165,
     "metadata": {},
     "output_type": "execute_result"
    }
   ],
   "source": [
    "#test\n",
    "media_pop = 500\n",
    "t_value, p_value = stats.ttest_1samp(amostra_cafe, media_pop, alternative=\"two-sided\")\n",
    "(t_value, p_value)"
   ]
  },
  {
   "cell_type": "markdown",
   "id": "ee9c0e9d-318e-4662-ba9f-a5c08cc75ef0",
   "metadata": {},
   "source": [
    "\n",
    "<img src = \"../imgs/meme_pvalor.jpg\" width = \"50%\"></img>\n",
    "\n"
   ]
  },
  {
   "cell_type": "markdown",
   "id": "5f916c2f-f608-4db6-91fd-ac48f281ef35",
   "metadata": {},
   "source": [
    "# VOLTAMOS 20:55"
   ]
  },
  {
   "cell_type": "markdown",
   "id": "23bcf8ea-afd3-4fc1-aee3-344e5d8988c3",
   "metadata": {},
   "source": [
    "### Ex.:\n",
    "\n",
    "Uma indústria usa, como um dos componentes das máquinas que produz, um parafuso importado, que deve satisfazer a algumas exigências. Uma dessas é a resistência à tração. Esses parafusos são fabricados por alguns países, e as especificações técnicas variam de país para país. Por exemplo, o catálogo do país A afirma que a resistência média à tração de seus parafusos é de 145 kg, com desvio padrão de 12 kg. Já para o país B, a média é de 155 kg e desvio padrão 20 kg.\n",
    "\n",
    "Um lote desses parafusos, de origem desconhecida, será leiloado a um preço muito convidativo. Para que a indústria saiba se faz ou não uma oferta, ela necessita saber qual país produziu tais parafusos. O edital do leiloeiro afirma que, pouco antes do leilão, será divulgada a resistência média⎯x de uma amostra de 25 parafusos do lote. Qual regra de decisão deve ser usada pela indústria para dizer se os parafusos são do país A ou B?\n"
   ]
  },
  {
   "cell_type": "markdown",
   "id": "c0acc52f-b932-46a3-8edd-6c2f2acb32af",
   "metadata": {},
   "source": [
    "Uma resposta que ocorre imediatamente é a que considera como país produtor aquele para o qual a média da amostra mais se aproximar da média da população. Assim, uma possível regra de decisão seria:\n",
    "\n",
    "- H0: os parafusos são de origem B. Isso equivale a dizer que a resistência X de cada parafuso segue uma distribuição com média μ = 155 e desvio padrão σ = 20.\n",
    "- H1: os parafusos não são de B, e portanto μ < 155.\n",
    "\n",
    "Nesse caso,\n",
    "\n",
    "- **Erro de tipo I:** dizer que os parafusos não são de B quando na realidade são. Isso ocorre quando uma amostra de 25 parafusos de B apresenta média menor do de 155 kg. \n",
    "\n",
    "Queremos encontrar a RC tal que\n",
    "\n",
    "$$P(erro I) = P(\\overline{X} \\in RC|H_0) = \\alpha$$\n",
    "\n",
    "mas, quando H0 é verdadeira, pelo TLC $\\overline{X} \\sim N(155, 16)$ e fixando $\\alpha = 0.05$\n",
    "\n",
    "$$P(\\overline{X} \\in RC|H_0) = 0.05 \\rightarrow P(\\overline{X} \\leq k) = P(\\dfrac{\\overline{X} - 155}{4} \\leq \\dfrac{k - 155}{4}) = P(Z \\leq z) = ...$$"
   ]
  },
  {
   "cell_type": "code",
   "execution_count": 13,
   "id": "5cef9a9a-308b-4f3a-ba8b-07f2029567c5",
   "metadata": {},
   "outputs": [],
   "source": [
    "#z"
   ]
  },
  {
   "cell_type": "markdown",
   "id": "e9ff263b-8730-4e02-a6ab-da86ede623c3",
   "metadata": {},
   "source": [
    "$$P(Z \\leq -1.645) \\rightarrow -1.645 = z  \\rightarrow -1.645 = \\dfrac{k-155}{4} \\rightarrow k = 148.42$$"
   ]
  },
  {
   "cell_type": "markdown",
   "id": "1fb96975-3d1f-47ea-8cc5-fb240b5eb621",
   "metadata": {},
   "source": [
    "Dessa forma dizemos que se o valor da média $\\overline{X}$ menor do que 148.42 nós podemos rejeitar H0 e portanto temos evidências para dizer que os parafusos provavelmente não são do país B com uma confiança de 95%\n",
    "\n",
    "<img src = \"../imgs/std_error.png\" width = \"50%\"> "
   ]
  },
  {
   "cell_type": "markdown",
   "id": "e84c9165-3f2d-4af9-b071-e6ee83454d95",
   "metadata": {},
   "source": [
    "## Construção geral\n",
    "\n",
    "- Passo 0: Definir as hipóteses do problema\n",
    "- Passo 1: Identificar a distribuição do parâmetro populacional $\\theta$ de interesse, de forma que $E(\\theta) = \\mu$ e $Var(\\theta) = \\sigma^2$\n",
    "- Passo 2: Pelo TLC o estimador pontual de $\\theta$ segue uma distribuição normal da seguinte forma, $\\hat{\\theta} \\sim N\\left(\\mu, \\dfrac{\\sigma^2}{n}\\right)$\n",
    "- Passo 3: Definir um valor de $\\alpha$\n",
    "- Passo 4: Encontrar o valor de $z$ que satisfaça $P(-z \\leq Z \\leq z|H_0) = \\alpha$ ou a probabilidade específica para a hipótese sendo testada\n",
    "- Passo 5: Definir a região crítica RC de forma que se $\\hat{\\theta} \\in RC$ então rejeitamos $H_0$ e fazemos alguma inferência sobre as nossas populações.\n",
    "\n",
    "Vamos colocar o passo a passo a prova com mais um exemplo\n"
   ]
  },
  {
   "cell_type": "markdown",
   "id": "e442ceb1-819d-4e3b-aac9-31bdec53cbf5",
   "metadata": {},
   "source": [
    "**Ex.:** Uma estação de televisão afirma que 60% dos televisores estavam ligados no seu programa especial da última segunda-feira. Uma rede competidora deseja contestar essa afirmação e decide usar uma amostra de 200 famílias para um teste da qual 104 afirmaram estar assistindo ao programa. Qual deve ser o procedimento adotado para avaliar a veracidade da afirmação da estação?"
   ]
  },
  {
   "cell_type": "markdown",
   "id": "c52b3c2c-5fb6-4504-99c1-46b808bfd48c",
   "metadata": {},
   "source": [
    "**Passo 0:**\n",
    "\n",
    "$$H_0: p = 0.6$$\n",
    "$$H_1: p < 0.6$$\n",
    "\n",
    "**Passo 1:**\n",
    "\n",
    "$$\\theta \\sim Bernoulli(p) \\rightarrow E(\\theta) = p; Var(\\theta) = p(1-p) $$\n",
    "\n",
    "**Passo 2:**\n",
    "$$\\hat{p} \\sim N\\left(p, \\dfrac{p(1-p)}{n}\\right)$$\n",
    "\n",
    "**Passo 3:**\n",
    "$$\\alpha = 0.05$$"
   ]
  },
  {
   "cell_type": "markdown",
   "id": "908cec2f-afb4-46c8-942e-518b820e2071",
   "metadata": {},
   "source": [
    "**Passo 4:**\n",
    "Assumindo $H_0$ verdadeira então\n",
    "\n",
    "$$\\hat{p} \\sim N\\left(0.6, \\dfrac{0.24}{200}\\right)$$\n",
    "\n",
    "e portanto\n",
    "\n",
    "$$P(\\text{Erro Tipo I}) = P(\\hat{p} \\leq \\hat{p}_c) = P\\left(Z \\leq \\dfrac{\\hat{p}_c - 0.6}{\\sqrt{0.24/200}}\\right) = 0.05$$\n",
    "\n",
    "**Passo 5:**\n",
    "\n",
    "$$\\dfrac{\\hat{p}_c - 0.6}{\\sqrt{0.24/200}} = -1.645 \\rightarrow \\hat{p}_c = 0.544$$\n",
    "\n",
    "Logo \n",
    "    \n",
    "$$RC = \\{\\hat{p} \\in [0; 1] | \\hat{p} < 0.544\\}$$\n",
    "\n",
    "e como $\\hat{p} = 104/200 = 0.52 \\in RC$ então temos evidências para rejeitar $H_0$"
   ]
  },
  {
   "cell_type": "markdown",
   "id": "8610043e-462c-4e93-baab-6309b395afb7",
   "metadata": {},
   "source": [
    "## Na realidade nem tudo são flores 🥀 ...\n",
    "\n",
    "Para todos os casos estamos assumindo que os parâmentros populacionais são todos conhecidos, sobretudo a variância populacional. Caso não conheçamos $\\sigma$ e tenhamos que usar o valor amostral $S$ então a distribuição esperada para o calculo da probabilidade deixa de ser normal e passa a ser a t-Student com parâmetro $n-1$\n",
    "\n",
    "**Ex.:** Um fabricante afirma que seus cigarros contêm não mais que 30 mg de nicotina. Uma amostra de 25 cigarros fornece média de 31,5 mg e desvio padrão de 3 mg. No nível de 5%, os dados refutam ou não a afirmação do fabricante?\n",
    "\n",
    "$$H_0: \\mu = 30$$\n",
    "$$H_1: \\mu > 30$$\n",
    "\n",
    "$$X \\sim N(\\mu, \\sigma^2)$$\n",
    "$$T = \\dfrac{\\sqrt{25}(\\overline{X}-30)}{S}\\sim t(24)$$\n",
    "\n",
    "De forma que\n",
    "\n",
    "$$P(T > t_c) = 0.05 \\rightarrow t_c = 1.711$$"
   ]
  },
  {
   "cell_type": "code",
   "execution_count": 61,
   "id": "eb40ca85-4814-4395-9b93-1b5343b22732",
   "metadata": {},
   "outputs": [
    {
     "data": {
      "text/plain": [
       "1.7108820799094275"
      ]
     },
     "execution_count": 61,
     "metadata": {},
     "output_type": "execute_result"
    }
   ],
   "source": [
    "#t\n",
    "n = 25\n",
    "alpha = 0.05\n",
    "dof = n - 1\n",
    "rv = stats.t(dof)\n",
    "rv.ppf(1-alpha)"
   ]
  },
  {
   "cell_type": "markdown",
   "id": "bda84323-0705-4ce1-b785-e03aafc6aa65",
   "metadata": {},
   "source": [
    "$$RC = [1.711;\\infty)$$\n",
    "\n",
    "Sendo\n",
    "\n",
    "$$T = \\dfrac{\\sqrt{25}(\\overline{X}-30)}{S} = \\dfrac{5(31.5-30)}{3} = 2.5$$\n",
    "\n",
    "Rejeitamos $H_0$"
   ]
  },
  {
   "cell_type": "markdown",
   "id": "a0dd33e2-be6b-425c-9a41-6735384982cb",
   "metadata": {},
   "source": [
    "## Intervalo de confiança\n",
    "\n",
    "Seguindo esses mesmo conceitos, para termos uma magnitude do erro que estamos comentento ao determinar o estimador pontual é que definimos o intervalo de confiança, que são baseados na distribuição amostral do estimador pontual."
   ]
  },
  {
   "cell_type": "markdown",
   "id": "84cf7a4a-d954-4a41-8f92-43b352819e15",
   "metadata": {},
   "source": [
    "Supondo média e variância conhecidas, do TLC\n",
    "\n",
    "$$ e = (\\overline{X} - \\mu) \\sim N\\left(0, \\sigma^2_{\\overline{X}} = \\frac{\\sigma^2}{n}\\right)$$\n",
    "\n",
    "Para um intervalo de confiança de 95% temos então que:\n",
    "\n",
    "$$P(|e| < 1.96\\sigma_{\\overline{X}}) = 0.95$$\n",
    "$$P(|\\overline{X} - \\mu| < 1.96\\sigma_{\\overline{X}}) = 0.95$$\n",
    "$$P(-1.96\\sigma_{\\overline{X}} < \\overline{X} - \\mu < 1.96\\sigma_{\\overline{X}}) = 0.95$$\n",
    "$$P(\\overline{X}-1.96\\sigma_{\\overline{X}} < \\mu < \\overline{X} + 1.96\\sigma_{\\overline{X}}) = 0.95$$\n",
    "\n",
    "$$IC_{\\mu}(X) = (\\overline{X}-1.96\\sigma_{\\overline{X}}, \\overline{X}+1.96\\sigma_{\\overline{X}})$$"
   ]
  },
  {
   "cell_type": "markdown",
   "id": "faa86802-4977-4f96-8220-9595e115b27d",
   "metadata": {},
   "source": [
    "De forma geral construímos um intervalo da seguinte forma\n",
    "\n",
    "$$P(|\\hat{\\theta} - \\theta| < \\epsilon) = 1-\\alpha$$\n",
    "\n",
    "sabendo que\n",
    "\n",
    "$$e = (\\hat{\\theta} - \\theta) \\sim DistProb(\\tilde{\\phi})$$"
   ]
  },
  {
   "cell_type": "markdown",
   "id": "f1e40b5e-646a-4311-b4b1-d477e1d42725",
   "metadata": {},
   "source": [
    "## Comparação de sub-populações"
   ]
  },
  {
   "cell_type": "code",
   "execution_count": 124,
   "id": "cc84638a-77bf-4868-888a-80007a450dda",
   "metadata": {},
   "outputs": [],
   "source": [
    "np.random.seed(7)\n",
    "pop1 = np.random.gamma(shape = 1, scale = 13, size = 30)\n",
    "pop2 = np.random.gamma(shape = 1, scale = 35, size = 30)\n",
    "pop = np.concatenate((pop1,pop2))\n",
    "grupos = np.concatenate((np.ones(30), np.ones(30)*2))"
   ]
  },
  {
   "cell_type": "code",
   "execution_count": 125,
   "id": "6e63b971-760f-429d-a238-75d643658089",
   "metadata": {
    "scrolled": true,
    "tags": []
   },
   "outputs": [
    {
     "data": {
      "text/html": [
       "<div>\n",
       "<style scoped>\n",
       "    .dataframe tbody tr th:only-of-type {\n",
       "        vertical-align: middle;\n",
       "    }\n",
       "\n",
       "    .dataframe tbody tr th {\n",
       "        vertical-align: top;\n",
       "    }\n",
       "\n",
       "    .dataframe thead th {\n",
       "        text-align: right;\n",
       "    }\n",
       "</style>\n",
       "<table border=\"1\" class=\"dataframe\">\n",
       "  <thead>\n",
       "    <tr style=\"text-align: right;\">\n",
       "      <th></th>\n",
       "      <th>pop</th>\n",
       "      <th>grupo</th>\n",
       "      <th>remedio</th>\n",
       "    </tr>\n",
       "  </thead>\n",
       "  <tbody>\n",
       "    <tr>\n",
       "      <th>0</th>\n",
       "      <td>1.031900</td>\n",
       "      <td>1.0</td>\n",
       "      <td>real</td>\n",
       "    </tr>\n",
       "    <tr>\n",
       "      <th>1</th>\n",
       "      <td>19.678863</td>\n",
       "      <td>1.0</td>\n",
       "      <td>real</td>\n",
       "    </tr>\n",
       "    <tr>\n",
       "      <th>2</th>\n",
       "      <td>7.500764</td>\n",
       "      <td>1.0</td>\n",
       "      <td>real</td>\n",
       "    </tr>\n",
       "    <tr>\n",
       "      <th>3</th>\n",
       "      <td>16.710441</td>\n",
       "      <td>1.0</td>\n",
       "      <td>real</td>\n",
       "    </tr>\n",
       "    <tr>\n",
       "      <th>4</th>\n",
       "      <td>49.611071</td>\n",
       "      <td>1.0</td>\n",
       "      <td>real</td>\n",
       "    </tr>\n",
       "    <tr>\n",
       "      <th>5</th>\n",
       "      <td>10.052436</td>\n",
       "      <td>1.0</td>\n",
       "      <td>real</td>\n",
       "    </tr>\n",
       "    <tr>\n",
       "      <th>6</th>\n",
       "      <td>9.040078</td>\n",
       "      <td>1.0</td>\n",
       "      <td>real</td>\n",
       "    </tr>\n",
       "    <tr>\n",
       "      <th>7</th>\n",
       "      <td>0.972122</td>\n",
       "      <td>1.0</td>\n",
       "      <td>real</td>\n",
       "    </tr>\n",
       "    <tr>\n",
       "      <th>8</th>\n",
       "      <td>4.063470</td>\n",
       "      <td>1.0</td>\n",
       "      <td>real</td>\n",
       "    </tr>\n",
       "    <tr>\n",
       "      <th>9</th>\n",
       "      <td>9.007859</td>\n",
       "      <td>1.0</td>\n",
       "      <td>real</td>\n",
       "    </tr>\n",
       "    <tr>\n",
       "      <th>10</th>\n",
       "      <td>14.781402</td>\n",
       "      <td>1.0</td>\n",
       "      <td>real</td>\n",
       "    </tr>\n",
       "    <tr>\n",
       "      <th>11</th>\n",
       "      <td>21.168031</td>\n",
       "      <td>1.0</td>\n",
       "      <td>real</td>\n",
       "    </tr>\n",
       "    <tr>\n",
       "      <th>12</th>\n",
       "      <td>6.234214</td>\n",
       "      <td>1.0</td>\n",
       "      <td>real</td>\n",
       "    </tr>\n",
       "    <tr>\n",
       "      <th>13</th>\n",
       "      <td>0.886739</td>\n",
       "      <td>1.0</td>\n",
       "      <td>real</td>\n",
       "    </tr>\n",
       "    <tr>\n",
       "      <th>14</th>\n",
       "      <td>4.418464</td>\n",
       "      <td>1.0</td>\n",
       "      <td>real</td>\n",
       "    </tr>\n",
       "    <tr>\n",
       "      <th>15</th>\n",
       "      <td>31.244712</td>\n",
       "      <td>1.0</td>\n",
       "      <td>real</td>\n",
       "    </tr>\n",
       "    <tr>\n",
       "      <th>16</th>\n",
       "      <td>3.120218</td>\n",
       "      <td>1.0</td>\n",
       "      <td>real</td>\n",
       "    </tr>\n",
       "    <tr>\n",
       "      <th>17</th>\n",
       "      <td>7.822181</td>\n",
       "      <td>1.0</td>\n",
       "      <td>real</td>\n",
       "    </tr>\n",
       "    <tr>\n",
       "      <th>18</th>\n",
       "      <td>34.796307</td>\n",
       "      <td>1.0</td>\n",
       "      <td>real</td>\n",
       "    </tr>\n",
       "    <tr>\n",
       "      <th>19</th>\n",
       "      <td>0.327788</td>\n",
       "      <td>1.0</td>\n",
       "      <td>real</td>\n",
       "    </tr>\n",
       "    <tr>\n",
       "      <th>20</th>\n",
       "      <td>11.929632</td>\n",
       "      <td>1.0</td>\n",
       "      <td>real</td>\n",
       "    </tr>\n",
       "    <tr>\n",
       "      <th>21</th>\n",
       "      <td>38.978233</td>\n",
       "      <td>1.0</td>\n",
       "      <td>real</td>\n",
       "    </tr>\n",
       "    <tr>\n",
       "      <th>22</th>\n",
       "      <td>3.402856</td>\n",
       "      <td>1.0</td>\n",
       "      <td>real</td>\n",
       "    </tr>\n",
       "    <tr>\n",
       "      <th>23</th>\n",
       "      <td>10.337049</td>\n",
       "      <td>1.0</td>\n",
       "      <td>real</td>\n",
       "    </tr>\n",
       "    <tr>\n",
       "      <th>24</th>\n",
       "      <td>31.177997</td>\n",
       "      <td>1.0</td>\n",
       "      <td>real</td>\n",
       "    </tr>\n",
       "    <tr>\n",
       "      <th>25</th>\n",
       "      <td>1.857853</td>\n",
       "      <td>1.0</td>\n",
       "      <td>real</td>\n",
       "    </tr>\n",
       "    <tr>\n",
       "      <th>26</th>\n",
       "      <td>9.634353</td>\n",
       "      <td>1.0</td>\n",
       "      <td>real</td>\n",
       "    </tr>\n",
       "    <tr>\n",
       "      <th>27</th>\n",
       "      <td>18.043157</td>\n",
       "      <td>1.0</td>\n",
       "      <td>real</td>\n",
       "    </tr>\n",
       "    <tr>\n",
       "      <th>28</th>\n",
       "      <td>14.373800</td>\n",
       "      <td>1.0</td>\n",
       "      <td>real</td>\n",
       "    </tr>\n",
       "    <tr>\n",
       "      <th>29</th>\n",
       "      <td>8.198416</td>\n",
       "      <td>1.0</td>\n",
       "      <td>real</td>\n",
       "    </tr>\n",
       "    <tr>\n",
       "      <th>30</th>\n",
       "      <td>8.022818</td>\n",
       "      <td>2.0</td>\n",
       "      <td>placebo</td>\n",
       "    </tr>\n",
       "    <tr>\n",
       "      <th>31</th>\n",
       "      <td>23.619660</td>\n",
       "      <td>2.0</td>\n",
       "      <td>placebo</td>\n",
       "    </tr>\n",
       "    <tr>\n",
       "      <th>32</th>\n",
       "      <td>16.303975</td>\n",
       "      <td>2.0</td>\n",
       "      <td>placebo</td>\n",
       "    </tr>\n",
       "    <tr>\n",
       "      <th>33</th>\n",
       "      <td>22.712940</td>\n",
       "      <td>2.0</td>\n",
       "      <td>placebo</td>\n",
       "    </tr>\n",
       "    <tr>\n",
       "      <th>34</th>\n",
       "      <td>15.943671</td>\n",
       "      <td>2.0</td>\n",
       "      <td>placebo</td>\n",
       "    </tr>\n",
       "    <tr>\n",
       "      <th>35</th>\n",
       "      <td>63.687850</td>\n",
       "      <td>2.0</td>\n",
       "      <td>placebo</td>\n",
       "    </tr>\n",
       "    <tr>\n",
       "      <th>36</th>\n",
       "      <td>51.233448</td>\n",
       "      <td>2.0</td>\n",
       "      <td>placebo</td>\n",
       "    </tr>\n",
       "    <tr>\n",
       "      <th>37</th>\n",
       "      <td>13.190446</td>\n",
       "      <td>2.0</td>\n",
       "      <td>placebo</td>\n",
       "    </tr>\n",
       "    <tr>\n",
       "      <th>38</th>\n",
       "      <td>29.753297</td>\n",
       "      <td>2.0</td>\n",
       "      <td>placebo</td>\n",
       "    </tr>\n",
       "    <tr>\n",
       "      <th>39</th>\n",
       "      <td>11.306107</td>\n",
       "      <td>2.0</td>\n",
       "      <td>placebo</td>\n",
       "    </tr>\n",
       "    <tr>\n",
       "      <th>40</th>\n",
       "      <td>21.105678</td>\n",
       "      <td>2.0</td>\n",
       "      <td>placebo</td>\n",
       "    </tr>\n",
       "    <tr>\n",
       "      <th>41</th>\n",
       "      <td>15.238144</td>\n",
       "      <td>2.0</td>\n",
       "      <td>placebo</td>\n",
       "    </tr>\n",
       "    <tr>\n",
       "      <th>42</th>\n",
       "      <td>37.491654</td>\n",
       "      <td>2.0</td>\n",
       "      <td>placebo</td>\n",
       "    </tr>\n",
       "    <tr>\n",
       "      <th>43</th>\n",
       "      <td>16.190751</td>\n",
       "      <td>2.0</td>\n",
       "      <td>placebo</td>\n",
       "    </tr>\n",
       "    <tr>\n",
       "      <th>44</th>\n",
       "      <td>21.507776</td>\n",
       "      <td>2.0</td>\n",
       "      <td>placebo</td>\n",
       "    </tr>\n",
       "    <tr>\n",
       "      <th>45</th>\n",
       "      <td>44.469416</td>\n",
       "      <td>2.0</td>\n",
       "      <td>placebo</td>\n",
       "    </tr>\n",
       "    <tr>\n",
       "      <th>46</th>\n",
       "      <td>18.645079</td>\n",
       "      <td>2.0</td>\n",
       "      <td>placebo</td>\n",
       "    </tr>\n",
       "    <tr>\n",
       "      <th>47</th>\n",
       "      <td>82.914074</td>\n",
       "      <td>2.0</td>\n",
       "      <td>placebo</td>\n",
       "    </tr>\n",
       "    <tr>\n",
       "      <th>48</th>\n",
       "      <td>6.965065</td>\n",
       "      <td>2.0</td>\n",
       "      <td>placebo</td>\n",
       "    </tr>\n",
       "    <tr>\n",
       "      <th>49</th>\n",
       "      <td>47.298520</td>\n",
       "      <td>2.0</td>\n",
       "      <td>placebo</td>\n",
       "    </tr>\n",
       "    <tr>\n",
       "      <th>50</th>\n",
       "      <td>19.209006</td>\n",
       "      <td>2.0</td>\n",
       "      <td>placebo</td>\n",
       "    </tr>\n",
       "    <tr>\n",
       "      <th>51</th>\n",
       "      <td>19.457074</td>\n",
       "      <td>2.0</td>\n",
       "      <td>placebo</td>\n",
       "    </tr>\n",
       "    <tr>\n",
       "      <th>52</th>\n",
       "      <td>35.215613</td>\n",
       "      <td>2.0</td>\n",
       "      <td>placebo</td>\n",
       "    </tr>\n",
       "    <tr>\n",
       "      <th>53</th>\n",
       "      <td>25.901476</td>\n",
       "      <td>2.0</td>\n",
       "      <td>placebo</td>\n",
       "    </tr>\n",
       "    <tr>\n",
       "      <th>54</th>\n",
       "      <td>18.758199</td>\n",
       "      <td>2.0</td>\n",
       "      <td>placebo</td>\n",
       "    </tr>\n",
       "    <tr>\n",
       "      <th>55</th>\n",
       "      <td>0.049976</td>\n",
       "      <td>2.0</td>\n",
       "      <td>placebo</td>\n",
       "    </tr>\n",
       "    <tr>\n",
       "      <th>56</th>\n",
       "      <td>3.387995</td>\n",
       "      <td>2.0</td>\n",
       "      <td>placebo</td>\n",
       "    </tr>\n",
       "    <tr>\n",
       "      <th>57</th>\n",
       "      <td>43.252588</td>\n",
       "      <td>2.0</td>\n",
       "      <td>placebo</td>\n",
       "    </tr>\n",
       "    <tr>\n",
       "      <th>58</th>\n",
       "      <td>26.007231</td>\n",
       "      <td>2.0</td>\n",
       "      <td>placebo</td>\n",
       "    </tr>\n",
       "    <tr>\n",
       "      <th>59</th>\n",
       "      <td>41.693945</td>\n",
       "      <td>2.0</td>\n",
       "      <td>placebo</td>\n",
       "    </tr>\n",
       "  </tbody>\n",
       "</table>\n",
       "</div>"
      ],
      "text/plain": [
       "          pop  grupo  remedio\n",
       "0    1.031900    1.0     real\n",
       "1   19.678863    1.0     real\n",
       "2    7.500764    1.0     real\n",
       "3   16.710441    1.0     real\n",
       "4   49.611071    1.0     real\n",
       "5   10.052436    1.0     real\n",
       "6    9.040078    1.0     real\n",
       "7    0.972122    1.0     real\n",
       "8    4.063470    1.0     real\n",
       "9    9.007859    1.0     real\n",
       "10  14.781402    1.0     real\n",
       "11  21.168031    1.0     real\n",
       "12   6.234214    1.0     real\n",
       "13   0.886739    1.0     real\n",
       "14   4.418464    1.0     real\n",
       "15  31.244712    1.0     real\n",
       "16   3.120218    1.0     real\n",
       "17   7.822181    1.0     real\n",
       "18  34.796307    1.0     real\n",
       "19   0.327788    1.0     real\n",
       "20  11.929632    1.0     real\n",
       "21  38.978233    1.0     real\n",
       "22   3.402856    1.0     real\n",
       "23  10.337049    1.0     real\n",
       "24  31.177997    1.0     real\n",
       "25   1.857853    1.0     real\n",
       "26   9.634353    1.0     real\n",
       "27  18.043157    1.0     real\n",
       "28  14.373800    1.0     real\n",
       "29   8.198416    1.0     real\n",
       "30   8.022818    2.0  placebo\n",
       "31  23.619660    2.0  placebo\n",
       "32  16.303975    2.0  placebo\n",
       "33  22.712940    2.0  placebo\n",
       "34  15.943671    2.0  placebo\n",
       "35  63.687850    2.0  placebo\n",
       "36  51.233448    2.0  placebo\n",
       "37  13.190446    2.0  placebo\n",
       "38  29.753297    2.0  placebo\n",
       "39  11.306107    2.0  placebo\n",
       "40  21.105678    2.0  placebo\n",
       "41  15.238144    2.0  placebo\n",
       "42  37.491654    2.0  placebo\n",
       "43  16.190751    2.0  placebo\n",
       "44  21.507776    2.0  placebo\n",
       "45  44.469416    2.0  placebo\n",
       "46  18.645079    2.0  placebo\n",
       "47  82.914074    2.0  placebo\n",
       "48   6.965065    2.0  placebo\n",
       "49  47.298520    2.0  placebo\n",
       "50  19.209006    2.0  placebo\n",
       "51  19.457074    2.0  placebo\n",
       "52  35.215613    2.0  placebo\n",
       "53  25.901476    2.0  placebo\n",
       "54  18.758199    2.0  placebo\n",
       "55   0.049976    2.0  placebo\n",
       "56   3.387995    2.0  placebo\n",
       "57  43.252588    2.0  placebo\n",
       "58  26.007231    2.0  placebo\n",
       "59  41.693945    2.0  placebo"
      ]
     },
     "execution_count": 125,
     "metadata": {},
     "output_type": "execute_result"
    }
   ],
   "source": [
    "pop_dict = {\"pop\":pop,\n",
    "            \"grupo\": grupos}\n",
    "data = pd.DataFrame(pop_dict)\n",
    "data[\"remedio\"] = np.where(data.grupo == 1, \"real\", \"placebo\")\n",
    "data"
   ]
  },
  {
   "cell_type": "code",
   "execution_count": 126,
   "id": "008fd5a7-2a98-4734-a494-2aa9d00e9bca",
   "metadata": {},
   "outputs": [
    {
     "data": {
      "text/plain": [
       "<AxesSubplot:xlabel='remedio', ylabel='pop'>"
      ]
     },
     "execution_count": 126,
     "metadata": {},
     "output_type": "execute_result"
    },
    {
     "data": {
      "image/png": "[encoded data removed]",
      "text/plain": [
       "<Figure size 432x288 with 1 Axes>"
      ]
     },
     "metadata": {
      "needs_background": "light"
     },
     "output_type": "display_data"
    }
   ],
   "source": [
    "sns.boxplot(data = data,\n",
    "            x = \"remedio\",\n",
    "            cy = \"pop\",\n",
    "            showmeans = True,\n",
    "            meanprops={\"marker\":\"o\",\n",
    "                       \"markerfacecolor\":\"white\", \n",
    "                       \"markeredgecolor\":\"black\",\n",
    "                       \"markersize\":\"10\"})"
   ]
  },
  {
   "cell_type": "markdown",
   "id": "514ba290-de30-46eb-9820-f24e237b2688",
   "metadata": {},
   "source": [
    "Observando as médias o que queremos saber então é se $\\mu_X = \\mu_Y$ que é equivalente a verificar se $\\theta_0 = \\mu_X - \\mu_Y = 0$.  "
   ]
  },
  {
   "cell_type": "markdown",
   "id": "3f3ec048-765f-4b1b-928d-69a9ed7fec0a",
   "metadata": {},
   "source": [
    "Conforme vimos nos exemplos anteriores notaremos que a ideia é exatamente a mesma.\n",
    "\n",
    "Dadas duas populações $P_1 \\sim N(\\mu_1, \\sigma_1^2)$ e $P_2 \\sim N(\\mu_2, \\sigma_2^2)$\n",
    "\n",
    "Novamente formulamos H0 e H1\n",
    "\n",
    "$$H_0: \\mu_1 - \\mu_2 = 0$$\n",
    "$$H_1: \\mu_1 - \\mu_2 \\neq 0$$\n",
    "\n",
    "Dessa forma, pelo TLC\n",
    "\n",
    "$\\overline{X} \\sim N(\\mu_1, \\frac{\\sigma_1^2}{n})$ e $\\overline{Y} \\sim N(\\mu_2, \\frac{\\sigma_2^2}{m})$\n",
    "\n",
    "e portanto, sob H0 \n",
    "\n",
    "$$\\overline{X} - \\overline{Y}  \\sim N(0, \\frac{\\sigma_1^2}{n} + \\frac{\\sigma_2^2}{m})$$\n",
    "\n",
    "De maneira que\n",
    "\n",
    "$$Z = \\dfrac{\\overline{X} - \\overline{Y}}{\\sqrt{\\frac{\\sigma_1^2}{n} + \\frac{\\sigma_2^2}{m}}}  \\sim N(0, 1)$$\n",
    "\n",
    "\n"
   ]
  },
  {
   "cell_type": "markdown",
   "id": "236e4d33-37c4-4d2e-be8d-af94a6faae8c",
   "metadata": {},
   "source": [
    "#### Ex.: Fraturo do Úmero em Idosos\n",
    "Resultados obtidos em experimentos com recuperação de idosos, que tiveram o úmero fraturado, com verificações realizadas após 6 meses de físioterapia ou da cirurgia. Deseja-se saber se os tratamentos tem a mesma efetividade."
   ]
  },
  {
   "cell_type": "code",
   "execution_count": 34,
   "id": "9fb3898c-52c8-4daa-a8db-5bb95ac1b2b6",
   "metadata": {},
   "outputs": [
    {
     "data": {
      "text/html": [
       "<div>\n",
       "<style scoped>\n",
       "    .dataframe tbody tr th:only-of-type {\n",
       "        vertical-align: middle;\n",
       "    }\n",
       "\n",
       "    .dataframe tbody tr th {\n",
       "        vertical-align: top;\n",
       "    }\n",
       "\n",
       "    .dataframe thead th {\n",
       "        text-align: right;\n",
       "    }\n",
       "</style>\n",
       "<table border=\"1\" class=\"dataframe\">\n",
       "  <thead>\n",
       "    <tr style=\"text-align: right;\">\n",
       "      <th></th>\n",
       "      <th>melhora</th>\n",
       "      <th>nao_melhora</th>\n",
       "      <th>total</th>\n",
       "    </tr>\n",
       "  </thead>\n",
       "  <tbody>\n",
       "    <tr>\n",
       "      <th>operacao</th>\n",
       "      <td>62</td>\n",
       "      <td>38</td>\n",
       "      <td>100</td>\n",
       "    </tr>\n",
       "    <tr>\n",
       "      <th>fisio</th>\n",
       "      <td>48</td>\n",
       "      <td>52</td>\n",
       "      <td>100</td>\n",
       "    </tr>\n",
       "    <tr>\n",
       "      <th>total</th>\n",
       "      <td>110</td>\n",
       "      <td>90</td>\n",
       "      <td>200</td>\n",
       "    </tr>\n",
       "  </tbody>\n",
       "</table>\n",
       "</div>"
      ],
      "text/plain": [
       "          melhora  nao_melhora  total\n",
       "operacao       62           38    100\n",
       "fisio          48           52    100\n",
       "total         110           90    200"
      ]
     },
     "execution_count": 34,
     "metadata": {},
     "output_type": "execute_result"
    }
   ],
   "source": [
    "dict_data = {\n",
    "             \"melhora\":[62, 48, 110],\n",
    "             \"nao_melhora\":[38, 52, 90],\n",
    "             \"total\": [100, 100, 200]\n",
    "            }\n",
    "data = pd.DataFrame(dict_data, index = [\"operacao\", \"fisio\", \"total\"])\n",
    "data"
   ]
  },
  {
   "cell_type": "markdown",
   "id": "b5f14483-7c89-4e47-b24a-7eef7d39e19e",
   "metadata": {},
   "source": [
    "$$H_0: \\theta = p_1 - p_2 = 0$$\n",
    "$$H_1: \\theta = p_1 - p_2 \\neq 0$$\n",
    "\n",
    "Assumindo H0 então\n",
    "\n",
    "$$\\hat{\\theta} \\sim N(0, p(1-p)(\\frac{1}{n}+\\frac{1}{m}))$$\n",
    "\n",
    "e\n",
    "\n",
    "$$Z = \\dfrac{\\hat{\\theta}}{SE(\\hat{\\theta})} = \\dfrac{\\hat{\\theta}}{\\sqrt{p(1-p)(\\frac{1}{n}+\\frac{1}{m})}} \\sim N(0, 1)$$\n",
    "\n",
    "consideranto $\\alpha = 5\\%$ então $z = 1.96$"
   ]
  },
  {
   "cell_type": "code",
   "execution_count": 31,
   "id": "d9649cd9-0b2d-464b-98f8-41b23dfab71a",
   "metadata": {},
   "outputs": [
    {
     "data": {
      "text/plain": [
       "1.9599639845400545"
      ]
     },
     "execution_count": 31,
     "metadata": {},
     "output_type": "execute_result"
    }
   ],
   "source": [
    "-stats.norm().ppf(0.025)"
   ]
  },
  {
   "cell_type": "markdown",
   "id": "5e87dca2-313f-4e21-9582-ca0017793711",
   "metadata": {},
   "source": [
    "portanto o valor crítico obtido por\n",
    "\n",
    "$$\\dfrac{\\hat{\\theta}}{\\sqrt{p(1-p)(\\frac{1}{n}+\\frac{1}{m})}}$$\n",
    "\n",
    "considerando\n",
    "\n",
    "- $\\hat{\\theta} = p_1 - p_2 = 0.62 - 0.48 = 0.14$\n",
    "- $p = 110/200 = 0.55$\n",
    "- $n = m = 100$\n",
    "\n",
    "temos que\n",
    "\n",
    "$$\\dfrac{\\hat{\\theta}}{\\sqrt{p(1-p)(\\frac{1}{n}+\\frac{1}{m})}} = 1.99 >1.96 $$\n",
    "\n",
    "E assim rejeitamos H0"
   ]
  },
  {
   "cell_type": "code",
   "execution_count": 38,
   "id": "05b5eb30-e21b-4dcb-8262-5710d83ba352",
   "metadata": {},
   "outputs": [
    {
     "data": {
      "text/html": [
       "<div>\n",
       "<style scoped>\n",
       "    .dataframe tbody tr th:only-of-type {\n",
       "        vertical-align: middle;\n",
       "    }\n",
       "\n",
       "    .dataframe tbody tr th {\n",
       "        vertical-align: top;\n",
       "    }\n",
       "\n",
       "    .dataframe thead th {\n",
       "        text-align: right;\n",
       "    }\n",
       "</style>\n",
       "<table border=\"1\" class=\"dataframe\">\n",
       "  <thead>\n",
       "    <tr style=\"text-align: right;\">\n",
       "      <th></th>\n",
       "      <th>melhora</th>\n",
       "      <th>nao_melhora</th>\n",
       "      <th>total</th>\n",
       "      <th>prob</th>\n",
       "    </tr>\n",
       "  </thead>\n",
       "  <tbody>\n",
       "    <tr>\n",
       "      <th>operacao</th>\n",
       "      <td>62</td>\n",
       "      <td>38</td>\n",
       "      <td>100</td>\n",
       "      <td>0.62</td>\n",
       "    </tr>\n",
       "    <tr>\n",
       "      <th>fisio</th>\n",
       "      <td>48</td>\n",
       "      <td>52</td>\n",
       "      <td>100</td>\n",
       "      <td>0.48</td>\n",
       "    </tr>\n",
       "    <tr>\n",
       "      <th>total</th>\n",
       "      <td>110</td>\n",
       "      <td>90</td>\n",
       "      <td>200</td>\n",
       "      <td>0.55</td>\n",
       "    </tr>\n",
       "  </tbody>\n",
       "</table>\n",
       "</div>"
      ],
      "text/plain": [
       "          melhora  nao_melhora  total  prob\n",
       "operacao       62           38    100  0.62\n",
       "fisio          48           52    100  0.48\n",
       "total         110           90    200  0.55"
      ]
     },
     "execution_count": 38,
     "metadata": {},
     "output_type": "execute_result"
    }
   ],
   "source": [
    "data[\"prob\"] =  data.melhora/data.total\n",
    "data"
   ]
  },
  {
   "cell_type": "code",
   "execution_count": 41,
   "id": "4d3b309e-abe2-434c-b853-3f65d98c34ed",
   "metadata": {},
   "outputs": [
    {
     "data": {
      "text/plain": [
       "1.9898733526523642"
      ]
     },
     "execution_count": 41,
     "metadata": {},
     "output_type": "execute_result"
    }
   ],
   "source": [
    "#estatistica direta\n",
    "theta = (data.loc[\"operacao\",\"prob\"] - data.loc[\"fisio\",\"prob\"])\n",
    "p = data.loc[\"total\",\"prob\"]\n",
    "total = (1/data.loc[\"operacao\",\"total\"]) + (1/data.loc[\"fisio\",\"total\"])\n",
    "\n",
    "theta/math.sqrt(p*(1-p)*(total))"
   ]
  },
  {
   "cell_type": "code",
   "execution_count": 42,
   "id": "b401d8d9-538b-4af0-ae18-6cdf35aef511",
   "metadata": {},
   "outputs": [
    {
     "data": {
      "text/plain": [
       "0.13789822333880883"
      ]
     },
     "execution_count": 42,
     "metadata": {},
     "output_type": "execute_result"
    }
   ],
   "source": [
    "#regiao critica\n",
    "1.96*math.sqrt(p*(1-p)*total)"
   ]
  },
  {
   "cell_type": "code",
   "execution_count": 49,
   "id": "0dc1a8b6-300b-44e2-9e40-f9779bbb889d",
   "metadata": {},
   "outputs": [
    {
     "data": {
      "text/plain": [
       "0.04659093550042364"
      ]
     },
     "execution_count": 49,
     "metadata": {},
     "output_type": "execute_result"
    }
   ],
   "source": [
    "#p-value\n",
    "2*stats.norm().cdf(-1.99)"
   ]
  },
  {
   "cell_type": "markdown",
   "id": "4b6c521a-772d-495e-9f9e-9de15ba15a5f",
   "metadata": {},
   "source": [
    "$$IC(\\hat{\\theta}) = \\hat{\\theta} \\pm SE(\\hat{\\theta})z_{1-\\frac{\\alpha}{2}}$$"
   ]
  },
  {
   "cell_type": "code",
   "execution_count": 57,
   "id": "7fbfb661-10e3-43a4-b637-d9e7ed042687",
   "metadata": {},
   "outputs": [
    {
     "data": {
      "text/plain": [
       "(0.0034761625282679898, 0.27652383747173204)"
      ]
     },
     "execution_count": 57,
     "metadata": {},
     "output_type": "execute_result"
    }
   ],
   "source": [
    "# Intervalo de confianca\n",
    "n = data.loc[\"operacao\",\"total\"]\n",
    "m = data.loc[\"fisio\",\"total\"]\n",
    "p1 = data.loc[\"operacao\",\"prob\"]\n",
    "p2 = data.loc[\"fisio\",\"prob\"]\n",
    "std_error = math.sqrt((p1*(1-p1)/n) + (p2*(1-p2)/m)) \n",
    "confianca = 0.95\n",
    "alpha = 1-confianca\n",
    "\n",
    "((p1-p2) - std_error*stats.norm().ppf(1-alpha/2), (p1-p2) + std_error*stats.norm().ppf(1-alpha/2))"
   ]
  },
  {
   "cell_type": "markdown",
   "id": "4c251c9f-0ed7-4833-86dc-9e163b03d895",
   "metadata": {},
   "source": [
    "## Python aplicado"
   ]
  },
  {
   "cell_type": "code",
   "execution_count": 15,
   "id": "07865cca-d8d8-4923-9b3a-d0a36f4138d8",
   "metadata": {
    "scrolled": true,
    "tags": []
   },
   "outputs": [],
   "source": [
    "#load data"
   ]
  },
  {
   "cell_type": "code",
   "execution_count": 16,
   "id": "878f655e-f1b3-4d36-b207-68dfa48eda33",
   "metadata": {},
   "outputs": [],
   "source": [
    "# plot"
   ]
  },
  {
   "cell_type": "code",
   "execution_count": 17,
   "id": "78d6e956-c0a7-4080-a748-d3819db93872",
   "metadata": {},
   "outputs": [],
   "source": [
    "# media real"
   ]
  },
  {
   "cell_type": "code",
   "execution_count": 18,
   "id": "acd360b1-df74-4f52-ba43-08ae53380bdf",
   "metadata": {
    "tags": []
   },
   "outputs": [],
   "source": [
    "#Uma amostra"
   ]
  },
  {
   "cell_type": "code",
   "execution_count": 19,
   "id": "bc839854-1936-41d1-b78f-90c6c9fe38d1",
   "metadata": {},
   "outputs": [],
   "source": [
    "#Diferenca de medias"
   ]
  },
  {
   "cell_type": "markdown",
   "id": "2f42109e-5f99-459f-83a4-dd35462fdf19",
   "metadata": {},
   "source": [
    "# ANOVA - Analise de Variância\n",
    "Verifica a soma de quadrados das distâncias com relação a média, dentro e fora dos grupos, para determinar diferenças estatísticas em diferentes grupos."
   ]
  },
  {
   "cell_type": "code",
   "execution_count": 182,
   "id": "5d5ff6c7-5b36-4158-8da8-a92ffb65c763",
   "metadata": {},
   "outputs": [
    {
     "name": "stdout",
     "output_type": "stream",
     "text": [
      "            sum_sq     df            F        PR(>F)\n",
      "species   437.1028    2.0  1180.161182  2.856777e-91\n",
      "Residual   27.2226  147.0          NaN           NaN\n"
     ]
    }
   ],
   "source": [
    "import statsmodels.api as sm\n",
    "from statsmodels.formula.api import ols\n",
    "\n",
    "#H0: medias sao iguais\n",
    "#H1: ao menos duas sao diferentes\n",
    "\n",
    "mod = ols('petal_length ~ species', data=dt_iris).fit()\n",
    "                \n",
    "aov_table = sm.stats.anova_lm(mod, typ=2)\n",
    "print(aov_table)"
   ]
  },
  {
   "cell_type": "code",
   "execution_count": 10,
   "id": "a9314661-60ee-4060-9955-1e223957e5d1",
   "metadata": {},
   "outputs": [
    {
     "data": {
      "text/html": [
       "<div>\n",
       "<style scoped>\n",
       "    .dataframe tbody tr th:only-of-type {\n",
       "        vertical-align: middle;\n",
       "    }\n",
       "\n",
       "    .dataframe tbody tr th {\n",
       "        vertical-align: top;\n",
       "    }\n",
       "\n",
       "    .dataframe thead th {\n",
       "        text-align: right;\n",
       "    }\n",
       "</style>\n",
       "<table border=\"1\" class=\"dataframe\">\n",
       "  <thead>\n",
       "    <tr style=\"text-align: right;\">\n",
       "      <th></th>\n",
       "      <th>coef</th>\n",
       "      <th>std err</th>\n",
       "      <th>t</th>\n",
       "      <th>P&gt;|t|</th>\n",
       "      <th>Conf. Int. Low</th>\n",
       "      <th>Conf. Int. Upp.</th>\n",
       "      <th>pvalue-hs</th>\n",
       "      <th>reject-hs</th>\n",
       "    </tr>\n",
       "  </thead>\n",
       "  <tbody>\n",
       "    <tr>\n",
       "      <th>versicolor-setosa</th>\n",
       "      <td>2.798</td>\n",
       "      <td>0.086067</td>\n",
       "      <td>32.509597</td>\n",
       "      <td>5.254587e-69</td>\n",
       "      <td>2.627912</td>\n",
       "      <td>2.968088</td>\n",
       "      <td>0.0</td>\n",
       "      <td>True</td>\n",
       "    </tr>\n",
       "    <tr>\n",
       "      <th>virginica-setosa</th>\n",
       "      <td>4.090</td>\n",
       "      <td>0.086067</td>\n",
       "      <td>47.521176</td>\n",
       "      <td>4.106139e-91</td>\n",
       "      <td>3.919912</td>\n",
       "      <td>4.260088</td>\n",
       "      <td>0.0</td>\n",
       "      <td>True</td>\n",
       "    </tr>\n",
       "    <tr>\n",
       "      <th>virginica-versicolor</th>\n",
       "      <td>1.292</td>\n",
       "      <td>0.086067</td>\n",
       "      <td>15.011579</td>\n",
       "      <td>1.810597e-31</td>\n",
       "      <td>1.121912</td>\n",
       "      <td>1.462088</td>\n",
       "      <td>0.0</td>\n",
       "      <td>True</td>\n",
       "    </tr>\n",
       "  </tbody>\n",
       "</table>\n",
       "</div>"
      ],
      "text/plain": [
       "                       coef   std err          t         P>|t|  \\\n",
       "versicolor-setosa     2.798  0.086067  32.509597  5.254587e-69   \n",
       "virginica-setosa      4.090  0.086067  47.521176  4.106139e-91   \n",
       "virginica-versicolor  1.292  0.086067  15.011579  1.810597e-31   \n",
       "\n",
       "                      Conf. Int. Low  Conf. Int. Upp.  pvalue-hs  reject-hs  \n",
       "versicolor-setosa           2.627912         2.968088        0.0       True  \n",
       "virginica-setosa            3.919912         4.260088        0.0       True  \n",
       "virginica-versicolor        1.121912         1.462088        0.0       True  "
      ]
     },
     "execution_count": 10,
     "metadata": {},
     "output_type": "execute_result"
    }
   ],
   "source": [
    "pair_t = mod.t_test_pairwise('species')\n",
    "pair_t.result_frame"
   ]
  },
  {
   "cell_type": "markdown",
   "id": "9b2cf6a5-4599-4f2b-831b-89035b51db08",
   "metadata": {},
   "source": [
    "# Test chi-quadrado\n",
    "Teste de hipótese também podem ser aplicados para verificar independência entre variáveis, tal como variáveis qualitativas que formam uma tabela de contingência. Por exmeplo."
   ]
  },
  {
   "cell_type": "code",
   "execution_count": 7,
   "id": "f2942f8e-38ed-48ed-9caf-2945c9aac643",
   "metadata": {},
   "outputs": [
    {
     "data": {
      "text/html": [
       "<div>\n",
       "<style scoped>\n",
       "    .dataframe tbody tr th:only-of-type {\n",
       "        vertical-align: middle;\n",
       "    }\n",
       "\n",
       "    .dataframe tbody tr th {\n",
       "        vertical-align: top;\n",
       "    }\n",
       "\n",
       "    .dataframe thead th {\n",
       "        text-align: right;\n",
       "    }\n",
       "</style>\n",
       "<table border=\"1\" class=\"dataframe\">\n",
       "  <thead>\n",
       "    <tr style=\"text-align: right;\">\n",
       "      <th></th>\n",
       "      <th>consumidor</th>\n",
       "      <th>produtor</th>\n",
       "      <th>escola</th>\n",
       "      <th>outras</th>\n",
       "      <th>total</th>\n",
       "      <th>prop_consumidor</th>\n",
       "      <th>prop_produtor</th>\n",
       "      <th>prop_escola</th>\n",
       "      <th>prop_outras</th>\n",
       "      <th>prop_total</th>\n",
       "    </tr>\n",
       "  </thead>\n",
       "  <tbody>\n",
       "    <tr>\n",
       "      <th>SP</th>\n",
       "      <td>214</td>\n",
       "      <td>237</td>\n",
       "      <td>78</td>\n",
       "      <td>119</td>\n",
       "      <td>648</td>\n",
       "      <td>0.330247</td>\n",
       "      <td>0.365741</td>\n",
       "      <td>0.120370</td>\n",
       "      <td>0.183642</td>\n",
       "      <td>1.0</td>\n",
       "    </tr>\n",
       "    <tr>\n",
       "      <th>PR</th>\n",
       "      <td>51</td>\n",
       "      <td>102</td>\n",
       "      <td>126</td>\n",
       "      <td>22</td>\n",
       "      <td>301</td>\n",
       "      <td>0.169435</td>\n",
       "      <td>0.338870</td>\n",
       "      <td>0.418605</td>\n",
       "      <td>0.073090</td>\n",
       "      <td>1.0</td>\n",
       "    </tr>\n",
       "    <tr>\n",
       "      <th>RS</th>\n",
       "      <td>111</td>\n",
       "      <td>304</td>\n",
       "      <td>139</td>\n",
       "      <td>48</td>\n",
       "      <td>602</td>\n",
       "      <td>0.184385</td>\n",
       "      <td>0.504983</td>\n",
       "      <td>0.230897</td>\n",
       "      <td>0.079734</td>\n",
       "      <td>1.0</td>\n",
       "    </tr>\n",
       "    <tr>\n",
       "      <th>total</th>\n",
       "      <td>376</td>\n",
       "      <td>643</td>\n",
       "      <td>343</td>\n",
       "      <td>189</td>\n",
       "      <td>1551</td>\n",
       "      <td>0.242424</td>\n",
       "      <td>0.414571</td>\n",
       "      <td>0.221148</td>\n",
       "      <td>0.121857</td>\n",
       "      <td>1.0</td>\n",
       "    </tr>\n",
       "  </tbody>\n",
       "</table>\n",
       "</div>"
      ],
      "text/plain": [
       "       consumidor  produtor  escola  outras  total  prop_consumidor  \\\n",
       "SP            214       237      78     119    648         0.330247   \n",
       "PR             51       102     126      22    301         0.169435   \n",
       "RS            111       304     139      48    602         0.184385   \n",
       "total         376       643     343     189   1551         0.242424   \n",
       "\n",
       "       prop_produtor  prop_escola  prop_outras  prop_total  \n",
       "SP          0.365741     0.120370     0.183642         1.0  \n",
       "PR          0.338870     0.418605     0.073090         1.0  \n",
       "RS          0.504983     0.230897     0.079734         1.0  \n",
       "total       0.414571     0.221148     0.121857         1.0  "
      ]
     },
     "execution_count": 7,
     "metadata": {},
     "output_type": "execute_result"
    }
   ],
   "source": [
    "dict_cooperativa = {\"consumidor\": [214, 51, 111],\n",
    "                    \"produtor\": [237, 102, 304],\n",
    "                    \"escola\": [78, 126, 139],\n",
    "                    \"outras\": [119, 22, 48]\n",
    "                   }\n",
    "dt_coop = pd.DataFrame(dict_cooperativa, index = [\"SP\", \"PR\", \"RS\"])\n",
    "dt_coop[\"total\"] = dt_coop.sum(axis = 1)\n",
    "idx_total = dt_coop.sum(axis = 0)\n",
    "idx_total.name = \"total\"\n",
    "dt_coop = dt_coop.append(idx_total)\n",
    "\n",
    "dt_coop_prop = dt_coop.div(dt_coop.total, axis = 0)\n",
    "dt_coop_prop.columns = \"prop_\" + dt_coop_prop.columns\n",
    "dt_coop_geral = pd.concat((dt_coop, dt_coop_prop), axis = 1)\n",
    "dt_coop_geral"
   ]
  },
  {
   "cell_type": "code",
   "execution_count": 8,
   "id": "692e818b-46e4-47e2-9543-506a71544047",
   "metadata": {},
   "outputs": [
    {
     "data": {
      "text/html": [
       "<div>\n",
       "<style scoped>\n",
       "    .dataframe tbody tr th:only-of-type {\n",
       "        vertical-align: middle;\n",
       "    }\n",
       "\n",
       "    .dataframe tbody tr th {\n",
       "        vertical-align: top;\n",
       "    }\n",
       "\n",
       "    .dataframe thead th {\n",
       "        text-align: right;\n",
       "    }\n",
       "</style>\n",
       "<table border=\"1\" class=\"dataframe\">\n",
       "  <thead>\n",
       "    <tr style=\"text-align: right;\">\n",
       "      <th></th>\n",
       "      <th>consumidor</th>\n",
       "      <th>produtor</th>\n",
       "      <th>escola</th>\n",
       "      <th>outras</th>\n",
       "      <th>total</th>\n",
       "      <th>prop_consumidor</th>\n",
       "      <th>prop_produtor</th>\n",
       "      <th>prop_escola</th>\n",
       "      <th>prop_outras</th>\n",
       "      <th>prop_total</th>\n",
       "    </tr>\n",
       "  </thead>\n",
       "  <tbody>\n",
       "    <tr>\n",
       "      <th>SP</th>\n",
       "      <td>157.0</td>\n",
       "      <td>269.0</td>\n",
       "      <td>143.0</td>\n",
       "      <td>79.0</td>\n",
       "      <td>648.0</td>\n",
       "      <td>0.242284</td>\n",
       "      <td>0.415123</td>\n",
       "      <td>0.220679</td>\n",
       "      <td>0.121914</td>\n",
       "      <td>1.0</td>\n",
       "    </tr>\n",
       "    <tr>\n",
       "      <th>PR</th>\n",
       "      <td>73.0</td>\n",
       "      <td>125.0</td>\n",
       "      <td>67.0</td>\n",
       "      <td>37.0</td>\n",
       "      <td>301.0</td>\n",
       "      <td>0.242525</td>\n",
       "      <td>0.415282</td>\n",
       "      <td>0.222591</td>\n",
       "      <td>0.122924</td>\n",
       "      <td>1.0</td>\n",
       "    </tr>\n",
       "    <tr>\n",
       "      <th>RS</th>\n",
       "      <td>146.0</td>\n",
       "      <td>250.0</td>\n",
       "      <td>133.0</td>\n",
       "      <td>73.0</td>\n",
       "      <td>602.0</td>\n",
       "      <td>0.242525</td>\n",
       "      <td>0.415282</td>\n",
       "      <td>0.220930</td>\n",
       "      <td>0.121262</td>\n",
       "      <td>1.0</td>\n",
       "    </tr>\n",
       "    <tr>\n",
       "      <th>total</th>\n",
       "      <td>376.0</td>\n",
       "      <td>643.0</td>\n",
       "      <td>343.0</td>\n",
       "      <td>189.0</td>\n",
       "      <td>1551.0</td>\n",
       "      <td>0.242424</td>\n",
       "      <td>0.414571</td>\n",
       "      <td>0.221148</td>\n",
       "      <td>0.121857</td>\n",
       "      <td>1.0</td>\n",
       "    </tr>\n",
       "  </tbody>\n",
       "</table>\n",
       "</div>"
      ],
      "text/plain": [
       "       consumidor  produtor  escola  outras   total  prop_consumidor  \\\n",
       "SP          157.0     269.0   143.0    79.0   648.0         0.242284   \n",
       "PR           73.0     125.0    67.0    37.0   301.0         0.242525   \n",
       "RS          146.0     250.0   133.0    73.0   602.0         0.242525   \n",
       "total       376.0     643.0   343.0   189.0  1551.0         0.242424   \n",
       "\n",
       "       prop_produtor  prop_escola  prop_outras  prop_total  \n",
       "SP          0.415123     0.220679     0.121914         1.0  \n",
       "PR          0.415282     0.222591     0.122924         1.0  \n",
       "RS          0.415282     0.220930     0.121262         1.0  \n",
       "total       0.414571     0.221148     0.121857         1.0  "
      ]
     },
     "execution_count": 8,
     "metadata": {},
     "output_type": "execute_result"
    }
   ],
   "source": [
    "grid = pd.DataFrame(dt_coop_prop.loc[\"total\"]).merge(pd.DataFrame(dt_coop.total), how = \"cross\")\n",
    "grid[\"esperado\"] = round(grid.total_x*grid.total_y, 0)\n",
    "dt_esperado = pd.DataFrame(np.reshape(np.array(grid.esperado),(5,4)).T,\n",
    "                 columns=dt_coop.columns,\n",
    "                 index = dt_coop.index)\n",
    "dt_esperado_prop = dt_esperado.div(dt_esperado.total, axis = 0)\n",
    "dt_esperado_prop.columns = \"prop_\" + dt_esperado_prop.columns\n",
    "dt_esperado_geral = pd.concat((dt_esperado, dt_esperado_prop), axis = 1)\n",
    "dt_esperado_geral"
   ]
  },
  {
   "cell_type": "code",
   "execution_count": 9,
   "id": "f9c6037d-36e0-41f5-b351-f3b179eca8c7",
   "metadata": {},
   "outputs": [
    {
     "data": {
      "text/html": [
       "<div>\n",
       "<style scoped>\n",
       "    .dataframe tbody tr th:only-of-type {\n",
       "        vertical-align: middle;\n",
       "    }\n",
       "\n",
       "    .dataframe tbody tr th {\n",
       "        vertical-align: top;\n",
       "    }\n",
       "\n",
       "    .dataframe thead th {\n",
       "        text-align: right;\n",
       "    }\n",
       "</style>\n",
       "<table border=\"1\" class=\"dataframe\">\n",
       "  <thead>\n",
       "    <tr style=\"text-align: right;\">\n",
       "      <th></th>\n",
       "      <th>consumidor</th>\n",
       "      <th>produtor</th>\n",
       "      <th>escola</th>\n",
       "      <th>outras</th>\n",
       "      <th>total</th>\n",
       "      <th>prop_consumidor</th>\n",
       "      <th>prop_produtor</th>\n",
       "      <th>prop_escola</th>\n",
       "      <th>prop_outras</th>\n",
       "      <th>prop_total</th>\n",
       "    </tr>\n",
       "  </thead>\n",
       "  <tbody>\n",
       "    <tr>\n",
       "      <th>SP</th>\n",
       "      <td>214</td>\n",
       "      <td>237</td>\n",
       "      <td>78</td>\n",
       "      <td>119</td>\n",
       "      <td>648</td>\n",
       "      <td>0.330247</td>\n",
       "      <td>0.365741</td>\n",
       "      <td>0.120370</td>\n",
       "      <td>0.183642</td>\n",
       "      <td>1.0</td>\n",
       "    </tr>\n",
       "    <tr>\n",
       "      <th>PR</th>\n",
       "      <td>51</td>\n",
       "      <td>102</td>\n",
       "      <td>126</td>\n",
       "      <td>22</td>\n",
       "      <td>301</td>\n",
       "      <td>0.169435</td>\n",
       "      <td>0.338870</td>\n",
       "      <td>0.418605</td>\n",
       "      <td>0.073090</td>\n",
       "      <td>1.0</td>\n",
       "    </tr>\n",
       "    <tr>\n",
       "      <th>RS</th>\n",
       "      <td>111</td>\n",
       "      <td>304</td>\n",
       "      <td>139</td>\n",
       "      <td>48</td>\n",
       "      <td>602</td>\n",
       "      <td>0.184385</td>\n",
       "      <td>0.504983</td>\n",
       "      <td>0.230897</td>\n",
       "      <td>0.079734</td>\n",
       "      <td>1.0</td>\n",
       "    </tr>\n",
       "    <tr>\n",
       "      <th>total</th>\n",
       "      <td>376</td>\n",
       "      <td>643</td>\n",
       "      <td>343</td>\n",
       "      <td>189</td>\n",
       "      <td>1551</td>\n",
       "      <td>0.242424</td>\n",
       "      <td>0.414571</td>\n",
       "      <td>0.221148</td>\n",
       "      <td>0.121857</td>\n",
       "      <td>1.0</td>\n",
       "    </tr>\n",
       "  </tbody>\n",
       "</table>\n",
       "</div>"
      ],
      "text/plain": [
       "       consumidor  produtor  escola  outras  total  prop_consumidor  \\\n",
       "SP            214       237      78     119    648         0.330247   \n",
       "PR             51       102     126      22    301         0.169435   \n",
       "RS            111       304     139      48    602         0.184385   \n",
       "total         376       643     343     189   1551         0.242424   \n",
       "\n",
       "       prop_produtor  prop_escola  prop_outras  prop_total  \n",
       "SP          0.365741     0.120370     0.183642         1.0  \n",
       "PR          0.338870     0.418605     0.073090         1.0  \n",
       "RS          0.504983     0.230897     0.079734         1.0  \n",
       "total       0.414571     0.221148     0.121857         1.0  "
      ]
     },
     "execution_count": 9,
     "metadata": {},
     "output_type": "execute_result"
    }
   ],
   "source": [
    "dt_coop_geral"
   ]
  },
  {
   "cell_type": "code",
   "execution_count": 10,
   "id": "4bb219f4-f6c6-474d-b76f-fca10767c98e",
   "metadata": {},
   "outputs": [
    {
     "data": {
      "text/html": [
       "<div>\n",
       "<style scoped>\n",
       "    .dataframe tbody tr th:only-of-type {\n",
       "        vertical-align: middle;\n",
       "    }\n",
       "\n",
       "    .dataframe tbody tr th {\n",
       "        vertical-align: top;\n",
       "    }\n",
       "\n",
       "    .dataframe thead th {\n",
       "        text-align: right;\n",
       "    }\n",
       "</style>\n",
       "<table border=\"1\" class=\"dataframe\">\n",
       "  <thead>\n",
       "    <tr style=\"text-align: right;\">\n",
       "      <th></th>\n",
       "      <th>consumidor</th>\n",
       "      <th>produtor</th>\n",
       "      <th>escola</th>\n",
       "      <th>outras</th>\n",
       "      <th>total</th>\n",
       "    </tr>\n",
       "  </thead>\n",
       "  <tbody>\n",
       "    <tr>\n",
       "      <th>SP</th>\n",
       "      <td>57.0</td>\n",
       "      <td>-32.0</td>\n",
       "      <td>-65.0</td>\n",
       "      <td>40.0</td>\n",
       "      <td>0.0</td>\n",
       "    </tr>\n",
       "    <tr>\n",
       "      <th>PR</th>\n",
       "      <td>-22.0</td>\n",
       "      <td>-23.0</td>\n",
       "      <td>59.0</td>\n",
       "      <td>-15.0</td>\n",
       "      <td>0.0</td>\n",
       "    </tr>\n",
       "    <tr>\n",
       "      <th>RS</th>\n",
       "      <td>-35.0</td>\n",
       "      <td>54.0</td>\n",
       "      <td>6.0</td>\n",
       "      <td>-25.0</td>\n",
       "      <td>0.0</td>\n",
       "    </tr>\n",
       "    <tr>\n",
       "      <th>total</th>\n",
       "      <td>0.0</td>\n",
       "      <td>0.0</td>\n",
       "      <td>0.0</td>\n",
       "      <td>0.0</td>\n",
       "      <td>0.0</td>\n",
       "    </tr>\n",
       "  </tbody>\n",
       "</table>\n",
       "</div>"
      ],
      "text/plain": [
       "       consumidor  produtor  escola  outras  total\n",
       "SP           57.0     -32.0   -65.0    40.0    0.0\n",
       "PR          -22.0     -23.0    59.0   -15.0    0.0\n",
       "RS          -35.0      54.0     6.0   -25.0    0.0\n",
       "total         0.0       0.0     0.0     0.0    0.0"
      ]
     },
     "execution_count": 10,
     "metadata": {},
     "output_type": "execute_result"
    }
   ],
   "source": [
    "dt_dif = dt_coop - dt_esperado\n",
    "dt_dif"
   ]
  },
  {
   "cell_type": "markdown",
   "id": "626d504d-458c-426a-9b4a-cdff5e07bfb2",
   "metadata": {},
   "source": [
    "A partir de uma tabela de dupla entrada é possível calcular a estística\n",
    "\n",
    "$$\\theta = \\sum\\dfrac{(o_{ij} - e_{ij})^2}{e_{ij}}$$\n",
    "\n",
    "tal que \n",
    "\n",
    "$$\\theta \\sim \\chi^2((n-1)(m-1))$$\n",
    "\n",
    "sendo $n$ e $m$ a quantidade de classes nas linhas e colunas respectivamente\n",
    "\n"
   ]
  },
  {
   "cell_type": "code",
   "execution_count": 138,
   "id": "f3e25c67-89f1-48ac-861b-7f725a3d0077",
   "metadata": {},
   "outputs": [
    {
     "data": {
      "text/plain": [
       "172.0847515023836"
      ]
     },
     "execution_count": 138,
     "metadata": {},
     "output_type": "execute_result"
    }
   ],
   "source": [
    "dt_dif_relativo = dt_dif**2/dt_esperado\n",
    "dt_dif_relativo.to_numpy().sum()\n",
    "#valores muito altos indicam associacao"
   ]
  },
  {
   "cell_type": "markdown",
   "id": "35c7a612-f49e-4948-a254-745075d52f57",
   "metadata": {},
   "source": [
    "### Diretamente"
   ]
  },
  {
   "cell_type": "code",
   "execution_count": 7,
   "id": "c9c9e3c8-9b0f-40ff-a529-a2dc23a5c49f",
   "metadata": {},
   "outputs": [
    {
     "data": {
      "text/html": [
       "<div>\n",
       "<style scoped>\n",
       "    .dataframe tbody tr th:only-of-type {\n",
       "        vertical-align: middle;\n",
       "    }\n",
       "\n",
       "    .dataframe tbody tr th {\n",
       "        vertical-align: top;\n",
       "    }\n",
       "\n",
       "    .dataframe thead th {\n",
       "        text-align: right;\n",
       "    }\n",
       "</style>\n",
       "<table border=\"1\" class=\"dataframe\">\n",
       "  <thead>\n",
       "    <tr style=\"text-align: right;\">\n",
       "      <th></th>\n",
       "      <th>consumidor</th>\n",
       "      <th>produtor</th>\n",
       "      <th>escola</th>\n",
       "      <th>outras</th>\n",
       "    </tr>\n",
       "  </thead>\n",
       "  <tbody>\n",
       "    <tr>\n",
       "      <th>SP</th>\n",
       "      <td>214</td>\n",
       "      <td>237</td>\n",
       "      <td>78</td>\n",
       "      <td>119</td>\n",
       "    </tr>\n",
       "    <tr>\n",
       "      <th>PR</th>\n",
       "      <td>51</td>\n",
       "      <td>102</td>\n",
       "      <td>126</td>\n",
       "      <td>22</td>\n",
       "    </tr>\n",
       "    <tr>\n",
       "      <th>RS</th>\n",
       "      <td>111</td>\n",
       "      <td>304</td>\n",
       "      <td>139</td>\n",
       "      <td>48</td>\n",
       "    </tr>\n",
       "  </tbody>\n",
       "</table>\n",
       "</div>"
      ],
      "text/plain": [
       "    consumidor  produtor  escola  outras\n",
       "SP         214       237      78     119\n",
       "PR          51       102     126      22\n",
       "RS         111       304     139      48"
      ]
     },
     "execution_count": 7,
     "metadata": {},
     "output_type": "execute_result"
    }
   ],
   "source": [
    "dict_cooperativa = {\"consumidor\": [214, 51, 111],\n",
    "                    \"produtor\": [237, 102, 304],\n",
    "                    \"escola\": [78, 126, 139],\n",
    "                    \"outras\": [119, 22, 48]\n",
    "                   }\n",
    "dt = pd.DataFrame(dict_cooperativa, index = [\"SP\", \"PR\", \"RS\"])\n",
    "dt"
   ]
  },
  {
   "cell_type": "code",
   "execution_count": 8,
   "id": "97693ca0-6bf3-45ae-8ac9-ac798cb9710d",
   "metadata": {},
   "outputs": [
    {
     "data": {
      "text/plain": [
       "(173.37872828220557,\n",
       " 8.633916331644704e-35,\n",
       " 6,\n",
       " array([[157.09090909, 268.64216634, 143.30367505,  78.96324952],\n",
       "        [ 72.96969697, 124.78594455,  66.56544165,  36.67891683],\n",
       "        [145.93939394, 249.5718891 , 133.1308833 ,  73.35783366]]))"
      ]
     },
     "execution_count": 8,
     "metadata": {},
     "output_type": "execute_result"
    }
   ],
   "source": [
    "#h0: as amostras sao independentes\n",
    "#h1: nao sao \n",
    "chi, p_value, dof, esperado = stats.chi2_contingency(dt)\n",
    "chi, p_value, dof, esperado"
   ]
  },
  {
   "cell_type": "markdown",
   "id": "81688bcc-35e6-4ae8-a18a-5110aa68a6ea",
   "metadata": {},
   "source": [
    "## Fontes\n",
    "\n",
    "https://www.statisticshowto.com/probability-and-statistics/statistics-definitions/p-value/\n",
    "\n",
    "<img src = \"https://m.media-amazon.com/images/I/41yxLjUEsPL.jpg\" width = \"25%\"></img>"
   ]
  }
 ],
 "metadata": {
  "kernelspec": {
   "display_name": "Python 3.8.8 64-bit ('base': conda)",
   "language": "python",
   "name": "python388jvsc74a57bd0dca0ade3e726a953b501b15e8e990130d2b7799f14cfd9f4271676035ebe5511"
  },
  "language_info": {
   "codemirror_mode": {
    "name": "ipython",
    "version": 3
   },
   "file_extension": ".py",
   "mimetype": "text/x-python",
   "name": "python",
   "nbconvert_exporter": "python",
   "pygments_lexer": "ipython3",
   "version": "3.8.8"
  }
 },
 "nbformat": 4,
 "nbformat_minor": 5
}
