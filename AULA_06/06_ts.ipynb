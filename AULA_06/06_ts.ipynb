{
 "cells": [
  {
   "cell_type": "markdown",
   "id": "9abdd0e7-6ec1-458e-9e19-8544dd851dd5",
   "metadata": {},
   "source": [
    "# Time Series"
   ]
  },
  {
   "cell_type": "markdown",
   "id": "9b1797fa-e20d-4f65-ad49-c73adf1d52a3",
   "metadata": {},
   "source": [
    "`!pip install pandas-datareader`  \n",
    "`!pip install requests`  \n",
    "`!pip install yfinance`    "
   ]
  },
  {
   "cell_type": "code",
   "execution_count": 4,
   "id": "08ae3bd9-2f46-40f6-9ad7-4f6350b92312",
   "metadata": {
    "ExecuteTime": {
     "end_time": "2020-11-30T22:27:18.215168Z",
     "start_time": "2020-11-30T22:27:18.209182Z"
    }
   },
   "outputs": [],
   "source": [
    "import numpy as np\n",
    "import pandas as pd\n",
    "import matplotlib.pyplot as plt\n",
    "import seaborn as sns\n",
    "import warnings\n",
    "\n",
    "import datetime as dt\n",
    "import requests"
   ]
  },
  {
   "cell_type": "code",
   "execution_count": 29,
   "id": "279274b4-4949-4eb6-b312-7053148e6ce1",
   "metadata": {
    "ExecuteTime": {
     "end_time": "2020-11-30T22:20:34.261041Z",
     "start_time": "2020-11-30T22:20:34.256086Z"
    }
   },
   "outputs": [],
   "source": [
    "warnings.filterwarnings('ignore')"
   ]
  },
  {
   "cell_type": "markdown",
   "id": "36ece270-2f1e-4da0-83d9-78b5a0f55229",
   "metadata": {},
   "source": [
    "# Datetime"
   ]
  },
  {
   "cell_type": "markdown",
   "id": "65953199-d5fc-4f5e-acd1-37329dcd7ddb",
   "metadata": {},
   "source": [
    "## Relembrando como trabalhar com dados temporais!\n",
    "### Tipos e Operações"
   ]
  },
  {
   "cell_type": "markdown",
   "id": "54a364ca-da05-47c1-9cbe-3325eba8c4ec",
   "metadata": {},
   "source": [
    "#### Strings"
   ]
  },
  {
   "cell_type": "code",
   "execution_count": 34,
   "id": "d89cb0f9-eb23-4767-b546-5b3c0b4ae8dc",
   "metadata": {},
   "outputs": [
    {
     "data": {
      "text/plain": [
       "'05/04/2022'"
      ]
     },
     "execution_count": 34,
     "metadata": {},
     "output_type": "execute_result"
    }
   ],
   "source": [
    "hoje_str = '05/04/2022'\n",
    "ontem_str = '04/04/2022'\n",
    "\n",
    "hoje_str"
   ]
  },
  {
   "cell_type": "code",
   "execution_count": 31,
   "id": "f0d56dc1-2409-44f3-8b72-73787cf8bd6d",
   "metadata": {},
   "outputs": [
    {
     "data": {
      "text/plain": [
       "str"
      ]
     },
     "execution_count": 31,
     "metadata": {},
     "output_type": "execute_result"
    }
   ],
   "source": [
    "#type\n",
    "type(hoje_str)"
   ]
  },
  {
   "cell_type": "code",
   "execution_count": 32,
   "id": "a7ac3313-dd69-43f9-8cbf-2ff2c2d84546",
   "metadata": {},
   "outputs": [
    {
     "ename": "TypeError",
     "evalue": "unsupported operand type(s) for -: 'str' and 'int'",
     "output_type": "error",
     "traceback": [
      "\u001b[0;31m---------------------------------------------------------------------------\u001b[0m",
      "\u001b[0;31mTypeError\u001b[0m                                 Traceback (most recent call last)",
      "\u001b[0;32m<ipython-input-32-3cf4280628b1>\u001b[0m in \u001b[0;36m<module>\u001b[0;34m\u001b[0m\n\u001b[1;32m      1\u001b[0m \u001b[0;31m#operacao\u001b[0m\u001b[0;34m\u001b[0m\u001b[0;34m\u001b[0m\u001b[0;34m\u001b[0m\u001b[0m\n\u001b[0;32m----> 2\u001b[0;31m \u001b[0mhoje_str\u001b[0m \u001b[0;34m-\u001b[0m \u001b[0;36m1\u001b[0m\u001b[0;34m\u001b[0m\u001b[0;34m\u001b[0m\u001b[0m\n\u001b[0m",
      "\u001b[0;31mTypeError\u001b[0m: unsupported operand type(s) for -: 'str' and 'int'"
     ]
    }
   ],
   "source": [
    "#operacao\n",
    "hoje_str - 1"
   ]
  },
  {
   "cell_type": "markdown",
   "id": "15fb0df9-6e36-4c14-b7d2-a52b420e8362",
   "metadata": {},
   "source": [
    "#### Date"
   ]
  },
  {
   "cell_type": "code",
   "execution_count": 33,
   "id": "8962449b-db1c-4300-b23f-bb87d220d93f",
   "metadata": {},
   "outputs": [
    {
     "data": {
      "text/plain": [
       "datetime.date(2022, 4, 5)"
      ]
     },
     "execution_count": 33,
     "metadata": {},
     "output_type": "execute_result"
    }
   ],
   "source": [
    "#criacao\n",
    "hoje_dt = dt.date(2022, 4, 5)\n",
    "hoje_dt"
   ]
  },
  {
   "cell_type": "code",
   "execution_count": 35,
   "id": "a7f08f01-d59b-4fce-86b4-391073906fb0",
   "metadata": {},
   "outputs": [
    {
     "name": "stdout",
     "output_type": "stream",
     "text": [
      "\n",
      "DT:  2022-04-05 <class 'datetime.date'>\n",
      "str: 05/04/2022 <class 'str'>\n"
     ]
    }
   ],
   "source": [
    "print(f'''\n",
    "DT:  {hoje_dt} {type(hoje_dt)}\n",
    "str: {hoje_str} {type(hoje_str)}''')"
   ]
  },
  {
   "cell_type": "code",
   "execution_count": 36,
   "id": "7b0ab77b-fc00-4ce0-8d5c-382ae35167b1",
   "metadata": {},
   "outputs": [
    {
     "data": {
      "text/plain": [
       "datetime.date(2022, 5, 6)"
      ]
     },
     "execution_count": 36,
     "metadata": {},
     "output_type": "execute_result"
    }
   ],
   "source": [
    "#operacao\n",
    "hoje_dt + dt.timedelta(days = 31)"
   ]
  },
  {
   "cell_type": "markdown",
   "id": "18ab37ab-ba0b-4249-95bb-16c26fe61ccc",
   "metadata": {},
   "source": [
    "#### Time"
   ]
  },
  {
   "cell_type": "code",
   "execution_count": 37,
   "id": "6830e6a9-fa53-4514-bca0-0c73ffd94633",
   "metadata": {
    "ExecuteTime": {
     "end_time": "2020-11-30T22:30:01.944569Z",
     "start_time": "2020-11-30T22:30:01.940123Z"
    }
   },
   "outputs": [],
   "source": [
    "#create\n",
    "horario_str = \"19:20:00\"\n",
    "horario_dt = dt.time(19,20,0)"
   ]
  },
  {
   "cell_type": "code",
   "execution_count": 38,
   "id": "aab66d19-63f8-4350-a52d-78ca433406e9",
   "metadata": {},
   "outputs": [
    {
     "name": "stdout",
     "output_type": "stream",
     "text": [
      "\n",
      "DT:  19:20:00 <class 'datetime.time'>\n",
      "str: 19:20:00 <class 'str'>\n",
      "\n"
     ]
    }
   ],
   "source": [
    "print(f'''\n",
    "DT:  {horario_dt} {type(horario_dt)}\n",
    "str: {horario_str} {type(horario_str)}\n",
    "''')"
   ]
  },
  {
   "cell_type": "markdown",
   "id": "7096dbf2-bd78-4522-a7c6-340c88aa09f0",
   "metadata": {},
   "source": [
    "#### Datetime"
   ]
  },
  {
   "cell_type": "code",
   "execution_count": 42,
   "id": "96f98495-905d-4596-b2ec-0dac7c6a7752",
   "metadata": {
    "ExecuteTime": {
     "end_time": "2020-11-30T22:30:12.000334Z",
     "start_time": "2020-11-30T22:30:11.994439Z"
    }
   },
   "outputs": [],
   "source": [
    "#create\n",
    "datetime_str = \"08/11/2021 19:20:00\"\n",
    "datetime_dt = dt.datetime(2022, 4, 5, 19, 20, 0)"
   ]
  },
  {
   "cell_type": "code",
   "execution_count": 40,
   "id": "2facdc45-4a82-42ba-8f3a-beebcece3d8c",
   "metadata": {},
   "outputs": [
    {
     "name": "stdout",
     "output_type": "stream",
     "text": [
      "\n",
      "DT:  2021-11-08 19:20:00 <class 'datetime.datetime'>\n",
      "str: 08/11/2021 19:20:00 <class 'str'>\n",
      "\n"
     ]
    }
   ],
   "source": [
    "print(f'''\n",
    "DT:  {datetime_dt} {type(datetime_dt)}\n",
    "str: {datetime_str} {type(datetime_str)}\n",
    "''')"
   ]
  },
  {
   "cell_type": "code",
   "execution_count": 43,
   "id": "03abbe55-2fa8-4ec7-abc9-587f6b84cb85",
   "metadata": {
    "ExecuteTime": {
     "end_time": "2020-11-30T22:32:11.414558Z",
     "start_time": "2020-11-30T22:32:11.391773Z"
    }
   },
   "outputs": [
    {
     "name": "stdout",
     "output_type": "stream",
     "text": [
      "\n",
      "hoje: 2022-04-05 19:20:21.011339\n",
      "agora: 2022-04-05 19:20:21.011358\n",
      "ano:     2022\n",
      "mes:     4\n",
      "dia:     5\n",
      "segundo: 0\n",
      "data:    2022-04-05\n",
      "horario: 19:20:00\n",
      "dia da semana: 1\n",
      "dia da semana: 2\n",
      "data ISO format: 2022-04-05T19:20:00\n",
      "\n"
     ]
    }
   ],
   "source": [
    "print(f'''\n",
    "hoje: {dt.datetime.today()}\n",
    "agora: {dt.datetime.now()}\n",
    "ano:     {datetime_dt.year}\n",
    "mes:     {datetime_dt.month}\n",
    "dia:     {datetime_dt.day}\n",
    "segundo: {datetime_dt.second}\n",
    "data:    {datetime_dt.date()}\n",
    "horario: {datetime_dt.time()}\n",
    "dia da semana: {datetime_dt.weekday()}\n",
    "dia da semana: {datetime_dt.isoweekday()}\n",
    "data ISO format: {datetime_dt.isoformat()}\n",
    "''')"
   ]
  },
  {
   "cell_type": "markdown",
   "id": "0a19e9ed-48f4-4a00-801a-d5114d2cfeb9",
   "metadata": {},
   "source": [
    "#### Casting"
   ]
  },
  {
   "cell_type": "code",
   "execution_count": 21,
   "id": "2895d96e-dc84-406f-bea2-2d02428dfd35",
   "metadata": {
    "ExecuteTime": {
     "end_time": "2020-11-30T22:40:31.461993Z",
     "start_time": "2020-11-30T22:40:31.451677Z"
    }
   },
   "outputs": [
    {
     "name": "stdout",
     "output_type": "stream",
     "text": [
      "\n",
      "%d/%m/%y: 08/11/21\n",
      "%d/%m/%Y: 08/11/2021\n",
      "%d/%B/%Y: 08/November/2021\n",
      "%d/%b/%Y: 08/Nov/2021\n",
      "%a: Mon\n",
      "\n"
     ]
    }
   ],
   "source": [
    "# strftime => datetime para str\n",
    "print(f'''\n",
    "%d/%m/%y: {dt.datetime.strftime(datetime_dt, format=\"%d/%m/%y\")}\n",
    "%d/%m/%Y: {dt.datetime.strftime(datetime_dt, format=\"%d/%m/%Y\")}\n",
    "%d/%B/%Y: {dt.datetime.strftime(datetime_dt, format=\"%d/%B/%Y\")}\n",
    "%d/%b/%Y: {dt.datetime.strftime(datetime_dt, format=\"%d/%b/%Y\")}\n",
    "%a: {dt.datetime.strftime(datetime_dt, format=\"%a\")}\n",
    "''')"
   ]
  },
  {
   "cell_type": "code",
   "execution_count": 44,
   "id": "13a71fe4-b86d-4f67-ac80-2f9c1b9f133a",
   "metadata": {},
   "outputs": [
    {
     "data": {
      "text/plain": [
       "str"
      ]
     },
     "execution_count": 44,
     "metadata": {},
     "output_type": "execute_result"
    }
   ],
   "source": [
    "type(dt.datetime.strftime(datetime_dt, format=\"%d/%m/%y\"))"
   ]
  },
  {
   "cell_type": "code",
   "execution_count": 22,
   "id": "097e6d8a-0c1d-43d7-b514-468627f70b6b",
   "metadata": {
    "ExecuteTime": {
     "end_time": "2020-11-30T22:44:38.966602Z",
     "start_time": "2020-11-30T22:44:38.957456Z"
    }
   },
   "outputs": [
    {
     "name": "stdout",
     "output_type": "stream",
     "text": [
      "\n",
      "String: 12/01/2022\n",
      "datetime: 2022-01-12 00:00:00\n",
      "String2: 30 de January de 2021\n",
      "datetime2: 2021-01-30 00:00:00\n",
      "\n"
     ]
    }
   ],
   "source": [
    "# strptime => str para datetime\n",
    "print(f'''\n",
    "String: {hoje_str}\n",
    "datetime: {dt.datetime.strptime(hoje_str, '%d/%m/%Y')}\n",
    "String2: 30 de January de 2021\n",
    "datetime2: {dt.datetime.strptime('30 de January de 2021', '%d de %B de %Y')}\n",
    "''')"
   ]
  },
  {
   "cell_type": "markdown",
   "id": "9c962e4f-4a49-47a2-977f-c7328b49eb0e",
   "metadata": {},
   "source": [
    "# Capturando dados financeiros"
   ]
  },
  {
   "cell_type": "markdown",
   "id": "57bbb8bd-1fa9-4c08-b4b6-528751a7fa8b",
   "metadata": {},
   "source": [
    "https://finance.yahoo.com/"
   ]
  },
  {
   "cell_type": "code",
   "execution_count": 45,
   "id": "6fe30130-c223-42a0-a418-687f2d58d22e",
   "metadata": {},
   "outputs": [
    {
     "name": "stdout",
     "output_type": "stream",
     "text": [
      "[*********************100%***********************]  1 of 1 completed\n"
     ]
    },
    {
     "data": {
      "text/html": [
       "<div>\n",
       "<style scoped>\n",
       "    .dataframe tbody tr th:only-of-type {\n",
       "        vertical-align: middle;\n",
       "    }\n",
       "\n",
       "    .dataframe tbody tr th {\n",
       "        vertical-align: top;\n",
       "    }\n",
       "\n",
       "    .dataframe thead th {\n",
       "        text-align: right;\n",
       "    }\n",
       "</style>\n",
       "<table border=\"1\" class=\"dataframe\">\n",
       "  <thead>\n",
       "    <tr style=\"text-align: right;\">\n",
       "      <th></th>\n",
       "      <th>Open</th>\n",
       "      <th>High</th>\n",
       "      <th>Low</th>\n",
       "      <th>Close</th>\n",
       "      <th>Adj Close</th>\n",
       "      <th>Volume</th>\n",
       "    </tr>\n",
       "    <tr>\n",
       "      <th>Date</th>\n",
       "      <th></th>\n",
       "      <th></th>\n",
       "      <th></th>\n",
       "      <th></th>\n",
       "      <th></th>\n",
       "      <th></th>\n",
       "    </tr>\n",
       "  </thead>\n",
       "  <tbody>\n",
       "    <tr>\n",
       "      <th>2017-01-02</th>\n",
       "      <td>0.410273</td>\n",
       "      <td>0.411953</td>\n",
       "      <td>0.397304</td>\n",
       "      <td>0.397304</td>\n",
       "      <td>0.379203</td>\n",
       "      <td>16025600</td>\n",
       "    </tr>\n",
       "    <tr>\n",
       "      <th>2017-01-03</th>\n",
       "      <td>0.400351</td>\n",
       "      <td>0.407343</td>\n",
       "      <td>0.390625</td>\n",
       "      <td>0.396093</td>\n",
       "      <td>0.378047</td>\n",
       "      <td>12825600</td>\n",
       "    </tr>\n",
       "    <tr>\n",
       "      <th>2017-01-04</th>\n",
       "      <td>0.394531</td>\n",
       "      <td>0.396289</td>\n",
       "      <td>0.371484</td>\n",
       "      <td>0.375000</td>\n",
       "      <td>0.357915</td>\n",
       "      <td>27468800</td>\n",
       "    </tr>\n",
       "    <tr>\n",
       "      <th>2017-01-05</th>\n",
       "      <td>0.376796</td>\n",
       "      <td>0.387890</td>\n",
       "      <td>0.376757</td>\n",
       "      <td>0.387890</td>\n",
       "      <td>0.370218</td>\n",
       "      <td>27622400</td>\n",
       "    </tr>\n",
       "    <tr>\n",
       "      <th>2017-01-06</th>\n",
       "      <td>0.387890</td>\n",
       "      <td>0.390078</td>\n",
       "      <td>0.382812</td>\n",
       "      <td>0.385390</td>\n",
       "      <td>0.367832</td>\n",
       "      <td>6400000</td>\n",
       "    </tr>\n",
       "  </tbody>\n",
       "</table>\n",
       "</div>"
      ],
      "text/plain": [
       "                Open      High       Low     Close  Adj Close    Volume\n",
       "Date                                                                   \n",
       "2017-01-02  0.410273  0.411953  0.397304  0.397304   0.379203  16025600\n",
       "2017-01-03  0.400351  0.407343  0.390625  0.396093   0.378047  12825600\n",
       "2017-01-04  0.394531  0.396289  0.371484  0.375000   0.357915  27468800\n",
       "2017-01-05  0.376796  0.387890  0.376757  0.387890   0.370218  27622400\n",
       "2017-01-06  0.387890  0.390078  0.382812  0.385390   0.367832   6400000"
      ]
     },
     "execution_count": 45,
     "metadata": {},
     "output_type": "execute_result"
    }
   ],
   "source": [
    "import yfinance as yf\n",
    "df_mg = yf.download(\"MGLU3.SA\", start=\"2017-01-01\")\n",
    "#df_mg = pd.read_csv(\"arquivo.csv\",index_col=\"Date\", parse_dates=True)\n",
    "df_mg.head()"
   ]
  },
  {
   "cell_type": "code",
   "execution_count": 46,
   "id": "c3ecd3a6-33b6-46a9-a55b-58e2861f856b",
   "metadata": {},
   "outputs": [
    {
     "data": {
      "text/html": [
       "<div>\n",
       "<style scoped>\n",
       "    .dataframe tbody tr th:only-of-type {\n",
       "        vertical-align: middle;\n",
       "    }\n",
       "\n",
       "    .dataframe tbody tr th {\n",
       "        vertical-align: top;\n",
       "    }\n",
       "\n",
       "    .dataframe thead th {\n",
       "        text-align: right;\n",
       "    }\n",
       "</style>\n",
       "<table border=\"1\" class=\"dataframe\">\n",
       "  <thead>\n",
       "    <tr style=\"text-align: right;\">\n",
       "      <th></th>\n",
       "      <th>Open</th>\n",
       "      <th>High</th>\n",
       "      <th>Low</th>\n",
       "      <th>Close</th>\n",
       "      <th>Adj Close</th>\n",
       "      <th>Volume</th>\n",
       "    </tr>\n",
       "    <tr>\n",
       "      <th>Date</th>\n",
       "      <th></th>\n",
       "      <th></th>\n",
       "      <th></th>\n",
       "      <th></th>\n",
       "      <th></th>\n",
       "      <th></th>\n",
       "    </tr>\n",
       "  </thead>\n",
       "  <tbody>\n",
       "    <tr>\n",
       "      <th>2017-01-02</th>\n",
       "      <td>0.410273</td>\n",
       "      <td>0.411953</td>\n",
       "      <td>0.397304</td>\n",
       "      <td>0.397304</td>\n",
       "      <td>0.379203</td>\n",
       "      <td>16025600</td>\n",
       "    </tr>\n",
       "    <tr>\n",
       "      <th>2017-01-03</th>\n",
       "      <td>0.400351</td>\n",
       "      <td>0.407343</td>\n",
       "      <td>0.390625</td>\n",
       "      <td>0.396093</td>\n",
       "      <td>0.378047</td>\n",
       "      <td>12825600</td>\n",
       "    </tr>\n",
       "    <tr>\n",
       "      <th>2017-01-04</th>\n",
       "      <td>0.394531</td>\n",
       "      <td>0.396289</td>\n",
       "      <td>0.371484</td>\n",
       "      <td>0.375000</td>\n",
       "      <td>0.357915</td>\n",
       "      <td>27468800</td>\n",
       "    </tr>\n",
       "    <tr>\n",
       "      <th>2017-01-05</th>\n",
       "      <td>0.376796</td>\n",
       "      <td>0.387890</td>\n",
       "      <td>0.376757</td>\n",
       "      <td>0.387890</td>\n",
       "      <td>0.370218</td>\n",
       "      <td>27622400</td>\n",
       "    </tr>\n",
       "    <tr>\n",
       "      <th>2017-01-06</th>\n",
       "      <td>0.387890</td>\n",
       "      <td>0.390078</td>\n",
       "      <td>0.382812</td>\n",
       "      <td>0.385390</td>\n",
       "      <td>0.367832</td>\n",
       "      <td>6400000</td>\n",
       "    </tr>\n",
       "    <tr>\n",
       "      <th>2017-01-09</th>\n",
       "      <td>0.385429</td>\n",
       "      <td>0.386718</td>\n",
       "      <td>0.367851</td>\n",
       "      <td>0.367851</td>\n",
       "      <td>0.351092</td>\n",
       "      <td>29849600</td>\n",
       "    </tr>\n",
       "    <tr>\n",
       "      <th>2017-01-10</th>\n",
       "      <td>0.369531</td>\n",
       "      <td>0.382812</td>\n",
       "      <td>0.369179</td>\n",
       "      <td>0.376601</td>\n",
       "      <td>0.359443</td>\n",
       "      <td>19968000</td>\n",
       "    </tr>\n",
       "    <tr>\n",
       "      <th>2017-01-11</th>\n",
       "      <td>0.374882</td>\n",
       "      <td>0.383984</td>\n",
       "      <td>0.374882</td>\n",
       "      <td>0.380859</td>\n",
       "      <td>0.363507</td>\n",
       "      <td>28748800</td>\n",
       "    </tr>\n",
       "    <tr>\n",
       "      <th>2017-01-12</th>\n",
       "      <td>0.385937</td>\n",
       "      <td>0.408164</td>\n",
       "      <td>0.385039</td>\n",
       "      <td>0.406250</td>\n",
       "      <td>0.387742</td>\n",
       "      <td>41216000</td>\n",
       "    </tr>\n",
       "    <tr>\n",
       "      <th>2017-01-13</th>\n",
       "      <td>0.406210</td>\n",
       "      <td>0.417500</td>\n",
       "      <td>0.403125</td>\n",
       "      <td>0.414062</td>\n",
       "      <td>0.395198</td>\n",
       "      <td>23168000</td>\n",
       "    </tr>\n",
       "  </tbody>\n",
       "</table>\n",
       "</div>"
      ],
      "text/plain": [
       "                Open      High       Low     Close  Adj Close    Volume\n",
       "Date                                                                   \n",
       "2017-01-02  0.410273  0.411953  0.397304  0.397304   0.379203  16025600\n",
       "2017-01-03  0.400351  0.407343  0.390625  0.396093   0.378047  12825600\n",
       "2017-01-04  0.394531  0.396289  0.371484  0.375000   0.357915  27468800\n",
       "2017-01-05  0.376796  0.387890  0.376757  0.387890   0.370218  27622400\n",
       "2017-01-06  0.387890  0.390078  0.382812  0.385390   0.367832   6400000\n",
       "2017-01-09  0.385429  0.386718  0.367851  0.367851   0.351092  29849600\n",
       "2017-01-10  0.369531  0.382812  0.369179  0.376601   0.359443  19968000\n",
       "2017-01-11  0.374882  0.383984  0.374882  0.380859   0.363507  28748800\n",
       "2017-01-12  0.385937  0.408164  0.385039  0.406250   0.387742  41216000\n",
       "2017-01-13  0.406210  0.417500  0.403125  0.414062   0.395198  23168000"
      ]
     },
     "execution_count": 46,
     "metadata": {},
     "output_type": "execute_result"
    }
   ],
   "source": [
    "df_mg.head(10)"
   ]
  },
  {
   "cell_type": "markdown",
   "id": "3f3821bd-f87d-4a18-baca-3ef13057dcc3",
   "metadata": {},
   "source": [
    "### Descritiva"
   ]
  },
  {
   "cell_type": "code",
   "execution_count": 47,
   "id": "fb1fda2a-3299-4321-88c2-43a8b34c4f2b",
   "metadata": {},
   "outputs": [
    {
     "name": "stdout",
     "output_type": "stream",
     "text": [
      "<class 'pandas.core.frame.DataFrame'>\n",
      "DatetimeIndex: 1308 entries, 2017-01-02 to 2022-04-05\n",
      "Data columns (total 6 columns):\n",
      " #   Column     Non-Null Count  Dtype  \n",
      "---  ------     --------------  -----  \n",
      " 0   Open       1308 non-null   float64\n",
      " 1   High       1308 non-null   float64\n",
      " 2   Low        1308 non-null   float64\n",
      " 3   Close      1308 non-null   float64\n",
      " 4   Adj Close  1308 non-null   float64\n",
      " 5   Volume     1308 non-null   int64  \n",
      "dtypes: float64(5), int64(1)\n",
      "memory usage: 71.5 KB\n"
     ]
    }
   ],
   "source": [
    "#default must have\n",
    "df_mg.info()"
   ]
  },
  {
   "cell_type": "code",
   "execution_count": 48,
   "id": "3c98ab70-94c8-4e1f-ac3c-569d3a9d7dcc",
   "metadata": {},
   "outputs": [
    {
     "data": {
      "text/html": [
       "<div>\n",
       "<style scoped>\n",
       "    .dataframe tbody tr th:only-of-type {\n",
       "        vertical-align: middle;\n",
       "    }\n",
       "\n",
       "    .dataframe tbody tr th {\n",
       "        vertical-align: top;\n",
       "    }\n",
       "\n",
       "    .dataframe thead th {\n",
       "        text-align: right;\n",
       "    }\n",
       "</style>\n",
       "<table border=\"1\" class=\"dataframe\">\n",
       "  <thead>\n",
       "    <tr style=\"text-align: right;\">\n",
       "      <th></th>\n",
       "      <th>Open</th>\n",
       "      <th>High</th>\n",
       "      <th>Low</th>\n",
       "      <th>Close</th>\n",
       "      <th>Adj Close</th>\n",
       "      <th>Volume</th>\n",
       "    </tr>\n",
       "  </thead>\n",
       "  <tbody>\n",
       "    <tr>\n",
       "      <th>count</th>\n",
       "      <td>1308.000000</td>\n",
       "      <td>1308.000000</td>\n",
       "      <td>1308.000000</td>\n",
       "      <td>1308.000000</td>\n",
       "      <td>1308.000000</td>\n",
       "      <td>1.308000e+03</td>\n",
       "    </tr>\n",
       "    <tr>\n",
       "      <th>mean</th>\n",
       "      <td>9.687386</td>\n",
       "      <td>9.883589</td>\n",
       "      <td>9.471805</td>\n",
       "      <td>9.671705</td>\n",
       "      <td>9.570355</td>\n",
       "      <td>5.086459e+07</td>\n",
       "    </tr>\n",
       "    <tr>\n",
       "      <th>std</th>\n",
       "      <td>7.900851</td>\n",
       "      <td>8.037736</td>\n",
       "      <td>7.745712</td>\n",
       "      <td>7.889241</td>\n",
       "      <td>7.904446</td>\n",
       "      <td>3.674293e+07</td>\n",
       "    </tr>\n",
       "    <tr>\n",
       "      <th>min</th>\n",
       "      <td>0.369531</td>\n",
       "      <td>0.382812</td>\n",
       "      <td>0.367851</td>\n",
       "      <td>0.367851</td>\n",
       "      <td>0.351092</td>\n",
       "      <td>0.000000e+00</td>\n",
       "    </tr>\n",
       "    <tr>\n",
       "      <th>25%</th>\n",
       "      <td>3.078125</td>\n",
       "      <td>3.120078</td>\n",
       "      <td>3.017343</td>\n",
       "      <td>3.059922</td>\n",
       "      <td>2.953432</td>\n",
       "      <td>2.830000e+07</td>\n",
       "    </tr>\n",
       "    <tr>\n",
       "      <th>50%</th>\n",
       "      <td>6.420000</td>\n",
       "      <td>6.600000</td>\n",
       "      <td>6.230000</td>\n",
       "      <td>6.395000</td>\n",
       "      <td>6.333601</td>\n",
       "      <td>4.036460e+07</td>\n",
       "    </tr>\n",
       "    <tr>\n",
       "      <th>75%</th>\n",
       "      <td>15.686250</td>\n",
       "      <td>15.883125</td>\n",
       "      <td>15.240000</td>\n",
       "      <td>15.595000</td>\n",
       "      <td>15.477308</td>\n",
       "      <td>5.955532e+07</td>\n",
       "    </tr>\n",
       "    <tr>\n",
       "      <th>max</th>\n",
       "      <td>28.150000</td>\n",
       "      <td>28.309999</td>\n",
       "      <td>26.740000</td>\n",
       "      <td>27.450001</td>\n",
       "      <td>27.401571</td>\n",
       "      <td>3.612832e+08</td>\n",
       "    </tr>\n",
       "  </tbody>\n",
       "</table>\n",
       "</div>"
      ],
      "text/plain": [
       "              Open         High          Low        Close    Adj Close  \\\n",
       "count  1308.000000  1308.000000  1308.000000  1308.000000  1308.000000   \n",
       "mean      9.687386     9.883589     9.471805     9.671705     9.570355   \n",
       "std       7.900851     8.037736     7.745712     7.889241     7.904446   \n",
       "min       0.369531     0.382812     0.367851     0.367851     0.351092   \n",
       "25%       3.078125     3.120078     3.017343     3.059922     2.953432   \n",
       "50%       6.420000     6.600000     6.230000     6.395000     6.333601   \n",
       "75%      15.686250    15.883125    15.240000    15.595000    15.477308   \n",
       "max      28.150000    28.309999    26.740000    27.450001    27.401571   \n",
       "\n",
       "             Volume  \n",
       "count  1.308000e+03  \n",
       "mean   5.086459e+07  \n",
       "std    3.674293e+07  \n",
       "min    0.000000e+00  \n",
       "25%    2.830000e+07  \n",
       "50%    4.036460e+07  \n",
       "75%    5.955532e+07  \n",
       "max    3.612832e+08  "
      ]
     },
     "execution_count": 48,
     "metadata": {},
     "output_type": "execute_result"
    }
   ],
   "source": [
    "df_mg.describe()"
   ]
  },
  {
   "cell_type": "code",
   "execution_count": 49,
   "id": "11950066-aa30-4dda-9a04-375d34e00096",
   "metadata": {},
   "outputs": [
    {
     "data": {
      "text/plain": [
       "<matplotlib.legend.Legend at 0x7feff97cca00>"
      ]
     },
     "execution_count": 49,
     "metadata": {},
     "output_type": "execute_result"
    },
    {
     "data": {
      "image/png": "[encoded data removed]",
      "text/plain": [
       "<Figure size 1224x360 with 1 Axes>"
      ]
     },
     "metadata": {
      "needs_background": "light"
     },
     "output_type": "display_data"
    }
   ],
   "source": [
    "#plot\n",
    "df_mg.Open.plot(label=\"Abertura\", figsize=(17,5))\n",
    "df_mg.Close.plot(label=\"Fechamento\", figsize=(17,5))\n",
    "plt.legend()"
   ]
  },
  {
   "cell_type": "code",
   "execution_count": 50,
   "id": "31ba5bf1-781d-4340-afb4-37f5d271ff49",
   "metadata": {},
   "outputs": [
    {
     "data": {
      "text/plain": [
       "<AxesSubplot:xlabel='Date'>"
      ]
     },
     "execution_count": 50,
     "metadata": {},
     "output_type": "execute_result"
    },
    {
     "data": {
      "image/png": "[encoded data removed]",
      "text/plain": [
       "<Figure size 432x288 with 1 Axes>"
      ]
     },
     "metadata": {
      "needs_background": "light"
     },
     "output_type": "display_data"
    }
   ],
   "source": [
    "df_mg.plot()"
   ]
  },
  {
   "cell_type": "markdown",
   "id": "4538beab-56a7-4004-8fba-e7f55450bb04",
   "metadata": {},
   "source": [
    "### Índice"
   ]
  },
  {
   "cell_type": "markdown",
   "id": "67ddd46c-e23b-400a-9b6f-c4b10b872ba2",
   "metadata": {},
   "source": [
    "#### STR X Datetime"
   ]
  },
  {
   "cell_type": "code",
   "execution_count": 51,
   "id": "23c23c5e-d122-4cd0-8c8e-032796211d7f",
   "metadata": {},
   "outputs": [],
   "source": [
    "#df_mg_bk = pd.read_csv(\"arquivo.csv\",index_col=\"Date\") # Caso real sem parametro de parse_dates=True\n",
    "\n",
    "# Simulando apartir do yf um indice string [Ignorem esse codigo]\n",
    "df_mg_bk = df_mg.copy(deep=True)\n",
    "df_mg_bk.index = pd.Series(df_mg.index.format()).values"
   ]
  },
  {
   "cell_type": "code",
   "execution_count": 52,
   "id": "5831e9fb-39dd-413e-aebf-a11ca5185015",
   "metadata": {},
   "outputs": [
    {
     "data": {
      "text/plain": [
       "Index(['2017-01-02', '2017-01-03', '2017-01-04', '2017-01-05', '2017-01-06',\n",
       "       '2017-01-09', '2017-01-10', '2017-01-11', '2017-01-12', '2017-01-13',\n",
       "       ...\n",
       "       '2022-03-23', '2022-03-24', '2022-03-25', '2022-03-28', '2022-03-29',\n",
       "       '2022-03-30', '2022-03-31', '2022-04-01', '2022-04-04', '2022-04-05'],\n",
       "      dtype='object', length=1308)"
      ]
     },
     "execution_count": 52,
     "metadata": {},
     "output_type": "execute_result"
    }
   ],
   "source": [
    "#str\n",
    "df_mg_bk.index"
   ]
  },
  {
   "cell_type": "code",
   "execution_count": 53,
   "id": "28ba5855-e4d3-4442-8075-164735d04dea",
   "metadata": {},
   "outputs": [
    {
     "data": {
      "text/html": [
       "<div>\n",
       "<style scoped>\n",
       "    .dataframe tbody tr th:only-of-type {\n",
       "        vertical-align: middle;\n",
       "    }\n",
       "\n",
       "    .dataframe tbody tr th {\n",
       "        vertical-align: top;\n",
       "    }\n",
       "\n",
       "    .dataframe thead th {\n",
       "        text-align: right;\n",
       "    }\n",
       "</style>\n",
       "<table border=\"1\" class=\"dataframe\">\n",
       "  <thead>\n",
       "    <tr style=\"text-align: right;\">\n",
       "      <th></th>\n",
       "      <th>Open</th>\n",
       "      <th>High</th>\n",
       "      <th>Low</th>\n",
       "      <th>Close</th>\n",
       "      <th>Adj Close</th>\n",
       "      <th>Volume</th>\n",
       "    </tr>\n",
       "  </thead>\n",
       "  <tbody>\n",
       "    <tr>\n",
       "      <th>2017-01-02</th>\n",
       "      <td>0.410273</td>\n",
       "      <td>0.411953</td>\n",
       "      <td>0.397304</td>\n",
       "      <td>0.397304</td>\n",
       "      <td>0.379203</td>\n",
       "      <td>16025600</td>\n",
       "    </tr>\n",
       "    <tr>\n",
       "      <th>2017-01-03</th>\n",
       "      <td>0.400351</td>\n",
       "      <td>0.407343</td>\n",
       "      <td>0.390625</td>\n",
       "      <td>0.396093</td>\n",
       "      <td>0.378047</td>\n",
       "      <td>12825600</td>\n",
       "    </tr>\n",
       "    <tr>\n",
       "      <th>2017-01-04</th>\n",
       "      <td>0.394531</td>\n",
       "      <td>0.396289</td>\n",
       "      <td>0.371484</td>\n",
       "      <td>0.375000</td>\n",
       "      <td>0.357915</td>\n",
       "      <td>27468800</td>\n",
       "    </tr>\n",
       "    <tr>\n",
       "      <th>2017-01-05</th>\n",
       "      <td>0.376796</td>\n",
       "      <td>0.387890</td>\n",
       "      <td>0.376757</td>\n",
       "      <td>0.387890</td>\n",
       "      <td>0.370218</td>\n",
       "      <td>27622400</td>\n",
       "    </tr>\n",
       "    <tr>\n",
       "      <th>2017-01-06</th>\n",
       "      <td>0.387890</td>\n",
       "      <td>0.390078</td>\n",
       "      <td>0.382812</td>\n",
       "      <td>0.385390</td>\n",
       "      <td>0.367832</td>\n",
       "      <td>6400000</td>\n",
       "    </tr>\n",
       "    <tr>\n",
       "      <th>...</th>\n",
       "      <td>...</td>\n",
       "      <td>...</td>\n",
       "      <td>...</td>\n",
       "      <td>...</td>\n",
       "      <td>...</td>\n",
       "      <td>...</td>\n",
       "    </tr>\n",
       "    <tr>\n",
       "      <th>2022-03-30</th>\n",
       "      <td>7.010000</td>\n",
       "      <td>7.130000</td>\n",
       "      <td>6.730000</td>\n",
       "      <td>6.870000</td>\n",
       "      <td>6.870000</td>\n",
       "      <td>118907800</td>\n",
       "    </tr>\n",
       "    <tr>\n",
       "      <th>2022-03-31</th>\n",
       "      <td>6.930000</td>\n",
       "      <td>6.990000</td>\n",
       "      <td>6.760000</td>\n",
       "      <td>6.820000</td>\n",
       "      <td>6.820000</td>\n",
       "      <td>100197800</td>\n",
       "    </tr>\n",
       "    <tr>\n",
       "      <th>2022-04-01</th>\n",
       "      <td>6.920000</td>\n",
       "      <td>7.380000</td>\n",
       "      <td>6.880000</td>\n",
       "      <td>7.350000</td>\n",
       "      <td>7.350000</td>\n",
       "      <td>141943100</td>\n",
       "    </tr>\n",
       "    <tr>\n",
       "      <th>2022-04-04</th>\n",
       "      <td>7.350000</td>\n",
       "      <td>7.360000</td>\n",
       "      <td>7.030000</td>\n",
       "      <td>7.190000</td>\n",
       "      <td>7.190000</td>\n",
       "      <td>99313700</td>\n",
       "    </tr>\n",
       "    <tr>\n",
       "      <th>2022-04-05</th>\n",
       "      <td>7.170000</td>\n",
       "      <td>7.380000</td>\n",
       "      <td>6.860000</td>\n",
       "      <td>6.910000</td>\n",
       "      <td>6.910000</td>\n",
       "      <td>108922700</td>\n",
       "    </tr>\n",
       "  </tbody>\n",
       "</table>\n",
       "<p>1308 rows × 6 columns</p>\n",
       "</div>"
      ],
      "text/plain": [
       "                Open      High       Low     Close  Adj Close     Volume\n",
       "2017-01-02  0.410273  0.411953  0.397304  0.397304   0.379203   16025600\n",
       "2017-01-03  0.400351  0.407343  0.390625  0.396093   0.378047   12825600\n",
       "2017-01-04  0.394531  0.396289  0.371484  0.375000   0.357915   27468800\n",
       "2017-01-05  0.376796  0.387890  0.376757  0.387890   0.370218   27622400\n",
       "2017-01-06  0.387890  0.390078  0.382812  0.385390   0.367832    6400000\n",
       "...              ...       ...       ...       ...        ...        ...\n",
       "2022-03-30  7.010000  7.130000  6.730000  6.870000   6.870000  118907800\n",
       "2022-03-31  6.930000  6.990000  6.760000  6.820000   6.820000  100197800\n",
       "2022-04-01  6.920000  7.380000  6.880000  7.350000   7.350000  141943100\n",
       "2022-04-04  7.350000  7.360000  7.030000  7.190000   7.190000   99313700\n",
       "2022-04-05  7.170000  7.380000  6.860000  6.910000   6.910000  108922700\n",
       "\n",
       "[1308 rows x 6 columns]"
      ]
     },
     "execution_count": 53,
     "metadata": {},
     "output_type": "execute_result"
    }
   ],
   "source": [
    "df_mg_bk"
   ]
  },
  {
   "cell_type": "markdown",
   "id": "07e115a8-56a2-40fc-a138-dbcd012fc8a5",
   "metadata": {},
   "source": [
    "#### Filtros"
   ]
  },
  {
   "cell_type": "code",
   "execution_count": 57,
   "id": "3948277b-1e8a-4053-b26f-42049aef530f",
   "metadata": {
    "scrolled": true,
    "tags": []
   },
   "outputs": [
    {
     "ename": "KeyError",
     "evalue": "'2022'",
     "output_type": "error",
     "traceback": [
      "\u001b[0;31m---------------------------------------------------------------------------\u001b[0m",
      "\u001b[0;31mKeyError\u001b[0m                                  Traceback (most recent call last)",
      "\u001b[0;32m/opt/anaconda3/lib/python3.8/site-packages/pandas/core/indexes/base.py\u001b[0m in \u001b[0;36mget_loc\u001b[0;34m(self, key, method, tolerance)\u001b[0m\n\u001b[1;32m   3079\u001b[0m             \u001b[0;32mtry\u001b[0m\u001b[0;34m:\u001b[0m\u001b[0;34m\u001b[0m\u001b[0;34m\u001b[0m\u001b[0m\n\u001b[0;32m-> 3080\u001b[0;31m                 \u001b[0;32mreturn\u001b[0m \u001b[0mself\u001b[0m\u001b[0;34m.\u001b[0m\u001b[0m_engine\u001b[0m\u001b[0;34m.\u001b[0m\u001b[0mget_loc\u001b[0m\u001b[0;34m(\u001b[0m\u001b[0mcasted_key\u001b[0m\u001b[0;34m)\u001b[0m\u001b[0;34m\u001b[0m\u001b[0;34m\u001b[0m\u001b[0m\n\u001b[0m\u001b[1;32m   3081\u001b[0m             \u001b[0;32mexcept\u001b[0m \u001b[0mKeyError\u001b[0m \u001b[0;32mas\u001b[0m \u001b[0merr\u001b[0m\u001b[0;34m:\u001b[0m\u001b[0;34m\u001b[0m\u001b[0;34m\u001b[0m\u001b[0m\n",
      "\u001b[0;32mpandas/_libs/index.pyx\u001b[0m in \u001b[0;36mpandas._libs.index.IndexEngine.get_loc\u001b[0;34m()\u001b[0m\n",
      "\u001b[0;32mpandas/_libs/index.pyx\u001b[0m in \u001b[0;36mpandas._libs.index.IndexEngine.get_loc\u001b[0;34m()\u001b[0m\n",
      "\u001b[0;32mpandas/_libs/hashtable_class_helper.pxi\u001b[0m in \u001b[0;36mpandas._libs.hashtable.PyObjectHashTable.get_item\u001b[0;34m()\u001b[0m\n",
      "\u001b[0;32mpandas/_libs/hashtable_class_helper.pxi\u001b[0m in \u001b[0;36mpandas._libs.hashtable.PyObjectHashTable.get_item\u001b[0;34m()\u001b[0m\n",
      "\u001b[0;31mKeyError\u001b[0m: '2022'",
      "\nThe above exception was the direct cause of the following exception:\n",
      "\u001b[0;31mKeyError\u001b[0m                                  Traceback (most recent call last)",
      "\u001b[0;32m<ipython-input-57-26cf7c42e0d8>\u001b[0m in \u001b[0;36m<module>\u001b[0;34m\u001b[0m\n\u001b[1;32m      1\u001b[0m \u001b[0;31m#ano string\u001b[0m\u001b[0;34m\u001b[0m\u001b[0;34m\u001b[0m\u001b[0;34m\u001b[0m\u001b[0m\n\u001b[0;32m----> 2\u001b[0;31m \u001b[0mdf_mg_bk\u001b[0m\u001b[0;34m[\u001b[0m\u001b[0;34m\"2022\"\u001b[0m\u001b[0;34m]\u001b[0m\u001b[0;34m\u001b[0m\u001b[0;34m\u001b[0m\u001b[0m\n\u001b[0m",
      "\u001b[0;32m/opt/anaconda3/lib/python3.8/site-packages/pandas/core/frame.py\u001b[0m in \u001b[0;36m__getitem__\u001b[0;34m(self, key)\u001b[0m\n\u001b[1;32m   3022\u001b[0m             \u001b[0;32mif\u001b[0m \u001b[0mself\u001b[0m\u001b[0;34m.\u001b[0m\u001b[0mcolumns\u001b[0m\u001b[0;34m.\u001b[0m\u001b[0mnlevels\u001b[0m \u001b[0;34m>\u001b[0m \u001b[0;36m1\u001b[0m\u001b[0;34m:\u001b[0m\u001b[0;34m\u001b[0m\u001b[0;34m\u001b[0m\u001b[0m\n\u001b[1;32m   3023\u001b[0m                 \u001b[0;32mreturn\u001b[0m \u001b[0mself\u001b[0m\u001b[0;34m.\u001b[0m\u001b[0m_getitem_multilevel\u001b[0m\u001b[0;34m(\u001b[0m\u001b[0mkey\u001b[0m\u001b[0;34m)\u001b[0m\u001b[0;34m\u001b[0m\u001b[0;34m\u001b[0m\u001b[0m\n\u001b[0;32m-> 3024\u001b[0;31m             \u001b[0mindexer\u001b[0m \u001b[0;34m=\u001b[0m \u001b[0mself\u001b[0m\u001b[0;34m.\u001b[0m\u001b[0mcolumns\u001b[0m\u001b[0;34m.\u001b[0m\u001b[0mget_loc\u001b[0m\u001b[0;34m(\u001b[0m\u001b[0mkey\u001b[0m\u001b[0;34m)\u001b[0m\u001b[0;34m\u001b[0m\u001b[0;34m\u001b[0m\u001b[0m\n\u001b[0m\u001b[1;32m   3025\u001b[0m             \u001b[0;32mif\u001b[0m \u001b[0mis_integer\u001b[0m\u001b[0;34m(\u001b[0m\u001b[0mindexer\u001b[0m\u001b[0;34m)\u001b[0m\u001b[0;34m:\u001b[0m\u001b[0;34m\u001b[0m\u001b[0;34m\u001b[0m\u001b[0m\n\u001b[1;32m   3026\u001b[0m                 \u001b[0mindexer\u001b[0m \u001b[0;34m=\u001b[0m \u001b[0;34m[\u001b[0m\u001b[0mindexer\u001b[0m\u001b[0;34m]\u001b[0m\u001b[0;34m\u001b[0m\u001b[0;34m\u001b[0m\u001b[0m\n",
      "\u001b[0;32m/opt/anaconda3/lib/python3.8/site-packages/pandas/core/indexes/base.py\u001b[0m in \u001b[0;36mget_loc\u001b[0;34m(self, key, method, tolerance)\u001b[0m\n\u001b[1;32m   3080\u001b[0m                 \u001b[0;32mreturn\u001b[0m \u001b[0mself\u001b[0m\u001b[0;34m.\u001b[0m\u001b[0m_engine\u001b[0m\u001b[0;34m.\u001b[0m\u001b[0mget_loc\u001b[0m\u001b[0;34m(\u001b[0m\u001b[0mcasted_key\u001b[0m\u001b[0;34m)\u001b[0m\u001b[0;34m\u001b[0m\u001b[0;34m\u001b[0m\u001b[0m\n\u001b[1;32m   3081\u001b[0m             \u001b[0;32mexcept\u001b[0m \u001b[0mKeyError\u001b[0m \u001b[0;32mas\u001b[0m \u001b[0merr\u001b[0m\u001b[0;34m:\u001b[0m\u001b[0;34m\u001b[0m\u001b[0;34m\u001b[0m\u001b[0m\n\u001b[0;32m-> 3082\u001b[0;31m                 \u001b[0;32mraise\u001b[0m \u001b[0mKeyError\u001b[0m\u001b[0;34m(\u001b[0m\u001b[0mkey\u001b[0m\u001b[0;34m)\u001b[0m \u001b[0;32mfrom\u001b[0m \u001b[0merr\u001b[0m\u001b[0;34m\u001b[0m\u001b[0;34m\u001b[0m\u001b[0m\n\u001b[0m\u001b[1;32m   3083\u001b[0m \u001b[0;34m\u001b[0m\u001b[0m\n\u001b[1;32m   3084\u001b[0m         \u001b[0;32mif\u001b[0m \u001b[0mtolerance\u001b[0m \u001b[0;32mis\u001b[0m \u001b[0;32mnot\u001b[0m \u001b[0;32mNone\u001b[0m\u001b[0;34m:\u001b[0m\u001b[0;34m\u001b[0m\u001b[0;34m\u001b[0m\u001b[0m\n",
      "\u001b[0;31mKeyError\u001b[0m: '2022'"
     ]
    }
   ],
   "source": [
    "#ano string\n",
    "df_mg_bk[\"2022\"]"
   ]
  },
  {
   "cell_type": "code",
   "execution_count": 59,
   "id": "09f58e25-aee2-4d00-9788-66086b6e4ed7",
   "metadata": {},
   "outputs": [
    {
     "data": {
      "text/plain": [
       "Index(['2017-01-02', '2017-01-03', '2017-01-04', '2017-01-05', '2017-01-06',\n",
       "       '2017-01-09', '2017-01-10', '2017-01-11', '2017-01-12', '2017-01-13',\n",
       "       ...\n",
       "       '2022-03-23', '2022-03-24', '2022-03-25', '2022-03-28', '2022-03-29',\n",
       "       '2022-03-30', '2022-03-31', '2022-04-01', '2022-04-04', '2022-04-05'],\n",
       "      dtype='object', length=1308)"
      ]
     },
     "execution_count": 59,
     "metadata": {},
     "output_type": "execute_result"
    }
   ],
   "source": [
    "df_mg_bk.index"
   ]
  },
  {
   "cell_type": "code",
   "execution_count": 58,
   "id": "13d104a8-dd1b-4d95-a0fd-8d98f49de9fe",
   "metadata": {},
   "outputs": [
    {
     "data": {
      "text/plain": [
       "DatetimeIndex(['2017-01-02', '2017-01-03', '2017-01-04', '2017-01-05',\n",
       "               '2017-01-06', '2017-01-09', '2017-01-10', '2017-01-11',\n",
       "               '2017-01-12', '2017-01-13',\n",
       "               ...\n",
       "               '2022-03-23', '2022-03-24', '2022-03-25', '2022-03-28',\n",
       "               '2022-03-29', '2022-03-30', '2022-03-31', '2022-04-01',\n",
       "               '2022-04-04', '2022-04-05'],\n",
       "              dtype='datetime64[ns]', name='Date', length=1308, freq=None)"
      ]
     },
     "execution_count": 58,
     "metadata": {},
     "output_type": "execute_result"
    }
   ],
   "source": [
    "#ano date\n",
    "df_mg.index"
   ]
  },
  {
   "cell_type": "code",
   "execution_count": 60,
   "id": "c568ae78-2b1b-4568-8c75-1aadf2275f90",
   "metadata": {},
   "outputs": [
    {
     "data": {
      "text/html": [
       "<div>\n",
       "<style scoped>\n",
       "    .dataframe tbody tr th:only-of-type {\n",
       "        vertical-align: middle;\n",
       "    }\n",
       "\n",
       "    .dataframe tbody tr th {\n",
       "        vertical-align: top;\n",
       "    }\n",
       "\n",
       "    .dataframe thead th {\n",
       "        text-align: right;\n",
       "    }\n",
       "</style>\n",
       "<table border=\"1\" class=\"dataframe\">\n",
       "  <thead>\n",
       "    <tr style=\"text-align: right;\">\n",
       "      <th></th>\n",
       "      <th>Open</th>\n",
       "      <th>High</th>\n",
       "      <th>Low</th>\n",
       "      <th>Close</th>\n",
       "      <th>Adj Close</th>\n",
       "      <th>Volume</th>\n",
       "    </tr>\n",
       "    <tr>\n",
       "      <th>Date</th>\n",
       "      <th></th>\n",
       "      <th></th>\n",
       "      <th></th>\n",
       "      <th></th>\n",
       "      <th></th>\n",
       "      <th></th>\n",
       "    </tr>\n",
       "  </thead>\n",
       "  <tbody>\n",
       "    <tr>\n",
       "      <th>2017-01-02</th>\n",
       "      <td>0.410273</td>\n",
       "      <td>0.411953</td>\n",
       "      <td>0.397304</td>\n",
       "      <td>0.397304</td>\n",
       "      <td>0.379203</td>\n",
       "      <td>16025600</td>\n",
       "    </tr>\n",
       "    <tr>\n",
       "      <th>2017-01-03</th>\n",
       "      <td>0.400351</td>\n",
       "      <td>0.407343</td>\n",
       "      <td>0.390625</td>\n",
       "      <td>0.396093</td>\n",
       "      <td>0.378047</td>\n",
       "      <td>12825600</td>\n",
       "    </tr>\n",
       "    <tr>\n",
       "      <th>2017-01-04</th>\n",
       "      <td>0.394531</td>\n",
       "      <td>0.396289</td>\n",
       "      <td>0.371484</td>\n",
       "      <td>0.375000</td>\n",
       "      <td>0.357915</td>\n",
       "      <td>27468800</td>\n",
       "    </tr>\n",
       "    <tr>\n",
       "      <th>2017-01-05</th>\n",
       "      <td>0.376796</td>\n",
       "      <td>0.387890</td>\n",
       "      <td>0.376757</td>\n",
       "      <td>0.387890</td>\n",
       "      <td>0.370218</td>\n",
       "      <td>27622400</td>\n",
       "    </tr>\n",
       "    <tr>\n",
       "      <th>2017-01-06</th>\n",
       "      <td>0.387890</td>\n",
       "      <td>0.390078</td>\n",
       "      <td>0.382812</td>\n",
       "      <td>0.385390</td>\n",
       "      <td>0.367832</td>\n",
       "      <td>6400000</td>\n",
       "    </tr>\n",
       "    <tr>\n",
       "      <th>...</th>\n",
       "      <td>...</td>\n",
       "      <td>...</td>\n",
       "      <td>...</td>\n",
       "      <td>...</td>\n",
       "      <td>...</td>\n",
       "      <td>...</td>\n",
       "    </tr>\n",
       "    <tr>\n",
       "      <th>2022-03-30</th>\n",
       "      <td>7.010000</td>\n",
       "      <td>7.130000</td>\n",
       "      <td>6.730000</td>\n",
       "      <td>6.870000</td>\n",
       "      <td>6.870000</td>\n",
       "      <td>118907800</td>\n",
       "    </tr>\n",
       "    <tr>\n",
       "      <th>2022-03-31</th>\n",
       "      <td>6.930000</td>\n",
       "      <td>6.990000</td>\n",
       "      <td>6.760000</td>\n",
       "      <td>6.820000</td>\n",
       "      <td>6.820000</td>\n",
       "      <td>100197800</td>\n",
       "    </tr>\n",
       "    <tr>\n",
       "      <th>2022-04-01</th>\n",
       "      <td>6.920000</td>\n",
       "      <td>7.380000</td>\n",
       "      <td>6.880000</td>\n",
       "      <td>7.350000</td>\n",
       "      <td>7.350000</td>\n",
       "      <td>141943100</td>\n",
       "    </tr>\n",
       "    <tr>\n",
       "      <th>2022-04-04</th>\n",
       "      <td>7.350000</td>\n",
       "      <td>7.360000</td>\n",
       "      <td>7.030000</td>\n",
       "      <td>7.190000</td>\n",
       "      <td>7.190000</td>\n",
       "      <td>99313700</td>\n",
       "    </tr>\n",
       "    <tr>\n",
       "      <th>2022-04-05</th>\n",
       "      <td>7.170000</td>\n",
       "      <td>7.380000</td>\n",
       "      <td>6.860000</td>\n",
       "      <td>6.910000</td>\n",
       "      <td>6.910000</td>\n",
       "      <td>108922700</td>\n",
       "    </tr>\n",
       "  </tbody>\n",
       "</table>\n",
       "<p>1308 rows × 6 columns</p>\n",
       "</div>"
      ],
      "text/plain": [
       "                Open      High       Low     Close  Adj Close     Volume\n",
       "Date                                                                    \n",
       "2017-01-02  0.410273  0.411953  0.397304  0.397304   0.379203   16025600\n",
       "2017-01-03  0.400351  0.407343  0.390625  0.396093   0.378047   12825600\n",
       "2017-01-04  0.394531  0.396289  0.371484  0.375000   0.357915   27468800\n",
       "2017-01-05  0.376796  0.387890  0.376757  0.387890   0.370218   27622400\n",
       "2017-01-06  0.387890  0.390078  0.382812  0.385390   0.367832    6400000\n",
       "...              ...       ...       ...       ...        ...        ...\n",
       "2022-03-30  7.010000  7.130000  6.730000  6.870000   6.870000  118907800\n",
       "2022-03-31  6.930000  6.990000  6.760000  6.820000   6.820000  100197800\n",
       "2022-04-01  6.920000  7.380000  6.880000  7.350000   7.350000  141943100\n",
       "2022-04-04  7.350000  7.360000  7.030000  7.190000   7.190000   99313700\n",
       "2022-04-05  7.170000  7.380000  6.860000  6.910000   6.910000  108922700\n",
       "\n",
       "[1308 rows x 6 columns]"
      ]
     },
     "execution_count": 60,
     "metadata": {},
     "output_type": "execute_result"
    }
   ],
   "source": [
    "df_mg"
   ]
  },
  {
   "cell_type": "code",
   "execution_count": 61,
   "id": "860f7022-ec4e-4c56-bb6d-17b29a7fc822",
   "metadata": {},
   "outputs": [
    {
     "data": {
      "text/html": [
       "<div>\n",
       "<style scoped>\n",
       "    .dataframe tbody tr th:only-of-type {\n",
       "        vertical-align: middle;\n",
       "    }\n",
       "\n",
       "    .dataframe tbody tr th {\n",
       "        vertical-align: top;\n",
       "    }\n",
       "\n",
       "    .dataframe thead th {\n",
       "        text-align: right;\n",
       "    }\n",
       "</style>\n",
       "<table border=\"1\" class=\"dataframe\">\n",
       "  <thead>\n",
       "    <tr style=\"text-align: right;\">\n",
       "      <th></th>\n",
       "      <th>Open</th>\n",
       "      <th>High</th>\n",
       "      <th>Low</th>\n",
       "      <th>Close</th>\n",
       "      <th>Adj Close</th>\n",
       "      <th>Volume</th>\n",
       "    </tr>\n",
       "    <tr>\n",
       "      <th>Date</th>\n",
       "      <th></th>\n",
       "      <th></th>\n",
       "      <th></th>\n",
       "      <th></th>\n",
       "      <th></th>\n",
       "      <th></th>\n",
       "    </tr>\n",
       "  </thead>\n",
       "  <tbody>\n",
       "    <tr>\n",
       "      <th>2022-01-03</th>\n",
       "      <td>7.41</td>\n",
       "      <td>7.41</td>\n",
       "      <td>6.67</td>\n",
       "      <td>6.72</td>\n",
       "      <td>6.72</td>\n",
       "      <td>145442000</td>\n",
       "    </tr>\n",
       "    <tr>\n",
       "      <th>2022-01-04</th>\n",
       "      <td>6.78</td>\n",
       "      <td>6.94</td>\n",
       "      <td>6.45</td>\n",
       "      <td>6.61</td>\n",
       "      <td>6.61</td>\n",
       "      <td>94735500</td>\n",
       "    </tr>\n",
       "    <tr>\n",
       "      <th>2022-01-05</th>\n",
       "      <td>6.52</td>\n",
       "      <td>6.73</td>\n",
       "      <td>6.37</td>\n",
       "      <td>6.42</td>\n",
       "      <td>6.42</td>\n",
       "      <td>92667900</td>\n",
       "    </tr>\n",
       "    <tr>\n",
       "      <th>2022-01-06</th>\n",
       "      <td>6.46</td>\n",
       "      <td>6.53</td>\n",
       "      <td>6.13</td>\n",
       "      <td>6.25</td>\n",
       "      <td>6.25</td>\n",
       "      <td>96480700</td>\n",
       "    </tr>\n",
       "    <tr>\n",
       "      <th>2022-01-07</th>\n",
       "      <td>6.27</td>\n",
       "      <td>6.63</td>\n",
       "      <td>6.11</td>\n",
       "      <td>6.22</td>\n",
       "      <td>6.22</td>\n",
       "      <td>132688900</td>\n",
       "    </tr>\n",
       "    <tr>\n",
       "      <th>...</th>\n",
       "      <td>...</td>\n",
       "      <td>...</td>\n",
       "      <td>...</td>\n",
       "      <td>...</td>\n",
       "      <td>...</td>\n",
       "      <td>...</td>\n",
       "    </tr>\n",
       "    <tr>\n",
       "      <th>2022-03-30</th>\n",
       "      <td>7.01</td>\n",
       "      <td>7.13</td>\n",
       "      <td>6.73</td>\n",
       "      <td>6.87</td>\n",
       "      <td>6.87</td>\n",
       "      <td>118907800</td>\n",
       "    </tr>\n",
       "    <tr>\n",
       "      <th>2022-03-31</th>\n",
       "      <td>6.93</td>\n",
       "      <td>6.99</td>\n",
       "      <td>6.76</td>\n",
       "      <td>6.82</td>\n",
       "      <td>6.82</td>\n",
       "      <td>100197800</td>\n",
       "    </tr>\n",
       "    <tr>\n",
       "      <th>2022-04-01</th>\n",
       "      <td>6.92</td>\n",
       "      <td>7.38</td>\n",
       "      <td>6.88</td>\n",
       "      <td>7.35</td>\n",
       "      <td>7.35</td>\n",
       "      <td>141943100</td>\n",
       "    </tr>\n",
       "    <tr>\n",
       "      <th>2022-04-04</th>\n",
       "      <td>7.35</td>\n",
       "      <td>7.36</td>\n",
       "      <td>7.03</td>\n",
       "      <td>7.19</td>\n",
       "      <td>7.19</td>\n",
       "      <td>99313700</td>\n",
       "    </tr>\n",
       "    <tr>\n",
       "      <th>2022-04-05</th>\n",
       "      <td>7.17</td>\n",
       "      <td>7.38</td>\n",
       "      <td>6.86</td>\n",
       "      <td>6.91</td>\n",
       "      <td>6.91</td>\n",
       "      <td>108922700</td>\n",
       "    </tr>\n",
       "  </tbody>\n",
       "</table>\n",
       "<p>65 rows × 6 columns</p>\n",
       "</div>"
      ],
      "text/plain": [
       "            Open  High   Low  Close  Adj Close     Volume\n",
       "Date                                                     \n",
       "2022-01-03  7.41  7.41  6.67   6.72       6.72  145442000\n",
       "2022-01-04  6.78  6.94  6.45   6.61       6.61   94735500\n",
       "2022-01-05  6.52  6.73  6.37   6.42       6.42   92667900\n",
       "2022-01-06  6.46  6.53  6.13   6.25       6.25   96480700\n",
       "2022-01-07  6.27  6.63  6.11   6.22       6.22  132688900\n",
       "...          ...   ...   ...    ...        ...        ...\n",
       "2022-03-30  7.01  7.13  6.73   6.87       6.87  118907800\n",
       "2022-03-31  6.93  6.99  6.76   6.82       6.82  100197800\n",
       "2022-04-01  6.92  7.38  6.88   7.35       7.35  141943100\n",
       "2022-04-04  7.35  7.36  7.03   7.19       7.19   99313700\n",
       "2022-04-05  7.17  7.38  6.86   6.91       6.91  108922700\n",
       "\n",
       "[65 rows x 6 columns]"
      ]
     },
     "execution_count": 61,
     "metadata": {},
     "output_type": "execute_result"
    }
   ],
   "source": [
    "df_mg[\"2022\"]"
   ]
  },
  {
   "cell_type": "code",
   "execution_count": 62,
   "id": "b7e2922b-d2a7-4f83-9733-0b8f8c96caeb",
   "metadata": {},
   "outputs": [
    {
     "data": {
      "text/html": [
       "<div>\n",
       "<style scoped>\n",
       "    .dataframe tbody tr th:only-of-type {\n",
       "        vertical-align: middle;\n",
       "    }\n",
       "\n",
       "    .dataframe tbody tr th {\n",
       "        vertical-align: top;\n",
       "    }\n",
       "\n",
       "    .dataframe thead th {\n",
       "        text-align: right;\n",
       "    }\n",
       "</style>\n",
       "<table border=\"1\" class=\"dataframe\">\n",
       "  <thead>\n",
       "    <tr style=\"text-align: right;\">\n",
       "      <th></th>\n",
       "      <th>Open</th>\n",
       "      <th>High</th>\n",
       "      <th>Low</th>\n",
       "      <th>Close</th>\n",
       "      <th>Adj Close</th>\n",
       "      <th>Volume</th>\n",
       "    </tr>\n",
       "    <tr>\n",
       "      <th>Date</th>\n",
       "      <th></th>\n",
       "      <th></th>\n",
       "      <th></th>\n",
       "      <th></th>\n",
       "      <th></th>\n",
       "      <th></th>\n",
       "    </tr>\n",
       "  </thead>\n",
       "  <tbody>\n",
       "    <tr>\n",
       "      <th>2022-04-01</th>\n",
       "      <td>6.92</td>\n",
       "      <td>7.38</td>\n",
       "      <td>6.88</td>\n",
       "      <td>7.35</td>\n",
       "      <td>7.35</td>\n",
       "      <td>141943100</td>\n",
       "    </tr>\n",
       "    <tr>\n",
       "      <th>2022-04-04</th>\n",
       "      <td>7.35</td>\n",
       "      <td>7.36</td>\n",
       "      <td>7.03</td>\n",
       "      <td>7.19</td>\n",
       "      <td>7.19</td>\n",
       "      <td>99313700</td>\n",
       "    </tr>\n",
       "    <tr>\n",
       "      <th>2022-04-05</th>\n",
       "      <td>7.17</td>\n",
       "      <td>7.38</td>\n",
       "      <td>6.86</td>\n",
       "      <td>6.91</td>\n",
       "      <td>6.91</td>\n",
       "      <td>108922700</td>\n",
       "    </tr>\n",
       "  </tbody>\n",
       "</table>\n",
       "</div>"
      ],
      "text/plain": [
       "            Open  High   Low  Close  Adj Close     Volume\n",
       "Date                                                     \n",
       "2022-04-01  6.92  7.38  6.88   7.35       7.35  141943100\n",
       "2022-04-04  7.35  7.36  7.03   7.19       7.19   99313700\n",
       "2022-04-05  7.17  7.38  6.86   6.91       6.91  108922700"
      ]
     },
     "execution_count": 62,
     "metadata": {},
     "output_type": "execute_result"
    }
   ],
   "source": [
    "#ano mes\n",
    "df_mg[\"2022-04\"]"
   ]
  },
  {
   "cell_type": "markdown",
   "id": "5d81fb39-69c7-4d46-bddf-8917c62aee13",
   "metadata": {},
   "source": [
    "# Retorno"
   ]
  },
  {
   "cell_type": "code",
   "execution_count": 64,
   "id": "833f8826-12ad-4616-bb32-fa77edf281f9",
   "metadata": {},
   "outputs": [
    {
     "data": {
      "text/html": [
       "<div>\n",
       "<style scoped>\n",
       "    .dataframe tbody tr th:only-of-type {\n",
       "        vertical-align: middle;\n",
       "    }\n",
       "\n",
       "    .dataframe tbody tr th {\n",
       "        vertical-align: top;\n",
       "    }\n",
       "\n",
       "    .dataframe thead th {\n",
       "        text-align: right;\n",
       "    }\n",
       "</style>\n",
       "<table border=\"1\" class=\"dataframe\">\n",
       "  <thead>\n",
       "    <tr style=\"text-align: right;\">\n",
       "      <th></th>\n",
       "      <th>Open</th>\n",
       "      <th>High</th>\n",
       "      <th>Low</th>\n",
       "      <th>Close</th>\n",
       "      <th>Adj Close</th>\n",
       "      <th>Volume</th>\n",
       "    </tr>\n",
       "    <tr>\n",
       "      <th>Date</th>\n",
       "      <th></th>\n",
       "      <th></th>\n",
       "      <th></th>\n",
       "      <th></th>\n",
       "      <th></th>\n",
       "      <th></th>\n",
       "    </tr>\n",
       "  </thead>\n",
       "  <tbody>\n",
       "    <tr>\n",
       "      <th>2017-01-02</th>\n",
       "      <td>0.410273</td>\n",
       "      <td>0.411953</td>\n",
       "      <td>0.397304</td>\n",
       "      <td>0.397304</td>\n",
       "      <td>0.379203</td>\n",
       "      <td>16025600</td>\n",
       "    </tr>\n",
       "    <tr>\n",
       "      <th>2017-01-03</th>\n",
       "      <td>0.400351</td>\n",
       "      <td>0.407343</td>\n",
       "      <td>0.390625</td>\n",
       "      <td>0.396093</td>\n",
       "      <td>0.378047</td>\n",
       "      <td>12825600</td>\n",
       "    </tr>\n",
       "    <tr>\n",
       "      <th>2017-01-04</th>\n",
       "      <td>0.394531</td>\n",
       "      <td>0.396289</td>\n",
       "      <td>0.371484</td>\n",
       "      <td>0.375000</td>\n",
       "      <td>0.357915</td>\n",
       "      <td>27468800</td>\n",
       "    </tr>\n",
       "    <tr>\n",
       "      <th>2017-01-05</th>\n",
       "      <td>0.376796</td>\n",
       "      <td>0.387890</td>\n",
       "      <td>0.376757</td>\n",
       "      <td>0.387890</td>\n",
       "      <td>0.370218</td>\n",
       "      <td>27622400</td>\n",
       "    </tr>\n",
       "    <tr>\n",
       "      <th>2017-01-06</th>\n",
       "      <td>0.387890</td>\n",
       "      <td>0.390078</td>\n",
       "      <td>0.382812</td>\n",
       "      <td>0.385390</td>\n",
       "      <td>0.367832</td>\n",
       "      <td>6400000</td>\n",
       "    </tr>\n",
       "    <tr>\n",
       "      <th>...</th>\n",
       "      <td>...</td>\n",
       "      <td>...</td>\n",
       "      <td>...</td>\n",
       "      <td>...</td>\n",
       "      <td>...</td>\n",
       "      <td>...</td>\n",
       "    </tr>\n",
       "    <tr>\n",
       "      <th>2022-03-30</th>\n",
       "      <td>7.010000</td>\n",
       "      <td>7.130000</td>\n",
       "      <td>6.730000</td>\n",
       "      <td>6.870000</td>\n",
       "      <td>6.870000</td>\n",
       "      <td>118907800</td>\n",
       "    </tr>\n",
       "    <tr>\n",
       "      <th>2022-03-31</th>\n",
       "      <td>6.930000</td>\n",
       "      <td>6.990000</td>\n",
       "      <td>6.760000</td>\n",
       "      <td>6.820000</td>\n",
       "      <td>6.820000</td>\n",
       "      <td>100197800</td>\n",
       "    </tr>\n",
       "    <tr>\n",
       "      <th>2022-04-01</th>\n",
       "      <td>6.920000</td>\n",
       "      <td>7.380000</td>\n",
       "      <td>6.880000</td>\n",
       "      <td>7.350000</td>\n",
       "      <td>7.350000</td>\n",
       "      <td>141943100</td>\n",
       "    </tr>\n",
       "    <tr>\n",
       "      <th>2022-04-04</th>\n",
       "      <td>7.350000</td>\n",
       "      <td>7.360000</td>\n",
       "      <td>7.030000</td>\n",
       "      <td>7.190000</td>\n",
       "      <td>7.190000</td>\n",
       "      <td>99313700</td>\n",
       "    </tr>\n",
       "    <tr>\n",
       "      <th>2022-04-05</th>\n",
       "      <td>7.170000</td>\n",
       "      <td>7.380000</td>\n",
       "      <td>6.860000</td>\n",
       "      <td>6.910000</td>\n",
       "      <td>6.910000</td>\n",
       "      <td>108922700</td>\n",
       "    </tr>\n",
       "  </tbody>\n",
       "</table>\n",
       "<p>1308 rows × 6 columns</p>\n",
       "</div>"
      ],
      "text/plain": [
       "                Open      High       Low     Close  Adj Close     Volume\n",
       "Date                                                                    \n",
       "2017-01-02  0.410273  0.411953  0.397304  0.397304   0.379203   16025600\n",
       "2017-01-03  0.400351  0.407343  0.390625  0.396093   0.378047   12825600\n",
       "2017-01-04  0.394531  0.396289  0.371484  0.375000   0.357915   27468800\n",
       "2017-01-05  0.376796  0.387890  0.376757  0.387890   0.370218   27622400\n",
       "2017-01-06  0.387890  0.390078  0.382812  0.385390   0.367832    6400000\n",
       "...              ...       ...       ...       ...        ...        ...\n",
       "2022-03-30  7.010000  7.130000  6.730000  6.870000   6.870000  118907800\n",
       "2022-03-31  6.930000  6.990000  6.760000  6.820000   6.820000  100197800\n",
       "2022-04-01  6.920000  7.380000  6.880000  7.350000   7.350000  141943100\n",
       "2022-04-04  7.350000  7.360000  7.030000  7.190000   7.190000   99313700\n",
       "2022-04-05  7.170000  7.380000  6.860000  6.910000   6.910000  108922700\n",
       "\n",
       "[1308 rows x 6 columns]"
      ]
     },
     "execution_count": 64,
     "metadata": {},
     "output_type": "execute_result"
    }
   ],
   "source": [
    "df_mg"
   ]
  },
  {
   "cell_type": "code",
   "execution_count": 66,
   "id": "8d4428f1-9901-46c4-90c5-ed2b74fa4086",
   "metadata": {},
   "outputs": [],
   "source": [
    "df_bkp = df_mg.copy(deep = True)"
   ]
  },
  {
   "cell_type": "code",
   "execution_count": 69,
   "id": "6c48b97d-1d65-4873-8e0d-2e65fd9cd91e",
   "metadata": {},
   "outputs": [],
   "source": [
    "df_bkp[[\"Close_shifted\"]] = df_bkp.Close.shift()\n",
    "df_bkp[[\"Close_shifted_lag3\"]] = df_bkp.Close.shift(3)"
   ]
  },
  {
   "cell_type": "code",
   "execution_count": 70,
   "id": "bed25e29-05cf-4e86-8aea-c3ad79a42ce2",
   "metadata": {},
   "outputs": [
    {
     "data": {
      "text/html": [
       "<div>\n",
       "<style scoped>\n",
       "    .dataframe tbody tr th:only-of-type {\n",
       "        vertical-align: middle;\n",
       "    }\n",
       "\n",
       "    .dataframe tbody tr th {\n",
       "        vertical-align: top;\n",
       "    }\n",
       "\n",
       "    .dataframe thead th {\n",
       "        text-align: right;\n",
       "    }\n",
       "</style>\n",
       "<table border=\"1\" class=\"dataframe\">\n",
       "  <thead>\n",
       "    <tr style=\"text-align: right;\">\n",
       "      <th></th>\n",
       "      <th>Open</th>\n",
       "      <th>High</th>\n",
       "      <th>Low</th>\n",
       "      <th>Close</th>\n",
       "      <th>Adj Close</th>\n",
       "      <th>Volume</th>\n",
       "      <th>Close_shifted</th>\n",
       "      <th>Close_shifted_lag3</th>\n",
       "    </tr>\n",
       "    <tr>\n",
       "      <th>Date</th>\n",
       "      <th></th>\n",
       "      <th></th>\n",
       "      <th></th>\n",
       "      <th></th>\n",
       "      <th></th>\n",
       "      <th></th>\n",
       "      <th></th>\n",
       "      <th></th>\n",
       "    </tr>\n",
       "  </thead>\n",
       "  <tbody>\n",
       "    <tr>\n",
       "      <th>2017-01-02</th>\n",
       "      <td>0.410273</td>\n",
       "      <td>0.411953</td>\n",
       "      <td>0.397304</td>\n",
       "      <td>0.397304</td>\n",
       "      <td>0.379203</td>\n",
       "      <td>16025600</td>\n",
       "      <td>NaN</td>\n",
       "      <td>NaN</td>\n",
       "    </tr>\n",
       "    <tr>\n",
       "      <th>2017-01-03</th>\n",
       "      <td>0.400351</td>\n",
       "      <td>0.407343</td>\n",
       "      <td>0.390625</td>\n",
       "      <td>0.396093</td>\n",
       "      <td>0.378047</td>\n",
       "      <td>12825600</td>\n",
       "      <td>0.397304</td>\n",
       "      <td>NaN</td>\n",
       "    </tr>\n",
       "    <tr>\n",
       "      <th>2017-01-04</th>\n",
       "      <td>0.394531</td>\n",
       "      <td>0.396289</td>\n",
       "      <td>0.371484</td>\n",
       "      <td>0.375000</td>\n",
       "      <td>0.357915</td>\n",
       "      <td>27468800</td>\n",
       "      <td>0.396093</td>\n",
       "      <td>NaN</td>\n",
       "    </tr>\n",
       "    <tr>\n",
       "      <th>2017-01-05</th>\n",
       "      <td>0.376796</td>\n",
       "      <td>0.387890</td>\n",
       "      <td>0.376757</td>\n",
       "      <td>0.387890</td>\n",
       "      <td>0.370218</td>\n",
       "      <td>27622400</td>\n",
       "      <td>0.375000</td>\n",
       "      <td>0.397304</td>\n",
       "    </tr>\n",
       "    <tr>\n",
       "      <th>2017-01-06</th>\n",
       "      <td>0.387890</td>\n",
       "      <td>0.390078</td>\n",
       "      <td>0.382812</td>\n",
       "      <td>0.385390</td>\n",
       "      <td>0.367832</td>\n",
       "      <td>6400000</td>\n",
       "      <td>0.387890</td>\n",
       "      <td>0.396093</td>\n",
       "    </tr>\n",
       "    <tr>\n",
       "      <th>...</th>\n",
       "      <td>...</td>\n",
       "      <td>...</td>\n",
       "      <td>...</td>\n",
       "      <td>...</td>\n",
       "      <td>...</td>\n",
       "      <td>...</td>\n",
       "      <td>...</td>\n",
       "      <td>...</td>\n",
       "    </tr>\n",
       "    <tr>\n",
       "      <th>2022-03-30</th>\n",
       "      <td>7.010000</td>\n",
       "      <td>7.130000</td>\n",
       "      <td>6.730000</td>\n",
       "      <td>6.870000</td>\n",
       "      <td>6.870000</td>\n",
       "      <td>118907800</td>\n",
       "      <td>7.000000</td>\n",
       "      <td>6.540000</td>\n",
       "    </tr>\n",
       "    <tr>\n",
       "      <th>2022-03-31</th>\n",
       "      <td>6.930000</td>\n",
       "      <td>6.990000</td>\n",
       "      <td>6.760000</td>\n",
       "      <td>6.820000</td>\n",
       "      <td>6.820000</td>\n",
       "      <td>100197800</td>\n",
       "      <td>6.870000</td>\n",
       "      <td>6.470000</td>\n",
       "    </tr>\n",
       "    <tr>\n",
       "      <th>2022-04-01</th>\n",
       "      <td>6.920000</td>\n",
       "      <td>7.380000</td>\n",
       "      <td>6.880000</td>\n",
       "      <td>7.350000</td>\n",
       "      <td>7.350000</td>\n",
       "      <td>141943100</td>\n",
       "      <td>6.820000</td>\n",
       "      <td>7.000000</td>\n",
       "    </tr>\n",
       "    <tr>\n",
       "      <th>2022-04-04</th>\n",
       "      <td>7.350000</td>\n",
       "      <td>7.360000</td>\n",
       "      <td>7.030000</td>\n",
       "      <td>7.190000</td>\n",
       "      <td>7.190000</td>\n",
       "      <td>99313700</td>\n",
       "      <td>7.350000</td>\n",
       "      <td>6.870000</td>\n",
       "    </tr>\n",
       "    <tr>\n",
       "      <th>2022-04-05</th>\n",
       "      <td>7.170000</td>\n",
       "      <td>7.380000</td>\n",
       "      <td>6.860000</td>\n",
       "      <td>6.910000</td>\n",
       "      <td>6.910000</td>\n",
       "      <td>108922700</td>\n",
       "      <td>7.190000</td>\n",
       "      <td>6.820000</td>\n",
       "    </tr>\n",
       "  </tbody>\n",
       "</table>\n",
       "<p>1308 rows × 8 columns</p>\n",
       "</div>"
      ],
      "text/plain": [
       "                Open      High       Low     Close  Adj Close     Volume  \\\n",
       "Date                                                                       \n",
       "2017-01-02  0.410273  0.411953  0.397304  0.397304   0.379203   16025600   \n",
       "2017-01-03  0.400351  0.407343  0.390625  0.396093   0.378047   12825600   \n",
       "2017-01-04  0.394531  0.396289  0.371484  0.375000   0.357915   27468800   \n",
       "2017-01-05  0.376796  0.387890  0.376757  0.387890   0.370218   27622400   \n",
       "2017-01-06  0.387890  0.390078  0.382812  0.385390   0.367832    6400000   \n",
       "...              ...       ...       ...       ...        ...        ...   \n",
       "2022-03-30  7.010000  7.130000  6.730000  6.870000   6.870000  118907800   \n",
       "2022-03-31  6.930000  6.990000  6.760000  6.820000   6.820000  100197800   \n",
       "2022-04-01  6.920000  7.380000  6.880000  7.350000   7.350000  141943100   \n",
       "2022-04-04  7.350000  7.360000  7.030000  7.190000   7.190000   99313700   \n",
       "2022-04-05  7.170000  7.380000  6.860000  6.910000   6.910000  108922700   \n",
       "\n",
       "            Close_shifted  Close_shifted_lag3  \n",
       "Date                                           \n",
       "2017-01-02            NaN                 NaN  \n",
       "2017-01-03       0.397304                 NaN  \n",
       "2017-01-04       0.396093                 NaN  \n",
       "2017-01-05       0.375000            0.397304  \n",
       "2017-01-06       0.387890            0.396093  \n",
       "...                   ...                 ...  \n",
       "2022-03-30       7.000000            6.540000  \n",
       "2022-03-31       6.870000            6.470000  \n",
       "2022-04-01       6.820000            7.000000  \n",
       "2022-04-04       7.350000            6.870000  \n",
       "2022-04-05       7.190000            6.820000  \n",
       "\n",
       "[1308 rows x 8 columns]"
      ]
     },
     "execution_count": 70,
     "metadata": {},
     "output_type": "execute_result"
    }
   ],
   "source": [
    "df_bkp"
   ]
  },
  {
   "cell_type": "code",
   "execution_count": 65,
   "id": "72ff3120-f632-4c4e-8433-5526e85da05c",
   "metadata": {},
   "outputs": [
    {
     "data": {
      "text/plain": [
       "Date\n",
       "2017-01-02         NaN\n",
       "2017-01-03    0.397304\n",
       "2017-01-04    0.396093\n",
       "2017-01-05    0.375000\n",
       "2017-01-06    0.387890\n",
       "                ...   \n",
       "2022-03-30    7.000000\n",
       "2022-03-31    6.870000\n",
       "2022-04-01    6.820000\n",
       "2022-04-04    7.350000\n",
       "2022-04-05    7.190000\n",
       "Name: Close, Length: 1308, dtype: float64"
      ]
     },
     "execution_count": 65,
     "metadata": {},
     "output_type": "execute_result"
    }
   ],
   "source": [
    "df_mg.Close.shift()"
   ]
  },
  {
   "cell_type": "code",
   "execution_count": 42,
   "id": "20e7b45d-7482-40e7-be4b-fdb0e996c3de",
   "metadata": {},
   "outputs": [
    {
     "data": {
      "text/plain": [
       "<AxesSubplot:xlabel='Date'>"
      ]
     },
     "execution_count": 42,
     "metadata": {},
     "output_type": "execute_result"
    },
    {
     "data": {
      "image/png": "[encoded data removed]",
      "text/plain": [
       "<Figure size 1224x360 with 1 Axes>"
      ]
     },
     "metadata": {
      "needs_background": "light"
     },
     "output_type": "display_data"
    }
   ],
   "source": [
    "#retorno\n",
    "#t - t_1\n",
    "fig = plt.figure(figsize = (17, 5))\n",
    "(df_mg['Close'] - df_mg.Close.shift()).plot()"
   ]
  },
  {
   "cell_type": "code",
   "execution_count": 71,
   "id": "fb183592-01a4-4246-a14f-44b7cbbb2e5c",
   "metadata": {},
   "outputs": [
    {
     "data": {
      "text/plain": [
       "Date\n",
       "2017-01-02         NaN\n",
       "2017-01-03   -0.003048\n",
       "2017-01-04   -0.053253\n",
       "2017-01-05    0.034373\n",
       "2017-01-06   -0.006445\n",
       "                ...   \n",
       "2022-03-30   -0.018571\n",
       "2022-03-31   -0.007278\n",
       "2022-04-01    0.077713\n",
       "2022-04-04   -0.021769\n",
       "2022-04-05   -0.038943\n",
       "Name: Close, Length: 1308, dtype: float64"
      ]
     },
     "execution_count": 71,
     "metadata": {},
     "output_type": "execute_result"
    }
   ],
   "source": [
    "df_bkp.Close.pct_change()"
   ]
  },
  {
   "cell_type": "code",
   "execution_count": 72,
   "id": "c20f1b4c-26ae-4523-ad92-91796b4a9733",
   "metadata": {},
   "outputs": [
    {
     "data": {
      "text/plain": [
       "<AxesSubplot:xlabel='Close', ylabel='Close'>"
      ]
     },
     "execution_count": 72,
     "metadata": {},
     "output_type": "execute_result"
    },
    {
     "data": {
      "image/png": "[encoded data removed]",
      "text/plain": [
       "<Figure size 432x288 with 1 Axes>"
      ]
     },
     "metadata": {
      "needs_background": "light"
     },
     "output_type": "display_data"
    }
   ],
   "source": [
    "sns.scatterplot(x=df_mg['Close'], y = df_mg['Close'].shift(), alpha = 0.5, linewidth=0)"
   ]
  },
  {
   "cell_type": "code",
   "execution_count": 74,
   "id": "1fa119a2-59d4-4b5c-8c66-5894d2588192",
   "metadata": {},
   "outputs": [
    {
     "data": {
      "text/plain": [
       "<AxesSubplot:xlabel='Close', ylabel='Close'>"
      ]
     },
     "execution_count": 74,
     "metadata": {},
     "output_type": "execute_result"
    },
    {
     "data": {
      "image/png": "[encoded data removed]",
      "text/plain": [
       "<Figure size 432x288 with 1 Axes>"
      ]
     },
     "metadata": {
      "needs_background": "light"
     },
     "output_type": "display_data"
    }
   ],
   "source": [
    "sns.scatterplot(x=df_mg['Close'], y = df_mg['Close'].shift(30), alpha = 0.5, linewidth=0)"
   ]
  },
  {
   "cell_type": "code",
   "execution_count": 46,
   "id": "1c42943b-5f25-49a8-bdf1-abdcc568671b",
   "metadata": {},
   "outputs": [
    {
     "data": {
      "text/plain": [
       "<AxesSubplot:xlabel='Close', ylabel='Close'>"
      ]
     },
     "execution_count": 46,
     "metadata": {},
     "output_type": "execute_result"
    },
    {
     "data": {
      "image/png": "[encoded data removed]",
      "text/plain": [
       "<Figure size 432x288 with 1 Axes>"
      ]
     },
     "metadata": {
      "needs_background": "light"
     },
     "output_type": "display_data"
    }
   ],
   "source": [
    "sns.scatterplot(x=df_mg['Close'], y = df_mg['Close'].shift(100), alpha = 0.5, linewidth=0)"
   ]
  },
  {
   "cell_type": "markdown",
   "id": "9d4cc7de-4387-4643-9286-283813a95b19",
   "metadata": {},
   "source": [
    "# Voltamos 20:36"
   ]
  },
  {
   "cell_type": "markdown",
   "id": "1c90b04d-8c5a-4799-8f49-d1a06a985137",
   "metadata": {},
   "source": [
    "### Fill"
   ]
  },
  {
   "cell_type": "code",
   "execution_count": 75,
   "id": "294df20e-801e-41e3-9365-242f581eccc4",
   "metadata": {},
   "outputs": [
    {
     "data": {
      "text/html": [
       "<div>\n",
       "<style scoped>\n",
       "    .dataframe tbody tr th:only-of-type {\n",
       "        vertical-align: middle;\n",
       "    }\n",
       "\n",
       "    .dataframe tbody tr th {\n",
       "        vertical-align: top;\n",
       "    }\n",
       "\n",
       "    .dataframe thead th {\n",
       "        text-align: right;\n",
       "    }\n",
       "</style>\n",
       "<table border=\"1\" class=\"dataframe\">\n",
       "  <thead>\n",
       "    <tr style=\"text-align: right;\">\n",
       "      <th></th>\n",
       "      <th>Open</th>\n",
       "      <th>High</th>\n",
       "      <th>Low</th>\n",
       "      <th>Close</th>\n",
       "      <th>Adj Close</th>\n",
       "      <th>Volume</th>\n",
       "    </tr>\n",
       "    <tr>\n",
       "      <th>Date</th>\n",
       "      <th></th>\n",
       "      <th></th>\n",
       "      <th></th>\n",
       "      <th></th>\n",
       "      <th></th>\n",
       "      <th></th>\n",
       "    </tr>\n",
       "  </thead>\n",
       "  <tbody>\n",
       "    <tr>\n",
       "      <th>2017-01-02</th>\n",
       "      <td>0.410273</td>\n",
       "      <td>0.411953</td>\n",
       "      <td>0.397304</td>\n",
       "      <td>0.397304</td>\n",
       "      <td>0.379203</td>\n",
       "      <td>16025600</td>\n",
       "    </tr>\n",
       "    <tr>\n",
       "      <th>2017-01-03</th>\n",
       "      <td>0.400351</td>\n",
       "      <td>0.407343</td>\n",
       "      <td>0.390625</td>\n",
       "      <td>0.396093</td>\n",
       "      <td>0.378047</td>\n",
       "      <td>12825600</td>\n",
       "    </tr>\n",
       "    <tr>\n",
       "      <th>2017-01-04</th>\n",
       "      <td>0.394531</td>\n",
       "      <td>0.396289</td>\n",
       "      <td>0.371484</td>\n",
       "      <td>0.375000</td>\n",
       "      <td>0.357915</td>\n",
       "      <td>27468800</td>\n",
       "    </tr>\n",
       "    <tr>\n",
       "      <th>2017-01-05</th>\n",
       "      <td>0.376796</td>\n",
       "      <td>0.387890</td>\n",
       "      <td>0.376757</td>\n",
       "      <td>0.387890</td>\n",
       "      <td>0.370218</td>\n",
       "      <td>27622400</td>\n",
       "    </tr>\n",
       "    <tr>\n",
       "      <th>2017-01-06</th>\n",
       "      <td>0.387890</td>\n",
       "      <td>0.390078</td>\n",
       "      <td>0.382812</td>\n",
       "      <td>0.385390</td>\n",
       "      <td>0.367832</td>\n",
       "      <td>6400000</td>\n",
       "    </tr>\n",
       "    <tr>\n",
       "      <th>...</th>\n",
       "      <td>...</td>\n",
       "      <td>...</td>\n",
       "      <td>...</td>\n",
       "      <td>...</td>\n",
       "      <td>...</td>\n",
       "      <td>...</td>\n",
       "    </tr>\n",
       "    <tr>\n",
       "      <th>2022-03-30</th>\n",
       "      <td>7.010000</td>\n",
       "      <td>7.130000</td>\n",
       "      <td>6.730000</td>\n",
       "      <td>6.870000</td>\n",
       "      <td>6.870000</td>\n",
       "      <td>118907800</td>\n",
       "    </tr>\n",
       "    <tr>\n",
       "      <th>2022-03-31</th>\n",
       "      <td>6.930000</td>\n",
       "      <td>6.990000</td>\n",
       "      <td>6.760000</td>\n",
       "      <td>6.820000</td>\n",
       "      <td>6.820000</td>\n",
       "      <td>100197800</td>\n",
       "    </tr>\n",
       "    <tr>\n",
       "      <th>2022-04-01</th>\n",
       "      <td>6.920000</td>\n",
       "      <td>7.380000</td>\n",
       "      <td>6.880000</td>\n",
       "      <td>7.350000</td>\n",
       "      <td>7.350000</td>\n",
       "      <td>141943100</td>\n",
       "    </tr>\n",
       "    <tr>\n",
       "      <th>2022-04-04</th>\n",
       "      <td>7.350000</td>\n",
       "      <td>7.360000</td>\n",
       "      <td>7.030000</td>\n",
       "      <td>7.190000</td>\n",
       "      <td>7.190000</td>\n",
       "      <td>99313700</td>\n",
       "    </tr>\n",
       "    <tr>\n",
       "      <th>2022-04-05</th>\n",
       "      <td>7.170000</td>\n",
       "      <td>7.380000</td>\n",
       "      <td>6.860000</td>\n",
       "      <td>6.910000</td>\n",
       "      <td>6.910000</td>\n",
       "      <td>108922700</td>\n",
       "    </tr>\n",
       "  </tbody>\n",
       "</table>\n",
       "<p>1308 rows × 6 columns</p>\n",
       "</div>"
      ],
      "text/plain": [
       "                Open      High       Low     Close  Adj Close     Volume\n",
       "Date                                                                    \n",
       "2017-01-02  0.410273  0.411953  0.397304  0.397304   0.379203   16025600\n",
       "2017-01-03  0.400351  0.407343  0.390625  0.396093   0.378047   12825600\n",
       "2017-01-04  0.394531  0.396289  0.371484  0.375000   0.357915   27468800\n",
       "2017-01-05  0.376796  0.387890  0.376757  0.387890   0.370218   27622400\n",
       "2017-01-06  0.387890  0.390078  0.382812  0.385390   0.367832    6400000\n",
       "...              ...       ...       ...       ...        ...        ...\n",
       "2022-03-30  7.010000  7.130000  6.730000  6.870000   6.870000  118907800\n",
       "2022-03-31  6.930000  6.990000  6.760000  6.820000   6.820000  100197800\n",
       "2022-04-01  6.920000  7.380000  6.880000  7.350000   7.350000  141943100\n",
       "2022-04-04  7.350000  7.360000  7.030000  7.190000   7.190000   99313700\n",
       "2022-04-05  7.170000  7.380000  6.860000  6.910000   6.910000  108922700\n",
       "\n",
       "[1308 rows x 6 columns]"
      ]
     },
     "execution_count": 75,
     "metadata": {},
     "output_type": "execute_result"
    }
   ],
   "source": [
    "df_mg"
   ]
  },
  {
   "cell_type": "code",
   "execution_count": 76,
   "id": "7a3798d0-df52-4b33-a61b-64c2e0e31ffc",
   "metadata": {},
   "outputs": [
    {
     "name": "stdout",
     "output_type": "stream",
     "text": [
      "<class 'pandas.core.frame.DataFrame'>\n",
      "DatetimeIndex: 1308 entries, 2017-01-02 to 2022-04-05\n",
      "Data columns (total 6 columns):\n",
      " #   Column     Non-Null Count  Dtype  \n",
      "---  ------     --------------  -----  \n",
      " 0   Open       1308 non-null   float64\n",
      " 1   High       1308 non-null   float64\n",
      " 2   Low        1308 non-null   float64\n",
      " 3   Close      1308 non-null   float64\n",
      " 4   Adj Close  1308 non-null   float64\n",
      " 5   Volume     1308 non-null   int64  \n",
      "dtypes: float64(5), int64(1)\n",
      "memory usage: 71.5 KB\n"
     ]
    }
   ],
   "source": [
    "df_mg.info()"
   ]
  },
  {
   "cell_type": "code",
   "execution_count": 82,
   "id": "f11a3cb0-4f32-465f-b6ed-0c5dedf9c4e4",
   "metadata": {},
   "outputs": [
    {
     "data": {
      "text/plain": [
       "DatetimeIndex(['2017-01-02', '2017-01-03', '2017-01-04', '2017-01-05',\n",
       "               '2017-01-06', '2017-01-07', '2017-01-08', '2017-01-09',\n",
       "               '2017-01-10', '2017-01-11',\n",
       "               ...\n",
       "               '2022-03-27', '2022-03-28', '2022-03-29', '2022-03-30',\n",
       "               '2022-03-31', '2022-04-01', '2022-04-02', '2022-04-03',\n",
       "               '2022-04-04', '2022-04-05'],\n",
       "              dtype='datetime64[ns]', length=1920, freq='D')"
      ]
     },
     "execution_count": 82,
     "metadata": {},
     "output_type": "execute_result"
    }
   ],
   "source": [
    "#tabela calendario\n",
    "new_index = pd.date_range(df_mg.index.min(), df_mg.index.max()) #se aprofundem e usem o parametro freq. ex.: freq = \"1MS\"\n",
    "new_index"
   ]
  },
  {
   "cell_type": "code",
   "execution_count": 83,
   "id": "bb5b2315-b41f-4cde-bbc1-01159e07a9c3",
   "metadata": {
    "scrolled": true,
    "tags": []
   },
   "outputs": [
    {
     "data": {
      "text/html": [
       "<div>\n",
       "<style scoped>\n",
       "    .dataframe tbody tr th:only-of-type {\n",
       "        vertical-align: middle;\n",
       "    }\n",
       "\n",
       "    .dataframe tbody tr th {\n",
       "        vertical-align: top;\n",
       "    }\n",
       "\n",
       "    .dataframe thead th {\n",
       "        text-align: right;\n",
       "    }\n",
       "</style>\n",
       "<table border=\"1\" class=\"dataframe\">\n",
       "  <thead>\n",
       "    <tr style=\"text-align: right;\">\n",
       "      <th></th>\n",
       "      <th>Open</th>\n",
       "      <th>High</th>\n",
       "      <th>Low</th>\n",
       "      <th>Close</th>\n",
       "      <th>Adj Close</th>\n",
       "      <th>Volume</th>\n",
       "    </tr>\n",
       "    <tr>\n",
       "      <th>Date</th>\n",
       "      <th></th>\n",
       "      <th></th>\n",
       "      <th></th>\n",
       "      <th></th>\n",
       "      <th></th>\n",
       "      <th></th>\n",
       "    </tr>\n",
       "  </thead>\n",
       "  <tbody>\n",
       "    <tr>\n",
       "      <th>2017-01-02</th>\n",
       "      <td>0.410273</td>\n",
       "      <td>0.411953</td>\n",
       "      <td>0.397304</td>\n",
       "      <td>0.397304</td>\n",
       "      <td>0.379203</td>\n",
       "      <td>16025600</td>\n",
       "    </tr>\n",
       "    <tr>\n",
       "      <th>2017-01-03</th>\n",
       "      <td>0.400351</td>\n",
       "      <td>0.407343</td>\n",
       "      <td>0.390625</td>\n",
       "      <td>0.396093</td>\n",
       "      <td>0.378047</td>\n",
       "      <td>12825600</td>\n",
       "    </tr>\n",
       "    <tr>\n",
       "      <th>2017-01-04</th>\n",
       "      <td>0.394531</td>\n",
       "      <td>0.396289</td>\n",
       "      <td>0.371484</td>\n",
       "      <td>0.375000</td>\n",
       "      <td>0.357915</td>\n",
       "      <td>27468800</td>\n",
       "    </tr>\n",
       "    <tr>\n",
       "      <th>2017-01-05</th>\n",
       "      <td>0.376796</td>\n",
       "      <td>0.387890</td>\n",
       "      <td>0.376757</td>\n",
       "      <td>0.387890</td>\n",
       "      <td>0.370218</td>\n",
       "      <td>27622400</td>\n",
       "    </tr>\n",
       "    <tr>\n",
       "      <th>2017-01-06</th>\n",
       "      <td>0.387890</td>\n",
       "      <td>0.390078</td>\n",
       "      <td>0.382812</td>\n",
       "      <td>0.385390</td>\n",
       "      <td>0.367832</td>\n",
       "      <td>6400000</td>\n",
       "    </tr>\n",
       "    <tr>\n",
       "      <th>...</th>\n",
       "      <td>...</td>\n",
       "      <td>...</td>\n",
       "      <td>...</td>\n",
       "      <td>...</td>\n",
       "      <td>...</td>\n",
       "      <td>...</td>\n",
       "    </tr>\n",
       "    <tr>\n",
       "      <th>2022-03-30</th>\n",
       "      <td>7.010000</td>\n",
       "      <td>7.130000</td>\n",
       "      <td>6.730000</td>\n",
       "      <td>6.870000</td>\n",
       "      <td>6.870000</td>\n",
       "      <td>118907800</td>\n",
       "    </tr>\n",
       "    <tr>\n",
       "      <th>2022-03-31</th>\n",
       "      <td>6.930000</td>\n",
       "      <td>6.990000</td>\n",
       "      <td>6.760000</td>\n",
       "      <td>6.820000</td>\n",
       "      <td>6.820000</td>\n",
       "      <td>100197800</td>\n",
       "    </tr>\n",
       "    <tr>\n",
       "      <th>2022-04-01</th>\n",
       "      <td>6.920000</td>\n",
       "      <td>7.380000</td>\n",
       "      <td>6.880000</td>\n",
       "      <td>7.350000</td>\n",
       "      <td>7.350000</td>\n",
       "      <td>141943100</td>\n",
       "    </tr>\n",
       "    <tr>\n",
       "      <th>2022-04-04</th>\n",
       "      <td>7.350000</td>\n",
       "      <td>7.360000</td>\n",
       "      <td>7.030000</td>\n",
       "      <td>7.190000</td>\n",
       "      <td>7.190000</td>\n",
       "      <td>99313700</td>\n",
       "    </tr>\n",
       "    <tr>\n",
       "      <th>2022-04-05</th>\n",
       "      <td>7.170000</td>\n",
       "      <td>7.380000</td>\n",
       "      <td>6.860000</td>\n",
       "      <td>6.910000</td>\n",
       "      <td>6.910000</td>\n",
       "      <td>108922700</td>\n",
       "    </tr>\n",
       "  </tbody>\n",
       "</table>\n",
       "<p>1308 rows × 6 columns</p>\n",
       "</div>"
      ],
      "text/plain": [
       "                Open      High       Low     Close  Adj Close     Volume\n",
       "Date                                                                    \n",
       "2017-01-02  0.410273  0.411953  0.397304  0.397304   0.379203   16025600\n",
       "2017-01-03  0.400351  0.407343  0.390625  0.396093   0.378047   12825600\n",
       "2017-01-04  0.394531  0.396289  0.371484  0.375000   0.357915   27468800\n",
       "2017-01-05  0.376796  0.387890  0.376757  0.387890   0.370218   27622400\n",
       "2017-01-06  0.387890  0.390078  0.382812  0.385390   0.367832    6400000\n",
       "...              ...       ...       ...       ...        ...        ...\n",
       "2022-03-30  7.010000  7.130000  6.730000  6.870000   6.870000  118907800\n",
       "2022-03-31  6.930000  6.990000  6.760000  6.820000   6.820000  100197800\n",
       "2022-04-01  6.920000  7.380000  6.880000  7.350000   7.350000  141943100\n",
       "2022-04-04  7.350000  7.360000  7.030000  7.190000   7.190000   99313700\n",
       "2022-04-05  7.170000  7.380000  6.860000  6.910000   6.910000  108922700\n",
       "\n",
       "[1308 rows x 6 columns]"
      ]
     },
     "execution_count": 83,
     "metadata": {},
     "output_type": "execute_result"
    }
   ],
   "source": [
    "df_mg"
   ]
  },
  {
   "cell_type": "code",
   "execution_count": 84,
   "id": "37041af5-9eb4-4b7e-bc12-d7071a06af99",
   "metadata": {},
   "outputs": [],
   "source": [
    "#reindex\n",
    "df_mg_filled = df_mg.reindex(new_index)"
   ]
  },
  {
   "cell_type": "code",
   "execution_count": 85,
   "id": "32068ba2-6b68-471c-9e12-6726c6804793",
   "metadata": {},
   "outputs": [
    {
     "data": {
      "text/html": [
       "<div>\n",
       "<style scoped>\n",
       "    .dataframe tbody tr th:only-of-type {\n",
       "        vertical-align: middle;\n",
       "    }\n",
       "\n",
       "    .dataframe tbody tr th {\n",
       "        vertical-align: top;\n",
       "    }\n",
       "\n",
       "    .dataframe thead th {\n",
       "        text-align: right;\n",
       "    }\n",
       "</style>\n",
       "<table border=\"1\" class=\"dataframe\">\n",
       "  <thead>\n",
       "    <tr style=\"text-align: right;\">\n",
       "      <th></th>\n",
       "      <th>Open</th>\n",
       "      <th>High</th>\n",
       "      <th>Low</th>\n",
       "      <th>Close</th>\n",
       "      <th>Adj Close</th>\n",
       "      <th>Volume</th>\n",
       "    </tr>\n",
       "  </thead>\n",
       "  <tbody>\n",
       "    <tr>\n",
       "      <th>2017-01-02</th>\n",
       "      <td>0.410273</td>\n",
       "      <td>0.411953</td>\n",
       "      <td>0.397304</td>\n",
       "      <td>0.397304</td>\n",
       "      <td>0.379203</td>\n",
       "      <td>16025600.0</td>\n",
       "    </tr>\n",
       "    <tr>\n",
       "      <th>2017-01-03</th>\n",
       "      <td>0.400351</td>\n",
       "      <td>0.407343</td>\n",
       "      <td>0.390625</td>\n",
       "      <td>0.396093</td>\n",
       "      <td>0.378047</td>\n",
       "      <td>12825600.0</td>\n",
       "    </tr>\n",
       "    <tr>\n",
       "      <th>2017-01-04</th>\n",
       "      <td>0.394531</td>\n",
       "      <td>0.396289</td>\n",
       "      <td>0.371484</td>\n",
       "      <td>0.375000</td>\n",
       "      <td>0.357915</td>\n",
       "      <td>27468800.0</td>\n",
       "    </tr>\n",
       "    <tr>\n",
       "      <th>2017-01-05</th>\n",
       "      <td>0.376796</td>\n",
       "      <td>0.387890</td>\n",
       "      <td>0.376757</td>\n",
       "      <td>0.387890</td>\n",
       "      <td>0.370218</td>\n",
       "      <td>27622400.0</td>\n",
       "    </tr>\n",
       "    <tr>\n",
       "      <th>2017-01-06</th>\n",
       "      <td>0.387890</td>\n",
       "      <td>0.390078</td>\n",
       "      <td>0.382812</td>\n",
       "      <td>0.385390</td>\n",
       "      <td>0.367832</td>\n",
       "      <td>6400000.0</td>\n",
       "    </tr>\n",
       "    <tr>\n",
       "      <th>...</th>\n",
       "      <td>...</td>\n",
       "      <td>...</td>\n",
       "      <td>...</td>\n",
       "      <td>...</td>\n",
       "      <td>...</td>\n",
       "      <td>...</td>\n",
       "    </tr>\n",
       "    <tr>\n",
       "      <th>2022-04-01</th>\n",
       "      <td>6.920000</td>\n",
       "      <td>7.380000</td>\n",
       "      <td>6.880000</td>\n",
       "      <td>7.350000</td>\n",
       "      <td>7.350000</td>\n",
       "      <td>141943100.0</td>\n",
       "    </tr>\n",
       "    <tr>\n",
       "      <th>2022-04-02</th>\n",
       "      <td>NaN</td>\n",
       "      <td>NaN</td>\n",
       "      <td>NaN</td>\n",
       "      <td>NaN</td>\n",
       "      <td>NaN</td>\n",
       "      <td>NaN</td>\n",
       "    </tr>\n",
       "    <tr>\n",
       "      <th>2022-04-03</th>\n",
       "      <td>NaN</td>\n",
       "      <td>NaN</td>\n",
       "      <td>NaN</td>\n",
       "      <td>NaN</td>\n",
       "      <td>NaN</td>\n",
       "      <td>NaN</td>\n",
       "    </tr>\n",
       "    <tr>\n",
       "      <th>2022-04-04</th>\n",
       "      <td>7.350000</td>\n",
       "      <td>7.360000</td>\n",
       "      <td>7.030000</td>\n",
       "      <td>7.190000</td>\n",
       "      <td>7.190000</td>\n",
       "      <td>99313700.0</td>\n",
       "    </tr>\n",
       "    <tr>\n",
       "      <th>2022-04-05</th>\n",
       "      <td>7.170000</td>\n",
       "      <td>7.380000</td>\n",
       "      <td>6.860000</td>\n",
       "      <td>6.910000</td>\n",
       "      <td>6.910000</td>\n",
       "      <td>108922700.0</td>\n",
       "    </tr>\n",
       "  </tbody>\n",
       "</table>\n",
       "<p>1920 rows × 6 columns</p>\n",
       "</div>"
      ],
      "text/plain": [
       "                Open      High       Low     Close  Adj Close       Volume\n",
       "2017-01-02  0.410273  0.411953  0.397304  0.397304   0.379203   16025600.0\n",
       "2017-01-03  0.400351  0.407343  0.390625  0.396093   0.378047   12825600.0\n",
       "2017-01-04  0.394531  0.396289  0.371484  0.375000   0.357915   27468800.0\n",
       "2017-01-05  0.376796  0.387890  0.376757  0.387890   0.370218   27622400.0\n",
       "2017-01-06  0.387890  0.390078  0.382812  0.385390   0.367832    6400000.0\n",
       "...              ...       ...       ...       ...        ...          ...\n",
       "2022-04-01  6.920000  7.380000  6.880000  7.350000   7.350000  141943100.0\n",
       "2022-04-02       NaN       NaN       NaN       NaN        NaN          NaN\n",
       "2022-04-03       NaN       NaN       NaN       NaN        NaN          NaN\n",
       "2022-04-04  7.350000  7.360000  7.030000  7.190000   7.190000   99313700.0\n",
       "2022-04-05  7.170000  7.380000  6.860000  6.910000   6.910000  108922700.0\n",
       "\n",
       "[1920 rows x 6 columns]"
      ]
     },
     "execution_count": 85,
     "metadata": {},
     "output_type": "execute_result"
    }
   ],
   "source": [
    "df_mg_filled"
   ]
  },
  {
   "cell_type": "code",
   "execution_count": 86,
   "id": "fd0fee6a-0eb4-4eb3-aeb0-2ea8700b4927",
   "metadata": {},
   "outputs": [
    {
     "name": "stdout",
     "output_type": "stream",
     "text": [
      "<class 'pandas.core.frame.DataFrame'>\n",
      "DatetimeIndex: 1920 entries, 2017-01-02 to 2022-04-05\n",
      "Freq: D\n",
      "Data columns (total 6 columns):\n",
      " #   Column     Non-Null Count  Dtype  \n",
      "---  ------     --------------  -----  \n",
      " 0   Open       1308 non-null   float64\n",
      " 1   High       1308 non-null   float64\n",
      " 2   Low        1308 non-null   float64\n",
      " 3   Close      1308 non-null   float64\n",
      " 4   Adj Close  1308 non-null   float64\n",
      " 5   Volume     1308 non-null   float64\n",
      "dtypes: float64(6)\n",
      "memory usage: 105.0 KB\n"
     ]
    }
   ],
   "source": [
    "df_mg_filled.info()"
   ]
  },
  {
   "cell_type": "markdown",
   "id": "2a89d916-49d9-4678-b98b-44ca06e9cb69",
   "metadata": {},
   "source": [
    "### Foward, Backward"
   ]
  },
  {
   "cell_type": "code",
   "execution_count": 101,
   "id": "ae15a860-6c94-41d8-b1fe-f9fa4debc463",
   "metadata": {},
   "outputs": [
    {
     "data": {
      "text/plain": [
       "Index(['Open', 'High', 'Low', 'Close', 'Adj Close', 'Volume'], dtype='object')"
      ]
     },
     "execution_count": 101,
     "metadata": {},
     "output_type": "execute_result"
    }
   ],
   "source": [
    "df_mg.columns"
   ]
  },
  {
   "cell_type": "code",
   "execution_count": 88,
   "id": "b36cb4c5-5d49-4a1e-970a-99e11eb17015",
   "metadata": {},
   "outputs": [
    {
     "data": {
      "text/plain": [
       "Index(['Open', 'High', 'Low', 'Close', 'Adj Close'], dtype='object')"
      ]
     },
     "execution_count": 88,
     "metadata": {},
     "output_type": "execute_result"
    }
   ],
   "source": [
    "nm_colunas = df_mg.columns.drop(\"Volume\")\n",
    "nm_colunas"
   ]
  },
  {
   "cell_type": "code",
   "execution_count": 93,
   "id": "1b6bd4d4-1e48-484c-b64c-047dac065d4a",
   "metadata": {},
   "outputs": [
    {
     "data": {
      "text/html": [
       "<div>\n",
       "<style scoped>\n",
       "    .dataframe tbody tr th:only-of-type {\n",
       "        vertical-align: middle;\n",
       "    }\n",
       "\n",
       "    .dataframe tbody tr th {\n",
       "        vertical-align: top;\n",
       "    }\n",
       "\n",
       "    .dataframe thead th {\n",
       "        text-align: right;\n",
       "    }\n",
       "</style>\n",
       "<table border=\"1\" class=\"dataframe\">\n",
       "  <thead>\n",
       "    <tr style=\"text-align: right;\">\n",
       "      <th></th>\n",
       "      <th>Open</th>\n",
       "      <th>High</th>\n",
       "      <th>Low</th>\n",
       "      <th>Close</th>\n",
       "      <th>Adj Close</th>\n",
       "      <th>Volume</th>\n",
       "    </tr>\n",
       "  </thead>\n",
       "  <tbody>\n",
       "    <tr>\n",
       "      <th>2017-01-02</th>\n",
       "      <td>0.410273</td>\n",
       "      <td>0.411953</td>\n",
       "      <td>0.397304</td>\n",
       "      <td>0.397304</td>\n",
       "      <td>0.379203</td>\n",
       "      <td>16025600.0</td>\n",
       "    </tr>\n",
       "    <tr>\n",
       "      <th>2017-01-03</th>\n",
       "      <td>0.400351</td>\n",
       "      <td>0.407343</td>\n",
       "      <td>0.390625</td>\n",
       "      <td>0.396093</td>\n",
       "      <td>0.378047</td>\n",
       "      <td>12825600.0</td>\n",
       "    </tr>\n",
       "    <tr>\n",
       "      <th>2017-01-04</th>\n",
       "      <td>0.394531</td>\n",
       "      <td>0.396289</td>\n",
       "      <td>0.371484</td>\n",
       "      <td>0.375000</td>\n",
       "      <td>0.357915</td>\n",
       "      <td>27468800.0</td>\n",
       "    </tr>\n",
       "    <tr>\n",
       "      <th>2017-01-05</th>\n",
       "      <td>0.376796</td>\n",
       "      <td>0.387890</td>\n",
       "      <td>0.376757</td>\n",
       "      <td>0.387890</td>\n",
       "      <td>0.370218</td>\n",
       "      <td>27622400.0</td>\n",
       "    </tr>\n",
       "    <tr>\n",
       "      <th>2017-01-06</th>\n",
       "      <td>0.387890</td>\n",
       "      <td>0.390078</td>\n",
       "      <td>0.382812</td>\n",
       "      <td>0.385390</td>\n",
       "      <td>0.367832</td>\n",
       "      <td>6400000.0</td>\n",
       "    </tr>\n",
       "    <tr>\n",
       "      <th>2017-01-07</th>\n",
       "      <td>NaN</td>\n",
       "      <td>NaN</td>\n",
       "      <td>NaN</td>\n",
       "      <td>NaN</td>\n",
       "      <td>NaN</td>\n",
       "      <td>NaN</td>\n",
       "    </tr>\n",
       "    <tr>\n",
       "      <th>2017-01-08</th>\n",
       "      <td>NaN</td>\n",
       "      <td>NaN</td>\n",
       "      <td>NaN</td>\n",
       "      <td>NaN</td>\n",
       "      <td>NaN</td>\n",
       "      <td>NaN</td>\n",
       "    </tr>\n",
       "    <tr>\n",
       "      <th>2017-01-09</th>\n",
       "      <td>0.385429</td>\n",
       "      <td>0.386718</td>\n",
       "      <td>0.367851</td>\n",
       "      <td>0.367851</td>\n",
       "      <td>0.351092</td>\n",
       "      <td>29849600.0</td>\n",
       "    </tr>\n",
       "    <tr>\n",
       "      <th>2017-01-10</th>\n",
       "      <td>0.369531</td>\n",
       "      <td>0.382812</td>\n",
       "      <td>0.369179</td>\n",
       "      <td>0.376601</td>\n",
       "      <td>0.359443</td>\n",
       "      <td>19968000.0</td>\n",
       "    </tr>\n",
       "    <tr>\n",
       "      <th>2017-01-11</th>\n",
       "      <td>0.374882</td>\n",
       "      <td>0.383984</td>\n",
       "      <td>0.374882</td>\n",
       "      <td>0.380859</td>\n",
       "      <td>0.363507</td>\n",
       "      <td>28748800.0</td>\n",
       "    </tr>\n",
       "    <tr>\n",
       "      <th>2017-01-12</th>\n",
       "      <td>0.385937</td>\n",
       "      <td>0.408164</td>\n",
       "      <td>0.385039</td>\n",
       "      <td>0.406250</td>\n",
       "      <td>0.387742</td>\n",
       "      <td>41216000.0</td>\n",
       "    </tr>\n",
       "    <tr>\n",
       "      <th>2017-01-13</th>\n",
       "      <td>0.406210</td>\n",
       "      <td>0.417500</td>\n",
       "      <td>0.403125</td>\n",
       "      <td>0.414062</td>\n",
       "      <td>0.395198</td>\n",
       "      <td>23168000.0</td>\n",
       "    </tr>\n",
       "    <tr>\n",
       "      <th>2017-01-14</th>\n",
       "      <td>NaN</td>\n",
       "      <td>NaN</td>\n",
       "      <td>NaN</td>\n",
       "      <td>NaN</td>\n",
       "      <td>NaN</td>\n",
       "      <td>NaN</td>\n",
       "    </tr>\n",
       "    <tr>\n",
       "      <th>2017-01-15</th>\n",
       "      <td>NaN</td>\n",
       "      <td>NaN</td>\n",
       "      <td>NaN</td>\n",
       "      <td>NaN</td>\n",
       "      <td>NaN</td>\n",
       "      <td>NaN</td>\n",
       "    </tr>\n",
       "    <tr>\n",
       "      <th>2017-01-16</th>\n",
       "      <td>0.412617</td>\n",
       "      <td>0.412617</td>\n",
       "      <td>0.403398</td>\n",
       "      <td>0.405898</td>\n",
       "      <td>0.387406</td>\n",
       "      <td>19046400.0</td>\n",
       "    </tr>\n",
       "    <tr>\n",
       "      <th>2017-01-17</th>\n",
       "      <td>0.406250</td>\n",
       "      <td>0.415078</td>\n",
       "      <td>0.403320</td>\n",
       "      <td>0.414062</td>\n",
       "      <td>0.395198</td>\n",
       "      <td>19046400.0</td>\n",
       "    </tr>\n",
       "    <tr>\n",
       "      <th>2017-01-18</th>\n",
       "      <td>0.414062</td>\n",
       "      <td>0.417929</td>\n",
       "      <td>0.413476</td>\n",
       "      <td>0.416210</td>\n",
       "      <td>0.397248</td>\n",
       "      <td>10419200.0</td>\n",
       "    </tr>\n",
       "    <tr>\n",
       "      <th>2017-01-19</th>\n",
       "      <td>0.416210</td>\n",
       "      <td>0.420312</td>\n",
       "      <td>0.412734</td>\n",
       "      <td>0.419531</td>\n",
       "      <td>0.400417</td>\n",
       "      <td>15360000.0</td>\n",
       "    </tr>\n",
       "    <tr>\n",
       "      <th>2017-01-20</th>\n",
       "      <td>0.415468</td>\n",
       "      <td>0.468750</td>\n",
       "      <td>0.415468</td>\n",
       "      <td>0.468359</td>\n",
       "      <td>0.447021</td>\n",
       "      <td>74803200.0</td>\n",
       "    </tr>\n",
       "    <tr>\n",
       "      <th>2017-01-21</th>\n",
       "      <td>NaN</td>\n",
       "      <td>NaN</td>\n",
       "      <td>NaN</td>\n",
       "      <td>NaN</td>\n",
       "      <td>NaN</td>\n",
       "      <td>NaN</td>\n",
       "    </tr>\n",
       "  </tbody>\n",
       "</table>\n",
       "</div>"
      ],
      "text/plain": [
       "                Open      High       Low     Close  Adj Close      Volume\n",
       "2017-01-02  0.410273  0.411953  0.397304  0.397304   0.379203  16025600.0\n",
       "2017-01-03  0.400351  0.407343  0.390625  0.396093   0.378047  12825600.0\n",
       "2017-01-04  0.394531  0.396289  0.371484  0.375000   0.357915  27468800.0\n",
       "2017-01-05  0.376796  0.387890  0.376757  0.387890   0.370218  27622400.0\n",
       "2017-01-06  0.387890  0.390078  0.382812  0.385390   0.367832   6400000.0\n",
       "2017-01-07       NaN       NaN       NaN       NaN        NaN         NaN\n",
       "2017-01-08       NaN       NaN       NaN       NaN        NaN         NaN\n",
       "2017-01-09  0.385429  0.386718  0.367851  0.367851   0.351092  29849600.0\n",
       "2017-01-10  0.369531  0.382812  0.369179  0.376601   0.359443  19968000.0\n",
       "2017-01-11  0.374882  0.383984  0.374882  0.380859   0.363507  28748800.0\n",
       "2017-01-12  0.385937  0.408164  0.385039  0.406250   0.387742  41216000.0\n",
       "2017-01-13  0.406210  0.417500  0.403125  0.414062   0.395198  23168000.0\n",
       "2017-01-14       NaN       NaN       NaN       NaN        NaN         NaN\n",
       "2017-01-15       NaN       NaN       NaN       NaN        NaN         NaN\n",
       "2017-01-16  0.412617  0.412617  0.403398  0.405898   0.387406  19046400.0\n",
       "2017-01-17  0.406250  0.415078  0.403320  0.414062   0.395198  19046400.0\n",
       "2017-01-18  0.414062  0.417929  0.413476  0.416210   0.397248  10419200.0\n",
       "2017-01-19  0.416210  0.420312  0.412734  0.419531   0.400417  15360000.0\n",
       "2017-01-20  0.415468  0.468750  0.415468  0.468359   0.447021  74803200.0\n",
       "2017-01-21       NaN       NaN       NaN       NaN        NaN         NaN"
      ]
     },
     "execution_count": 93,
     "metadata": {},
     "output_type": "execute_result"
    }
   ],
   "source": [
    "df_mg_filled.head(20)"
   ]
  },
  {
   "cell_type": "code",
   "execution_count": 94,
   "id": "961afc8d-70bc-48d0-bd93-d10387681164",
   "metadata": {},
   "outputs": [
    {
     "data": {
      "text/html": [
       "<div>\n",
       "<style scoped>\n",
       "    .dataframe tbody tr th:only-of-type {\n",
       "        vertical-align: middle;\n",
       "    }\n",
       "\n",
       "    .dataframe tbody tr th {\n",
       "        vertical-align: top;\n",
       "    }\n",
       "\n",
       "    .dataframe thead th {\n",
       "        text-align: right;\n",
       "    }\n",
       "</style>\n",
       "<table border=\"1\" class=\"dataframe\">\n",
       "  <thead>\n",
       "    <tr style=\"text-align: right;\">\n",
       "      <th></th>\n",
       "      <th>Open</th>\n",
       "      <th>High</th>\n",
       "      <th>Low</th>\n",
       "      <th>Close</th>\n",
       "      <th>Adj Close</th>\n",
       "    </tr>\n",
       "  </thead>\n",
       "  <tbody>\n",
       "    <tr>\n",
       "      <th>2017-01-02</th>\n",
       "      <td>0.410273</td>\n",
       "      <td>0.411953</td>\n",
       "      <td>0.397304</td>\n",
       "      <td>0.397304</td>\n",
       "      <td>0.379203</td>\n",
       "    </tr>\n",
       "    <tr>\n",
       "      <th>2017-01-03</th>\n",
       "      <td>0.400351</td>\n",
       "      <td>0.407343</td>\n",
       "      <td>0.390625</td>\n",
       "      <td>0.396093</td>\n",
       "      <td>0.378047</td>\n",
       "    </tr>\n",
       "    <tr>\n",
       "      <th>2017-01-04</th>\n",
       "      <td>0.394531</td>\n",
       "      <td>0.396289</td>\n",
       "      <td>0.371484</td>\n",
       "      <td>0.375000</td>\n",
       "      <td>0.357915</td>\n",
       "    </tr>\n",
       "    <tr>\n",
       "      <th>2017-01-05</th>\n",
       "      <td>0.376796</td>\n",
       "      <td>0.387890</td>\n",
       "      <td>0.376757</td>\n",
       "      <td>0.387890</td>\n",
       "      <td>0.370218</td>\n",
       "    </tr>\n",
       "    <tr>\n",
       "      <th>2017-01-06</th>\n",
       "      <td>0.387890</td>\n",
       "      <td>0.390078</td>\n",
       "      <td>0.382812</td>\n",
       "      <td>0.385390</td>\n",
       "      <td>0.367832</td>\n",
       "    </tr>\n",
       "    <tr>\n",
       "      <th>2017-01-07</th>\n",
       "      <td>0.387890</td>\n",
       "      <td>0.390078</td>\n",
       "      <td>0.382812</td>\n",
       "      <td>0.385390</td>\n",
       "      <td>0.367832</td>\n",
       "    </tr>\n",
       "    <tr>\n",
       "      <th>2017-01-08</th>\n",
       "      <td>0.387890</td>\n",
       "      <td>0.390078</td>\n",
       "      <td>0.382812</td>\n",
       "      <td>0.385390</td>\n",
       "      <td>0.367832</td>\n",
       "    </tr>\n",
       "    <tr>\n",
       "      <th>2017-01-09</th>\n",
       "      <td>0.385429</td>\n",
       "      <td>0.386718</td>\n",
       "      <td>0.367851</td>\n",
       "      <td>0.367851</td>\n",
       "      <td>0.351092</td>\n",
       "    </tr>\n",
       "    <tr>\n",
       "      <th>2017-01-10</th>\n",
       "      <td>0.369531</td>\n",
       "      <td>0.382812</td>\n",
       "      <td>0.369179</td>\n",
       "      <td>0.376601</td>\n",
       "      <td>0.359443</td>\n",
       "    </tr>\n",
       "    <tr>\n",
       "      <th>2017-01-11</th>\n",
       "      <td>0.374882</td>\n",
       "      <td>0.383984</td>\n",
       "      <td>0.374882</td>\n",
       "      <td>0.380859</td>\n",
       "      <td>0.363507</td>\n",
       "    </tr>\n",
       "    <tr>\n",
       "      <th>2017-01-12</th>\n",
       "      <td>0.385937</td>\n",
       "      <td>0.408164</td>\n",
       "      <td>0.385039</td>\n",
       "      <td>0.406250</td>\n",
       "      <td>0.387742</td>\n",
       "    </tr>\n",
       "    <tr>\n",
       "      <th>2017-01-13</th>\n",
       "      <td>0.406210</td>\n",
       "      <td>0.417500</td>\n",
       "      <td>0.403125</td>\n",
       "      <td>0.414062</td>\n",
       "      <td>0.395198</td>\n",
       "    </tr>\n",
       "    <tr>\n",
       "      <th>2017-01-14</th>\n",
       "      <td>0.406210</td>\n",
       "      <td>0.417500</td>\n",
       "      <td>0.403125</td>\n",
       "      <td>0.414062</td>\n",
       "      <td>0.395198</td>\n",
       "    </tr>\n",
       "    <tr>\n",
       "      <th>2017-01-15</th>\n",
       "      <td>0.406210</td>\n",
       "      <td>0.417500</td>\n",
       "      <td>0.403125</td>\n",
       "      <td>0.414062</td>\n",
       "      <td>0.395198</td>\n",
       "    </tr>\n",
       "    <tr>\n",
       "      <th>2017-01-16</th>\n",
       "      <td>0.412617</td>\n",
       "      <td>0.412617</td>\n",
       "      <td>0.403398</td>\n",
       "      <td>0.405898</td>\n",
       "      <td>0.387406</td>\n",
       "    </tr>\n",
       "    <tr>\n",
       "      <th>2017-01-17</th>\n",
       "      <td>0.406250</td>\n",
       "      <td>0.415078</td>\n",
       "      <td>0.403320</td>\n",
       "      <td>0.414062</td>\n",
       "      <td>0.395198</td>\n",
       "    </tr>\n",
       "    <tr>\n",
       "      <th>2017-01-18</th>\n",
       "      <td>0.414062</td>\n",
       "      <td>0.417929</td>\n",
       "      <td>0.413476</td>\n",
       "      <td>0.416210</td>\n",
       "      <td>0.397248</td>\n",
       "    </tr>\n",
       "    <tr>\n",
       "      <th>2017-01-19</th>\n",
       "      <td>0.416210</td>\n",
       "      <td>0.420312</td>\n",
       "      <td>0.412734</td>\n",
       "      <td>0.419531</td>\n",
       "      <td>0.400417</td>\n",
       "    </tr>\n",
       "    <tr>\n",
       "      <th>2017-01-20</th>\n",
       "      <td>0.415468</td>\n",
       "      <td>0.468750</td>\n",
       "      <td>0.415468</td>\n",
       "      <td>0.468359</td>\n",
       "      <td>0.447021</td>\n",
       "    </tr>\n",
       "    <tr>\n",
       "      <th>2017-01-21</th>\n",
       "      <td>0.415468</td>\n",
       "      <td>0.468750</td>\n",
       "      <td>0.415468</td>\n",
       "      <td>0.468359</td>\n",
       "      <td>0.447021</td>\n",
       "    </tr>\n",
       "  </tbody>\n",
       "</table>\n",
       "</div>"
      ],
      "text/plain": [
       "                Open      High       Low     Close  Adj Close\n",
       "2017-01-02  0.410273  0.411953  0.397304  0.397304   0.379203\n",
       "2017-01-03  0.400351  0.407343  0.390625  0.396093   0.378047\n",
       "2017-01-04  0.394531  0.396289  0.371484  0.375000   0.357915\n",
       "2017-01-05  0.376796  0.387890  0.376757  0.387890   0.370218\n",
       "2017-01-06  0.387890  0.390078  0.382812  0.385390   0.367832\n",
       "2017-01-07  0.387890  0.390078  0.382812  0.385390   0.367832\n",
       "2017-01-08  0.387890  0.390078  0.382812  0.385390   0.367832\n",
       "2017-01-09  0.385429  0.386718  0.367851  0.367851   0.351092\n",
       "2017-01-10  0.369531  0.382812  0.369179  0.376601   0.359443\n",
       "2017-01-11  0.374882  0.383984  0.374882  0.380859   0.363507\n",
       "2017-01-12  0.385937  0.408164  0.385039  0.406250   0.387742\n",
       "2017-01-13  0.406210  0.417500  0.403125  0.414062   0.395198\n",
       "2017-01-14  0.406210  0.417500  0.403125  0.414062   0.395198\n",
       "2017-01-15  0.406210  0.417500  0.403125  0.414062   0.395198\n",
       "2017-01-16  0.412617  0.412617  0.403398  0.405898   0.387406\n",
       "2017-01-17  0.406250  0.415078  0.403320  0.414062   0.395198\n",
       "2017-01-18  0.414062  0.417929  0.413476  0.416210   0.397248\n",
       "2017-01-19  0.416210  0.420312  0.412734  0.419531   0.400417\n",
       "2017-01-20  0.415468  0.468750  0.415468  0.468359   0.447021\n",
       "2017-01-21  0.415468  0.468750  0.415468  0.468359   0.447021"
      ]
     },
     "execution_count": 94,
     "metadata": {},
     "output_type": "execute_result"
    }
   ],
   "source": [
    "df_mg_filled.head(20)[nm_colunas].ffill()"
   ]
  },
  {
   "cell_type": "code",
   "execution_count": 95,
   "id": "b7024f3f-6270-4f84-9807-aad07483930d",
   "metadata": {},
   "outputs": [
    {
     "data": {
      "text/html": [
       "<div>\n",
       "<style scoped>\n",
       "    .dataframe tbody tr th:only-of-type {\n",
       "        vertical-align: middle;\n",
       "    }\n",
       "\n",
       "    .dataframe tbody tr th {\n",
       "        vertical-align: top;\n",
       "    }\n",
       "\n",
       "    .dataframe thead th {\n",
       "        text-align: right;\n",
       "    }\n",
       "</style>\n",
       "<table border=\"1\" class=\"dataframe\">\n",
       "  <thead>\n",
       "    <tr style=\"text-align: right;\">\n",
       "      <th></th>\n",
       "      <th>Open</th>\n",
       "      <th>High</th>\n",
       "      <th>Low</th>\n",
       "      <th>Close</th>\n",
       "      <th>Adj Close</th>\n",
       "    </tr>\n",
       "  </thead>\n",
       "  <tbody>\n",
       "    <tr>\n",
       "      <th>2017-01-02</th>\n",
       "      <td>0.410273</td>\n",
       "      <td>0.411953</td>\n",
       "      <td>0.397304</td>\n",
       "      <td>0.397304</td>\n",
       "      <td>0.379203</td>\n",
       "    </tr>\n",
       "    <tr>\n",
       "      <th>2017-01-03</th>\n",
       "      <td>0.400351</td>\n",
       "      <td>0.407343</td>\n",
       "      <td>0.390625</td>\n",
       "      <td>0.396093</td>\n",
       "      <td>0.378047</td>\n",
       "    </tr>\n",
       "    <tr>\n",
       "      <th>2017-01-04</th>\n",
       "      <td>0.394531</td>\n",
       "      <td>0.396289</td>\n",
       "      <td>0.371484</td>\n",
       "      <td>0.375000</td>\n",
       "      <td>0.357915</td>\n",
       "    </tr>\n",
       "    <tr>\n",
       "      <th>2017-01-05</th>\n",
       "      <td>0.376796</td>\n",
       "      <td>0.387890</td>\n",
       "      <td>0.376757</td>\n",
       "      <td>0.387890</td>\n",
       "      <td>0.370218</td>\n",
       "    </tr>\n",
       "    <tr>\n",
       "      <th>2017-01-06</th>\n",
       "      <td>0.387890</td>\n",
       "      <td>0.390078</td>\n",
       "      <td>0.382812</td>\n",
       "      <td>0.385390</td>\n",
       "      <td>0.367832</td>\n",
       "    </tr>\n",
       "    <tr>\n",
       "      <th>2017-01-07</th>\n",
       "      <td>0.385429</td>\n",
       "      <td>0.386718</td>\n",
       "      <td>0.367851</td>\n",
       "      <td>0.367851</td>\n",
       "      <td>0.351092</td>\n",
       "    </tr>\n",
       "    <tr>\n",
       "      <th>2017-01-08</th>\n",
       "      <td>0.385429</td>\n",
       "      <td>0.386718</td>\n",
       "      <td>0.367851</td>\n",
       "      <td>0.367851</td>\n",
       "      <td>0.351092</td>\n",
       "    </tr>\n",
       "    <tr>\n",
       "      <th>2017-01-09</th>\n",
       "      <td>0.385429</td>\n",
       "      <td>0.386718</td>\n",
       "      <td>0.367851</td>\n",
       "      <td>0.367851</td>\n",
       "      <td>0.351092</td>\n",
       "    </tr>\n",
       "    <tr>\n",
       "      <th>2017-01-10</th>\n",
       "      <td>0.369531</td>\n",
       "      <td>0.382812</td>\n",
       "      <td>0.369179</td>\n",
       "      <td>0.376601</td>\n",
       "      <td>0.359443</td>\n",
       "    </tr>\n",
       "    <tr>\n",
       "      <th>2017-01-11</th>\n",
       "      <td>0.374882</td>\n",
       "      <td>0.383984</td>\n",
       "      <td>0.374882</td>\n",
       "      <td>0.380859</td>\n",
       "      <td>0.363507</td>\n",
       "    </tr>\n",
       "    <tr>\n",
       "      <th>2017-01-12</th>\n",
       "      <td>0.385937</td>\n",
       "      <td>0.408164</td>\n",
       "      <td>0.385039</td>\n",
       "      <td>0.406250</td>\n",
       "      <td>0.387742</td>\n",
       "    </tr>\n",
       "    <tr>\n",
       "      <th>2017-01-13</th>\n",
       "      <td>0.406210</td>\n",
       "      <td>0.417500</td>\n",
       "      <td>0.403125</td>\n",
       "      <td>0.414062</td>\n",
       "      <td>0.395198</td>\n",
       "    </tr>\n",
       "    <tr>\n",
       "      <th>2017-01-14</th>\n",
       "      <td>0.412617</td>\n",
       "      <td>0.412617</td>\n",
       "      <td>0.403398</td>\n",
       "      <td>0.405898</td>\n",
       "      <td>0.387406</td>\n",
       "    </tr>\n",
       "    <tr>\n",
       "      <th>2017-01-15</th>\n",
       "      <td>0.412617</td>\n",
       "      <td>0.412617</td>\n",
       "      <td>0.403398</td>\n",
       "      <td>0.405898</td>\n",
       "      <td>0.387406</td>\n",
       "    </tr>\n",
       "    <tr>\n",
       "      <th>2017-01-16</th>\n",
       "      <td>0.412617</td>\n",
       "      <td>0.412617</td>\n",
       "      <td>0.403398</td>\n",
       "      <td>0.405898</td>\n",
       "      <td>0.387406</td>\n",
       "    </tr>\n",
       "    <tr>\n",
       "      <th>2017-01-17</th>\n",
       "      <td>0.406250</td>\n",
       "      <td>0.415078</td>\n",
       "      <td>0.403320</td>\n",
       "      <td>0.414062</td>\n",
       "      <td>0.395198</td>\n",
       "    </tr>\n",
       "    <tr>\n",
       "      <th>2017-01-18</th>\n",
       "      <td>0.414062</td>\n",
       "      <td>0.417929</td>\n",
       "      <td>0.413476</td>\n",
       "      <td>0.416210</td>\n",
       "      <td>0.397248</td>\n",
       "    </tr>\n",
       "    <tr>\n",
       "      <th>2017-01-19</th>\n",
       "      <td>0.416210</td>\n",
       "      <td>0.420312</td>\n",
       "      <td>0.412734</td>\n",
       "      <td>0.419531</td>\n",
       "      <td>0.400417</td>\n",
       "    </tr>\n",
       "    <tr>\n",
       "      <th>2017-01-20</th>\n",
       "      <td>0.415468</td>\n",
       "      <td>0.468750</td>\n",
       "      <td>0.415468</td>\n",
       "      <td>0.468359</td>\n",
       "      <td>0.447021</td>\n",
       "    </tr>\n",
       "    <tr>\n",
       "      <th>2017-01-21</th>\n",
       "      <td>NaN</td>\n",
       "      <td>NaN</td>\n",
       "      <td>NaN</td>\n",
       "      <td>NaN</td>\n",
       "      <td>NaN</td>\n",
       "    </tr>\n",
       "  </tbody>\n",
       "</table>\n",
       "</div>"
      ],
      "text/plain": [
       "                Open      High       Low     Close  Adj Close\n",
       "2017-01-02  0.410273  0.411953  0.397304  0.397304   0.379203\n",
       "2017-01-03  0.400351  0.407343  0.390625  0.396093   0.378047\n",
       "2017-01-04  0.394531  0.396289  0.371484  0.375000   0.357915\n",
       "2017-01-05  0.376796  0.387890  0.376757  0.387890   0.370218\n",
       "2017-01-06  0.387890  0.390078  0.382812  0.385390   0.367832\n",
       "2017-01-07  0.385429  0.386718  0.367851  0.367851   0.351092\n",
       "2017-01-08  0.385429  0.386718  0.367851  0.367851   0.351092\n",
       "2017-01-09  0.385429  0.386718  0.367851  0.367851   0.351092\n",
       "2017-01-10  0.369531  0.382812  0.369179  0.376601   0.359443\n",
       "2017-01-11  0.374882  0.383984  0.374882  0.380859   0.363507\n",
       "2017-01-12  0.385937  0.408164  0.385039  0.406250   0.387742\n",
       "2017-01-13  0.406210  0.417500  0.403125  0.414062   0.395198\n",
       "2017-01-14  0.412617  0.412617  0.403398  0.405898   0.387406\n",
       "2017-01-15  0.412617  0.412617  0.403398  0.405898   0.387406\n",
       "2017-01-16  0.412617  0.412617  0.403398  0.405898   0.387406\n",
       "2017-01-17  0.406250  0.415078  0.403320  0.414062   0.395198\n",
       "2017-01-18  0.414062  0.417929  0.413476  0.416210   0.397248\n",
       "2017-01-19  0.416210  0.420312  0.412734  0.419531   0.400417\n",
       "2017-01-20  0.415468  0.468750  0.415468  0.468359   0.447021\n",
       "2017-01-21       NaN       NaN       NaN       NaN        NaN"
      ]
     },
     "execution_count": 95,
     "metadata": {},
     "output_type": "execute_result"
    }
   ],
   "source": [
    "df_mg_filled.head(20)[nm_colunas].bfill()"
   ]
  },
  {
   "cell_type": "code",
   "execution_count": 96,
   "id": "632b9140-aef1-4551-bec1-6702adee4672",
   "metadata": {},
   "outputs": [],
   "source": [
    "#fill\n",
    "df_mg_filled[nm_colunas] = df_mg_filled[nm_colunas].ffill()"
   ]
  },
  {
   "cell_type": "code",
   "execution_count": 98,
   "id": "fe290632-ad54-4b60-96b3-c78d5220354b",
   "metadata": {},
   "outputs": [
    {
     "data": {
      "text/html": [
       "<div>\n",
       "<style scoped>\n",
       "    .dataframe tbody tr th:only-of-type {\n",
       "        vertical-align: middle;\n",
       "    }\n",
       "\n",
       "    .dataframe tbody tr th {\n",
       "        vertical-align: top;\n",
       "    }\n",
       "\n",
       "    .dataframe thead th {\n",
       "        text-align: right;\n",
       "    }\n",
       "</style>\n",
       "<table border=\"1\" class=\"dataframe\">\n",
       "  <thead>\n",
       "    <tr style=\"text-align: right;\">\n",
       "      <th></th>\n",
       "      <th>Open</th>\n",
       "      <th>High</th>\n",
       "      <th>Low</th>\n",
       "      <th>Close</th>\n",
       "      <th>Adj Close</th>\n",
       "      <th>Volume</th>\n",
       "    </tr>\n",
       "  </thead>\n",
       "  <tbody>\n",
       "    <tr>\n",
       "      <th>2017-01-02</th>\n",
       "      <td>0.410273</td>\n",
       "      <td>0.411953</td>\n",
       "      <td>0.397304</td>\n",
       "      <td>0.397304</td>\n",
       "      <td>0.379203</td>\n",
       "      <td>16025600.0</td>\n",
       "    </tr>\n",
       "    <tr>\n",
       "      <th>2017-01-03</th>\n",
       "      <td>0.400351</td>\n",
       "      <td>0.407343</td>\n",
       "      <td>0.390625</td>\n",
       "      <td>0.396093</td>\n",
       "      <td>0.378047</td>\n",
       "      <td>12825600.0</td>\n",
       "    </tr>\n",
       "    <tr>\n",
       "      <th>2017-01-04</th>\n",
       "      <td>0.394531</td>\n",
       "      <td>0.396289</td>\n",
       "      <td>0.371484</td>\n",
       "      <td>0.375000</td>\n",
       "      <td>0.357915</td>\n",
       "      <td>27468800.0</td>\n",
       "    </tr>\n",
       "    <tr>\n",
       "      <th>2017-01-05</th>\n",
       "      <td>0.376796</td>\n",
       "      <td>0.387890</td>\n",
       "      <td>0.376757</td>\n",
       "      <td>0.387890</td>\n",
       "      <td>0.370218</td>\n",
       "      <td>27622400.0</td>\n",
       "    </tr>\n",
       "    <tr>\n",
       "      <th>2017-01-06</th>\n",
       "      <td>0.387890</td>\n",
       "      <td>0.390078</td>\n",
       "      <td>0.382812</td>\n",
       "      <td>0.385390</td>\n",
       "      <td>0.367832</td>\n",
       "      <td>6400000.0</td>\n",
       "    </tr>\n",
       "    <tr>\n",
       "      <th>...</th>\n",
       "      <td>...</td>\n",
       "      <td>...</td>\n",
       "      <td>...</td>\n",
       "      <td>...</td>\n",
       "      <td>...</td>\n",
       "      <td>...</td>\n",
       "    </tr>\n",
       "    <tr>\n",
       "      <th>2022-04-01</th>\n",
       "      <td>6.920000</td>\n",
       "      <td>7.380000</td>\n",
       "      <td>6.880000</td>\n",
       "      <td>7.350000</td>\n",
       "      <td>7.350000</td>\n",
       "      <td>141943100.0</td>\n",
       "    </tr>\n",
       "    <tr>\n",
       "      <th>2022-04-02</th>\n",
       "      <td>6.920000</td>\n",
       "      <td>7.380000</td>\n",
       "      <td>6.880000</td>\n",
       "      <td>7.350000</td>\n",
       "      <td>7.350000</td>\n",
       "      <td>NaN</td>\n",
       "    </tr>\n",
       "    <tr>\n",
       "      <th>2022-04-03</th>\n",
       "      <td>6.920000</td>\n",
       "      <td>7.380000</td>\n",
       "      <td>6.880000</td>\n",
       "      <td>7.350000</td>\n",
       "      <td>7.350000</td>\n",
       "      <td>NaN</td>\n",
       "    </tr>\n",
       "    <tr>\n",
       "      <th>2022-04-04</th>\n",
       "      <td>7.350000</td>\n",
       "      <td>7.360000</td>\n",
       "      <td>7.030000</td>\n",
       "      <td>7.190000</td>\n",
       "      <td>7.190000</td>\n",
       "      <td>99313700.0</td>\n",
       "    </tr>\n",
       "    <tr>\n",
       "      <th>2022-04-05</th>\n",
       "      <td>7.170000</td>\n",
       "      <td>7.380000</td>\n",
       "      <td>6.860000</td>\n",
       "      <td>6.910000</td>\n",
       "      <td>6.910000</td>\n",
       "      <td>108922700.0</td>\n",
       "    </tr>\n",
       "  </tbody>\n",
       "</table>\n",
       "<p>1920 rows × 6 columns</p>\n",
       "</div>"
      ],
      "text/plain": [
       "                Open      High       Low     Close  Adj Close       Volume\n",
       "2017-01-02  0.410273  0.411953  0.397304  0.397304   0.379203   16025600.0\n",
       "2017-01-03  0.400351  0.407343  0.390625  0.396093   0.378047   12825600.0\n",
       "2017-01-04  0.394531  0.396289  0.371484  0.375000   0.357915   27468800.0\n",
       "2017-01-05  0.376796  0.387890  0.376757  0.387890   0.370218   27622400.0\n",
       "2017-01-06  0.387890  0.390078  0.382812  0.385390   0.367832    6400000.0\n",
       "...              ...       ...       ...       ...        ...          ...\n",
       "2022-04-01  6.920000  7.380000  6.880000  7.350000   7.350000  141943100.0\n",
       "2022-04-02  6.920000  7.380000  6.880000  7.350000   7.350000          NaN\n",
       "2022-04-03  6.920000  7.380000  6.880000  7.350000   7.350000          NaN\n",
       "2022-04-04  7.350000  7.360000  7.030000  7.190000   7.190000   99313700.0\n",
       "2022-04-05  7.170000  7.380000  6.860000  6.910000   6.910000  108922700.0\n",
       "\n",
       "[1920 rows x 6 columns]"
      ]
     },
     "execution_count": 98,
     "metadata": {},
     "output_type": "execute_result"
    }
   ],
   "source": [
    "df_mg_filled"
   ]
  },
  {
   "cell_type": "markdown",
   "id": "0770dd2a-54ca-4eb8-a3ba-389a91bbaed5",
   "metadata": {},
   "source": [
    "### NA"
   ]
  },
  {
   "cell_type": "code",
   "execution_count": 99,
   "id": "7c6dd017-5c94-49bb-8def-cf069604997e",
   "metadata": {},
   "outputs": [
    {
     "data": {
      "text/html": [
       "<div>\n",
       "<style scoped>\n",
       "    .dataframe tbody tr th:only-of-type {\n",
       "        vertical-align: middle;\n",
       "    }\n",
       "\n",
       "    .dataframe tbody tr th {\n",
       "        vertical-align: top;\n",
       "    }\n",
       "\n",
       "    .dataframe thead th {\n",
       "        text-align: right;\n",
       "    }\n",
       "</style>\n",
       "<table border=\"1\" class=\"dataframe\">\n",
       "  <thead>\n",
       "    <tr style=\"text-align: right;\">\n",
       "      <th></th>\n",
       "      <th>Open</th>\n",
       "      <th>High</th>\n",
       "      <th>Low</th>\n",
       "      <th>Close</th>\n",
       "      <th>Adj Close</th>\n",
       "      <th>Volume</th>\n",
       "    </tr>\n",
       "  </thead>\n",
       "  <tbody>\n",
       "    <tr>\n",
       "      <th>2017-01-02</th>\n",
       "      <td>0.410273</td>\n",
       "      <td>0.411953</td>\n",
       "      <td>0.397304</td>\n",
       "      <td>0.397304</td>\n",
       "      <td>0.379203</td>\n",
       "      <td>16025600.0</td>\n",
       "    </tr>\n",
       "    <tr>\n",
       "      <th>2017-01-03</th>\n",
       "      <td>0.400351</td>\n",
       "      <td>0.407343</td>\n",
       "      <td>0.390625</td>\n",
       "      <td>0.396093</td>\n",
       "      <td>0.378047</td>\n",
       "      <td>12825600.0</td>\n",
       "    </tr>\n",
       "    <tr>\n",
       "      <th>2017-01-04</th>\n",
       "      <td>0.394531</td>\n",
       "      <td>0.396289</td>\n",
       "      <td>0.371484</td>\n",
       "      <td>0.375000</td>\n",
       "      <td>0.357915</td>\n",
       "      <td>27468800.0</td>\n",
       "    </tr>\n",
       "    <tr>\n",
       "      <th>2017-01-05</th>\n",
       "      <td>0.376796</td>\n",
       "      <td>0.387890</td>\n",
       "      <td>0.376757</td>\n",
       "      <td>0.387890</td>\n",
       "      <td>0.370218</td>\n",
       "      <td>27622400.0</td>\n",
       "    </tr>\n",
       "    <tr>\n",
       "      <th>2017-01-06</th>\n",
       "      <td>0.387890</td>\n",
       "      <td>0.390078</td>\n",
       "      <td>0.382812</td>\n",
       "      <td>0.385390</td>\n",
       "      <td>0.367832</td>\n",
       "      <td>6400000.0</td>\n",
       "    </tr>\n",
       "    <tr>\n",
       "      <th>...</th>\n",
       "      <td>...</td>\n",
       "      <td>...</td>\n",
       "      <td>...</td>\n",
       "      <td>...</td>\n",
       "      <td>...</td>\n",
       "      <td>...</td>\n",
       "    </tr>\n",
       "    <tr>\n",
       "      <th>2022-04-01</th>\n",
       "      <td>6.920000</td>\n",
       "      <td>7.380000</td>\n",
       "      <td>6.880000</td>\n",
       "      <td>7.350000</td>\n",
       "      <td>7.350000</td>\n",
       "      <td>141943100.0</td>\n",
       "    </tr>\n",
       "    <tr>\n",
       "      <th>2022-04-02</th>\n",
       "      <td>6.920000</td>\n",
       "      <td>7.380000</td>\n",
       "      <td>6.880000</td>\n",
       "      <td>7.350000</td>\n",
       "      <td>7.350000</td>\n",
       "      <td>0.0</td>\n",
       "    </tr>\n",
       "    <tr>\n",
       "      <th>2022-04-03</th>\n",
       "      <td>6.920000</td>\n",
       "      <td>7.380000</td>\n",
       "      <td>6.880000</td>\n",
       "      <td>7.350000</td>\n",
       "      <td>7.350000</td>\n",
       "      <td>0.0</td>\n",
       "    </tr>\n",
       "    <tr>\n",
       "      <th>2022-04-04</th>\n",
       "      <td>7.350000</td>\n",
       "      <td>7.360000</td>\n",
       "      <td>7.030000</td>\n",
       "      <td>7.190000</td>\n",
       "      <td>7.190000</td>\n",
       "      <td>99313700.0</td>\n",
       "    </tr>\n",
       "    <tr>\n",
       "      <th>2022-04-05</th>\n",
       "      <td>7.170000</td>\n",
       "      <td>7.380000</td>\n",
       "      <td>6.860000</td>\n",
       "      <td>6.910000</td>\n",
       "      <td>6.910000</td>\n",
       "      <td>108922700.0</td>\n",
       "    </tr>\n",
       "  </tbody>\n",
       "</table>\n",
       "<p>1920 rows × 6 columns</p>\n",
       "</div>"
      ],
      "text/plain": [
       "                Open      High       Low     Close  Adj Close       Volume\n",
       "2017-01-02  0.410273  0.411953  0.397304  0.397304   0.379203   16025600.0\n",
       "2017-01-03  0.400351  0.407343  0.390625  0.396093   0.378047   12825600.0\n",
       "2017-01-04  0.394531  0.396289  0.371484  0.375000   0.357915   27468800.0\n",
       "2017-01-05  0.376796  0.387890  0.376757  0.387890   0.370218   27622400.0\n",
       "2017-01-06  0.387890  0.390078  0.382812  0.385390   0.367832    6400000.0\n",
       "...              ...       ...       ...       ...        ...          ...\n",
       "2022-04-01  6.920000  7.380000  6.880000  7.350000   7.350000  141943100.0\n",
       "2022-04-02  6.920000  7.380000  6.880000  7.350000   7.350000          0.0\n",
       "2022-04-03  6.920000  7.380000  6.880000  7.350000   7.350000          0.0\n",
       "2022-04-04  7.350000  7.360000  7.030000  7.190000   7.190000   99313700.0\n",
       "2022-04-05  7.170000  7.380000  6.860000  6.910000   6.910000  108922700.0\n",
       "\n",
       "[1920 rows x 6 columns]"
      ]
     },
     "execution_count": 99,
     "metadata": {},
     "output_type": "execute_result"
    }
   ],
   "source": [
    "#fill\n",
    "df_mg_filled = df_mg_filled.fillna(0)\n",
    "df_mg_filled"
   ]
  },
  {
   "cell_type": "code",
   "execution_count": 100,
   "id": "67cd84c3-8be0-4d8f-9c65-2010d99319aa",
   "metadata": {},
   "outputs": [
    {
     "name": "stdout",
     "output_type": "stream",
     "text": [
      "<class 'pandas.core.frame.DataFrame'>\n",
      "DatetimeIndex: 1920 entries, 2017-01-02 to 2022-04-05\n",
      "Freq: D\n",
      "Data columns (total 6 columns):\n",
      " #   Column     Non-Null Count  Dtype  \n",
      "---  ------     --------------  -----  \n",
      " 0   Open       1920 non-null   float64\n",
      " 1   High       1920 non-null   float64\n",
      " 2   Low        1920 non-null   float64\n",
      " 3   Close      1920 non-null   float64\n",
      " 4   Adj Close  1920 non-null   float64\n",
      " 5   Volume     1920 non-null   float64\n",
      "dtypes: float64(6)\n",
      "memory usage: 105.0 KB\n"
     ]
    }
   ],
   "source": [
    "df_mg_filled.info()"
   ]
  },
  {
   "cell_type": "markdown",
   "id": "85a34af1-6a6f-4528-b84f-bd230cd29a39",
   "metadata": {},
   "source": [
    "# Janela móvel ou deslizante"
   ]
  },
  {
   "cell_type": "code",
   "execution_count": 45,
   "id": "f4a218e6-d3f0-4d05-bbc1-d6e13433cf8a",
   "metadata": {},
   "outputs": [
    {
     "data": {
      "text/plain": [
       "<matplotlib.legend.Legend at 0x7fb8aa1a42b0>"
      ]
     },
     "execution_count": 45,
     "metadata": {},
     "output_type": "execute_result"
    },
    {
     "data": {
      "image/png": "[encoded data removed]",
      "text/plain": [
       "<Figure size 1224x360 with 1 Axes>"
      ]
     },
     "metadata": {
      "needs_background": "light"
     },
     "output_type": "display_data"
    }
   ],
   "source": [
    "df_mg_filled.Close.plot(figsize=(17,5), style='k:', label='Close')\n",
    "df_mg_filled.Close.rolling(window='30D').mean().plot(label='MA30D')\n",
    "df_mg_filled.Close.rolling(window='60D').mean().plot(label='MA60D')\n",
    "df_mg_filled.Close.rolling(window='90D').mean().plot(label='MA90D')\n",
    "plt.legend()\n"
   ]
  },
  {
   "cell_type": "code",
   "execution_count": 46,
   "id": "92cc3903-7b05-440c-aafe-58117adaba2d",
   "metadata": {},
   "outputs": [
    {
     "data": {
      "text/plain": [
       "<matplotlib.legend.Legend at 0x7fb88ded7400>"
      ]
     },
     "execution_count": 46,
     "metadata": {},
     "output_type": "execute_result"
    },
    {
     "data": {
      "image/png": "[encoded data removed]",
      "text/plain": [
       "<Figure size 1224x360 with 1 Axes>"
      ]
     },
     "metadata": {
      "needs_background": "light"
     },
     "output_type": "display_data"
    }
   ],
   "source": [
    "df_mg_filled.Close.plot(figsize=(17,5), style='k:', label='Close')\n",
    "df_mg_filled.Close.rolling(window='30D').quantile(0.1).plot(label='Q10')\n",
    "df_mg_filled.Close.rolling(window='30D').median().plot(label='Q50')\n",
    "df_mg_filled.Close.rolling(window='30D').quantile(0.9).plot(label='Q90')\n",
    "plt.legend()"
   ]
  },
  {
   "cell_type": "code",
   "execution_count": 110,
   "id": "6361d489-6ab2-49d7-b20b-50942bb62484",
   "metadata": {},
   "outputs": [
    {
     "data": {
      "text/plain": [
       "<matplotlib.legend.Legend at 0x7ff0217caee0>"
      ]
     },
     "execution_count": 110,
     "metadata": {},
     "output_type": "execute_result"
    },
    {
     "data": {
      "image/png": "[encoded data removed]",
      "text/plain": [
       "<Figure size 864x432 with 1 Axes>"
      ]
     },
     "metadata": {
      "needs_background": "light"
     },
     "output_type": "display_data"
    }
   ],
   "source": [
    "df_mg_filled.Close.rolling(window=\"30D\").median().plot(figsize=(12,6), label='$Q= 0.5$')\n",
    "plt.fill_between(\n",
    "            df_mg_filled.Close.rolling(window=\"30D\").median().index,\n",
    "            y1=df_mg_filled.Close.rolling(window=\"30D\").quantile(0.1),\n",
    "            y2=df_mg_filled.Close.rolling(window=\"30D\").quantile(0.9),\n",
    "                color='orange', alpha=0.3)\n",
    "\n",
    "plt.legend()"
   ]
  },
  {
   "cell_type": "markdown",
   "id": "ad573ce5-6992-4ec9-a71b-5ac9bc00a728",
   "metadata": {},
   "source": [
    "## Decomposição de séries temporais"
   ]
  },
  {
   "cell_type": "markdown",
   "id": "6d91d8d8-3c34-4b00-971a-18ab9af944ca",
   "metadata": {
    "ExecuteTime": {
     "end_time": "2020-12-01T00:00:24.841034Z",
     "start_time": "2020-12-01T00:00:24.818337Z"
    }
   },
   "source": [
    "Uma série temporal pode ser decomposta nos seguintes componentes:\n",
    "\n",
    "- **Tendência (T)**: indica o seu comportamento ao longo do tempo, ou seja, se é crescente, decrescente ou estável. Além disso indica a velocidade destas mudanças. \n",
    "\n",
    "- **Sazonalidade (S)**: são oscilações de subida e de queda que sempre ocorrem em um determinado período do ano, do mês, da semana ou do dia. Os movimentos facilmente previsíveis, ocorrendo em intervalos regulares de tempo. A partir da sazonalidade pode-se classificar uma série temporal em aditiva ou multiplicativa. Uma **série é aditiva** se a magnitude da **sazonalidade mantem-se constante** ao longo do prazo. A série é denominada **multiplicativa** se ao longo do tempo a **amplitude da sazonalidade aumenta**.\n",
    "\n",
    "- **Ruído Aleatório ($\\epsilon$)**: ou erro no período **t** são variações irregulares ou flutuações inexplicáveis, resultado de fatos eventuais e inesperados."
   ]
  },
  {
   "cell_type": "markdown",
   "id": "6d1793cf-042c-4576-8457-55532eb1c46d",
   "metadata": {},
   "source": [
    "**Exemplo 1**: Esta série é referente à quantidade de passageiros na Airline. Note que a tendência também é crescente e sazonal. Com o decorrer do tempo a quantidade de passageiros que viajam pela companhia aérea aumenta (eixo y), porém a periodicidade da sazonalidade continua marcada no gráfico. Trata-se de uma série com sazonalidade multiplicativa. Neste caso, a quantidade de passageiros a cada período sazonal aumenta.\n",
    "\n",
    "![](https://s3-sa-east-1.amazonaws.com/lcpi/9a0420ad-f498-4d2e-9a2b-28a224ccbdf5.png)\n",
    "\n",
    "**Exemplo 2**: No exemplo abaixo é representado a média da temperatuda diária em uma determinada cidade ao longo de 1 ano. Note que a série é estável (não possui tendência crescente tampouco decrescente), é sazonal aditiva (possui periodicidade bem marcada e sem grande variação na amplitude).\n",
    "\n",
    "![](https://s3-sa-east-1.amazonaws.com/lcpi/ec935a3f-daf0-4fff-a99f-5bc3c2a906d3.png)"
   ]
  },
  {
   "cell_type": "markdown",
   "id": "bc742cee-bfce-4965-b406-65704ada62d8",
   "metadata": {},
   "source": [
    "Em outras palavras, uma série temporal $Z(t)$ pode ser reconstruída atrvés de uma função que depende das componentes acima $f(T_t,S_t,\\epsilon_t)$. Uma série aditiva é representada por $Z(t)=T_t+S_t+\\epsilon_t$, equanto a multiplicativa é dada por $Z(t)=T_t \\times  S_t \\times \\epsilon_t$"
   ]
  },
  {
   "cell_type": "code",
   "execution_count": 3,
   "id": "21b3df81-7f77-4f5f-83b9-ac8b15997e47",
   "metadata": {
    "ExecuteTime": {
     "end_time": "2020-12-01T00:12:06.913531Z",
     "start_time": "2020-12-01T00:12:06.908745Z"
    }
   },
   "outputs": [],
   "source": [
    "from statsmodels.tsa.seasonal import seasonal_decompose"
   ]
  },
  {
   "cell_type": "code",
   "execution_count": 5,
   "id": "823c2f31-7981-4f30-8519-ab0c9443f03c",
   "metadata": {},
   "outputs": [
    {
     "data": {
      "text/html": [
       "<div>\n",
       "<style scoped>\n",
       "    .dataframe tbody tr th:only-of-type {\n",
       "        vertical-align: middle;\n",
       "    }\n",
       "\n",
       "    .dataframe tbody tr th {\n",
       "        vertical-align: top;\n",
       "    }\n",
       "\n",
       "    .dataframe thead th {\n",
       "        text-align: right;\n",
       "    }\n",
       "</style>\n",
       "<table border=\"1\" class=\"dataframe\">\n",
       "  <thead>\n",
       "    <tr style=\"text-align: right;\">\n",
       "      <th></th>\n",
       "      <th>year</th>\n",
       "      <th>month</th>\n",
       "      <th>passengers</th>\n",
       "    </tr>\n",
       "  </thead>\n",
       "  <tbody>\n",
       "    <tr>\n",
       "      <th>0</th>\n",
       "      <td>1949</td>\n",
       "      <td>Jan</td>\n",
       "      <td>112</td>\n",
       "    </tr>\n",
       "    <tr>\n",
       "      <th>1</th>\n",
       "      <td>1949</td>\n",
       "      <td>Feb</td>\n",
       "      <td>118</td>\n",
       "    </tr>\n",
       "    <tr>\n",
       "      <th>2</th>\n",
       "      <td>1949</td>\n",
       "      <td>Mar</td>\n",
       "      <td>132</td>\n",
       "    </tr>\n",
       "    <tr>\n",
       "      <th>3</th>\n",
       "      <td>1949</td>\n",
       "      <td>Apr</td>\n",
       "      <td>129</td>\n",
       "    </tr>\n",
       "    <tr>\n",
       "      <th>4</th>\n",
       "      <td>1949</td>\n",
       "      <td>May</td>\n",
       "      <td>121</td>\n",
       "    </tr>\n",
       "    <tr>\n",
       "      <th>...</th>\n",
       "      <td>...</td>\n",
       "      <td>...</td>\n",
       "      <td>...</td>\n",
       "    </tr>\n",
       "    <tr>\n",
       "      <th>139</th>\n",
       "      <td>1960</td>\n",
       "      <td>Aug</td>\n",
       "      <td>606</td>\n",
       "    </tr>\n",
       "    <tr>\n",
       "      <th>140</th>\n",
       "      <td>1960</td>\n",
       "      <td>Sep</td>\n",
       "      <td>508</td>\n",
       "    </tr>\n",
       "    <tr>\n",
       "      <th>141</th>\n",
       "      <td>1960</td>\n",
       "      <td>Oct</td>\n",
       "      <td>461</td>\n",
       "    </tr>\n",
       "    <tr>\n",
       "      <th>142</th>\n",
       "      <td>1960</td>\n",
       "      <td>Nov</td>\n",
       "      <td>390</td>\n",
       "    </tr>\n",
       "    <tr>\n",
       "      <th>143</th>\n",
       "      <td>1960</td>\n",
       "      <td>Dec</td>\n",
       "      <td>432</td>\n",
       "    </tr>\n",
       "  </tbody>\n",
       "</table>\n",
       "<p>144 rows × 3 columns</p>\n",
       "</div>"
      ],
      "text/plain": [
       "     year month  passengers\n",
       "0    1949   Jan         112\n",
       "1    1949   Feb         118\n",
       "2    1949   Mar         132\n",
       "3    1949   Apr         129\n",
       "4    1949   May         121\n",
       "..    ...   ...         ...\n",
       "139  1960   Aug         606\n",
       "140  1960   Sep         508\n",
       "141  1960   Oct         461\n",
       "142  1960   Nov         390\n",
       "143  1960   Dec         432\n",
       "\n",
       "[144 rows x 3 columns]"
      ]
     },
     "execution_count": 5,
     "metadata": {},
     "output_type": "execute_result"
    }
   ],
   "source": [
    "# flights\n",
    "df_flights = sns.load_dataset(\"flights\")\n",
    "df_flights"
   ]
  },
  {
   "cell_type": "code",
   "execution_count": 6,
   "id": "8d9817ab-9145-4f2e-9514-9e6b2d2c5445",
   "metadata": {},
   "outputs": [
    {
     "data": {
      "text/plain": [
       "year             int64\n",
       "month         category\n",
       "passengers       int64\n",
       "dtype: object"
      ]
     },
     "execution_count": 6,
     "metadata": {},
     "output_type": "execute_result"
    }
   ],
   "source": [
    "df_flights.dtypes"
   ]
  },
  {
   "cell_type": "code",
   "execution_count": 8,
   "id": "14ba822e-2d7b-45b7-9e43-bae0d4ecaa5c",
   "metadata": {},
   "outputs": [
    {
     "data": {
      "text/html": [
       "<div>\n",
       "<style scoped>\n",
       "    .dataframe tbody tr th:only-of-type {\n",
       "        vertical-align: middle;\n",
       "    }\n",
       "\n",
       "    .dataframe tbody tr th {\n",
       "        vertical-align: top;\n",
       "    }\n",
       "\n",
       "    .dataframe thead th {\n",
       "        text-align: right;\n",
       "    }\n",
       "</style>\n",
       "<table border=\"1\" class=\"dataframe\">\n",
       "  <thead>\n",
       "    <tr style=\"text-align: right;\">\n",
       "      <th></th>\n",
       "      <th>year</th>\n",
       "      <th>month</th>\n",
       "      <th>passengers</th>\n",
       "    </tr>\n",
       "  </thead>\n",
       "  <tbody>\n",
       "    <tr>\n",
       "      <th>1949-01-31</th>\n",
       "      <td>1949</td>\n",
       "      <td>Jan</td>\n",
       "      <td>112</td>\n",
       "    </tr>\n",
       "    <tr>\n",
       "      <th>1949-02-28</th>\n",
       "      <td>1949</td>\n",
       "      <td>Feb</td>\n",
       "      <td>118</td>\n",
       "    </tr>\n",
       "    <tr>\n",
       "      <th>1949-03-31</th>\n",
       "      <td>1949</td>\n",
       "      <td>Mar</td>\n",
       "      <td>132</td>\n",
       "    </tr>\n",
       "    <tr>\n",
       "      <th>1949-04-30</th>\n",
       "      <td>1949</td>\n",
       "      <td>Apr</td>\n",
       "      <td>129</td>\n",
       "    </tr>\n",
       "    <tr>\n",
       "      <th>1949-05-31</th>\n",
       "      <td>1949</td>\n",
       "      <td>May</td>\n",
       "      <td>121</td>\n",
       "    </tr>\n",
       "    <tr>\n",
       "      <th>...</th>\n",
       "      <td>...</td>\n",
       "      <td>...</td>\n",
       "      <td>...</td>\n",
       "    </tr>\n",
       "    <tr>\n",
       "      <th>1960-08-31</th>\n",
       "      <td>1960</td>\n",
       "      <td>Aug</td>\n",
       "      <td>606</td>\n",
       "    </tr>\n",
       "    <tr>\n",
       "      <th>1960-09-30</th>\n",
       "      <td>1960</td>\n",
       "      <td>Sep</td>\n",
       "      <td>508</td>\n",
       "    </tr>\n",
       "    <tr>\n",
       "      <th>1960-10-31</th>\n",
       "      <td>1960</td>\n",
       "      <td>Oct</td>\n",
       "      <td>461</td>\n",
       "    </tr>\n",
       "    <tr>\n",
       "      <th>1960-11-30</th>\n",
       "      <td>1960</td>\n",
       "      <td>Nov</td>\n",
       "      <td>390</td>\n",
       "    </tr>\n",
       "    <tr>\n",
       "      <th>1960-12-31</th>\n",
       "      <td>1960</td>\n",
       "      <td>Dec</td>\n",
       "      <td>432</td>\n",
       "    </tr>\n",
       "  </tbody>\n",
       "</table>\n",
       "<p>144 rows × 3 columns</p>\n",
       "</div>"
      ],
      "text/plain": [
       "            year month  passengers\n",
       "1949-01-31  1949   Jan         112\n",
       "1949-02-28  1949   Feb         118\n",
       "1949-03-31  1949   Mar         132\n",
       "1949-04-30  1949   Apr         129\n",
       "1949-05-31  1949   May         121\n",
       "...          ...   ...         ...\n",
       "1960-08-31  1960   Aug         606\n",
       "1960-09-30  1960   Sep         508\n",
       "1960-10-31  1960   Oct         461\n",
       "1960-11-30  1960   Nov         390\n",
       "1960-12-31  1960   Dec         432\n",
       "\n",
       "[144 rows x 3 columns]"
      ]
     },
     "execution_count": 8,
     "metadata": {},
     "output_type": "execute_result"
    }
   ],
   "source": [
    "df_flights.index = pd.date_range(start = \"1949-01\", periods=df_flights.shape[0], freq = \"M\")\n",
    "df_flights"
   ]
  },
  {
   "cell_type": "code",
   "execution_count": null,
   "id": "0773bcb4-f262-480f-aa47-71f8c22a3625",
   "metadata": {},
   "outputs": [],
   "source": [
    "#df_flights = df_flights.drop([\"year\", \"month\"], axis=1, inplace=False)"
   ]
  },
  {
   "cell_type": "code",
   "execution_count": 9,
   "id": "6d22d591-2381-4398-8a71-620932db3f82",
   "metadata": {},
   "outputs": [
    {
     "data": {
      "text/html": [
       "<div>\n",
       "<style scoped>\n",
       "    .dataframe tbody tr th:only-of-type {\n",
       "        vertical-align: middle;\n",
       "    }\n",
       "\n",
       "    .dataframe tbody tr th {\n",
       "        vertical-align: top;\n",
       "    }\n",
       "\n",
       "    .dataframe thead th {\n",
       "        text-align: right;\n",
       "    }\n",
       "</style>\n",
       "<table border=\"1\" class=\"dataframe\">\n",
       "  <thead>\n",
       "    <tr style=\"text-align: right;\">\n",
       "      <th></th>\n",
       "      <th>passengers</th>\n",
       "    </tr>\n",
       "  </thead>\n",
       "  <tbody>\n",
       "    <tr>\n",
       "      <th>1949-01-31</th>\n",
       "      <td>112</td>\n",
       "    </tr>\n",
       "    <tr>\n",
       "      <th>1949-02-28</th>\n",
       "      <td>118</td>\n",
       "    </tr>\n",
       "    <tr>\n",
       "      <th>1949-03-31</th>\n",
       "      <td>132</td>\n",
       "    </tr>\n",
       "    <tr>\n",
       "      <th>1949-04-30</th>\n",
       "      <td>129</td>\n",
       "    </tr>\n",
       "    <tr>\n",
       "      <th>1949-05-31</th>\n",
       "      <td>121</td>\n",
       "    </tr>\n",
       "    <tr>\n",
       "      <th>...</th>\n",
       "      <td>...</td>\n",
       "    </tr>\n",
       "    <tr>\n",
       "      <th>1960-08-31</th>\n",
       "      <td>606</td>\n",
       "    </tr>\n",
       "    <tr>\n",
       "      <th>1960-09-30</th>\n",
       "      <td>508</td>\n",
       "    </tr>\n",
       "    <tr>\n",
       "      <th>1960-10-31</th>\n",
       "      <td>461</td>\n",
       "    </tr>\n",
       "    <tr>\n",
       "      <th>1960-11-30</th>\n",
       "      <td>390</td>\n",
       "    </tr>\n",
       "    <tr>\n",
       "      <th>1960-12-31</th>\n",
       "      <td>432</td>\n",
       "    </tr>\n",
       "  </tbody>\n",
       "</table>\n",
       "<p>144 rows × 1 columns</p>\n",
       "</div>"
      ],
      "text/plain": [
       "            passengers\n",
       "1949-01-31         112\n",
       "1949-02-28         118\n",
       "1949-03-31         132\n",
       "1949-04-30         129\n",
       "1949-05-31         121\n",
       "...                ...\n",
       "1960-08-31         606\n",
       "1960-09-30         508\n",
       "1960-10-31         461\n",
       "1960-11-30         390\n",
       "1960-12-31         432\n",
       "\n",
       "[144 rows x 1 columns]"
      ]
     },
     "execution_count": 9,
     "metadata": {},
     "output_type": "execute_result"
    }
   ],
   "source": [
    "df_flights.drop([\"year\", \"month\"], axis=1, inplace=True)\n",
    "df_flights"
   ]
  },
  {
   "cell_type": "code",
   "execution_count": 10,
   "id": "9bed3eba-db8a-4c38-bfb5-f3c8576e08c0",
   "metadata": {},
   "outputs": [
    {
     "data": {
      "text/plain": [
       "<AxesSubplot:>"
      ]
     },
     "execution_count": 10,
     "metadata": {},
     "output_type": "execute_result"
    },
    {
     "data": {
      "image/png": "[encoded data removed]",
      "text/plain": [
       "<Figure size 432x288 with 1 Axes>"
      ]
     },
     "metadata": {
      "needs_background": "light"
     },
     "output_type": "display_data"
    }
   ],
   "source": [
    "df_flights.plot()"
   ]
  },
  {
   "cell_type": "code",
   "execution_count": 16,
   "id": "6cec8789-dca8-4dc1-ad38-2a157370d762",
   "metadata": {},
   "outputs": [],
   "source": [
    "decomp = seasonal_decompose(df_flights)"
   ]
  },
  {
   "cell_type": "code",
   "execution_count": 14,
   "id": "8e03e16c-65b9-48fa-bd50-341101a4b52d",
   "metadata": {},
   "outputs": [
    {
     "data": {
      "image/png": "[encoded data removed]",
      "text/plain": [
       "<Figure size 432x288 with 4 Axes>"
      ]
     },
     "metadata": {
      "needs_background": "light"
     },
     "output_type": "display_data"
    }
   ],
   "source": [
    "decomp.plot()\n",
    "plt.show()"
   ]
  },
  {
   "cell_type": "code",
   "execution_count": 22,
   "id": "db0d658a-7fb0-4f28-9419-5d4b6ddf5ecb",
   "metadata": {},
   "outputs": [
    {
     "data": {
      "text/plain": [
       "<AxesSubplot:>"
      ]
     },
     "execution_count": 22,
     "metadata": {},
     "output_type": "execute_result"
    },
    {
     "data": {
      "image/png": "[encoded data removed]",
      "text/plain": [
       "<Figure size 432x288 with 1 Axes>"
      ]
     },
     "metadata": {
      "needs_background": "light"
     },
     "output_type": "display_data"
    }
   ],
   "source": [
    "decomp.resid.plot()"
   ]
  },
  {
   "cell_type": "code",
   "execution_count": 26,
   "id": "0bf08a38-6792-4be2-b12e-3b3a8b00bdf1",
   "metadata": {},
   "outputs": [
    {
     "data": {
      "text/plain": [
       "<AxesSubplot:>"
      ]
     },
     "execution_count": 26,
     "metadata": {},
     "output_type": "execute_result"
    },
    {
     "data": {
      "image/png": "[encoded data removed]",
      "text/plain": [
       "<Figure size 432x288 with 1 Axes>"
      ]
     },
     "metadata": {
      "needs_background": "light"
     },
     "output_type": "display_data"
    }
   ],
   "source": [
    "decomp.trend.plot()"
   ]
  },
  {
   "cell_type": "code",
   "execution_count": 28,
   "id": "9dcd82ea-8455-4ad3-80fd-f5e61c28c219",
   "metadata": {},
   "outputs": [
    {
     "data": {
      "text/plain": [
       "<AxesSubplot:>"
      ]
     },
     "execution_count": 28,
     "metadata": {},
     "output_type": "execute_result"
    },
    {
     "data": {
      "image/png": "[encoded data removed]",
      "text/plain": [
       "<Figure size 432x288 with 1 Axes>"
      ]
     },
     "metadata": {
      "needs_background": "light"
     },
     "output_type": "display_data"
    }
   ],
   "source": [
    "decomp.seasonal.plot()"
   ]
  },
  {
   "cell_type": "code",
   "execution_count": 29,
   "id": "e0201be2-6395-4466-889f-408f34e0fbf4",
   "metadata": {},
   "outputs": [],
   "source": [
    "agg_ts = decomp.trend + decomp.seasonal"
   ]
  },
  {
   "cell_type": "code",
   "execution_count": 32,
   "id": "6c490855-afe7-4fde-937d-bfaf96bbd3fc",
   "metadata": {},
   "outputs": [
    {
     "data": {
      "text/plain": [
       "<AxesSubplot:>"
      ]
     },
     "execution_count": 32,
     "metadata": {},
     "output_type": "execute_result"
    },
    {
     "data": {
      "image/png": "[encoded data removed]",
      "text/plain": [
       "<Figure size 864x288 with 1 Axes>"
      ]
     },
     "metadata": {
      "needs_background": "light"
     },
     "output_type": "display_data"
    }
   ],
   "source": [
    "agg_ts.plot(figsize = (12,4))"
   ]
  }
 ],
 "metadata": {
  "kernelspec": {
   "display_name": "Python 3.8.8 64-bit ('base': conda)",
   "language": "python",
   "name": "python388jvsc74a57bd0dca0ade3e726a953b501b15e8e990130d2b7799f14cfd9f4271676035ebe5511"
  },
  "language_info": {
   "codemirror_mode": {
    "name": "ipython",
    "version": 3
   },
   "file_extension": ".py",
   "mimetype": "text/x-python",
   "name": "python",
   "nbconvert_exporter": "python",
   "pygments_lexer": "ipython3",
   "version": "3.8.8"
  }
 },
 "nbformat": 4,
 "nbformat_minor": 5
}
