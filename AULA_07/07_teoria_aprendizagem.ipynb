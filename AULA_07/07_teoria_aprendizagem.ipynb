{
 "cells": [
  {
   "cell_type": "markdown",
   "id": "1ec5b8d1-92ec-401a-b4d2-ef1219e020c6",
   "metadata": {},
   "source": [
    "\n",
    "## <i>\"All models are wrong. But some are useful. [George Box]\"\n",
    "_______\n",
    "    \n",
    "Modelos são simplificações da vida que podem ser determinados por métodos determinísticos, como modelos físicos e matemáticos, ou por aprendizado."
   ]
  },
  {
   "cell_type": "markdown",
   "id": "8f452a5f-794c-43f6-92c9-5cf9eafe7f43",
   "metadata": {},
   "source": [
    "# Inteligência Artificial\n",
    "\n",
    "É a área que estuda sistemas computacionais **capazes de realizar tarefas que normalmente exigiriam interferência ou ação humana**, mediada pela inteligência natural.\n",
    "\n",
    "Algumas das tarefas que originalmente demandam inteligência natural são: \n",
    "\n",
    "- **percepção visual**;\n",
    "- **reconhecimento de fala**;\n",
    "- **tomada de decisão**;\n",
    "- **tradução entre línguas naturais**;\n",
    "\n",
    "É formidável imaginar que estas tarefas possam ser realizadas por sistemas que não desenvolveram biologicamente o que conhecemos por \"inteligência\". No entanto, este é justamente o objetivo da AI: fazer com que sistemas computacionais resolvam tais tarefas!\n",
    "\n",
    "Neste curso, focaremos em apenas uma **sub-área** da AI, a **aprendizagem de máquina** (no inglês, **Machine learning**).\n",
    "\n",
    "<img src=\"https://www.researchgate.net/profile/Ma_Louella_Salenga/publication/324183626/figure/fig1/AS:611807588798464@1522877704466/Fields-of-artificial-intelligence-10.png\" width=650>\n"
   ]
  },
  {
   "cell_type": "markdown",
   "id": "b0c584ff-88c0-4111-bfdb-b1d4f7fa1785",
   "metadata": {},
   "source": [
    "## Machine Learning\n",
    "\n",
    "A **aprendizagem de máquina** se divide em três grandes áreas, cada uma caracterizada por uma abordagem e escopo específicos:\n",
    "\n",
    "<img src=\"https://i.pinimg.com/originals/67/70/5d/67705d8c7aee0c6b601c16548076e924.png\" width=700>"
   ]
  },
  {
   "cell_type": "markdown",
   "id": "ccabadc1-959c-4f8e-b46a-749f2c17bfbf",
   "metadata": {},
   "source": [
    "<img src=\"https://scikit-learn.org/stable/_static/ml_map.png\" width=900>\n",
    "\n",
    "[Clique Aqui](https://scikit-learn.org/stable/tutorial/machine_learning_map/index.html) para a versão interativa online com links para as páginas de cada estimador!"
   ]
  },
  {
   "cell_type": "markdown",
   "id": "9970e7f8-7339-45f3-8112-7c4c7c011746",
   "metadata": {},
   "source": [
    "Quando utilizamos **Machine Learning** para construir um modelo, os detalhes desta representação são **determinados (“aprendidos”)** a partir de dados, empiricamente.\n",
    "\n",
    "Em geral, resolver um problema utilizando técnicas de ML é uma boa ideia se:\n",
    "\n",
    "    • Há dados disponíveis sobre o problema em questão;\n",
    "\n",
    "    • Existe um padrão que é refletido nos dados;\n"
   ]
  },
  {
   "cell_type": "markdown",
   "id": "bcbb2030-b95d-43e6-8edf-2ea0c9000ccf",
   "metadata": {},
   "source": [
    "No fim, todo modelo será representado **por uma equação matemática**.\n",
    "\n",
    "No entanto, essa equação pode ser extremamente complexa, de modo que raramente teremos a equação completa. Mas não se preocupe com isso!\n",
    "\n",
    "<img src=\"https://miro.medium.com/max/2404/1*yLvf2jr_TNkEe9PKYOBDkA.png\" width=500>\n",
    "\n",
    "<img src=\"https://st3.ning.com/topology/rest/1.0/file/get/2808372468?profile=original\" width=500>\n"
   ]
  },
  {
   "cell_type": "markdown",
   "id": "5bc35e40-4c2f-4761-985c-3e82c08f8068",
   "metadata": {},
   "source": [
    "# Voltamos 20:35"
   ]
  },
  {
   "cell_type": "markdown",
   "id": "dba2120e-7cbf-4cbd-8319-c66aa6ce7af4",
   "metadata": {},
   "source": [
    "Muitas vezes, um modelo complexo não é necessário. \n",
    "\n",
    "Há problemas que são resolvidos com uma simples média!!\n",
    "\n",
    "Então, é muito importante que você como cientista de dados **foque em resolver o problema**, não importa como você fará isso. **Não tente matar uma mosca com um canhão!**\n",
    "\n",
    "É importante, sim, que você **tenha conhecimentos amplos** sobre o maior número possível de técnicas e ferramentas!\n",
    "\n",
    "\n",
    "Mas isso não quer dizer que você **precisa** de machine learning sempre! \n",
    "\n",
    "Então, novamente: foco no problema, não na técnica pela técnica com fim em si mesma!\n"
   ]
  },
  {
   "cell_type": "markdown",
   "id": "5fd6033c-f51e-459f-96eb-0a9f9dbd63ff",
   "metadata": {},
   "source": [
    "<img src=\"https://techblog.cdiscount.com/assets/images/DataScience/automl/ML_process.png\" width=650>\n"
   ]
  },
  {
   "cell_type": "markdown",
   "id": "f9bbcdc6-3485-45f1-9403-5675d2821154",
   "metadata": {},
   "source": [
    "- **Conjunto de dados de treino**: são os dados utilizados para a construção do modelo, os dados que o modelo utilizará \"para aprender\"\n",
    "\n",
    "\n",
    "- **Treinamento do modelo**: é a etapa em que cálculos matemáticos são feitos para que a equação que descreve o modelo seja criada! É assim que \"o modelo aprende!\". Não se preocupe: usaremos bibliotecas para dazer isso!\n",
    "\n",
    "\n",
    "- **Conjunto de dados de validação**: conjunto de dados usados para testar o modelo ainda em produção. Este conjunto é opcional, e vamos discutir sua importância quando falarmos de validação cruzada.\n",
    "\n",
    "\n",
    "- **Seleção de hiperparâmetros/seleção de modelo**: etapa em que os hiperperâmetros que constituem o modelo são selecionados. Aqui, técnicas como **grid search** e **cross validation** são muito importantes! Falaremos disso mais tarde.\n",
    "\n",
    "\n",
    "- **Conjunto de dados de teste**: conjunto de dados utilizado para testar o modelo após ele ter sido treinado.\n",
    "\n",
    "\n",
    "- **Avaliação**: forma de avaliar a performance do modelo. Há várias métricas e formas diferentes de avaliação, que conheceremos melhor mais tarde.\n",
    "\n",
    "\n",
    "<img src=\"https://cdn-images-1.medium.com/max/1000/1*ZiYvylk60EY2XG7ck1lqJA.png\" width=500>\n",
    "\n",
    "___________"
   ]
  },
  {
   "cell_type": "markdown",
   "id": "60460120-aeb1-4f4c-8f65-e3d0ce88286e",
   "metadata": {},
   "source": [
    "# Teoria do aprendizado"
   ]
  },
  {
   "cell_type": "markdown",
   "id": "1ca676e1-7ef4-474b-ab13-cd4aa6ded0c2",
   "metadata": {},
   "source": [
    "Seja $X$ o vetor de todos os possíveis inputs e $Y$ o vetor de todos os possíveis outputs. A **teoria de aprendizagem estatística** prega que existe alguma distribuição de probabilidade desconhecida sobre o espaço $Z = X \\times Y$, ou seja, existe uma probabilidade desconhecida tal que $p(z) = p(\\overrightarrow{x}, y)$."
   ]
  },
  {
   "cell_type": "markdown",
   "id": "1d3ca439-a34a-4d44-a92c-d29ce6fb4d26",
   "metadata": {},
   "source": [
    "O conjunto de treinamento é composto por $n$ amostras dessa distribuição de probabilidade, denotado por:\n",
    "\n",
    "$$ S = \\{(\\overrightarrow{x_1}, y_1), \\cdots, (\\overrightarrow{x_n}, y_n)\\} = \\{\\overrightarrow{z_1}, \\cdots, \\overrightarrow{z_n}\\}$$"
   ]
  },
  {
   "cell_type": "markdown",
   "id": "8068b3d3-e1a5-4319-8a18-a88e62fb43db",
   "metadata": {},
   "source": [
    "Dessa forma o problema de inferência que estamos lidando é encontrar a função $f: X \\rightarrow Y$ tal que $f(\\overrightarrow{x}) \\sim y$"
   ]
  },
  {
   "cell_type": "markdown",
   "id": "9bef59d5-b3d3-41ae-b089-2247fec7459e",
   "metadata": {},
   "source": [
    "Seja $\\mathcal{H}$ o espaço de funções $f: X \\rightarrow Y$ chamado de espaço de hipóteses, que será justamente **o espaço de funções que o algoritmo irá percorrer**, o que queremos é minimizar o erro entre o valor predito $f(\\overrightarrow{x})$ e o valor real $y$, por meio do que chamamos de função de perda (**loss function**) $$V(f(\\overrightarrow{x}),y)$$"
   ]
  },
  {
   "cell_type": "markdown",
   "id": "c9d8f392-2ab7-4fd5-98a5-331964d986ec",
   "metadata": {},
   "source": [
    "Podemos resumir a informação acima no seguinte diagrama:\n",
    "\n",
    "<img src=https://s3-sa-east-1.amazonaws.com/lcpi/70da0385-e3fc-4fda-ba15-0004cc3b68ae.PNG>"
   ]
  },
  {
   "cell_type": "markdown",
   "id": "42a59854-a2a5-4bf2-97e2-34c4ba4c0bff",
   "metadata": {},
   "source": [
    "# Vamos analisar como fazemos isso do ponto de vista de Regressão ..."
   ]
  },
  {
   "cell_type": "markdown",
   "id": "f43e5b4d-49f3-4e2b-808d-ca896b85036e",
   "metadata": {},
   "source": [
    "# Referências\n",
    "\n",
    "- [Curso Caltech](https://work.caltech.edu/telecourse)\n",
    "- \n",
    "<img src=\"https://images-na.ssl-images-amazon.com/images/I/61Lvnv9+CML.jpg\" width=\"25%\">\n",
    "-\n",
    "<img src=\"https://images-na.ssl-images-amazon.com/images/I/51gleGGYGGL.jpg\" width=\"25%\">\n",
    "-\n",
    "<img src=\"http://www.cs.nyu.edu/~mohri/mlbook/10290_pptd.jpg\" width=\"25%\">\n"
   ]
  }
 ],
 "metadata": {
  "kernelspec": {
   "display_name": "Python 3.8.8 64-bit ('base': conda)",
   "language": "python",
   "name": "python388jvsc74a57bd0dca0ade3e726a953b501b15e8e990130d2b7799f14cfd9f4271676035ebe5511"
  },
  "language_info": {
   "codemirror_mode": {
    "name": "ipython",
    "version": 3
   },
   "file_extension": ".py",
   "mimetype": "text/x-python",
   "name": "python",
   "nbconvert_exporter": "python",
   "pygments_lexer": "ipython3",
   "version": "3.8.8"
  }
 },
 "nbformat": 4,
 "nbformat_minor": 5
}
