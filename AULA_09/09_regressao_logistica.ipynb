{
 "cells": [
  {
   "cell_type": "markdown",
   "id": "efee1587-38f4-429a-92fd-0d1f53228040",
   "metadata": {},
   "source": [
    "# Regressão Logística\n",
    "## Uma construção intuitiva baseada em regressão linear"
   ]
  },
  {
   "cell_type": "markdown",
   "id": "3752cfa9-60b7-4422-85ee-993194a1be5e",
   "metadata": {},
   "source": [
    "Vimos em regressão linear como explicar uma variável quantitativa Y por meio de uma matrix de dados X de forma que $Y = \\underset{\\sim}{\\hat{\\beta}}*\\underset{\\sim}{X} + \\underset{\\sim}{\\epsilon}$, sendo que $Y \\sim N\\left(\\underset{\\sim}{\\hat{\\beta}}*\\underset{\\sim}{X}, \\sigma^2\\right)$\n",
    "\n",
    "<img src = \"../imgs/reg_lin_eq.png\" width = \"50%\"></img>"
   ]
  },
  {
   "cell_type": "markdown",
   "id": "b68b8394-b6fa-49fe-8e6c-bd9f72338429",
   "metadata": {},
   "source": [
    "mas e quando temos uma variável dependente indicando ação? \n",
    "\n",
    "por exemplo.: \n",
    "- Comprar um item\n",
    "- Ser cliente\n",
    "- Abandonar a empresa\n",
    "- Dar default em linha de crédito ou sinistro de veículo\n",
    "- Processar uma instituição\n",
    "\n",
    "ou seja, quando olhamos os dados coletamos vemos de forma gráfica o seguinte\n",
    "\n",
    "<img src = \"../imgs/reg_log_bin.png\" width = \"50%\"></img>\n",
    "\n",
    "Neste caso notamos que a proporção $p$ de pessoas que, por exemplo, compram um carro, tende a aumentar conforme a idade aumenta, pois o volume de pontos em 1 aumenta.\n",
    "\n",
    "Porderíamos tentar usar a regressão linear para esplicar o fenomeno e teríamos a seguinte reta ajustada.\n",
    "\n",
    "<img src = \"../imgs/reg_log_bin_line.png\" width = \"50%\"></img>\n",
    "\n",
    "Porém nossos valores são limitados no eixo Y, dado que assumem apenas os valores 0 ou 1, e portanto permitir valores além desses extremos não faz sentido. Apartir disso poderíamos truncar esses valores de forma a obter o seguinte ajuste.\n",
    "\n",
    "<img src = \"../imgs/reg_log_bin_line_trunc.png\" width = \"50%\"></img>\n",
    "\n",
    "Sendo que\n",
    "\n",
    "$$\n",
    "Y =\n",
    "  \\begin{cases}\n",
    "    0       & \\quad \\forall x \\ | \\ \\beta_0 + \\beta_1*X & \\in (-\\infty;0) \\\\\n",
    "    \\beta_0 + \\beta_1*X & \\quad \\forall x \\ | \\ \\beta_0 + \\beta_1*X & \\in [0;1] \\\\\n",
    "    1       & \\quad \\forall x \\ |\\  \\beta_0 + \\beta_1*X & \\in (1; \\infty)\n",
    "  \\end{cases}\n",
    "$$\n",
    "\n",
    "Note a dificuldade em se escrever Y nessa situação e como que essa função perde propridades importantes como continuidade. Além disso o meio da reta ainda não parece se ajustar muito bem, de forma que o ideal seriamos traçar uma curva como a seguinte:\n",
    "\n",
    "<img src = \"../imgs/reg_log_log.png\" width = \"50%\"></img>\n",
    "\n",
    "A essa curva chamamos de sigmoíde, ou curva sigmoídal. E pode ser escrita de duas maneiras:\n",
    "\n",
    "$$p = \\dfrac{1}{1+e^{\\beta_0 + \\beta_1*X}} = \\dfrac{1}{1+e^Y}$$\n",
    "\n",
    "$$Y = ln\\left(\\dfrac{p}{1-p}\\right) = {\\beta_0 + \\beta_1*X}$$\n",
    "\n",
    "Apartir do ajuste dos parâmetros dessa curva podemos calcular a probabilidade de cada valor de X ocorrer.\n",
    "\n",
    "<img src = \"../imgs/reg_log_log_prob.png\" width = \"50%\"></img>\n",
    "\n",
    "E, apartir de algum valor arbitrário de corte, por exemplo 50%, podemos predizar a ação representada pela varíavel\n",
    "\n",
    "<img src = \"../imgs/reg_log_log_y.png\" width = \"50%\"></img>\n",
    "\n",
    "De forma análoga, para o caso multivariado, temos que\n",
    "\n",
    "$$p = \\dfrac{1}{1+e^{\\underset{\\sim}{\\hat{\\beta}}*\\underset{\\sim}{X}}} = \\dfrac{1}{1+e^Y}$$\n",
    "\n",
    "$$Y = ln\\left(\\dfrac{p}{1-p}\\right) = \\underset{\\sim}{\\hat{\\beta}}*\\underset{\\sim}{X}$$"
   ]
  },
  {
   "cell_type": "markdown",
   "id": "740ce0dd-a024-417e-9c9e-0875ad9f1662",
   "metadata": {},
   "source": [
    "## Em Python"
   ]
  },
  {
   "cell_type": "code",
   "execution_count": 2,
   "id": "3e9cac43-5035-4c1c-9cfb-a09797e67bad",
   "metadata": {},
   "outputs": [],
   "source": [
    "# Importing the libraries\n",
    "import numpy as np\n",
    "import pandas as pd\n",
    "\n",
    "import matplotlib.pyplot as plt\n",
    "from matplotlib.colors import ListedColormap\n",
    "import seaborn as sns\n",
    "\n",
    "from sklearn.model_selection import train_test_split\n",
    "from sklearn.preprocessing import StandardScaler, OneHotEncoder\n",
    "from sklearn.linear_model import LogisticRegression\n",
    "from sklearn import metrics"
   ]
  },
  {
   "cell_type": "code",
   "execution_count": 3,
   "id": "afd38c00-92b7-467a-908c-92a03286626e",
   "metadata": {},
   "outputs": [
    {
     "data": {
      "text/html": [
       "<div>\n",
       "<style scoped>\n",
       "    .dataframe tbody tr th:only-of-type {\n",
       "        vertical-align: middle;\n",
       "    }\n",
       "\n",
       "    .dataframe tbody tr th {\n",
       "        vertical-align: top;\n",
       "    }\n",
       "\n",
       "    .dataframe thead th {\n",
       "        text-align: right;\n",
       "    }\n",
       "</style>\n",
       "<table border=\"1\" class=\"dataframe\">\n",
       "  <thead>\n",
       "    <tr style=\"text-align: right;\">\n",
       "      <th></th>\n",
       "      <th>User ID</th>\n",
       "      <th>Gender</th>\n",
       "      <th>Age</th>\n",
       "      <th>EstimatedSalary</th>\n",
       "      <th>Purchased</th>\n",
       "    </tr>\n",
       "  </thead>\n",
       "  <tbody>\n",
       "    <tr>\n",
       "      <th>0</th>\n",
       "      <td>15624510</td>\n",
       "      <td>Male</td>\n",
       "      <td>19</td>\n",
       "      <td>19000</td>\n",
       "      <td>0</td>\n",
       "    </tr>\n",
       "    <tr>\n",
       "      <th>1</th>\n",
       "      <td>15810944</td>\n",
       "      <td>Male</td>\n",
       "      <td>35</td>\n",
       "      <td>20000</td>\n",
       "      <td>0</td>\n",
       "    </tr>\n",
       "    <tr>\n",
       "      <th>2</th>\n",
       "      <td>15668575</td>\n",
       "      <td>Female</td>\n",
       "      <td>26</td>\n",
       "      <td>43000</td>\n",
       "      <td>0</td>\n",
       "    </tr>\n",
       "    <tr>\n",
       "      <th>3</th>\n",
       "      <td>15603246</td>\n",
       "      <td>Female</td>\n",
       "      <td>27</td>\n",
       "      <td>57000</td>\n",
       "      <td>0</td>\n",
       "    </tr>\n",
       "    <tr>\n",
       "      <th>4</th>\n",
       "      <td>15804002</td>\n",
       "      <td>Male</td>\n",
       "      <td>19</td>\n",
       "      <td>76000</td>\n",
       "      <td>0</td>\n",
       "    </tr>\n",
       "    <tr>\n",
       "      <th>...</th>\n",
       "      <td>...</td>\n",
       "      <td>...</td>\n",
       "      <td>...</td>\n",
       "      <td>...</td>\n",
       "      <td>...</td>\n",
       "    </tr>\n",
       "    <tr>\n",
       "      <th>395</th>\n",
       "      <td>15691863</td>\n",
       "      <td>Female</td>\n",
       "      <td>46</td>\n",
       "      <td>41000</td>\n",
       "      <td>1</td>\n",
       "    </tr>\n",
       "    <tr>\n",
       "      <th>396</th>\n",
       "      <td>15706071</td>\n",
       "      <td>Male</td>\n",
       "      <td>51</td>\n",
       "      <td>23000</td>\n",
       "      <td>1</td>\n",
       "    </tr>\n",
       "    <tr>\n",
       "      <th>397</th>\n",
       "      <td>15654296</td>\n",
       "      <td>Female</td>\n",
       "      <td>50</td>\n",
       "      <td>20000</td>\n",
       "      <td>1</td>\n",
       "    </tr>\n",
       "    <tr>\n",
       "      <th>398</th>\n",
       "      <td>15755018</td>\n",
       "      <td>Male</td>\n",
       "      <td>36</td>\n",
       "      <td>33000</td>\n",
       "      <td>0</td>\n",
       "    </tr>\n",
       "    <tr>\n",
       "      <th>399</th>\n",
       "      <td>15594041</td>\n",
       "      <td>Female</td>\n",
       "      <td>49</td>\n",
       "      <td>36000</td>\n",
       "      <td>1</td>\n",
       "    </tr>\n",
       "  </tbody>\n",
       "</table>\n",
       "<p>400 rows × 5 columns</p>\n",
       "</div>"
      ],
      "text/plain": [
       "      User ID  Gender  Age  EstimatedSalary  Purchased\n",
       "0    15624510    Male   19            19000          0\n",
       "1    15810944    Male   35            20000          0\n",
       "2    15668575  Female   26            43000          0\n",
       "3    15603246  Female   27            57000          0\n",
       "4    15804002    Male   19            76000          0\n",
       "..        ...     ...  ...              ...        ...\n",
       "395  15691863  Female   46            41000          1\n",
       "396  15706071    Male   51            23000          1\n",
       "397  15654296  Female   50            20000          1\n",
       "398  15755018    Male   36            33000          0\n",
       "399  15594041  Female   49            36000          1\n",
       "\n",
       "[400 rows x 5 columns]"
      ]
     },
     "execution_count": 3,
     "metadata": {},
     "output_type": "execute_result"
    }
   ],
   "source": [
    "# Importing the dataset\n",
    "dataset = pd.read_csv('../data/Social_Network_Ads.csv')\n",
    "dataset"
   ]
  },
  {
   "cell_type": "code",
   "execution_count": 12,
   "id": "04bd2afe-954a-40be-8574-75566fbbdecf",
   "metadata": {},
   "outputs": [
    {
     "data": {
      "text/plain": [
       "<AxesSubplot:xlabel='Age', ylabel='EstimatedSalary'>"
      ]
     },
     "execution_count": 12,
     "metadata": {},
     "output_type": "execute_result"
    },
    {
     "data": {
      "image/png": "[encoded data removed]",
      "text/plain": [
       "<Figure size 864x432 with 1 Axes>"
      ]
     },
     "metadata": {
      "needs_background": "light"
     },
     "output_type": "display_data"
    }
   ],
   "source": [
    "#plot\n",
    "fig = plt.figure(figsize= (12,6))\n",
    "sns.scatterplot(data = dataset, x = \"Age\", y = \"EstimatedSalary\", hue = \"Purchased\")"
   ]
  },
  {
   "cell_type": "code",
   "execution_count": 4,
   "id": "4ca98fad-e9a2-47dc-986a-181acfb4e754",
   "metadata": {},
   "outputs": [],
   "source": [
    "# Splitting the dataset into the Training set and Test set\n",
    "X = dataset.iloc[:, [2,3]].values\n",
    "y = dataset.iloc[:, 4].values\n",
    "\n",
    "# Fitting Logistic Regression to the Training set\n",
    "X_train, X_test, y_train, y_test = train_test_split(X, y, test_size=0.25, random_state=7)\n",
    "\n",
    "classifier = LogisticRegression(random_state=0)\n",
    "classifier.fit(X_train, y_train)\n",
    "\n",
    "# Predicting the Test set results\n",
    "y_pred = classifier.predict(X_test)"
   ]
  },
  {
   "cell_type": "code",
   "execution_count": 6,
   "id": "43464649-d218-438a-be57-c8044d4e5b82",
   "metadata": {},
   "outputs": [
    {
     "data": {
      "text/plain": [
       "array([0, 0, 0, 0, 0, 0, 0, 0, 0, 0, 0, 0, 0, 0, 0, 0, 0, 0, 0, 0, 0, 0,\n",
       "       0, 0, 0, 0, 0, 0, 0, 0, 0, 1, 0, 0, 0, 0, 0, 0, 0, 0, 0, 0, 0, 0,\n",
       "       0, 0, 0, 0, 0, 0, 0, 0, 1, 0, 0, 0, 0, 0, 0, 0, 0, 0, 0, 0, 0, 0,\n",
       "       0, 0, 0, 0, 0, 0, 1, 0, 0, 0, 0, 0, 0, 0, 0, 0, 0, 0, 0, 0, 0, 0,\n",
       "       0, 0, 1, 0, 0, 0, 0, 0, 0, 0, 1, 0])"
      ]
     },
     "execution_count": 6,
     "metadata": {},
     "output_type": "execute_result"
    }
   ],
   "source": [
    "y_pred"
   ]
  },
  {
   "cell_type": "code",
   "execution_count": 7,
   "id": "cdd3e801-e11f-41d8-bae4-9cad956fce8d",
   "metadata": {
    "scrolled": true,
    "tags": []
   },
   "outputs": [
    {
     "data": {
      "text/plain": [
       "array([[0.53055081, 0.46944919],\n",
       "       [0.51942298, 0.48057702],\n",
       "       [0.53481468, 0.46518532],\n",
       "       [0.51710329, 0.48289671],\n",
       "       [0.53881705, 0.46118295],\n",
       "       [0.58286895, 0.41713105],\n",
       "       [0.52774773, 0.47225227],\n",
       "       [0.53873325, 0.46126675],\n",
       "       [0.57351744, 0.42648256],\n",
       "       [0.53182568, 0.46817432],\n",
       "       [0.52233592, 0.47766408],\n",
       "       [0.59913357, 0.40086643],\n",
       "       [0.55414664, 0.44585336],\n",
       "       [0.56955499, 0.43044501],\n",
       "       [0.54222348, 0.45777652],\n",
       "       [0.59731058, 0.40268942],\n",
       "       [0.55045834, 0.44954166],\n",
       "       [0.51706119, 0.48293881],\n",
       "       [0.54661824, 0.45338176],\n",
       "       [0.55885272, 0.44114728],\n",
       "       [0.51708224, 0.48291776],\n",
       "       [0.52683903, 0.47316097],\n",
       "       [0.58859474, 0.41140526],\n",
       "       [0.58139803, 0.41860197],\n",
       "       [0.52543655, 0.47456345],\n",
       "       [0.54065936, 0.45934064],\n",
       "       [0.50207209, 0.49792791],\n",
       "       [0.51216689, 0.48783311],\n",
       "       [0.55673233, 0.44326767],\n",
       "       [0.55626954, 0.44373046],\n",
       "       [0.54414735, 0.45585265],\n",
       "       [0.49579349, 0.50420651],\n",
       "       [0.54653466, 0.45346534],\n",
       "       [0.5461117 , 0.4538883 ],\n",
       "       [0.54387546, 0.45612454],\n",
       "       [0.52226777, 0.47773223],\n",
       "       [0.51440379, 0.48559621],\n",
       "       [0.54731269, 0.45268731],\n",
       "       [0.5525221 , 0.4474779 ],\n",
       "       [0.54501471, 0.45498529],\n",
       "       [0.54545874, 0.45454126],\n",
       "       [0.53896873, 0.46103127],\n",
       "       [0.54501471, 0.45498529],\n",
       "       [0.55679475, 0.44320525],\n",
       "       [0.53631875, 0.46368125],\n",
       "       [0.53250242, 0.46749758],\n",
       "       [0.51065597, 0.48934403],\n",
       "       [0.53434815, 0.46565185],\n",
       "       [0.5366173 , 0.4633827 ],\n",
       "       [0.54059654, 0.45940346],\n",
       "       [0.52584103, 0.47415897],\n",
       "       [0.57472794, 0.42527206],\n",
       "       [0.49755806, 0.50244194],\n",
       "       [0.54169522, 0.45830478],\n",
       "       [0.54819991, 0.45180009],\n",
       "       [0.56514356, 0.43485644],\n",
       "       [0.52284076, 0.47715924],\n",
       "       [0.54418918, 0.45581082],\n",
       "       [0.55521875, 0.44478125],\n",
       "       [0.52052739, 0.47947261],\n",
       "       [0.52783682, 0.47216318],\n",
       "       [0.58770676, 0.41229324],\n",
       "       [0.54070123, 0.45929877],\n",
       "       [0.53701561, 0.46298439],\n",
       "       [0.50420509, 0.49579491],\n",
       "       [0.55041662, 0.44958338],\n",
       "       [0.54754747, 0.45245253],\n",
       "       [0.55106831, 0.44893169],\n",
       "       [0.55146959, 0.44853041],\n",
       "       [0.58917117, 0.41082883],\n",
       "       [0.5811058 , 0.4188942 ],\n",
       "       [0.50424725, 0.49575275],\n",
       "       [0.49879574, 0.50120426],\n",
       "       [0.52709123, 0.47290877],\n",
       "       [0.53434815, 0.46565185],\n",
       "       [0.52503205, 0.47496795],\n",
       "       [0.50637504, 0.49362496],\n",
       "       [0.56846989, 0.43153011],\n",
       "       [0.55465152, 0.44534848],\n",
       "       [0.54336842, 0.45663158],\n",
       "       [0.52031191, 0.47968809],\n",
       "       [0.53381862, 0.46618138],\n",
       "       [0.55673233, 0.44326767],\n",
       "       [0.5321246 , 0.4678754 ],\n",
       "       [0.5461117 , 0.4538883 ],\n",
       "       [0.54463334, 0.45536666],\n",
       "       [0.56642197, 0.43357803],\n",
       "       [0.57761941, 0.42238059],\n",
       "       [0.55809931, 0.44190069],\n",
       "       [0.53932486, 0.46067514],\n",
       "       [0.49630439, 0.50369561],\n",
       "       [0.55679475, 0.44320525],\n",
       "       [0.5252423 , 0.4747577 ],\n",
       "       [0.59341246, 0.40658754],\n",
       "       [0.53233451, 0.46766549],\n",
       "       [0.5427098 , 0.4572902 ],\n",
       "       [0.53846086, 0.46153914],\n",
       "       [0.53483566, 0.46516434],\n",
       "       [0.4938343 , 0.5061657 ],\n",
       "       [0.52683903, 0.47316097]])"
      ]
     },
     "execution_count": 7,
     "metadata": {},
     "output_type": "execute_result"
    }
   ],
   "source": [
    "classifier.predict_proba(X_test)"
   ]
  },
  {
   "cell_type": "code",
   "execution_count": 8,
   "id": "c6d54d28-5b38-4349-bd9a-f7d0678cc1bb",
   "metadata": {},
   "outputs": [
    {
     "data": {
      "text/plain": [
       "<AxesSubplot:ylabel='Density'>"
      ]
     },
     "execution_count": 8,
     "metadata": {},
     "output_type": "execute_result"
    },
    {
     "data": {
      "image/png": "[encoded data removed]",
      "text/plain": [
       "<Figure size 432x288 with 1 Axes>"
      ]
     },
     "metadata": {
      "needs_background": "light"
     },
     "output_type": "display_data"
    }
   ],
   "source": [
    "#threshold\n",
    "sns.kdeplot(classifier.predict_proba(X_test)[:,1], hue = y_pred)"
   ]
  },
  {
   "cell_type": "code",
   "execution_count": 5,
   "id": "e74d62b2-b303-4c7a-b0ad-f7709141eeb3",
   "metadata": {},
   "outputs": [
    {
     "data": {
      "text/plain": [
       "array([[64,  4],\n",
       "       [31,  1]])"
      ]
     },
     "execution_count": 5,
     "metadata": {},
     "output_type": "execute_result"
    }
   ],
   "source": [
    "# Making the Confusion Matrix\n",
    "cm = metrics.confusion_matrix(y_test, y_pred)\n",
    "cm"
   ]
  },
  {
   "cell_type": "code",
   "execution_count": 6,
   "id": "2e7f6400-3bc7-45c9-85e1-714dd1dc37ca",
   "metadata": {},
   "outputs": [
    {
     "name": "stdout",
     "output_type": "stream",
     "text": [
      "              precision    recall  f1-score   support\n",
      "\n",
      "           0       0.67      0.94      0.79        68\n",
      "           1       0.20      0.03      0.05        32\n",
      "\n",
      "    accuracy                           0.65       100\n",
      "   macro avg       0.44      0.49      0.42       100\n",
      "weighted avg       0.52      0.65      0.55       100\n",
      "\n"
     ]
    }
   ],
   "source": [
    "# Classification report\n",
    "print(metrics.classification_report(y_test, y_pred))"
   ]
  },
  {
   "cell_type": "code",
   "execution_count": 30,
   "id": "1ffbbc66-ff3b-4ced-b99d-f3a00424219a",
   "metadata": {},
   "outputs": [
    {
     "data": {
      "text/plain": [
       "0.48621323529411764"
      ]
     },
     "execution_count": 30,
     "metadata": {},
     "output_type": "execute_result"
    }
   ],
   "source": [
    "# ROC\n",
    "metrics.roc_auc_score(y_test, y_pred)"
   ]
  },
  {
   "cell_type": "code",
   "execution_count": 5,
   "id": "13ab8381-3684-43c0-9ec0-ee5cf14b18ba",
   "metadata": {},
   "outputs": [
    {
     "data": {
      "text/plain": [
       "array([-0.00125004])"
      ]
     },
     "execution_count": 5,
     "metadata": {},
     "output_type": "execute_result"
    }
   ],
   "source": [
    "classifier.intercept_"
   ]
  },
  {
   "cell_type": "code",
   "execution_count": 8,
   "id": "48dad5ee-24a6-450d-bea7-0a4f5d558bfd",
   "metadata": {},
   "outputs": [
    {
     "data": {
      "text/plain": [
       "array([[-7.92194513e-03,  1.95940822e-06]])"
      ]
     },
     "execution_count": 8,
     "metadata": {},
     "output_type": "execute_result"
    }
   ],
   "source": [
    "classifier.coef_"
   ]
  },
  {
   "cell_type": "code",
   "execution_count": 9,
   "id": "999b07a5-7369-4464-8a20-68497a4ce4e9",
   "metadata": {},
   "outputs": [],
   "source": [
    "def plot_classification_region(X_set, y_set, title, xlabel, ylabel):\n",
    "    X1, X2 = np.meshgrid(np.arange(start = X_set[:, 0].min() - 1, stop = X_set[:, 0].max() + 1, step = 0.01),\n",
    "                     np.arange(start = X_set[:, 1].min() - 1, stop = X_set[:, 1].max() + 1, step = 0.01))\n",
    "\n",
    "    fig, ax = plt.subplots(figsize=(16,9))\n",
    "    plt.contourf(X1, X2, classifier.predict(np.array([X1.ravel(), X2.ravel()]).T).reshape(X1.shape),\n",
    "             alpha = 0.75, cmap = ListedColormap(('red', 'green')))\n",
    "    plt.xlim(X1.min(), X1.max())\n",
    "    plt.ylim(X2.min(), X2.max())\n",
    "    for i, j in enumerate(np.unique(y_set)):\n",
    "        plt.scatter(X_set[y_set == j, 0], X_set[y_set == j, 1],\n",
    "                c = ListedColormap(('red', 'green'))(i), label = j)\n",
    "    plt.title(title)\n",
    "    plt.xlabel(xlabel)\n",
    "    plt.ylabel(ylabel)\n",
    "    plt.legend()\n",
    "    plt.show()"
   ]
  },
  {
   "cell_type": "code",
   "execution_count": 10,
   "id": "69be8309-ac12-4185-8893-0353380fa689",
   "metadata": {
    "scrolled": true,
    "tags": []
   },
   "outputs": [
    {
     "data": {
      "text/plain": [
       "array([[    44, 139000],\n",
       "       [    30,  62000],\n",
       "       [    40,  57000],\n",
       "       [    36, 118000],\n",
       "       [    28,  37000],\n",
       "       [    50,  44000],\n",
       "       [    18,  68000],\n",
       "       [    29,  80000],\n",
       "       [    41,  72000],\n",
       "       [    36, 144000],\n",
       "       [    58,  38000],\n",
       "       [    24,  55000],\n",
       "       [    30,  49000],\n",
       "       [    26,  43000],\n",
       "       [    23,  66000],\n",
       "       [    48, 141000],\n",
       "       [    29,  75000],\n",
       "       [    51, 134000],\n",
       "       [    34,  43000],\n",
       "       [    58, 101000],\n",
       "       [    33, 113000],\n",
       "       [    54, 104000],\n",
       "       [    19,  21000],\n",
       "       [    41,  52000],\n",
       "       [    42,  73000],\n",
       "       [    47,  25000],\n",
       "       [    56, 133000],\n",
       "       [    36,  54000],\n",
       "       [    35,  38000],\n",
       "       [    26,  81000],\n",
       "       [    57,  60000],\n",
       "       [    32,  86000],\n",
       "       [    37,  33000],\n",
       "       [    25,  80000],\n",
       "       [    21,  68000],\n",
       "       [    19,  70000],\n",
       "       [    39,  59000],\n",
       "       [    19,  25000],\n",
       "       [    35,  72000],\n",
       "       [    46,  28000],\n",
       "       [    36, 125000],\n",
       "       [    45,  22000],\n",
       "       [    24,  55000],\n",
       "       [    35,  39000],\n",
       "       [    38,  55000],\n",
       "       [    49, 141000],\n",
       "       [    42, 149000],\n",
       "       [    26,  15000],\n",
       "       [    40,  75000],\n",
       "       [    59,  42000],\n",
       "       [    28, 123000],\n",
       "       [    54, 108000],\n",
       "       [    40,  75000],\n",
       "       [    37,  55000],\n",
       "       [    46,  32000],\n",
       "       [    40,  61000],\n",
       "       [    26,  86000],\n",
       "       [    35,  79000],\n",
       "       [    29,  83000],\n",
       "       [    37,  78000],\n",
       "       [    39,  61000],\n",
       "       [    53, 143000],\n",
       "       [    57,  33000],\n",
       "       [    30, 116000],\n",
       "       [    48,  33000],\n",
       "       [    58, 144000],\n",
       "       [    35,  72000],\n",
       "       [    31,  71000],\n",
       "       [    24,  23000],\n",
       "       [    41,  72000],\n",
       "       [    46,  23000],\n",
       "       [    52,  90000],\n",
       "       [    56, 104000],\n",
       "       [    42,  65000],\n",
       "       [    48, 131000],\n",
       "       [    28,  87000],\n",
       "       [    40,  78000],\n",
       "       [    55, 130000],\n",
       "       [    43, 112000],\n",
       "       [    46,  88000],\n",
       "       [    25,  87000],\n",
       "       [    52,  38000],\n",
       "       [    29,  28000],\n",
       "       [    53,  82000],\n",
       "       [    37, 144000],\n",
       "       [    31,  68000],\n",
       "       [    33,  28000],\n",
       "       [    27,  17000],\n",
       "       [    32, 100000],\n",
       "       [    52,  21000],\n",
       "       [    26,  52000],\n",
       "       [    34,  25000],\n",
       "       [    39, 106000],\n",
       "       [    37,  75000],\n",
       "       [    40,  57000],\n",
       "       [    26,  32000],\n",
       "       [    39, 134000],\n",
       "       [    33,  60000],\n",
       "       [    25,  79000],\n",
       "       [    35,  61000],\n",
       "       [    45,  79000],\n",
       "       [    54,  70000],\n",
       "       [    35,  47000],\n",
       "       [    30,  17000],\n",
       "       [    30,  89000],\n",
       "       [    32, 150000],\n",
       "       [    48,  35000],\n",
       "       [    50,  88000],\n",
       "       [    37, 137000],\n",
       "       [    31,  34000],\n",
       "       [    26, 118000],\n",
       "       [    35,  57000],\n",
       "       [    25,  33000],\n",
       "       [    46,  59000],\n",
       "       [    47,  30000],\n",
       "       [    37,  77000],\n",
       "       [    38, 113000],\n",
       "       [    22,  18000],\n",
       "       [    47,  47000],\n",
       "       [    59,  83000],\n",
       "       [    20,  49000],\n",
       "       [    46,  41000],\n",
       "       [    35,  58000],\n",
       "       [    42,  70000],\n",
       "       [    36,  50000],\n",
       "       [    30, 135000],\n",
       "       [    40, 142000],\n",
       "       [    51, 146000],\n",
       "       [    27, 137000],\n",
       "       [    35,  20000],\n",
       "       [    34, 115000],\n",
       "       [    48,  30000],\n",
       "       [    32,  18000],\n",
       "       [    59,  29000],\n",
       "       [    35,  65000],\n",
       "       [    27,  96000],\n",
       "       [    58,  95000],\n",
       "       [    48,  90000],\n",
       "       [    60,  46000],\n",
       "       [    35,  44000],\n",
       "       [    27,  90000],\n",
       "       [    35,  25000],\n",
       "       [    39,  71000],\n",
       "       [    49,  88000],\n",
       "       [    35,  97000],\n",
       "       [    45,  32000],\n",
       "       [    53, 104000],\n",
       "       [    35,  75000],\n",
       "       [    29, 148000],\n",
       "       [    23,  20000],\n",
       "       [    25,  90000],\n",
       "       [    60, 102000],\n",
       "       [    47, 113000],\n",
       "       [    36,  52000],\n",
       "       [    21,  16000],\n",
       "       [    22,  27000],\n",
       "       [    39,  79000],\n",
       "       [    32, 120000],\n",
       "       [    35, 147000],\n",
       "       [    20,  82000],\n",
       "       [    37,  74000],\n",
       "       [    35,  22000],\n",
       "       [    59,  76000],\n",
       "       [    37,  72000],\n",
       "       [    60,  83000],\n",
       "       [    47, 105000],\n",
       "       [    26,  30000],\n",
       "       [    31, 118000],\n",
       "       [    37,  53000],\n",
       "       [    55, 125000],\n",
       "       [    52, 138000],\n",
       "       [    18,  52000],\n",
       "       [    47,  34000],\n",
       "       [    42,  64000],\n",
       "       [    28,  85000],\n",
       "       [    49,  36000],\n",
       "       [    32, 117000],\n",
       "       [    21,  72000],\n",
       "       [    31,  89000],\n",
       "       [    27,  58000],\n",
       "       [    45,  26000],\n",
       "       [    38, 112000],\n",
       "       [    36,  60000],\n",
       "       [    26,  35000],\n",
       "       [    28,  55000],\n",
       "       [    41,  52000],\n",
       "       [    36, 126000],\n",
       "       [    47,  43000],\n",
       "       [    24,  84000],\n",
       "       [    37,  57000],\n",
       "       [    37,  70000],\n",
       "       [    31,  18000],\n",
       "       [    29,  47000],\n",
       "       [    26,  16000],\n",
       "       [    27,  88000],\n",
       "       [    20,  36000],\n",
       "       [    46,  22000],\n",
       "       [    23,  63000],\n",
       "       [    46,  74000],\n",
       "       [    38,  65000],\n",
       "       [    26,  80000],\n",
       "       [    22,  55000],\n",
       "       [    39,  75000],\n",
       "       [    20,  82000],\n",
       "       [    37,  93000],\n",
       "       [    33,  31000],\n",
       "       [    27,  31000],\n",
       "       [    60, 108000],\n",
       "       [    30,  15000],\n",
       "       [    27,  58000],\n",
       "       [    58,  23000],\n",
       "       [    46, 117000],\n",
       "       [    42,  79000],\n",
       "       [    40,  60000],\n",
       "       [    35,  27000],\n",
       "       [    38,  50000],\n",
       "       [    38,  71000],\n",
       "       [    41,  51000],\n",
       "       [    35,  59000],\n",
       "       [    39,  71000],\n",
       "       [    60,  34000],\n",
       "       [    27,  89000],\n",
       "       [    20,  86000],\n",
       "       [    60,  42000],\n",
       "       [    27,  54000],\n",
       "       [    41,  71000],\n",
       "       [    35,  75000],\n",
       "       [    41,  59000],\n",
       "       [    47,  49000],\n",
       "       [    35,  88000],\n",
       "       [    31,  58000],\n",
       "       [    47, 107000],\n",
       "       [    42,  80000],\n",
       "       [    45,  45000],\n",
       "       [    37,  62000],\n",
       "       [    35,  53000],\n",
       "       [    28,  44000],\n",
       "       [    42,  53000],\n",
       "       [    19,  76000],\n",
       "       [    48,  29000],\n",
       "       [    59, 143000],\n",
       "       [    51,  23000],\n",
       "       [    20,  74000],\n",
       "       [    35,  60000],\n",
       "       [    57, 122000],\n",
       "       [    36,  99000],\n",
       "       [    41,  45000],\n",
       "       [    35,  55000],\n",
       "       [    49,  89000],\n",
       "       [    49,  86000],\n",
       "       [    26,  80000],\n",
       "       [    50,  36000],\n",
       "       [    24,  27000],\n",
       "       [    48, 134000],\n",
       "       [    26,  15000],\n",
       "       [    38,  61000],\n",
       "       [    29,  43000],\n",
       "       [    40,  57000],\n",
       "       [    39, 122000],\n",
       "       [    48,  33000],\n",
       "       [    34,  43000],\n",
       "       [    47,  51000],\n",
       "       [    30, 107000],\n",
       "       [    35,  77000],\n",
       "       [    26,  72000],\n",
       "       [    49,  74000],\n",
       "       [    59, 130000],\n",
       "       [    39, 134000],\n",
       "       [    28,  32000],\n",
       "       [    37,  52000],\n",
       "       [    38,  61000],\n",
       "       [    33,  43000],\n",
       "       [    31,  76000],\n",
       "       [    38,  50000],\n",
       "       [    41,  60000],\n",
       "       [    19,  26000],\n",
       "       [    28,  84000],\n",
       "       [    57,  74000],\n",
       "       [    27,  84000],\n",
       "       [    44,  39000],\n",
       "       [    39,  96000],\n",
       "       [    34, 112000],\n",
       "       [    19,  19000],\n",
       "       [    49,  28000],\n",
       "       [    22,  63000],\n",
       "       [    35,  71000],\n",
       "       [    46,  96000],\n",
       "       [    35, 108000],\n",
       "       [    58,  47000],\n",
       "       [    41,  63000],\n",
       "       [    20,  23000],\n",
       "       [    45,  22000],\n",
       "       [    31,  66000],\n",
       "       [    39,  77000],\n",
       "       [    33, 149000],\n",
       "       [    52, 150000],\n",
       "       [    23,  82000],\n",
       "       [    47,  20000],\n",
       "       [    30,  79000],\n",
       "       [    23,  28000]])"
      ]
     },
     "execution_count": 10,
     "metadata": {},
     "output_type": "execute_result"
    }
   ],
   "source": [
    "X_train"
   ]
  },
  {
   "cell_type": "code",
   "execution_count": null,
   "id": "553db075-83a5-4819-ba79-9f3a0452acd7",
   "metadata": {},
   "outputs": [],
   "source": [
    "plot_classification_region(X_train,\n",
    "                           y_train,\n",
    "                           title = \"Treino\",\n",
    "                           xlabel = \"Age\",\n",
    "                           ylabel = \"EstimatedSalary\")"
   ]
  },
  {
   "cell_type": "code",
   "execution_count": 11,
   "id": "dd98bb8f-c687-4bcb-a03b-65a09dc126fa",
   "metadata": {},
   "outputs": [
    {
     "name": "stderr",
     "output_type": "stream",
     "text": [
      "*c* argument looks like a single numeric RGB or RGBA sequence, which should be avoided as value-mapping will have precedence in case its length matches with *x* & *y*.  Please use the *color* keyword-argument or provide a 2-D array with a single row if you intend to specify the same RGB or RGBA value for all points.\n",
      "*c* argument looks like a single numeric RGB or RGBA sequence, which should be avoided as value-mapping will have precedence in case its length matches with *x* & *y*.  Please use the *color* keyword-argument or provide a 2-D array with a single row if you intend to specify the same RGB or RGBA value for all points.\n"
     ]
    },
    {
     "data": {
      "image/png": "[encoded data removed]",
      "text/plain": [
       "<Figure size 1152x648 with 1 Axes>"
      ]
     },
     "metadata": {
      "needs_background": "light"
     },
     "output_type": "display_data"
    }
   ],
   "source": [
    "plot_classification_region(X_test,\n",
    "                           y_test,\n",
    "                           title = \"Test\",\n",
    "                           xlabel = \"Age\",\n",
    "                           ylabel = \"EstimatedSalary\")"
   ]
  }
 ],
 "metadata": {
  "kernelspec": {
   "display_name": "Python 3",
   "language": "python",
   "name": "python3"
  },
  "language_info": {
   "codemirror_mode": {
    "name": "ipython",
    "version": 3
   },
   "file_extension": ".py",
   "mimetype": "text/x-python",
   "name": "python",
   "nbconvert_exporter": "python",
   "pygments_lexer": "ipython3",
   "version": "3.8.8"
  }
 },
 "nbformat": 4,
 "nbformat_minor": 5
}
